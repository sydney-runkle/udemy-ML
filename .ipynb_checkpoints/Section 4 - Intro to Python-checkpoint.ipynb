{
 "cells": [
  {
   "cell_type": "markdown",
   "metadata": {
    "id": "itMta1aQuPk2"
   },
   "source": [
    "### Imports"
   ]
  },
  {
   "cell_type": "code",
   "execution_count": 7,
   "metadata": {
    "id": "hpUi1S6lb7Ky"
   },
   "outputs": [],
   "source": [
    "import numpy as np"
   ]
  },
  {
   "cell_type": "code",
   "execution_count": 8,
   "metadata": {
    "colab": {
     "base_uri": "https://localhost:8080/"
    },
    "id": "d_quArdxcG6B",
    "outputId": "56460124-d8b1-47e0-920b-2d3b4b63face"
   },
   "outputs": [
    {
     "name": "stdout",
     "output_type": "stream",
     "text": [
      "if you type shift+enter, the cell runs and you move to the next cell\n",
      "if you type option+enter, the cell runs and you move to a new, open cell\n"
     ]
    }
   ],
   "source": [
    "print('if you type shift+enter, the cell runs and you move to the next cell')\n",
    "print('if you type option+enter, the cell runs and you move to a new, open cell')"
   ]
  },
  {
   "cell_type": "markdown",
   "metadata": {
    "id": "zCMjztzVuOgn"
   },
   "source": [
    "## Notes - Python Crash Course\n",
    "* Tuples are immutable\n",
    "* Sets are lists of unique items\n",
    "  * Use add method on sets to add new items\n",
    "* Use list comprehensions to expedite operations that would normally occur in loops\n",
    "* Use .format to format strings\n",
    "* Use docstrings in three quotes at the beginning of a function to document functionality\n",
    "  * Use shift+tab after function name to list functionality\n",
    "* Use map(function, seq) to map a function to a sequence\n",
    "  * Then convert response into a list\n",
    "* Use lambda expression to expedite function operations (anonymous function)\n",
    "* Use filter to filter out elements from a sequence\n",
    "* Helpful string methods - upper, lower, split\n",
    "* Dictionary methods - keys, items, values\n",
    "* List methods - pop, append\n",
    "* Tuple unpacking to unpack componenents of tuples"
   ]
  },
  {
   "cell_type": "code",
   "execution_count": 11,
   "metadata": {
    "colab": {
     "base_uri": "https://localhost:8080/"
    },
    "id": "C8bQX-Q5prRe",
    "outputId": "6ecba48c-1719-492f-8ecf-91d6e953387a"
   },
   "outputs": [
    {
     "data": {
      "text/plain": [
       "[1, 4, 9]"
      ]
     },
     "execution_count": 11,
     "metadata": {
      "tags": []
     },
     "output_type": "execute_result"
    }
   ],
   "source": [
    "seq = [1, 2, 3]\n",
    "seq_new = list(map(lambda v:v**2, seq))\n",
    "seq_new"
   ]
  },
  {
   "cell_type": "code",
   "execution_count": 13,
   "metadata": {
    "colab": {
     "base_uri": "https://localhost:8080/"
    },
    "id": "a3PgonLCyeIm",
    "outputId": "5782d225-c765-477a-a750-11f104bc0c79"
   },
   "outputs": [
    {
     "data": {
      "text/plain": [
       "[2, 4]"
      ]
     },
     "execution_count": 13,
     "metadata": {
      "tags": []
     },
     "output_type": "execute_result"
    }
   ],
   "source": [
    "seq = [1, 2, 3, 4]\n",
    "list(filter(lambda x:x%2 ==0, seq))"
   ]
  },
  {
   "cell_type": "code",
   "execution_count": null,
   "metadata": {
    "id": "VN0EECWMyqi4"
   },
   "outputs": [],
   "source": [
    "\n"
   ]
  }
 ],
 "metadata": {
  "colab": {
   "name": "Section 5: Intro To Numpy.ipynb",
   "provenance": []
  },
  "kernelspec": {
   "display_name": "Python 3",
   "language": "python",
   "name": "python3"
  },
  "language_info": {
   "codemirror_mode": {
    "name": "ipython",
    "version": 3
   },
   "file_extension": ".py",
   "mimetype": "text/x-python",
   "name": "python",
   "nbconvert_exporter": "python",
   "pygments_lexer": "ipython3",
   "version": "3.6.13"
  }
 },
 "nbformat": 4,
 "nbformat_minor": 1
}
