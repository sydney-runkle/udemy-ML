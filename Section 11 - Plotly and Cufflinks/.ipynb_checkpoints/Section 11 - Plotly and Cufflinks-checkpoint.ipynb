{
 "cells": [
  {
   "cell_type": "markdown",
   "id": "built-import",
   "metadata": {},
   "source": [
    "# Plotly and Cufflinks\n",
    "Plotly is a library that allows you to create interactive plots that you can use in dashboards or websites (you can save them as html files or static images). Cufflinks connects plotly to pandas.\n",
    "\n",
    "## Installation\n",
    "\n",
    "In order for this all to work, you'll need to install plotly and cufflinks to call plots directly off of a pandas dataframe. These libraries are not currently available through **conda** but are available through **pip**. Install the libraries at your command line/terminal using:\n",
    "\n",
    "    pip install plotly\n",
    "    pip install cufflinks\n",
    "\n",
    "** NOTE: Make sure you only have one installation of Python on your computer when you do this, otherwise the installation may not work. **"
   ]
  },
  {
   "cell_type": "code",
   "execution_count": 2,
   "id": "jewish-tablet",
   "metadata": {},
   "outputs": [
    {
     "name": "stdout",
     "output_type": "stream",
     "text": [
      "Collecting chart-studio\n",
      "  Downloading chart_studio-1.1.0-py3-none-any.whl (64 kB)\n",
      "\u001b[K     |████████████████████████████████| 64 kB 3.2 MB/s eta 0:00:011\n",
      "\u001b[?25hRequirement already satisfied: six in /anaconda3/lib/python3.7/site-packages (from chart-studio) (1.15.0)\n",
      "Requirement already satisfied: retrying>=1.3.3 in /anaconda3/lib/python3.7/site-packages (from chart-studio) (1.3.3)\n",
      "Requirement already satisfied: requests in /anaconda3/lib/python3.7/site-packages (from chart-studio) (2.23.0)\n",
      "Requirement already satisfied: plotly in /anaconda3/lib/python3.7/site-packages (from chart-studio) (4.8.1)\n",
      "Requirement already satisfied: idna<3,>=2.5 in /anaconda3/lib/python3.7/site-packages (from requests->chart-studio) (2.10)\n",
      "Requirement already satisfied: certifi>=2017.4.17 in /anaconda3/lib/python3.7/site-packages (from requests->chart-studio) (2020.12.5)\n",
      "Requirement already satisfied: chardet<4,>=3.0.2 in /anaconda3/lib/python3.7/site-packages (from requests->chart-studio) (3.0.4)\n",
      "Requirement already satisfied: urllib3!=1.25.0,!=1.25.1,<1.26,>=1.21.1 in /anaconda3/lib/python3.7/site-packages (from requests->chart-studio) (1.25.11)\n",
      "Installing collected packages: chart-studio\n",
      "Successfully installed chart-studio-1.1.0\n"
     ]
    }
   ],
   "source": [
    "!pip install chart-studio"
   ]
  },
  {
   "cell_type": "code",
   "execution_count": 13,
   "id": "acute-attraction",
   "metadata": {},
   "outputs": [
    {
     "name": "stdout",
     "output_type": "stream",
     "text": [
      "4.8.1\n"
     ]
    }
   ],
   "source": [
    "import pandas as pd\n",
    "import numpy as np\n",
    "%matplotlib inline\n",
    "\n",
    "import chart_studio.plotly as py\n",
    "from plotly import __version__\n",
    "from plotly.offline import download_plotlyjs, init_notebook_mode, plot, iplot\n",
    "\n",
    "print(__version__) # requires version >= 1.9.0"
   ]
  },
  {
   "cell_type": "code",
   "execution_count": 14,
   "id": "activated-silly",
   "metadata": {},
   "outputs": [],
   "source": [
    "# cufflinks\n",
    "import cufflinks as cf"
   ]
  },
  {
   "cell_type": "code",
   "execution_count": 15,
   "id": "scientific-overall",
   "metadata": {},
   "outputs": [
    {
     "data": {
      "text/html": [
       "        <script type=\"text/javascript\">\n",
       "        window.PlotlyConfig = {MathJaxConfig: 'local'};\n",
       "        if (window.MathJax) {MathJax.Hub.Config({SVG: {font: \"STIX-Web\"}});}\n",
       "        if (typeof require !== 'undefined') {\n",
       "        require.undef(\"plotly\");\n",
       "        requirejs.config({\n",
       "            paths: {\n",
       "                'plotly': ['https://cdn.plot.ly/plotly-latest.min']\n",
       "            }\n",
       "        });\n",
       "        require(['plotly'], function(Plotly) {\n",
       "            window._Plotly = Plotly;\n",
       "        });\n",
       "        }\n",
       "        </script>\n",
       "        "
      ]
     },
     "metadata": {},
     "output_type": "display_data"
    }
   ],
   "source": [
    "# For Notebooks\n",
    "init_notebook_mode(connected=True)"
   ]
  },
  {
   "cell_type": "code",
   "execution_count": 16,
   "id": "assigned-principle",
   "metadata": {},
   "outputs": [
    {
     "data": {
      "text/html": [
       "        <script type=\"text/javascript\">\n",
       "        window.PlotlyConfig = {MathJaxConfig: 'local'};\n",
       "        if (window.MathJax) {MathJax.Hub.Config({SVG: {font: \"STIX-Web\"}});}\n",
       "        if (typeof require !== 'undefined') {\n",
       "        require.undef(\"plotly\");\n",
       "        requirejs.config({\n",
       "            paths: {\n",
       "                'plotly': ['https://cdn.plot.ly/plotly-latest.min']\n",
       "            }\n",
       "        });\n",
       "        require(['plotly'], function(Plotly) {\n",
       "            window._Plotly = Plotly;\n",
       "        });\n",
       "        }\n",
       "        </script>\n",
       "        "
      ]
     },
     "metadata": {},
     "output_type": "display_data"
    }
   ],
   "source": [
    "# For offline use of cufflinks\n",
    "cf.go_offline()"
   ]
  },
  {
   "cell_type": "code",
   "execution_count": 23,
   "id": "provincial-spread",
   "metadata": {},
   "outputs": [],
   "source": [
    "df = pd.DataFrame(np.random.randn(100,4),columns='A B C D'.split())"
   ]
  },
  {
   "cell_type": "code",
   "execution_count": 26,
   "id": "forty-pencil",
   "metadata": {},
   "outputs": [
    {
     "data": {
      "text/html": [
       "<div>\n",
       "<style scoped>\n",
       "    .dataframe tbody tr th:only-of-type {\n",
       "        vertical-align: middle;\n",
       "    }\n",
       "\n",
       "    .dataframe tbody tr th {\n",
       "        vertical-align: top;\n",
       "    }\n",
       "\n",
       "    .dataframe thead th {\n",
       "        text-align: right;\n",
       "    }\n",
       "</style>\n",
       "<table border=\"1\" class=\"dataframe\">\n",
       "  <thead>\n",
       "    <tr style=\"text-align: right;\">\n",
       "      <th></th>\n",
       "      <th>A</th>\n",
       "      <th>B</th>\n",
       "      <th>C</th>\n",
       "      <th>D</th>\n",
       "      <th>E</th>\n",
       "    </tr>\n",
       "  </thead>\n",
       "  <tbody>\n",
       "    <tr>\n",
       "      <th>0</th>\n",
       "      <td>-0.148687</td>\n",
       "      <td>-0.137203</td>\n",
       "      <td>0.977259</td>\n",
       "      <td>0.091242</td>\n",
       "      <td>0.977259</td>\n",
       "    </tr>\n",
       "    <tr>\n",
       "      <th>1</th>\n",
       "      <td>0.392486</td>\n",
       "      <td>0.736029</td>\n",
       "      <td>0.031096</td>\n",
       "      <td>0.230504</td>\n",
       "      <td>0.031096</td>\n",
       "    </tr>\n",
       "    <tr>\n",
       "      <th>2</th>\n",
       "      <td>-0.705159</td>\n",
       "      <td>0.618291</td>\n",
       "      <td>-0.451771</td>\n",
       "      <td>0.014860</td>\n",
       "      <td>0.451771</td>\n",
       "    </tr>\n",
       "    <tr>\n",
       "      <th>3</th>\n",
       "      <td>0.275761</td>\n",
       "      <td>-0.417179</td>\n",
       "      <td>-0.115052</td>\n",
       "      <td>0.623976</td>\n",
       "      <td>0.115052</td>\n",
       "    </tr>\n",
       "    <tr>\n",
       "      <th>4</th>\n",
       "      <td>-0.780229</td>\n",
       "      <td>0.761605</td>\n",
       "      <td>1.401387</td>\n",
       "      <td>0.162355</td>\n",
       "      <td>1.401387</td>\n",
       "    </tr>\n",
       "    <tr>\n",
       "      <th>...</th>\n",
       "      <td>...</td>\n",
       "      <td>...</td>\n",
       "      <td>...</td>\n",
       "      <td>...</td>\n",
       "      <td>...</td>\n",
       "    </tr>\n",
       "    <tr>\n",
       "      <th>95</th>\n",
       "      <td>-0.058157</td>\n",
       "      <td>-0.078879</td>\n",
       "      <td>0.012806</td>\n",
       "      <td>-0.336569</td>\n",
       "      <td>0.012806</td>\n",
       "    </tr>\n",
       "    <tr>\n",
       "      <th>96</th>\n",
       "      <td>-0.756032</td>\n",
       "      <td>-0.159497</td>\n",
       "      <td>-0.601319</td>\n",
       "      <td>1.004698</td>\n",
       "      <td>0.601319</td>\n",
       "    </tr>\n",
       "    <tr>\n",
       "      <th>97</th>\n",
       "      <td>1.828368</td>\n",
       "      <td>-1.208373</td>\n",
       "      <td>0.288769</td>\n",
       "      <td>-0.226140</td>\n",
       "      <td>0.288769</td>\n",
       "    </tr>\n",
       "    <tr>\n",
       "      <th>98</th>\n",
       "      <td>1.295280</td>\n",
       "      <td>0.005488</td>\n",
       "      <td>0.529463</td>\n",
       "      <td>1.327330</td>\n",
       "      <td>0.529463</td>\n",
       "    </tr>\n",
       "    <tr>\n",
       "      <th>99</th>\n",
       "      <td>2.464993</td>\n",
       "      <td>0.471306</td>\n",
       "      <td>-0.467187</td>\n",
       "      <td>-0.684637</td>\n",
       "      <td>0.467187</td>\n",
       "    </tr>\n",
       "  </tbody>\n",
       "</table>\n",
       "<p>100 rows × 5 columns</p>\n",
       "</div>"
      ],
      "text/plain": [
       "           A         B         C         D         E\n",
       "0  -0.148687 -0.137203  0.977259  0.091242  0.977259\n",
       "1   0.392486  0.736029  0.031096  0.230504  0.031096\n",
       "2  -0.705159  0.618291 -0.451771  0.014860  0.451771\n",
       "3   0.275761 -0.417179 -0.115052  0.623976  0.115052\n",
       "4  -0.780229  0.761605  1.401387  0.162355  1.401387\n",
       "..       ...       ...       ...       ...       ...\n",
       "95 -0.058157 -0.078879  0.012806 -0.336569  0.012806\n",
       "96 -0.756032 -0.159497 -0.601319  1.004698  0.601319\n",
       "97  1.828368 -1.208373  0.288769 -0.226140  0.288769\n",
       "98  1.295280  0.005488  0.529463  1.327330  0.529463\n",
       "99  2.464993  0.471306 -0.467187 -0.684637  0.467187\n",
       "\n",
       "[100 rows x 5 columns]"
      ]
     },
     "execution_count": 26,
     "metadata": {},
     "output_type": "execute_result"
    }
   ],
   "source": [
    "df['E'] = df['C'].apply(abs)\n",
    "df"
   ]
  },
  {
   "cell_type": "code",
   "execution_count": 17,
   "id": "disturbed-highland",
   "metadata": {},
   "outputs": [],
   "source": [
    "df2 = pd.DataFrame({'Category':['A','B','C'],'Values':[32,43,50]})"
   ]
  },
  {
   "cell_type": "code",
   "execution_count": 18,
   "id": "differential-costs",
   "metadata": {},
   "outputs": [
    {
     "data": {
      "text/html": [
       "<div>\n",
       "<style scoped>\n",
       "    .dataframe tbody tr th:only-of-type {\n",
       "        vertical-align: middle;\n",
       "    }\n",
       "\n",
       "    .dataframe tbody tr th {\n",
       "        vertical-align: top;\n",
       "    }\n",
       "\n",
       "    .dataframe thead th {\n",
       "        text-align: right;\n",
       "    }\n",
       "</style>\n",
       "<table border=\"1\" class=\"dataframe\">\n",
       "  <thead>\n",
       "    <tr style=\"text-align: right;\">\n",
       "      <th></th>\n",
       "      <th>Category</th>\n",
       "      <th>Values</th>\n",
       "    </tr>\n",
       "  </thead>\n",
       "  <tbody>\n",
       "    <tr>\n",
       "      <th>0</th>\n",
       "      <td>A</td>\n",
       "      <td>32</td>\n",
       "    </tr>\n",
       "    <tr>\n",
       "      <th>1</th>\n",
       "      <td>B</td>\n",
       "      <td>43</td>\n",
       "    </tr>\n",
       "    <tr>\n",
       "      <th>2</th>\n",
       "      <td>C</td>\n",
       "      <td>50</td>\n",
       "    </tr>\n",
       "  </tbody>\n",
       "</table>\n",
       "</div>"
      ],
      "text/plain": [
       "  Category  Values\n",
       "0        A      32\n",
       "1        B      43\n",
       "2        C      50"
      ]
     },
     "execution_count": 18,
     "metadata": {},
     "output_type": "execute_result"
    }
   ],
   "source": [
    "df2.head()"
   ]
  },
  {
   "cell_type": "markdown",
   "id": "unlikely-alabama",
   "metadata": {},
   "source": [
    "## Using Cufflinks and iplot()\n",
    "\n",
    "* scatter\n",
    "* bar\n",
    "* box\n",
    "* spread\n",
    "* ratio\n",
    "* heatmap\n",
    "* surface\n",
    "* histogram\n",
    "* bubble"
   ]
  },
  {
   "cell_type": "code",
   "execution_count": 21,
   "id": "simplified-jewel",
   "metadata": {},
   "outputs": [
    {
     "data": {
      "text/plain": [
       "<AxesSubplot:>"
      ]
     },
     "execution_count": 21,
     "metadata": {},
     "output_type": "execute_result"
    },
    {
     "data": {
      "image/png": "[encoded data removed]",
      "text/plain": [
       "<Figure size 432x288 with 1 Axes>"
      ]
     },
     "metadata": {
      "needs_background": "light"
     },
     "output_type": "display_data"
    }
   ],
   "source": [
    "df.plot()"
   ]
  },
  {
   "cell_type": "code",
   "execution_count": 20,
   "id": "absolute-reading",
   "metadata": {},
   "outputs": [
    {
     "data": {
      "application/vnd.plotly.v1+json": {
       "config": {
        "linkText": "Export to plot.ly",
        "plotlyServerURL": "https://plot.ly",
        "showLink": true
       },
       "data": [
        {
         "line": {
          "color": "rgba(255, 153, 51, 1.0)",
          "dash": "solid",
          "shape": "linear",
          "width": 1.3
         },
         "mode": "lines",
         "name": "A",
         "text": "",
         "type": "scatter",
         "x": [
          0,
          1,
          2,
          3,
          4,
          5,
          6,
          7,
          8,
          9,
          10,
          11,
          12,
          13,
          14,
          15,
          16,
          17,
          18,
          19,
          20,
          21,
          22,
          23,
          24,
          25,
          26,
          27,
          28,
          29,
          30,
          31,
          32,
          33,
          34,
          35,
          36,
          37,
          38,
          39,
          40,
          41,
          42,
          43,
          44,
          45,
          46,
          47,
          48,
          49,
          50,
          51,
          52,
          53,
          54,
          55,
          56,
          57,
          58,
          59,
          60,
          61,
          62,
          63,
          64,
          65,
          66,
          67,
          68,
          69,
          70,
          71,
          72,
          73,
          74,
          75,
          76,
          77,
          78,
          79,
          80,
          81,
          82,
          83,
          84,
          85,
          86,
          87,
          88,
          89,
          90,
          91,
          92,
          93,
          94,
          95,
          96,
          97,
          98,
          99
         ],
         "y": [
          -1.3925362910189494,
          -0.810378663163454,
          2.4885259498429666,
          -0.3360897961280188,
          -0.6239871601813272,
          -0.9314424428554555,
          0.40541806103322003,
          1.252433980908955,
          0.013324339628988968,
          0.8274928248906483,
          0.2477120593187329,
          0.5479032322246595,
          0.3574831538634513,
          -0.9942305609051493,
          -0.536357030381323,
          0.8377454579604977,
          2.8452344114101575,
          -0.002644284788590129,
          0.5274728350610518,
          0.10110272484619404,
          0.17266243307093598,
          0.9027307213266934,
          0.5023619723921391,
          -0.6103252856314995,
          0.22645418498641334,
          1.2928628611628123,
          0.38307863514719764,
          -0.8174879902744908,
          -1.3983201412623176,
          -0.2822507410717677,
          -0.4576896548669583,
          -1.1267222222285052,
          0.7343500330435335,
          1.196867445211117,
          -0.07231433739467594,
          -0.44155970831180313,
          0.31060462529164623,
          0.31213644364195114,
          -1.4846253013400412,
          0.8533714112056849,
          0.4485279371393541,
          1.07019445704805,
          1.3011136709638464,
          0.08994198718424634,
          0.8122754534502806,
          -1.6823615565802625,
          0.1486406418977484,
          -0.16668296625727533,
          -0.413512614292019,
          0.36838897594523085,
          1.5884152142416355,
          0.6780871751039427,
          0.9355438678260998,
          0.4915327556074995,
          -0.22108471613918962,
          0.08414709647098075,
          -1.526340237700197,
          -0.8860133524424944,
          -0.3563944845425989,
          -0.3159813085450914,
          1.0270884832504694,
          1.3895585867003941,
          0.6612670382482184,
          0.8376849876632917,
          1.1384471582383107,
          -0.683486098188321,
          -0.5008801779069182,
          3.0173370102738173,
          -1.5942027988308622,
          2.009004216913311,
          0.6024715985192326,
          0.05101634448530437,
          0.8182013809508185,
          -0.8899312820153843,
          -1.809475083360019,
          -0.9968142414537414,
          0.5664192109380051,
          0.2676820170270675,
          0.30386121554423495,
          -0.05353937329098095,
          -0.36513335575212175,
          1.263812580910865,
          -0.645566773318148,
          -1.7365805125565392,
          0.4513421521811229,
          0.7744250898133572,
          0.5371426350948396,
          2.3479002484637523,
          -1.4089011658204154,
          0.5108644371353419,
          -0.18899331931087265,
          -0.5067179906292595,
          0.011221090861858286,
          1.0937551880466485,
          -0.6043848056432759,
          -0.051268569099605546,
          -0.44008400902093514,
          0.13484274912925956,
          0.7943022337618024,
          -0.6423081932244071
         ]
        },
        {
         "line": {
          "color": "rgba(55, 128, 191, 1.0)",
          "dash": "solid",
          "shape": "linear",
          "width": 1.3
         },
         "mode": "lines",
         "name": "B",
         "text": "",
         "type": "scatter",
         "x": [
          0,
          1,
          2,
          3,
          4,
          5,
          6,
          7,
          8,
          9,
          10,
          11,
          12,
          13,
          14,
          15,
          16,
          17,
          18,
          19,
          20,
          21,
          22,
          23,
          24,
          25,
          26,
          27,
          28,
          29,
          30,
          31,
          32,
          33,
          34,
          35,
          36,
          37,
          38,
          39,
          40,
          41,
          42,
          43,
          44,
          45,
          46,
          47,
          48,
          49,
          50,
          51,
          52,
          53,
          54,
          55,
          56,
          57,
          58,
          59,
          60,
          61,
          62,
          63,
          64,
          65,
          66,
          67,
          68,
          69,
          70,
          71,
          72,
          73,
          74,
          75,
          76,
          77,
          78,
          79,
          80,
          81,
          82,
          83,
          84,
          85,
          86,
          87,
          88,
          89,
          90,
          91,
          92,
          93,
          94,
          95,
          96,
          97,
          98,
          99
         ],
         "y": [
          0.018247243454729133,
          -1.641287429090359,
          0.29033754392318695,
          -1.7607135625926582,
          1.3003305536262288,
          -1.4109328537704897,
          -0.9203804889586628,
          0.28447646803205867,
          0.332606849631333,
          1.2580971105184064,
          0.4523705912856098,
          0.3175895643154645,
          1.5176597865404196,
          0.6747080863560667,
          0.07770554186214783,
          0.395957382199184,
          -0.13124506080759338,
          -0.21791146637775682,
          0.7976658920289456,
          -1.390487562199465,
          1.551940287246854,
          -0.29363867055284804,
          0.18847781253631973,
          -0.9585196570980383,
          0.22153009445730926,
          1.8899404725450655,
          -0.09898473848704986,
          -0.2844226313273784,
          -0.44857363506930104,
          -1.5068261592530103,
          -0.8853988899900701,
          0.007717170974573693,
          -0.4697154806793753,
          -0.07218519538565961,
          0.44868568363583633,
          0.07350590819176339,
          -0.8775733779842729,
          1.4188980136745954,
          0.017458057750432826,
          -1.3653893640736654,
          -0.4524697313194808,
          0.7302451442033544,
          -1.4108694611087165,
          -0.4432124320226171,
          -1.2083063092005382,
          0.7681422433954395,
          0.36261534714276644,
          1.4474355660288214,
          -0.26923111419528156,
          0.24261719724288902,
          -0.5930548392171751,
          0.3074301376496709,
          -1.9352322732363512,
          -0.35011118073465874,
          0.06323744032768434,
          0.12106373888358686,
          -1.5210141834864488,
          0.8565105273051439,
          2.0973086833154984,
          -1.4530718816233743,
          -1.2902083799169843,
          -0.975285157863209,
          0.20811175894495076,
          0.013580647731700883,
          0.8260913247041718,
          1.8627632484278747,
          -0.7112805801436362,
          -0.10562191507673178,
          -0.09777224729113433,
          -0.15421902069626753,
          -0.7158635180540559,
          0.31103790295906036,
          1.8113001895976237,
          0.5643470166573292,
          0.1194212776576599,
          0.6768467740327988,
          -0.4830456199036295,
          0.6398808065259151,
          0.9059525652052595,
          2.1914129431408496,
          -0.3728243977952265,
          -1.8467848853758144,
          2.3287617014687267,
          -0.8686965247241903,
          0.061363099949911036,
          -1.0870797658973599,
          -0.33861314186861213,
          -0.5809702974308824,
          3.105143426489841,
          0.46628395112538423,
          -0.9453531177470587,
          -2.863248068536093,
          -0.161813958030016,
          -0.9372597822101988,
          0.883440331877125,
          -1.3844345670212876,
          -0.14910508843954498,
          -0.13464904447127116,
          -0.07941779007080037,
          -0.5412325171678067
         ]
        },
        {
         "line": {
          "color": "rgba(50, 171, 96, 1.0)",
          "dash": "solid",
          "shape": "linear",
          "width": 1.3
         },
         "mode": "lines",
         "name": "C",
         "text": "",
         "type": "scatter",
         "x": [
          0,
          1,
          2,
          3,
          4,
          5,
          6,
          7,
          8,
          9,
          10,
          11,
          12,
          13,
          14,
          15,
          16,
          17,
          18,
          19,
          20,
          21,
          22,
          23,
          24,
          25,
          26,
          27,
          28,
          29,
          30,
          31,
          32,
          33,
          34,
          35,
          36,
          37,
          38,
          39,
          40,
          41,
          42,
          43,
          44,
          45,
          46,
          47,
          48,
          49,
          50,
          51,
          52,
          53,
          54,
          55,
          56,
          57,
          58,
          59,
          60,
          61,
          62,
          63,
          64,
          65,
          66,
          67,
          68,
          69,
          70,
          71,
          72,
          73,
          74,
          75,
          76,
          77,
          78,
          79,
          80,
          81,
          82,
          83,
          84,
          85,
          86,
          87,
          88,
          89,
          90,
          91,
          92,
          93,
          94,
          95,
          96,
          97,
          98,
          99
         ],
         "y": [
          0.6539996449715558,
          -0.5659196630474541,
          1.8159398228808998,
          1.0583555167005736,
          -0.6227225568802499,
          -0.40630713764972226,
          -0.11427520596938669,
          -0.13289253236246165,
          -0.11432046346755437,
          1.4370081115017084,
          0.5376678112222951,
          -0.11524504492383345,
          -0.2827129517902007,
          0.729639956646993,
          -0.4621357260188536,
          -0.6639271817443355,
          -0.13256980302132834,
          -0.7024662353823565,
          -0.48543189823701616,
          -0.18320287832727114,
          1.6735852550968513,
          0.325990348937261,
          0.5808537825830308,
          1.3013190144650908,
          0.054087625789389235,
          0.8476596739709308,
          0.36818389574690263,
          -0.4647017536141895,
          -1.0895273910069485,
          0.3655118712662989,
          0.29149377094193973,
          0.780489059636943,
          -0.05267072214309716,
          -1.4154856304850099,
          -0.01772349057387633,
          1.5966953215967015,
          0.052991347153613866,
          -0.14825169997509063,
          1.0280837263415346,
          1.4796477287595218,
          0.11620034005831635,
          -0.3737520279616432,
          0.08920103224183656,
          0.21906230446552025,
          0.4857550965978963,
          -0.7005938042976406,
          -0.9942389031984273,
          0.5507670094136666,
          -1.4458825798184582,
          -3.098173074522189,
          1.2835115413301663,
          0.3946233553270571,
          -1.308682102592665,
          0.07639153586105756,
          -1.1759870933068683,
          1.4731794500668745,
          -1.6428154128692,
          0.1893277147815496,
          -0.6818424037659505,
          -0.9347666252429254,
          0.5086512856115122,
          -0.4645209997141104,
          -0.3031835085353631,
          0.44701098475594236,
          0.8353027109771323,
          -0.14054007167289034,
          -0.15013147216616834,
          0.5153996771673185,
          -1.2582742077482543,
          -0.7135399627739663,
          -0.6122501516692291,
          0.010485590570798056,
          1.1455146999024144,
          -2.512951070785972,
          0.046700570355901645,
          -0.6620719188421927,
          1.2535111474147207,
          -0.966775914999897,
          -0.5975062910975437,
          1.3869645748023705,
          1.0485031657839086,
          0.13162633240671084,
          0.9914475375741324,
          -0.736785585058042,
          0.6607449903382562,
          -1.1204128860546345,
          0.15159514495082732,
          0.23352104333848936,
          0.1654022983345033,
          0.08389010221925625,
          -0.4387289786475107,
          0.10147789788188771,
          -0.30608807943770994,
          -1.8879365179581584,
          1.1373449620515308,
          -0.514549767031345,
          -1.2807142039342225,
          1.6530503599711,
          1.0169314718125373,
          -0.8330759758037153
         ]
        },
        {
         "line": {
          "color": "rgba(128, 0, 128, 1.0)",
          "dash": "solid",
          "shape": "linear",
          "width": 1.3
         },
         "mode": "lines",
         "name": "D",
         "text": "",
         "type": "scatter",
         "x": [
          0,
          1,
          2,
          3,
          4,
          5,
          6,
          7,
          8,
          9,
          10,
          11,
          12,
          13,
          14,
          15,
          16,
          17,
          18,
          19,
          20,
          21,
          22,
          23,
          24,
          25,
          26,
          27,
          28,
          29,
          30,
          31,
          32,
          33,
          34,
          35,
          36,
          37,
          38,
          39,
          40,
          41,
          42,
          43,
          44,
          45,
          46,
          47,
          48,
          49,
          50,
          51,
          52,
          53,
          54,
          55,
          56,
          57,
          58,
          59,
          60,
          61,
          62,
          63,
          64,
          65,
          66,
          67,
          68,
          69,
          70,
          71,
          72,
          73,
          74,
          75,
          76,
          77,
          78,
          79,
          80,
          81,
          82,
          83,
          84,
          85,
          86,
          87,
          88,
          89,
          90,
          91,
          92,
          93,
          94,
          95,
          96,
          97,
          98,
          99
         ],
         "y": [
          0.8390943270083371,
          -0.5986753282601811,
          -0.6748928882091413,
          0.8121266925796375,
          0.6676082059375054,
          0.6975176166675674,
          0.5510215088814724,
          0.3255069211110878,
          1.0448201534719064,
          0.6779387892421176,
          -0.8175569347978934,
          -0.547958893924515,
          -0.13247143467799177,
          0.6168336637892209,
          -1.099537081189929,
          0.8758913763483146,
          -0.19910991359086036,
          1.1296352708498467,
          1.3818398785470174,
          0.30144885547763584,
          -1.4076409147345068,
          0.056737899363050674,
          -0.6893078684815752,
          -0.23220675377317293,
          -1.1839317193248682,
          -1.7000692346587405,
          0.2860231755337689,
          0.6935612403878274,
          1.6198953779159069,
          1.1939221078679838,
          -0.7943703449922144,
          -0.8935912205479846,
          -1.1725672370537017,
          -0.8434436966175837,
          -1.137724565284718,
          1.2686174828385957,
          -0.3388512686567921,
          0.05557192103953242,
          -0.6509432772122801,
          0.4212112487042361,
          -0.8395743733849524,
          0.5213001116027786,
          0.9266376462867841,
          -0.07962620796649188,
          -1.023757639195626,
          1.943411162863304,
          0.7089761111811689,
          0.9487311638556934,
          -0.3835311032326224,
          -0.02111630512157493,
          0.5814766204648452,
          0.4701347154470717,
          -0.48765116027144095,
          -0.0637226203062069,
          0.29130276313976683,
          -0.3102242344352451,
          0.5152891218770042,
          -0.033178785445876637,
          0.07517237702046319,
          -0.6665402494568252,
          -1.409378264535092,
          0.6828409867172683,
          -0.7036887850923063,
          -1.0552572615112066,
          -0.34928695142770955,
          0.19168523668586646,
          0.28647309507487895,
          1.1461907985171866,
          0.7469129612383292,
          -0.7079503122645188,
          -0.6557214666128048,
          -1.3968672664276047,
          -0.5538924078573247,
          -0.3296754524941206,
          0.37844878942540705,
          0.4532061750112359,
          -0.08674556302277625,
          -1.5471943209073105,
          0.057903814084964096,
          0.9592635943716046,
          0.2132520203157617,
          -1.3402743083471296,
          -0.3208017290779518,
          0.00597684314749305,
          -0.33059994025969663,
          -0.6609761118828568,
          1.2619017430575843,
          -0.37565519347914295,
          -0.9772623921865828,
          1.0500255900752695,
          0.32047601983644985,
          -0.08142380520228257,
          0.21448938813587098,
          -0.34677239590371944,
          0.1037919114474872,
          0.4194150792464226,
          -0.4837618425652278,
          -0.7955972503857917,
          -1.3557727733238194,
          -0.5115686024189222
         ]
        }
       ],
       "layout": {
        "legend": {
         "bgcolor": "#F5F6F9",
         "font": {
          "color": "#4D5663"
         }
        },
        "paper_bgcolor": "#F5F6F9",
        "plot_bgcolor": "#F5F6F9",
        "template": {
         "data": {
          "bar": [
           {
            "error_x": {
             "color": "#2a3f5f"
            },
            "error_y": {
             "color": "#2a3f5f"
            },
            "marker": {
             "line": {
              "color": "#E5ECF6",
              "width": 0.5
             }
            },
            "type": "bar"
           }
          ],
          "barpolar": [
           {
            "marker": {
             "line": {
              "color": "#E5ECF6",
              "width": 0.5
             }
            },
            "type": "barpolar"
           }
          ],
          "carpet": [
           {
            "aaxis": {
             "endlinecolor": "#2a3f5f",
             "gridcolor": "white",
             "linecolor": "white",
             "minorgridcolor": "white",
             "startlinecolor": "#2a3f5f"
            },
            "baxis": {
             "endlinecolor": "#2a3f5f",
             "gridcolor": "white",
             "linecolor": "white",
             "minorgridcolor": "white",
             "startlinecolor": "#2a3f5f"
            },
            "type": "carpet"
           }
          ],
          "choropleth": [
           {
            "colorbar": {
             "outlinewidth": 0,
             "ticks": ""
            },
            "type": "choropleth"
           }
          ],
          "contour": [
           {
            "colorbar": {
             "outlinewidth": 0,
             "ticks": ""
            },
            "colorscale": [
             [
              0,
              "#0d0887"
             ],
             [
              0.1111111111111111,
              "#46039f"
             ],
             [
              0.2222222222222222,
              "#7201a8"
             ],
             [
              0.3333333333333333,
              "#9c179e"
             ],
             [
              0.4444444444444444,
              "#bd3786"
             ],
             [
              0.5555555555555556,
              "#d8576b"
             ],
             [
              0.6666666666666666,
              "#ed7953"
             ],
             [
              0.7777777777777778,
              "#fb9f3a"
             ],
             [
              0.8888888888888888,
              "#fdca26"
             ],
             [
              1,
              "#f0f921"
             ]
            ],
            "type": "contour"
           }
          ],
          "contourcarpet": [
           {
            "colorbar": {
             "outlinewidth": 0,
             "ticks": ""
            },
            "type": "contourcarpet"
           }
          ],
          "heatmap": [
           {
            "colorbar": {
             "outlinewidth": 0,
             "ticks": ""
            },
            "colorscale": [
             [
              0,
              "#0d0887"
             ],
             [
              0.1111111111111111,
              "#46039f"
             ],
             [
              0.2222222222222222,
              "#7201a8"
             ],
             [
              0.3333333333333333,
              "#9c179e"
             ],
             [
              0.4444444444444444,
              "#bd3786"
             ],
             [
              0.5555555555555556,
              "#d8576b"
             ],
             [
              0.6666666666666666,
              "#ed7953"
             ],
             [
              0.7777777777777778,
              "#fb9f3a"
             ],
             [
              0.8888888888888888,
              "#fdca26"
             ],
             [
              1,
              "#f0f921"
             ]
            ],
            "type": "heatmap"
           }
          ],
          "heatmapgl": [
           {
            "colorbar": {
             "outlinewidth": 0,
             "ticks": ""
            },
            "colorscale": [
             [
              0,
              "#0d0887"
             ],
             [
              0.1111111111111111,
              "#46039f"
             ],
             [
              0.2222222222222222,
              "#7201a8"
             ],
             [
              0.3333333333333333,
              "#9c179e"
             ],
             [
              0.4444444444444444,
              "#bd3786"
             ],
             [
              0.5555555555555556,
              "#d8576b"
             ],
             [
              0.6666666666666666,
              "#ed7953"
             ],
             [
              0.7777777777777778,
              "#fb9f3a"
             ],
             [
              0.8888888888888888,
              "#fdca26"
             ],
             [
              1,
              "#f0f921"
             ]
            ],
            "type": "heatmapgl"
           }
          ],
          "histogram": [
           {
            "marker": {
             "colorbar": {
              "outlinewidth": 0,
              "ticks": ""
             }
            },
            "type": "histogram"
           }
          ],
          "histogram2d": [
           {
            "colorbar": {
             "outlinewidth": 0,
             "ticks": ""
            },
            "colorscale": [
             [
              0,
              "#0d0887"
             ],
             [
              0.1111111111111111,
              "#46039f"
             ],
             [
              0.2222222222222222,
              "#7201a8"
             ],
             [
              0.3333333333333333,
              "#9c179e"
             ],
             [
              0.4444444444444444,
              "#bd3786"
             ],
             [
              0.5555555555555556,
              "#d8576b"
             ],
             [
              0.6666666666666666,
              "#ed7953"
             ],
             [
              0.7777777777777778,
              "#fb9f3a"
             ],
             [
              0.8888888888888888,
              "#fdca26"
             ],
             [
              1,
              "#f0f921"
             ]
            ],
            "type": "histogram2d"
           }
          ],
          "histogram2dcontour": [
           {
            "colorbar": {
             "outlinewidth": 0,
             "ticks": ""
            },
            "colorscale": [
             [
              0,
              "#0d0887"
             ],
             [
              0.1111111111111111,
              "#46039f"
             ],
             [
              0.2222222222222222,
              "#7201a8"
             ],
             [
              0.3333333333333333,
              "#9c179e"
             ],
             [
              0.4444444444444444,
              "#bd3786"
             ],
             [
              0.5555555555555556,
              "#d8576b"
             ],
             [
              0.6666666666666666,
              "#ed7953"
             ],
             [
              0.7777777777777778,
              "#fb9f3a"
             ],
             [
              0.8888888888888888,
              "#fdca26"
             ],
             [
              1,
              "#f0f921"
             ]
            ],
            "type": "histogram2dcontour"
           }
          ],
          "mesh3d": [
           {
            "colorbar": {
             "outlinewidth": 0,
             "ticks": ""
            },
            "type": "mesh3d"
           }
          ],
          "parcoords": [
           {
            "line": {
             "colorbar": {
              "outlinewidth": 0,
              "ticks": ""
             }
            },
            "type": "parcoords"
           }
          ],
          "pie": [
           {
            "automargin": true,
            "type": "pie"
           }
          ],
          "scatter": [
           {
            "marker": {
             "colorbar": {
              "outlinewidth": 0,
              "ticks": ""
             }
            },
            "type": "scatter"
           }
          ],
          "scatter3d": [
           {
            "line": {
             "colorbar": {
              "outlinewidth": 0,
              "ticks": ""
             }
            },
            "marker": {
             "colorbar": {
              "outlinewidth": 0,
              "ticks": ""
             }
            },
            "type": "scatter3d"
           }
          ],
          "scattercarpet": [
           {
            "marker": {
             "colorbar": {
              "outlinewidth": 0,
              "ticks": ""
             }
            },
            "type": "scattercarpet"
           }
          ],
          "scattergeo": [
           {
            "marker": {
             "colorbar": {
              "outlinewidth": 0,
              "ticks": ""
             }
            },
            "type": "scattergeo"
           }
          ],
          "scattergl": [
           {
            "marker": {
             "colorbar": {
              "outlinewidth": 0,
              "ticks": ""
             }
            },
            "type": "scattergl"
           }
          ],
          "scattermapbox": [
           {
            "marker": {
             "colorbar": {
              "outlinewidth": 0,
              "ticks": ""
             }
            },
            "type": "scattermapbox"
           }
          ],
          "scatterpolar": [
           {
            "marker": {
             "colorbar": {
              "outlinewidth": 0,
              "ticks": ""
             }
            },
            "type": "scatterpolar"
           }
          ],
          "scatterpolargl": [
           {
            "marker": {
             "colorbar": {
              "outlinewidth": 0,
              "ticks": ""
             }
            },
            "type": "scatterpolargl"
           }
          ],
          "scatterternary": [
           {
            "marker": {
             "colorbar": {
              "outlinewidth": 0,
              "ticks": ""
             }
            },
            "type": "scatterternary"
           }
          ],
          "surface": [
           {
            "colorbar": {
             "outlinewidth": 0,
             "ticks": ""
            },
            "colorscale": [
             [
              0,
              "#0d0887"
             ],
             [
              0.1111111111111111,
              "#46039f"
             ],
             [
              0.2222222222222222,
              "#7201a8"
             ],
             [
              0.3333333333333333,
              "#9c179e"
             ],
             [
              0.4444444444444444,
              "#bd3786"
             ],
             [
              0.5555555555555556,
              "#d8576b"
             ],
             [
              0.6666666666666666,
              "#ed7953"
             ],
             [
              0.7777777777777778,
              "#fb9f3a"
             ],
             [
              0.8888888888888888,
              "#fdca26"
             ],
             [
              1,
              "#f0f921"
             ]
            ],
            "type": "surface"
           }
          ],
          "table": [
           {
            "cells": {
             "fill": {
              "color": "#EBF0F8"
             },
             "line": {
              "color": "white"
             }
            },
            "header": {
             "fill": {
              "color": "#C8D4E3"
             },
             "line": {
              "color": "white"
             }
            },
            "type": "table"
           }
          ]
         },
         "layout": {
          "annotationdefaults": {
           "arrowcolor": "#2a3f5f",
           "arrowhead": 0,
           "arrowwidth": 1
          },
          "coloraxis": {
           "colorbar": {
            "outlinewidth": 0,
            "ticks": ""
           }
          },
          "colorscale": {
           "diverging": [
            [
             0,
             "#8e0152"
            ],
            [
             0.1,
             "#c51b7d"
            ],
            [
             0.2,
             "#de77ae"
            ],
            [
             0.3,
             "#f1b6da"
            ],
            [
             0.4,
             "#fde0ef"
            ],
            [
             0.5,
             "#f7f7f7"
            ],
            [
             0.6,
             "#e6f5d0"
            ],
            [
             0.7,
             "#b8e186"
            ],
            [
             0.8,
             "#7fbc41"
            ],
            [
             0.9,
             "#4d9221"
            ],
            [
             1,
             "#276419"
            ]
           ],
           "sequential": [
            [
             0,
             "#0d0887"
            ],
            [
             0.1111111111111111,
             "#46039f"
            ],
            [
             0.2222222222222222,
             "#7201a8"
            ],
            [
             0.3333333333333333,
             "#9c179e"
            ],
            [
             0.4444444444444444,
             "#bd3786"
            ],
            [
             0.5555555555555556,
             "#d8576b"
            ],
            [
             0.6666666666666666,
             "#ed7953"
            ],
            [
             0.7777777777777778,
             "#fb9f3a"
            ],
            [
             0.8888888888888888,
             "#fdca26"
            ],
            [
             1,
             "#f0f921"
            ]
           ],
           "sequentialminus": [
            [
             0,
             "#0d0887"
            ],
            [
             0.1111111111111111,
             "#46039f"
            ],
            [
             0.2222222222222222,
             "#7201a8"
            ],
            [
             0.3333333333333333,
             "#9c179e"
            ],
            [
             0.4444444444444444,
             "#bd3786"
            ],
            [
             0.5555555555555556,
             "#d8576b"
            ],
            [
             0.6666666666666666,
             "#ed7953"
            ],
            [
             0.7777777777777778,
             "#fb9f3a"
            ],
            [
             0.8888888888888888,
             "#fdca26"
            ],
            [
             1,
             "#f0f921"
            ]
           ]
          },
          "colorway": [
           "#636efa",
           "#EF553B",
           "#00cc96",
           "#ab63fa",
           "#FFA15A",
           "#19d3f3",
           "#FF6692",
           "#B6E880",
           "#FF97FF",
           "#FECB52"
          ],
          "font": {
           "color": "#2a3f5f"
          },
          "geo": {
           "bgcolor": "white",
           "lakecolor": "white",
           "landcolor": "#E5ECF6",
           "showlakes": true,
           "showland": true,
           "subunitcolor": "white"
          },
          "hoverlabel": {
           "align": "left"
          },
          "hovermode": "closest",
          "mapbox": {
           "style": "light"
          },
          "paper_bgcolor": "white",
          "plot_bgcolor": "#E5ECF6",
          "polar": {
           "angularaxis": {
            "gridcolor": "white",
            "linecolor": "white",
            "ticks": ""
           },
           "bgcolor": "#E5ECF6",
           "radialaxis": {
            "gridcolor": "white",
            "linecolor": "white",
            "ticks": ""
           }
          },
          "scene": {
           "xaxis": {
            "backgroundcolor": "#E5ECF6",
            "gridcolor": "white",
            "gridwidth": 2,
            "linecolor": "white",
            "showbackground": true,
            "ticks": "",
            "zerolinecolor": "white"
           },
           "yaxis": {
            "backgroundcolor": "#E5ECF6",
            "gridcolor": "white",
            "gridwidth": 2,
            "linecolor": "white",
            "showbackground": true,
            "ticks": "",
            "zerolinecolor": "white"
           },
           "zaxis": {
            "backgroundcolor": "#E5ECF6",
            "gridcolor": "white",
            "gridwidth": 2,
            "linecolor": "white",
            "showbackground": true,
            "ticks": "",
            "zerolinecolor": "white"
           }
          },
          "shapedefaults": {
           "line": {
            "color": "#2a3f5f"
           }
          },
          "ternary": {
           "aaxis": {
            "gridcolor": "white",
            "linecolor": "white",
            "ticks": ""
           },
           "baxis": {
            "gridcolor": "white",
            "linecolor": "white",
            "ticks": ""
           },
           "bgcolor": "#E5ECF6",
           "caxis": {
            "gridcolor": "white",
            "linecolor": "white",
            "ticks": ""
           }
          },
          "title": {
           "x": 0.05
          },
          "xaxis": {
           "automargin": true,
           "gridcolor": "white",
           "linecolor": "white",
           "ticks": "",
           "title": {
            "standoff": 15
           },
           "zerolinecolor": "white",
           "zerolinewidth": 2
          },
          "yaxis": {
           "automargin": true,
           "gridcolor": "white",
           "linecolor": "white",
           "ticks": "",
           "title": {
            "standoff": 15
           },
           "zerolinecolor": "white",
           "zerolinewidth": 2
          }
         }
        },
        "title": {
         "font": {
          "color": "#4D5663"
         }
        },
        "xaxis": {
         "gridcolor": "#E1E5ED",
         "showgrid": true,
         "tickfont": {
          "color": "#4D5663"
         },
         "title": {
          "font": {
           "color": "#4D5663"
          },
          "text": ""
         },
         "zerolinecolor": "#E1E5ED"
        },
        "yaxis": {
         "gridcolor": "#E1E5ED",
         "showgrid": true,
         "tickfont": {
          "color": "#4D5663"
         },
         "title": {
          "font": {
           "color": "#4D5663"
          },
          "text": ""
         },
         "zerolinecolor": "#E1E5ED"
        }
       }
      },
      "text/html": [
       "<div>\n",
       "        \n",
       "        \n",
       "            <div id=\"1759f83f-a8cc-4a2a-803f-cce97fd17bdc\" class=\"plotly-graph-div\" style=\"height:525px; width:100%;\"></div>\n",
       "            <script type=\"text/javascript\">\n",
       "                require([\"plotly\"], function(Plotly) {\n",
       "                    window.PLOTLYENV=window.PLOTLYENV || {};\n",
       "                    window.PLOTLYENV.BASE_URL='https://plot.ly';\n",
       "                    \n",
       "                if (document.getElementById(\"1759f83f-a8cc-4a2a-803f-cce97fd17bdc\")) {\n",
       "                    Plotly.newPlot(\n",
       "                        '1759f83f-a8cc-4a2a-803f-cce97fd17bdc',\n",
       "                        [{\"line\": {\"color\": \"rgba(255, 153, 51, 1.0)\", \"dash\": \"solid\", \"shape\": \"linear\", \"width\": 1.3}, \"mode\": \"lines\", \"name\": \"A\", \"text\": \"\", \"type\": \"scatter\", \"x\": [0, 1, 2, 3, 4, 5, 6, 7, 8, 9, 10, 11, 12, 13, 14, 15, 16, 17, 18, 19, 20, 21, 22, 23, 24, 25, 26, 27, 28, 29, 30, 31, 32, 33, 34, 35, 36, 37, 38, 39, 40, 41, 42, 43, 44, 45, 46, 47, 48, 49, 50, 51, 52, 53, 54, 55, 56, 57, 58, 59, 60, 61, 62, 63, 64, 65, 66, 67, 68, 69, 70, 71, 72, 73, 74, 75, 76, 77, 78, 79, 80, 81, 82, 83, 84, 85, 86, 87, 88, 89, 90, 91, 92, 93, 94, 95, 96, 97, 98, 99], \"y\": [-1.3925362910189494, -0.810378663163454, 2.4885259498429666, -0.3360897961280188, -0.6239871601813272, -0.9314424428554555, 0.40541806103322003, 1.252433980908955, 0.013324339628988968, 0.8274928248906483, 0.2477120593187329, 0.5479032322246595, 0.3574831538634513, -0.9942305609051493, -0.536357030381323, 0.8377454579604977, 2.8452344114101575, -0.002644284788590129, 0.5274728350610518, 0.10110272484619404, 0.17266243307093598, 0.9027307213266934, 0.5023619723921391, -0.6103252856314995, 0.22645418498641334, 1.2928628611628123, 0.38307863514719764, -0.8174879902744908, -1.3983201412623176, -0.2822507410717677, -0.4576896548669583, -1.1267222222285052, 0.7343500330435335, 1.196867445211117, -0.07231433739467594, -0.44155970831180313, 0.31060462529164623, 0.31213644364195114, -1.4846253013400412, 0.8533714112056849, 0.4485279371393541, 1.07019445704805, 1.3011136709638464, 0.08994198718424634, 0.8122754534502806, -1.6823615565802625, 0.1486406418977484, -0.16668296625727533, -0.413512614292019, 0.36838897594523085, 1.5884152142416355, 0.6780871751039427, 0.9355438678260998, 0.4915327556074995, -0.22108471613918962, 0.08414709647098075, -1.526340237700197, -0.8860133524424944, -0.3563944845425989, -0.3159813085450914, 1.0270884832504694, 1.3895585867003941, 0.6612670382482184, 0.8376849876632917, 1.1384471582383107, -0.683486098188321, -0.5008801779069182, 3.0173370102738173, -1.5942027988308622, 2.009004216913311, 0.6024715985192326, 0.05101634448530437, 0.8182013809508185, -0.8899312820153843, -1.809475083360019, -0.9968142414537414, 0.5664192109380051, 0.2676820170270675, 0.30386121554423495, -0.05353937329098095, -0.36513335575212175, 1.263812580910865, -0.645566773318148, -1.7365805125565392, 0.4513421521811229, 0.7744250898133572, 0.5371426350948396, 2.3479002484637523, -1.4089011658204154, 0.5108644371353419, -0.18899331931087265, -0.5067179906292595, 0.011221090861858286, 1.0937551880466485, -0.6043848056432759, -0.051268569099605546, -0.44008400902093514, 0.13484274912925956, 0.7943022337618024, -0.6423081932244071]}, {\"line\": {\"color\": \"rgba(55, 128, 191, 1.0)\", \"dash\": \"solid\", \"shape\": \"linear\", \"width\": 1.3}, \"mode\": \"lines\", \"name\": \"B\", \"text\": \"\", \"type\": \"scatter\", \"x\": [0, 1, 2, 3, 4, 5, 6, 7, 8, 9, 10, 11, 12, 13, 14, 15, 16, 17, 18, 19, 20, 21, 22, 23, 24, 25, 26, 27, 28, 29, 30, 31, 32, 33, 34, 35, 36, 37, 38, 39, 40, 41, 42, 43, 44, 45, 46, 47, 48, 49, 50, 51, 52, 53, 54, 55, 56, 57, 58, 59, 60, 61, 62, 63, 64, 65, 66, 67, 68, 69, 70, 71, 72, 73, 74, 75, 76, 77, 78, 79, 80, 81, 82, 83, 84, 85, 86, 87, 88, 89, 90, 91, 92, 93, 94, 95, 96, 97, 98, 99], \"y\": [0.018247243454729133, -1.641287429090359, 0.29033754392318695, -1.7607135625926582, 1.3003305536262288, -1.4109328537704897, -0.9203804889586628, 0.28447646803205867, 0.332606849631333, 1.2580971105184064, 0.4523705912856098, 0.3175895643154645, 1.5176597865404196, 0.6747080863560667, 0.07770554186214783, 0.395957382199184, -0.13124506080759338, -0.21791146637775682, 0.7976658920289456, -1.390487562199465, 1.551940287246854, -0.29363867055284804, 0.18847781253631973, -0.9585196570980383, 0.22153009445730926, 1.8899404725450655, -0.09898473848704986, -0.2844226313273784, -0.44857363506930104, -1.5068261592530103, -0.8853988899900701, 0.007717170974573693, -0.4697154806793753, -0.07218519538565961, 0.44868568363583633, 0.07350590819176339, -0.8775733779842729, 1.4188980136745954, 0.017458057750432826, -1.3653893640736654, -0.4524697313194808, 0.7302451442033544, -1.4108694611087165, -0.4432124320226171, -1.2083063092005382, 0.7681422433954395, 0.36261534714276644, 1.4474355660288214, -0.26923111419528156, 0.24261719724288902, -0.5930548392171751, 0.3074301376496709, -1.9352322732363512, -0.35011118073465874, 0.06323744032768434, 0.12106373888358686, -1.5210141834864488, 0.8565105273051439, 2.0973086833154984, -1.4530718816233743, -1.2902083799169843, -0.975285157863209, 0.20811175894495076, 0.013580647731700883, 0.8260913247041718, 1.8627632484278747, -0.7112805801436362, -0.10562191507673178, -0.09777224729113433, -0.15421902069626753, -0.7158635180540559, 0.31103790295906036, 1.8113001895976237, 0.5643470166573292, 0.1194212776576599, 0.6768467740327988, -0.4830456199036295, 0.6398808065259151, 0.9059525652052595, 2.1914129431408496, -0.3728243977952265, -1.8467848853758144, 2.3287617014687267, -0.8686965247241903, 0.061363099949911036, -1.0870797658973599, -0.33861314186861213, -0.5809702974308824, 3.105143426489841, 0.46628395112538423, -0.9453531177470587, -2.863248068536093, -0.161813958030016, -0.9372597822101988, 0.883440331877125, -1.3844345670212876, -0.14910508843954498, -0.13464904447127116, -0.07941779007080037, -0.5412325171678067]}, {\"line\": {\"color\": \"rgba(50, 171, 96, 1.0)\", \"dash\": \"solid\", \"shape\": \"linear\", \"width\": 1.3}, \"mode\": \"lines\", \"name\": \"C\", \"text\": \"\", \"type\": \"scatter\", \"x\": [0, 1, 2, 3, 4, 5, 6, 7, 8, 9, 10, 11, 12, 13, 14, 15, 16, 17, 18, 19, 20, 21, 22, 23, 24, 25, 26, 27, 28, 29, 30, 31, 32, 33, 34, 35, 36, 37, 38, 39, 40, 41, 42, 43, 44, 45, 46, 47, 48, 49, 50, 51, 52, 53, 54, 55, 56, 57, 58, 59, 60, 61, 62, 63, 64, 65, 66, 67, 68, 69, 70, 71, 72, 73, 74, 75, 76, 77, 78, 79, 80, 81, 82, 83, 84, 85, 86, 87, 88, 89, 90, 91, 92, 93, 94, 95, 96, 97, 98, 99], \"y\": [0.6539996449715558, -0.5659196630474541, 1.8159398228808998, 1.0583555167005736, -0.6227225568802499, -0.40630713764972226, -0.11427520596938669, -0.13289253236246165, -0.11432046346755437, 1.4370081115017084, 0.5376678112222951, -0.11524504492383345, -0.2827129517902007, 0.729639956646993, -0.4621357260188536, -0.6639271817443355, -0.13256980302132834, -0.7024662353823565, -0.48543189823701616, -0.18320287832727114, 1.6735852550968513, 0.325990348937261, 0.5808537825830308, 1.3013190144650908, 0.054087625789389235, 0.8476596739709308, 0.36818389574690263, -0.4647017536141895, -1.0895273910069485, 0.3655118712662989, 0.29149377094193973, 0.780489059636943, -0.05267072214309716, -1.4154856304850099, -0.01772349057387633, 1.5966953215967015, 0.052991347153613866, -0.14825169997509063, 1.0280837263415346, 1.4796477287595218, 0.11620034005831635, -0.3737520279616432, 0.08920103224183656, 0.21906230446552025, 0.4857550965978963, -0.7005938042976406, -0.9942389031984273, 0.5507670094136666, -1.4458825798184582, -3.098173074522189, 1.2835115413301663, 0.3946233553270571, -1.308682102592665, 0.07639153586105756, -1.1759870933068683, 1.4731794500668745, -1.6428154128692, 0.1893277147815496, -0.6818424037659505, -0.9347666252429254, 0.5086512856115122, -0.4645209997141104, -0.3031835085353631, 0.44701098475594236, 0.8353027109771323, -0.14054007167289034, -0.15013147216616834, 0.5153996771673185, -1.2582742077482543, -0.7135399627739663, -0.6122501516692291, 0.010485590570798056, 1.1455146999024144, -2.512951070785972, 0.046700570355901645, -0.6620719188421927, 1.2535111474147207, -0.966775914999897, -0.5975062910975437, 1.3869645748023705, 1.0485031657839086, 0.13162633240671084, 0.9914475375741324, -0.736785585058042, 0.6607449903382562, -1.1204128860546345, 0.15159514495082732, 0.23352104333848936, 0.1654022983345033, 0.08389010221925625, -0.4387289786475107, 0.10147789788188771, -0.30608807943770994, -1.8879365179581584, 1.1373449620515308, -0.514549767031345, -1.2807142039342225, 1.6530503599711, 1.0169314718125373, -0.8330759758037153]}, {\"line\": {\"color\": \"rgba(128, 0, 128, 1.0)\", \"dash\": \"solid\", \"shape\": \"linear\", \"width\": 1.3}, \"mode\": \"lines\", \"name\": \"D\", \"text\": \"\", \"type\": \"scatter\", \"x\": [0, 1, 2, 3, 4, 5, 6, 7, 8, 9, 10, 11, 12, 13, 14, 15, 16, 17, 18, 19, 20, 21, 22, 23, 24, 25, 26, 27, 28, 29, 30, 31, 32, 33, 34, 35, 36, 37, 38, 39, 40, 41, 42, 43, 44, 45, 46, 47, 48, 49, 50, 51, 52, 53, 54, 55, 56, 57, 58, 59, 60, 61, 62, 63, 64, 65, 66, 67, 68, 69, 70, 71, 72, 73, 74, 75, 76, 77, 78, 79, 80, 81, 82, 83, 84, 85, 86, 87, 88, 89, 90, 91, 92, 93, 94, 95, 96, 97, 98, 99], \"y\": [0.8390943270083371, -0.5986753282601811, -0.6748928882091413, 0.8121266925796375, 0.6676082059375054, 0.6975176166675674, 0.5510215088814724, 0.3255069211110878, 1.0448201534719064, 0.6779387892421176, -0.8175569347978934, -0.547958893924515, -0.13247143467799177, 0.6168336637892209, -1.099537081189929, 0.8758913763483146, -0.19910991359086036, 1.1296352708498467, 1.3818398785470174, 0.30144885547763584, -1.4076409147345068, 0.056737899363050674, -0.6893078684815752, -0.23220675377317293, -1.1839317193248682, -1.7000692346587405, 0.2860231755337689, 0.6935612403878274, 1.6198953779159069, 1.1939221078679838, -0.7943703449922144, -0.8935912205479846, -1.1725672370537017, -0.8434436966175837, -1.137724565284718, 1.2686174828385957, -0.3388512686567921, 0.05557192103953242, -0.6509432772122801, 0.4212112487042361, -0.8395743733849524, 0.5213001116027786, 0.9266376462867841, -0.07962620796649188, -1.023757639195626, 1.943411162863304, 0.7089761111811689, 0.9487311638556934, -0.3835311032326224, -0.02111630512157493, 0.5814766204648452, 0.4701347154470717, -0.48765116027144095, -0.0637226203062069, 0.29130276313976683, -0.3102242344352451, 0.5152891218770042, -0.033178785445876637, 0.07517237702046319, -0.6665402494568252, -1.409378264535092, 0.6828409867172683, -0.7036887850923063, -1.0552572615112066, -0.34928695142770955, 0.19168523668586646, 0.28647309507487895, 1.1461907985171866, 0.7469129612383292, -0.7079503122645188, -0.6557214666128048, -1.3968672664276047, -0.5538924078573247, -0.3296754524941206, 0.37844878942540705, 0.4532061750112359, -0.08674556302277625, -1.5471943209073105, 0.057903814084964096, 0.9592635943716046, 0.2132520203157617, -1.3402743083471296, -0.3208017290779518, 0.00597684314749305, -0.33059994025969663, -0.6609761118828568, 1.2619017430575843, -0.37565519347914295, -0.9772623921865828, 1.0500255900752695, 0.32047601983644985, -0.08142380520228257, 0.21448938813587098, -0.34677239590371944, 0.1037919114474872, 0.4194150792464226, -0.4837618425652278, -0.7955972503857917, -1.3557727733238194, -0.5115686024189222]}],\n",
       "                        {\"legend\": {\"bgcolor\": \"#F5F6F9\", \"font\": {\"color\": \"#4D5663\"}}, \"paper_bgcolor\": \"#F5F6F9\", \"plot_bgcolor\": \"#F5F6F9\", \"template\": {\"data\": {\"bar\": [{\"error_x\": {\"color\": \"#2a3f5f\"}, \"error_y\": {\"color\": \"#2a3f5f\"}, \"marker\": {\"line\": {\"color\": \"#E5ECF6\", \"width\": 0.5}}, \"type\": \"bar\"}], \"barpolar\": [{\"marker\": {\"line\": {\"color\": \"#E5ECF6\", \"width\": 0.5}}, \"type\": \"barpolar\"}], \"carpet\": [{\"aaxis\": {\"endlinecolor\": \"#2a3f5f\", \"gridcolor\": \"white\", \"linecolor\": \"white\", \"minorgridcolor\": \"white\", \"startlinecolor\": \"#2a3f5f\"}, \"baxis\": {\"endlinecolor\": \"#2a3f5f\", \"gridcolor\": \"white\", \"linecolor\": \"white\", \"minorgridcolor\": \"white\", \"startlinecolor\": \"#2a3f5f\"}, \"type\": \"carpet\"}], \"choropleth\": [{\"colorbar\": {\"outlinewidth\": 0, \"ticks\": \"\"}, \"type\": \"choropleth\"}], \"contour\": [{\"colorbar\": {\"outlinewidth\": 0, \"ticks\": \"\"}, \"colorscale\": [[0.0, \"#0d0887\"], [0.1111111111111111, \"#46039f\"], [0.2222222222222222, \"#7201a8\"], [0.3333333333333333, \"#9c179e\"], [0.4444444444444444, \"#bd3786\"], [0.5555555555555556, \"#d8576b\"], [0.6666666666666666, \"#ed7953\"], [0.7777777777777778, \"#fb9f3a\"], [0.8888888888888888, \"#fdca26\"], [1.0, \"#f0f921\"]], \"type\": \"contour\"}], \"contourcarpet\": [{\"colorbar\": {\"outlinewidth\": 0, \"ticks\": \"\"}, \"type\": \"contourcarpet\"}], \"heatmap\": [{\"colorbar\": {\"outlinewidth\": 0, \"ticks\": \"\"}, \"colorscale\": [[0.0, \"#0d0887\"], [0.1111111111111111, \"#46039f\"], [0.2222222222222222, \"#7201a8\"], [0.3333333333333333, \"#9c179e\"], [0.4444444444444444, \"#bd3786\"], [0.5555555555555556, \"#d8576b\"], [0.6666666666666666, \"#ed7953\"], [0.7777777777777778, \"#fb9f3a\"], [0.8888888888888888, \"#fdca26\"], [1.0, \"#f0f921\"]], \"type\": \"heatmap\"}], \"heatmapgl\": [{\"colorbar\": {\"outlinewidth\": 0, \"ticks\": \"\"}, \"colorscale\": [[0.0, \"#0d0887\"], [0.1111111111111111, \"#46039f\"], [0.2222222222222222, \"#7201a8\"], [0.3333333333333333, \"#9c179e\"], [0.4444444444444444, \"#bd3786\"], [0.5555555555555556, \"#d8576b\"], [0.6666666666666666, \"#ed7953\"], [0.7777777777777778, \"#fb9f3a\"], [0.8888888888888888, \"#fdca26\"], [1.0, \"#f0f921\"]], \"type\": \"heatmapgl\"}], \"histogram\": [{\"marker\": {\"colorbar\": {\"outlinewidth\": 0, \"ticks\": \"\"}}, \"type\": \"histogram\"}], \"histogram2d\": [{\"colorbar\": {\"outlinewidth\": 0, \"ticks\": \"\"}, \"colorscale\": [[0.0, \"#0d0887\"], [0.1111111111111111, \"#46039f\"], [0.2222222222222222, \"#7201a8\"], [0.3333333333333333, \"#9c179e\"], [0.4444444444444444, \"#bd3786\"], [0.5555555555555556, \"#d8576b\"], [0.6666666666666666, \"#ed7953\"], [0.7777777777777778, \"#fb9f3a\"], [0.8888888888888888, \"#fdca26\"], [1.0, \"#f0f921\"]], \"type\": \"histogram2d\"}], \"histogram2dcontour\": [{\"colorbar\": {\"outlinewidth\": 0, \"ticks\": \"\"}, \"colorscale\": [[0.0, \"#0d0887\"], [0.1111111111111111, \"#46039f\"], [0.2222222222222222, \"#7201a8\"], [0.3333333333333333, \"#9c179e\"], [0.4444444444444444, \"#bd3786\"], [0.5555555555555556, \"#d8576b\"], [0.6666666666666666, \"#ed7953\"], [0.7777777777777778, \"#fb9f3a\"], [0.8888888888888888, \"#fdca26\"], [1.0, \"#f0f921\"]], \"type\": \"histogram2dcontour\"}], \"mesh3d\": [{\"colorbar\": {\"outlinewidth\": 0, \"ticks\": \"\"}, \"type\": \"mesh3d\"}], \"parcoords\": [{\"line\": {\"colorbar\": {\"outlinewidth\": 0, \"ticks\": \"\"}}, \"type\": \"parcoords\"}], \"pie\": [{\"automargin\": true, \"type\": \"pie\"}], \"scatter\": [{\"marker\": {\"colorbar\": {\"outlinewidth\": 0, \"ticks\": \"\"}}, \"type\": \"scatter\"}], \"scatter3d\": [{\"line\": {\"colorbar\": {\"outlinewidth\": 0, \"ticks\": \"\"}}, \"marker\": {\"colorbar\": {\"outlinewidth\": 0, \"ticks\": \"\"}}, \"type\": \"scatter3d\"}], \"scattercarpet\": [{\"marker\": {\"colorbar\": {\"outlinewidth\": 0, \"ticks\": \"\"}}, \"type\": \"scattercarpet\"}], \"scattergeo\": [{\"marker\": {\"colorbar\": {\"outlinewidth\": 0, \"ticks\": \"\"}}, \"type\": \"scattergeo\"}], \"scattergl\": [{\"marker\": {\"colorbar\": {\"outlinewidth\": 0, \"ticks\": \"\"}}, \"type\": \"scattergl\"}], \"scattermapbox\": [{\"marker\": {\"colorbar\": {\"outlinewidth\": 0, \"ticks\": \"\"}}, \"type\": \"scattermapbox\"}], \"scatterpolar\": [{\"marker\": {\"colorbar\": {\"outlinewidth\": 0, \"ticks\": \"\"}}, \"type\": \"scatterpolar\"}], \"scatterpolargl\": [{\"marker\": {\"colorbar\": {\"outlinewidth\": 0, \"ticks\": \"\"}}, \"type\": \"scatterpolargl\"}], \"scatterternary\": [{\"marker\": {\"colorbar\": {\"outlinewidth\": 0, \"ticks\": \"\"}}, \"type\": \"scatterternary\"}], \"surface\": [{\"colorbar\": {\"outlinewidth\": 0, \"ticks\": \"\"}, \"colorscale\": [[0.0, \"#0d0887\"], [0.1111111111111111, \"#46039f\"], [0.2222222222222222, \"#7201a8\"], [0.3333333333333333, \"#9c179e\"], [0.4444444444444444, \"#bd3786\"], [0.5555555555555556, \"#d8576b\"], [0.6666666666666666, \"#ed7953\"], [0.7777777777777778, \"#fb9f3a\"], [0.8888888888888888, \"#fdca26\"], [1.0, \"#f0f921\"]], \"type\": \"surface\"}], \"table\": [{\"cells\": {\"fill\": {\"color\": \"#EBF0F8\"}, \"line\": {\"color\": \"white\"}}, \"header\": {\"fill\": {\"color\": \"#C8D4E3\"}, \"line\": {\"color\": \"white\"}}, \"type\": \"table\"}]}, \"layout\": {\"annotationdefaults\": {\"arrowcolor\": \"#2a3f5f\", \"arrowhead\": 0, \"arrowwidth\": 1}, \"coloraxis\": {\"colorbar\": {\"outlinewidth\": 0, \"ticks\": \"\"}}, \"colorscale\": {\"diverging\": [[0, \"#8e0152\"], [0.1, \"#c51b7d\"], [0.2, \"#de77ae\"], [0.3, \"#f1b6da\"], [0.4, \"#fde0ef\"], [0.5, \"#f7f7f7\"], [0.6, \"#e6f5d0\"], [0.7, \"#b8e186\"], [0.8, \"#7fbc41\"], [0.9, \"#4d9221\"], [1, \"#276419\"]], \"sequential\": [[0.0, \"#0d0887\"], [0.1111111111111111, \"#46039f\"], [0.2222222222222222, \"#7201a8\"], [0.3333333333333333, \"#9c179e\"], [0.4444444444444444, \"#bd3786\"], [0.5555555555555556, \"#d8576b\"], [0.6666666666666666, \"#ed7953\"], [0.7777777777777778, \"#fb9f3a\"], [0.8888888888888888, \"#fdca26\"], [1.0, \"#f0f921\"]], \"sequentialminus\": [[0.0, \"#0d0887\"], [0.1111111111111111, \"#46039f\"], [0.2222222222222222, \"#7201a8\"], [0.3333333333333333, \"#9c179e\"], [0.4444444444444444, \"#bd3786\"], [0.5555555555555556, \"#d8576b\"], [0.6666666666666666, \"#ed7953\"], [0.7777777777777778, \"#fb9f3a\"], [0.8888888888888888, \"#fdca26\"], [1.0, \"#f0f921\"]]}, \"colorway\": [\"#636efa\", \"#EF553B\", \"#00cc96\", \"#ab63fa\", \"#FFA15A\", \"#19d3f3\", \"#FF6692\", \"#B6E880\", \"#FF97FF\", \"#FECB52\"], \"font\": {\"color\": \"#2a3f5f\"}, \"geo\": {\"bgcolor\": \"white\", \"lakecolor\": \"white\", \"landcolor\": \"#E5ECF6\", \"showlakes\": true, \"showland\": true, \"subunitcolor\": \"white\"}, \"hoverlabel\": {\"align\": \"left\"}, \"hovermode\": \"closest\", \"mapbox\": {\"style\": \"light\"}, \"paper_bgcolor\": \"white\", \"plot_bgcolor\": \"#E5ECF6\", \"polar\": {\"angularaxis\": {\"gridcolor\": \"white\", \"linecolor\": \"white\", \"ticks\": \"\"}, \"bgcolor\": \"#E5ECF6\", \"radialaxis\": {\"gridcolor\": \"white\", \"linecolor\": \"white\", \"ticks\": \"\"}}, \"scene\": {\"xaxis\": {\"backgroundcolor\": \"#E5ECF6\", \"gridcolor\": \"white\", \"gridwidth\": 2, \"linecolor\": \"white\", \"showbackground\": true, \"ticks\": \"\", \"zerolinecolor\": \"white\"}, \"yaxis\": {\"backgroundcolor\": \"#E5ECF6\", \"gridcolor\": \"white\", \"gridwidth\": 2, \"linecolor\": \"white\", \"showbackground\": true, \"ticks\": \"\", \"zerolinecolor\": \"white\"}, \"zaxis\": {\"backgroundcolor\": \"#E5ECF6\", \"gridcolor\": \"white\", \"gridwidth\": 2, \"linecolor\": \"white\", \"showbackground\": true, \"ticks\": \"\", \"zerolinecolor\": \"white\"}}, \"shapedefaults\": {\"line\": {\"color\": \"#2a3f5f\"}}, \"ternary\": {\"aaxis\": {\"gridcolor\": \"white\", \"linecolor\": \"white\", \"ticks\": \"\"}, \"baxis\": {\"gridcolor\": \"white\", \"linecolor\": \"white\", \"ticks\": \"\"}, \"bgcolor\": \"#E5ECF6\", \"caxis\": {\"gridcolor\": \"white\", \"linecolor\": \"white\", \"ticks\": \"\"}}, \"title\": {\"x\": 0.05}, \"xaxis\": {\"automargin\": true, \"gridcolor\": \"white\", \"linecolor\": \"white\", \"ticks\": \"\", \"title\": {\"standoff\": 15}, \"zerolinecolor\": \"white\", \"zerolinewidth\": 2}, \"yaxis\": {\"automargin\": true, \"gridcolor\": \"white\", \"linecolor\": \"white\", \"ticks\": \"\", \"title\": {\"standoff\": 15}, \"zerolinecolor\": \"white\", \"zerolinewidth\": 2}}}, \"title\": {\"font\": {\"color\": \"#4D5663\"}}, \"xaxis\": {\"gridcolor\": \"#E1E5ED\", \"showgrid\": true, \"tickfont\": {\"color\": \"#4D5663\"}, \"title\": {\"font\": {\"color\": \"#4D5663\"}, \"text\": \"\"}, \"zerolinecolor\": \"#E1E5ED\"}, \"yaxis\": {\"gridcolor\": \"#E1E5ED\", \"showgrid\": true, \"tickfont\": {\"color\": \"#4D5663\"}, \"title\": {\"font\": {\"color\": \"#4D5663\"}, \"text\": \"\"}, \"zerolinecolor\": \"#E1E5ED\"}},\n",
       "                        {\"showLink\": true, \"linkText\": \"Export to plot.ly\", \"plotlyServerURL\": \"https://plot.ly\", \"responsive\": true}\n",
       "                    ).then(function(){\n",
       "                            \n",
       "var gd = document.getElementById('1759f83f-a8cc-4a2a-803f-cce97fd17bdc');\n",
       "var x = new MutationObserver(function (mutations, observer) {{\n",
       "        var display = window.getComputedStyle(gd).display;\n",
       "        if (!display || display === 'none') {{\n",
       "            console.log([gd, 'removed!']);\n",
       "            Plotly.purge(gd);\n",
       "            observer.disconnect();\n",
       "        }}\n",
       "}});\n",
       "\n",
       "// Listen for the removal of the full notebook cells\n",
       "var notebookContainer = gd.closest('#notebook-container');\n",
       "if (notebookContainer) {{\n",
       "    x.observe(notebookContainer, {childList: true});\n",
       "}}\n",
       "\n",
       "// Listen for the clearing of the current output cell\n",
       "var outputEl = gd.closest('.output');\n",
       "if (outputEl) {{\n",
       "    x.observe(outputEl, {childList: true});\n",
       "}}\n",
       "\n",
       "                        })\n",
       "                };\n",
       "                });\n",
       "            </script>\n",
       "        </div>"
      ]
     },
     "metadata": {},
     "output_type": "display_data"
    }
   ],
   "source": [
    "df.iplot()"
   ]
  },
  {
   "cell_type": "markdown",
   "id": "comparative-continuity",
   "metadata": {},
   "source": [
    "## Scatterplot"
   ]
  },
  {
   "cell_type": "code",
   "execution_count": 30,
   "id": "necessary-interpretation",
   "metadata": {},
   "outputs": [
    {
     "data": {
      "application/vnd.plotly.v1+json": {
       "config": {
        "linkText": "Export to plot.ly",
        "plotlyServerURL": "https://plot.ly",
        "showLink": true
       },
       "data": [
        {
         "line": {
          "color": "rgba(255, 153, 51, 1.0)",
          "dash": "solid",
          "shape": "linear",
          "width": 1.3
         },
         "marker": {
          "size": [
           19.545177290416575,
           0.6219138334097005,
           9.035418238130127,
           2.301035552168659,
           28.027744137217386,
           2.4878486581561243,
           6.286769188213036,
           11.922009415233772,
           33.1937284704546,
           16.8676664265596,
           17.581858739977875,
           18.19546233576827,
           5.089987844787245,
           34.94802010408412,
           0.639029899038751,
           6.77071213365828,
           11.723829399669066,
           15.705386258072625,
           20.512248306033673,
           9.920549529959514,
           32.808788387589914,
           11.685220743966818,
           27.00528863059556,
           10.81635884735813,
           18.164958107309488,
           14.139534985982557,
           2.6039590153818635,
           22.565033775474173,
           34.9564491550741,
           23.982021576126865,
           5.041434330150891,
           3.7633966072628215,
           17.079549184504838,
           0.005484648419290035,
           47.23063305258397,
           22.163404542495037,
           3.4415912241640703,
           9.371023320593988,
           2.9096556276589745,
           1.339096146880891,
           0.9391979995943225,
           26.08680171203972,
           6.0081396638104225,
           6.570070196376326,
           3.6817961158465087,
           11.51336660189294,
           1.242255611204913,
           5.961678415616943,
           13.800526381374656,
           18.933856712237887,
           8.738738323528114,
           11.478620767672991,
           32.898225490869166,
           35.26100536109287,
           8.499866266337126,
           5.364975002892264,
           12.879863738510322,
           25.781749143065923,
           6.744361550966886,
           22.737237648785356,
           1.9817139183460344,
           4.588360253733941,
           45.49060319587208,
           41.696537318735174,
           0.4492653770221156,
           19.953628021577558,
           24.072229308731742,
           28.809092235790395,
           21.89179325388119,
           2.4663746874586936,
           1.497283283403039,
           14.319471808706744,
           28.830834825398178,
           33.02222600585796,
           4.150551021232935,
           13.733384863798044,
           10.50686936956227,
           6.824339336136365,
           14.20275448308847,
           17.34674970302667,
           13.38762860780699,
           6.749572255979077,
           8.684389769277313,
           11.793812973555484,
           17.15546546934241,
           17.644636335627208,
           16.71199774746613,
           5.343616864229212,
           7.629874761310069,
           7.942163718915369,
           0.03387835180285273,
           5.433859825767129,
           3.7006484577276506,
           5.748220978149026,
           25.83407319992967,
           0.25612785528632553,
           12.026375659576171,
           5.775380945610916,
           10.589265619509298,
           9.343730391245048
          ],
          "symbol": "circle"
         },
         "mode": "markers",
         "name": "B",
         "text": "",
         "type": "scatter",
         "x": [
          -0.1486870569660644,
          0.39248607716009937,
          -0.7051592443933776,
          0.27576110754488387,
          -0.7802285366256736,
          -0.32929780839891537,
          -1.087810196165536,
          1.2605600894157034,
          -0.6162220153584765,
          -0.11030956050421618,
          1.642528183340233,
          -1.2471083408197337,
          -0.5030824358409205,
          0.44198222958182076,
          0.46872327753545967,
          0.7832720942473845,
          -1.816832134632092,
          -0.7734372708387459,
          -0.9663161807866139,
          -2.3035477810580884,
          -0.6424602387239299,
          -0.31914331999725876,
          -0.41844043091859484,
          0.1781758613682762,
          0.157684394184153,
          0.41595274357957573,
          0.5891850592042421,
          0.454834731394502,
          -0.14870591833136512,
          0.7917259872985981,
          -1.6466753374193293,
          -0.5984417164356648,
          0.3653669533476257,
          0.6013941003199482,
          1.0281964811508901,
          -0.29834588163580716,
          -1.5812091606674015,
          -0.4949013337856304,
          -1.0499374247496878,
          -0.25492516141576343,
          -1.347720027956506,
          1.1167699738973915,
          1.087498437295148,
          -0.3627318007990501,
          -0.9841088308619188,
          -0.24774969270479127,
          -0.10622973456180605,
          0.7743684307462901,
          -0.02005363965663801,
          -0.28863295343821105,
          -0.24808140074432009,
          0.6771989860434181,
          1.5103210368836282,
          -0.4484038407099252,
          -0.1027729276442637,
          0.4150356400669393,
          -0.8696069965432033,
          0.11551999215410763,
          1.0162559751767088,
          -0.1739788003636956,
          -0.2799898988878147,
          1.9689679185639573,
          -1.3712364456885864,
          -0.062367008698916995,
          0.1622031476510854,
          -0.0955223967895753,
          -1.5029096551345607,
          0.8754195676784564,
          -0.5524799575282217,
          -0.0980995694221568,
          0.7693585830793594,
          0.2854937541855559,
          -0.6581872556779551,
          2.114936095689492,
          0.059169867679413055,
          0.2932317898134375,
          0.3618512027631301,
          -0.1705460913024023,
          -0.029204570730282167,
          -0.7415372272530977,
          -0.7651224698222944,
          1.1547221513795514,
          -0.33103781811196065,
          -0.4952355302309878,
          0.7267534144738079,
          -0.7882902125536603,
          0.312778641188715,
          -0.11825028351583512,
          -0.9180040351441507,
          0.587033645365291,
          0.3798610800599315,
          0.21441879761051574,
          1.1707497307467345,
          1.1275071326418369,
          -0.8479588333638166,
          -0.058157108364463896,
          -0.7560319712251692,
          1.8283683259669392,
          1.2952801263299962,
          2.46499250024484
         ],
         "y": [
          -0.13720291276205954,
          0.7360290366001643,
          0.6182914547488014,
          -0.41717865842575486,
          0.7616049708336934,
          1.255700448517242,
          -0.7878477215044183,
          0.4094201423714498,
          -3.0777284071151,
          0.2962713084261198,
          -0.7566439163766893,
          0.6805595530508529,
          -0.8140383734076175,
          -0.3756519163109862,
          1.1209571938669993,
          0.7109715243740368,
          0.2706370322757297,
          0.5173522166570037,
          0.1412707917259537,
          1.7956131042028805,
          -0.37740080006068927,
          -0.0705594757231226,
          0.00017043336379697554,
          -1.0807897118199614,
          -0.8927637981588197,
          1.157805138567086,
          -0.3890743339711945,
          -0.2998728491363871,
          -0.7629484122608581,
          -1.5568150046882465,
          1.5926536293276692,
          1.065928900246484,
          1.3951763524319545,
          2.361874775141413,
          -0.6703775046596167,
          0.6874294250674926,
          -0.11962209780754239,
          -0.6757993702607386,
          0.10369601942428011,
          -1.3706785393771903,
          0.5150297006610829,
          -0.20348877806099472,
          1.278848828762823,
          -1.3672379451360985,
          0.5084740282707778,
          2.999494366246489,
          0.10681899651937042,
          0.9167978639920289,
          -0.9777499167088237,
          0.4298857429657398,
          -0.7956504240436582,
          -1.8406413912670503,
          -0.9271791648378976,
          -0.14817646279579028,
          -0.31747939699923206,
          -0.18223864047336216,
          0.3284940245408851,
          1.3411829957637205,
          -0.3643147505889812,
          0.17639462525327843,
          -1.2086092815298164,
          -1.0846769577310682,
          -1.605427128703998,
          0.24649724788045124,
          -0.11866380461086354,
          1.239307253391713,
          0.12871910997126498,
          -2.0949804045461393,
          0.2767507297426342,
          -0.752300159792606,
          0.004858035242644644,
          0.1906322672214624,
          0.3386326129851458,
          0.9664630145228903,
          -0.0014315777408607548,
          -0.9170153450824298,
          0.8204004032861612,
          0.9643199571799043,
          -0.777725262632196,
          0.7731495467328146,
          0.18062328973014358,
          0.9924833750682206,
          0.20767988730408643,
          -0.17496783608048996,
          0.0015769199486528167,
          -0.2760927778043612,
          -0.24972687617797515,
          -0.687187293033468,
          0.8739237743337697,
          -0.6687555318032616,
          -0.13323519699988973,
          1.142363840492469,
          -0.270683968952354,
          1.2213182143797743,
          -0.6530838403596835,
          -0.07887886921673892,
          -0.15949726608677098,
          -1.2083725357104302,
          0.005487941892006171,
          0.4713064898610162
         ]
        }
       ],
       "layout": {
        "legend": {
         "bgcolor": "#F5F6F9",
         "font": {
          "color": "#4D5663"
         }
        },
        "paper_bgcolor": "#F5F6F9",
        "plot_bgcolor": "#F5F6F9",
        "template": {
         "data": {
          "bar": [
           {
            "error_x": {
             "color": "#2a3f5f"
            },
            "error_y": {
             "color": "#2a3f5f"
            },
            "marker": {
             "line": {
              "color": "#E5ECF6",
              "width": 0.5
             }
            },
            "type": "bar"
           }
          ],
          "barpolar": [
           {
            "marker": {
             "line": {
              "color": "#E5ECF6",
              "width": 0.5
             }
            },
            "type": "barpolar"
           }
          ],
          "carpet": [
           {
            "aaxis": {
             "endlinecolor": "#2a3f5f",
             "gridcolor": "white",
             "linecolor": "white",
             "minorgridcolor": "white",
             "startlinecolor": "#2a3f5f"
            },
            "baxis": {
             "endlinecolor": "#2a3f5f",
             "gridcolor": "white",
             "linecolor": "white",
             "minorgridcolor": "white",
             "startlinecolor": "#2a3f5f"
            },
            "type": "carpet"
           }
          ],
          "choropleth": [
           {
            "colorbar": {
             "outlinewidth": 0,
             "ticks": ""
            },
            "type": "choropleth"
           }
          ],
          "contour": [
           {
            "colorbar": {
             "outlinewidth": 0,
             "ticks": ""
            },
            "colorscale": [
             [
              0,
              "#0d0887"
             ],
             [
              0.1111111111111111,
              "#46039f"
             ],
             [
              0.2222222222222222,
              "#7201a8"
             ],
             [
              0.3333333333333333,
              "#9c179e"
             ],
             [
              0.4444444444444444,
              "#bd3786"
             ],
             [
              0.5555555555555556,
              "#d8576b"
             ],
             [
              0.6666666666666666,
              "#ed7953"
             ],
             [
              0.7777777777777778,
              "#fb9f3a"
             ],
             [
              0.8888888888888888,
              "#fdca26"
             ],
             [
              1,
              "#f0f921"
             ]
            ],
            "type": "contour"
           }
          ],
          "contourcarpet": [
           {
            "colorbar": {
             "outlinewidth": 0,
             "ticks": ""
            },
            "type": "contourcarpet"
           }
          ],
          "heatmap": [
           {
            "colorbar": {
             "outlinewidth": 0,
             "ticks": ""
            },
            "colorscale": [
             [
              0,
              "#0d0887"
             ],
             [
              0.1111111111111111,
              "#46039f"
             ],
             [
              0.2222222222222222,
              "#7201a8"
             ],
             [
              0.3333333333333333,
              "#9c179e"
             ],
             [
              0.4444444444444444,
              "#bd3786"
             ],
             [
              0.5555555555555556,
              "#d8576b"
             ],
             [
              0.6666666666666666,
              "#ed7953"
             ],
             [
              0.7777777777777778,
              "#fb9f3a"
             ],
             [
              0.8888888888888888,
              "#fdca26"
             ],
             [
              1,
              "#f0f921"
             ]
            ],
            "type": "heatmap"
           }
          ],
          "heatmapgl": [
           {
            "colorbar": {
             "outlinewidth": 0,
             "ticks": ""
            },
            "colorscale": [
             [
              0,
              "#0d0887"
             ],
             [
              0.1111111111111111,
              "#46039f"
             ],
             [
              0.2222222222222222,
              "#7201a8"
             ],
             [
              0.3333333333333333,
              "#9c179e"
             ],
             [
              0.4444444444444444,
              "#bd3786"
             ],
             [
              0.5555555555555556,
              "#d8576b"
             ],
             [
              0.6666666666666666,
              "#ed7953"
             ],
             [
              0.7777777777777778,
              "#fb9f3a"
             ],
             [
              0.8888888888888888,
              "#fdca26"
             ],
             [
              1,
              "#f0f921"
             ]
            ],
            "type": "heatmapgl"
           }
          ],
          "histogram": [
           {
            "marker": {
             "colorbar": {
              "outlinewidth": 0,
              "ticks": ""
             }
            },
            "type": "histogram"
           }
          ],
          "histogram2d": [
           {
            "colorbar": {
             "outlinewidth": 0,
             "ticks": ""
            },
            "colorscale": [
             [
              0,
              "#0d0887"
             ],
             [
              0.1111111111111111,
              "#46039f"
             ],
             [
              0.2222222222222222,
              "#7201a8"
             ],
             [
              0.3333333333333333,
              "#9c179e"
             ],
             [
              0.4444444444444444,
              "#bd3786"
             ],
             [
              0.5555555555555556,
              "#d8576b"
             ],
             [
              0.6666666666666666,
              "#ed7953"
             ],
             [
              0.7777777777777778,
              "#fb9f3a"
             ],
             [
              0.8888888888888888,
              "#fdca26"
             ],
             [
              1,
              "#f0f921"
             ]
            ],
            "type": "histogram2d"
           }
          ],
          "histogram2dcontour": [
           {
            "colorbar": {
             "outlinewidth": 0,
             "ticks": ""
            },
            "colorscale": [
             [
              0,
              "#0d0887"
             ],
             [
              0.1111111111111111,
              "#46039f"
             ],
             [
              0.2222222222222222,
              "#7201a8"
             ],
             [
              0.3333333333333333,
              "#9c179e"
             ],
             [
              0.4444444444444444,
              "#bd3786"
             ],
             [
              0.5555555555555556,
              "#d8576b"
             ],
             [
              0.6666666666666666,
              "#ed7953"
             ],
             [
              0.7777777777777778,
              "#fb9f3a"
             ],
             [
              0.8888888888888888,
              "#fdca26"
             ],
             [
              1,
              "#f0f921"
             ]
            ],
            "type": "histogram2dcontour"
           }
          ],
          "mesh3d": [
           {
            "colorbar": {
             "outlinewidth": 0,
             "ticks": ""
            },
            "type": "mesh3d"
           }
          ],
          "parcoords": [
           {
            "line": {
             "colorbar": {
              "outlinewidth": 0,
              "ticks": ""
             }
            },
            "type": "parcoords"
           }
          ],
          "pie": [
           {
            "automargin": true,
            "type": "pie"
           }
          ],
          "scatter": [
           {
            "marker": {
             "colorbar": {
              "outlinewidth": 0,
              "ticks": ""
             }
            },
            "type": "scatter"
           }
          ],
          "scatter3d": [
           {
            "line": {
             "colorbar": {
              "outlinewidth": 0,
              "ticks": ""
             }
            },
            "marker": {
             "colorbar": {
              "outlinewidth": 0,
              "ticks": ""
             }
            },
            "type": "scatter3d"
           }
          ],
          "scattercarpet": [
           {
            "marker": {
             "colorbar": {
              "outlinewidth": 0,
              "ticks": ""
             }
            },
            "type": "scattercarpet"
           }
          ],
          "scattergeo": [
           {
            "marker": {
             "colorbar": {
              "outlinewidth": 0,
              "ticks": ""
             }
            },
            "type": "scattergeo"
           }
          ],
          "scattergl": [
           {
            "marker": {
             "colorbar": {
              "outlinewidth": 0,
              "ticks": ""
             }
            },
            "type": "scattergl"
           }
          ],
          "scattermapbox": [
           {
            "marker": {
             "colorbar": {
              "outlinewidth": 0,
              "ticks": ""
             }
            },
            "type": "scattermapbox"
           }
          ],
          "scatterpolar": [
           {
            "marker": {
             "colorbar": {
              "outlinewidth": 0,
              "ticks": ""
             }
            },
            "type": "scatterpolar"
           }
          ],
          "scatterpolargl": [
           {
            "marker": {
             "colorbar": {
              "outlinewidth": 0,
              "ticks": ""
             }
            },
            "type": "scatterpolargl"
           }
          ],
          "scatterternary": [
           {
            "marker": {
             "colorbar": {
              "outlinewidth": 0,
              "ticks": ""
             }
            },
            "type": "scatterternary"
           }
          ],
          "surface": [
           {
            "colorbar": {
             "outlinewidth": 0,
             "ticks": ""
            },
            "colorscale": [
             [
              0,
              "#0d0887"
             ],
             [
              0.1111111111111111,
              "#46039f"
             ],
             [
              0.2222222222222222,
              "#7201a8"
             ],
             [
              0.3333333333333333,
              "#9c179e"
             ],
             [
              0.4444444444444444,
              "#bd3786"
             ],
             [
              0.5555555555555556,
              "#d8576b"
             ],
             [
              0.6666666666666666,
              "#ed7953"
             ],
             [
              0.7777777777777778,
              "#fb9f3a"
             ],
             [
              0.8888888888888888,
              "#fdca26"
             ],
             [
              1,
              "#f0f921"
             ]
            ],
            "type": "surface"
           }
          ],
          "table": [
           {
            "cells": {
             "fill": {
              "color": "#EBF0F8"
             },
             "line": {
              "color": "white"
             }
            },
            "header": {
             "fill": {
              "color": "#C8D4E3"
             },
             "line": {
              "color": "white"
             }
            },
            "type": "table"
           }
          ]
         },
         "layout": {
          "annotationdefaults": {
           "arrowcolor": "#2a3f5f",
           "arrowhead": 0,
           "arrowwidth": 1
          },
          "coloraxis": {
           "colorbar": {
            "outlinewidth": 0,
            "ticks": ""
           }
          },
          "colorscale": {
           "diverging": [
            [
             0,
             "#8e0152"
            ],
            [
             0.1,
             "#c51b7d"
            ],
            [
             0.2,
             "#de77ae"
            ],
            [
             0.3,
             "#f1b6da"
            ],
            [
             0.4,
             "#fde0ef"
            ],
            [
             0.5,
             "#f7f7f7"
            ],
            [
             0.6,
             "#e6f5d0"
            ],
            [
             0.7,
             "#b8e186"
            ],
            [
             0.8,
             "#7fbc41"
            ],
            [
             0.9,
             "#4d9221"
            ],
            [
             1,
             "#276419"
            ]
           ],
           "sequential": [
            [
             0,
             "#0d0887"
            ],
            [
             0.1111111111111111,
             "#46039f"
            ],
            [
             0.2222222222222222,
             "#7201a8"
            ],
            [
             0.3333333333333333,
             "#9c179e"
            ],
            [
             0.4444444444444444,
             "#bd3786"
            ],
            [
             0.5555555555555556,
             "#d8576b"
            ],
            [
             0.6666666666666666,
             "#ed7953"
            ],
            [
             0.7777777777777778,
             "#fb9f3a"
            ],
            [
             0.8888888888888888,
             "#fdca26"
            ],
            [
             1,
             "#f0f921"
            ]
           ],
           "sequentialminus": [
            [
             0,
             "#0d0887"
            ],
            [
             0.1111111111111111,
             "#46039f"
            ],
            [
             0.2222222222222222,
             "#7201a8"
            ],
            [
             0.3333333333333333,
             "#9c179e"
            ],
            [
             0.4444444444444444,
             "#bd3786"
            ],
            [
             0.5555555555555556,
             "#d8576b"
            ],
            [
             0.6666666666666666,
             "#ed7953"
            ],
            [
             0.7777777777777778,
             "#fb9f3a"
            ],
            [
             0.8888888888888888,
             "#fdca26"
            ],
            [
             1,
             "#f0f921"
            ]
           ]
          },
          "colorway": [
           "#636efa",
           "#EF553B",
           "#00cc96",
           "#ab63fa",
           "#FFA15A",
           "#19d3f3",
           "#FF6692",
           "#B6E880",
           "#FF97FF",
           "#FECB52"
          ],
          "font": {
           "color": "#2a3f5f"
          },
          "geo": {
           "bgcolor": "white",
           "lakecolor": "white",
           "landcolor": "#E5ECF6",
           "showlakes": true,
           "showland": true,
           "subunitcolor": "white"
          },
          "hoverlabel": {
           "align": "left"
          },
          "hovermode": "closest",
          "mapbox": {
           "style": "light"
          },
          "paper_bgcolor": "white",
          "plot_bgcolor": "#E5ECF6",
          "polar": {
           "angularaxis": {
            "gridcolor": "white",
            "linecolor": "white",
            "ticks": ""
           },
           "bgcolor": "#E5ECF6",
           "radialaxis": {
            "gridcolor": "white",
            "linecolor": "white",
            "ticks": ""
           }
          },
          "scene": {
           "xaxis": {
            "backgroundcolor": "#E5ECF6",
            "gridcolor": "white",
            "gridwidth": 2,
            "linecolor": "white",
            "showbackground": true,
            "ticks": "",
            "zerolinecolor": "white"
           },
           "yaxis": {
            "backgroundcolor": "#E5ECF6",
            "gridcolor": "white",
            "gridwidth": 2,
            "linecolor": "white",
            "showbackground": true,
            "ticks": "",
            "zerolinecolor": "white"
           },
           "zaxis": {
            "backgroundcolor": "#E5ECF6",
            "gridcolor": "white",
            "gridwidth": 2,
            "linecolor": "white",
            "showbackground": true,
            "ticks": "",
            "zerolinecolor": "white"
           }
          },
          "shapedefaults": {
           "line": {
            "color": "#2a3f5f"
           }
          },
          "ternary": {
           "aaxis": {
            "gridcolor": "white",
            "linecolor": "white",
            "ticks": ""
           },
           "baxis": {
            "gridcolor": "white",
            "linecolor": "white",
            "ticks": ""
           },
           "bgcolor": "#E5ECF6",
           "caxis": {
            "gridcolor": "white",
            "linecolor": "white",
            "ticks": ""
           }
          },
          "title": {
           "x": 0.05
          },
          "xaxis": {
           "automargin": true,
           "gridcolor": "white",
           "linecolor": "white",
           "ticks": "",
           "title": {
            "standoff": 15
           },
           "zerolinecolor": "white",
           "zerolinewidth": 2
          },
          "yaxis": {
           "automargin": true,
           "gridcolor": "white",
           "linecolor": "white",
           "ticks": "",
           "title": {
            "standoff": 15
           },
           "zerolinecolor": "white",
           "zerolinewidth": 2
          }
         }
        },
        "title": {
         "font": {
          "color": "#4D5663"
         }
        },
        "xaxis": {
         "gridcolor": "#E1E5ED",
         "showgrid": true,
         "tickfont": {
          "color": "#4D5663"
         },
         "title": {
          "font": {
           "color": "#4D5663"
          },
          "text": ""
         },
         "zerolinecolor": "#E1E5ED"
        },
        "yaxis": {
         "gridcolor": "#E1E5ED",
         "showgrid": true,
         "tickfont": {
          "color": "#4D5663"
         },
         "title": {
          "font": {
           "color": "#4D5663"
          },
          "text": ""
         },
         "zerolinecolor": "#E1E5ED"
        }
       }
      },
      "text/html": [
       "<div>\n",
       "        \n",
       "        \n",
       "            <div id=\"0a77cff7-6615-430a-9823-696fbae90c3c\" class=\"plotly-graph-div\" style=\"height:525px; width:100%;\"></div>\n",
       "            <script type=\"text/javascript\">\n",
       "                require([\"plotly\"], function(Plotly) {\n",
       "                    window.PLOTLYENV=window.PLOTLYENV || {};\n",
       "                    window.PLOTLYENV.BASE_URL='https://plot.ly';\n",
       "                    \n",
       "                if (document.getElementById(\"0a77cff7-6615-430a-9823-696fbae90c3c\")) {\n",
       "                    Plotly.newPlot(\n",
       "                        '0a77cff7-6615-430a-9823-696fbae90c3c',\n",
       "                        [{\"line\": {\"color\": \"rgba(255, 153, 51, 1.0)\", \"dash\": \"solid\", \"shape\": \"linear\", \"width\": 1.3}, \"marker\": {\"size\": [19.545177290416575, 0.6219138334097005, 9.035418238130127, 2.301035552168659, 28.027744137217386, 2.4878486581561243, 6.286769188213036, 11.922009415233772, 33.1937284704546, 16.8676664265596, 17.581858739977875, 18.19546233576827, 5.089987844787245, 34.94802010408412, 0.639029899038751, 6.77071213365828, 11.723829399669066, 15.705386258072625, 20.512248306033673, 9.920549529959514, 32.808788387589914, 11.685220743966818, 27.00528863059556, 10.81635884735813, 18.164958107309488, 14.139534985982557, 2.6039590153818635, 22.565033775474173, 34.9564491550741, 23.982021576126865, 5.041434330150891, 3.7633966072628215, 17.079549184504838, 0.005484648419290035, 47.23063305258397, 22.163404542495037, 3.4415912241640703, 9.371023320593988, 2.9096556276589745, 1.339096146880891, 0.9391979995943225, 26.08680171203972, 6.0081396638104225, 6.570070196376326, 3.6817961158465087, 11.51336660189294, 1.242255611204913, 5.961678415616943, 13.800526381374656, 18.933856712237887, 8.738738323528114, 11.478620767672991, 32.898225490869166, 35.26100536109287, 8.499866266337126, 5.364975002892264, 12.879863738510322, 25.781749143065923, 6.744361550966886, 22.737237648785356, 1.9817139183460344, 4.588360253733941, 45.49060319587208, 41.696537318735174, 0.4492653770221156, 19.953628021577558, 24.072229308731742, 28.809092235790395, 21.89179325388119, 2.4663746874586936, 1.497283283403039, 14.319471808706744, 28.830834825398178, 33.02222600585796, 4.150551021232935, 13.733384863798044, 10.50686936956227, 6.824339336136365, 14.20275448308847, 17.34674970302667, 13.38762860780699, 6.749572255979077, 8.684389769277313, 11.793812973555484, 17.15546546934241, 17.644636335627208, 16.71199774746613, 5.343616864229212, 7.629874761310069, 7.942163718915369, 0.03387835180285273, 5.433859825767129, 3.7006484577276506, 5.748220978149026, 25.83407319992967, 0.25612785528632553, 12.026375659576171, 5.775380945610916, 10.589265619509298, 9.343730391245048], \"symbol\": \"circle\"}, \"mode\": \"markers\", \"name\": \"B\", \"text\": \"\", \"type\": \"scatter\", \"x\": [-0.1486870569660644, 0.39248607716009937, -0.7051592443933776, 0.27576110754488387, -0.7802285366256736, -0.32929780839891537, -1.087810196165536, 1.2605600894157034, -0.6162220153584765, -0.11030956050421618, 1.642528183340233, -1.2471083408197337, -0.5030824358409205, 0.44198222958182076, 0.46872327753545967, 0.7832720942473845, -1.816832134632092, -0.7734372708387459, -0.9663161807866139, -2.3035477810580884, -0.6424602387239299, -0.31914331999725876, -0.41844043091859484, 0.1781758613682762, 0.157684394184153, 0.41595274357957573, 0.5891850592042421, 0.454834731394502, -0.14870591833136512, 0.7917259872985981, -1.6466753374193293, -0.5984417164356648, 0.3653669533476257, 0.6013941003199482, 1.0281964811508901, -0.29834588163580716, -1.5812091606674015, -0.4949013337856304, -1.0499374247496878, -0.25492516141576343, -1.347720027956506, 1.1167699738973915, 1.087498437295148, -0.3627318007990501, -0.9841088308619188, -0.24774969270479127, -0.10622973456180605, 0.7743684307462901, -0.02005363965663801, -0.28863295343821105, -0.24808140074432009, 0.6771989860434181, 1.5103210368836282, -0.4484038407099252, -0.1027729276442637, 0.4150356400669393, -0.8696069965432033, 0.11551999215410763, 1.0162559751767088, -0.1739788003636956, -0.2799898988878147, 1.9689679185639573, -1.3712364456885864, -0.062367008698916995, 0.1622031476510854, -0.0955223967895753, -1.5029096551345607, 0.8754195676784564, -0.5524799575282217, -0.0980995694221568, 0.7693585830793594, 0.2854937541855559, -0.6581872556779551, 2.114936095689492, 0.059169867679413055, 0.2932317898134375, 0.3618512027631301, -0.1705460913024023, -0.029204570730282167, -0.7415372272530977, -0.7651224698222944, 1.1547221513795514, -0.33103781811196065, -0.4952355302309878, 0.7267534144738079, -0.7882902125536603, 0.312778641188715, -0.11825028351583512, -0.9180040351441507, 0.587033645365291, 0.3798610800599315, 0.21441879761051574, 1.1707497307467345, 1.1275071326418369, -0.8479588333638166, -0.058157108364463896, -0.7560319712251692, 1.8283683259669392, 1.2952801263299962, 2.46499250024484], \"y\": [-0.13720291276205954, 0.7360290366001643, 0.6182914547488014, -0.41717865842575486, 0.7616049708336934, 1.255700448517242, -0.7878477215044183, 0.4094201423714498, -3.0777284071151, 0.2962713084261198, -0.7566439163766893, 0.6805595530508529, -0.8140383734076175, -0.3756519163109862, 1.1209571938669993, 0.7109715243740368, 0.2706370322757297, 0.5173522166570037, 0.1412707917259537, 1.7956131042028805, -0.37740080006068927, -0.0705594757231226, 0.00017043336379697554, -1.0807897118199614, -0.8927637981588197, 1.157805138567086, -0.3890743339711945, -0.2998728491363871, -0.7629484122608581, -1.5568150046882465, 1.5926536293276692, 1.065928900246484, 1.3951763524319545, 2.361874775141413, -0.6703775046596167, 0.6874294250674926, -0.11962209780754239, -0.6757993702607386, 0.10369601942428011, -1.3706785393771903, 0.5150297006610829, -0.20348877806099472, 1.278848828762823, -1.3672379451360985, 0.5084740282707778, 2.999494366246489, 0.10681899651937042, 0.9167978639920289, -0.9777499167088237, 0.4298857429657398, -0.7956504240436582, -1.8406413912670503, -0.9271791648378976, -0.14817646279579028, -0.31747939699923206, -0.18223864047336216, 0.3284940245408851, 1.3411829957637205, -0.3643147505889812, 0.17639462525327843, -1.2086092815298164, -1.0846769577310682, -1.605427128703998, 0.24649724788045124, -0.11866380461086354, 1.239307253391713, 0.12871910997126498, -2.0949804045461393, 0.2767507297426342, -0.752300159792606, 0.004858035242644644, 0.1906322672214624, 0.3386326129851458, 0.9664630145228903, -0.0014315777408607548, -0.9170153450824298, 0.8204004032861612, 0.9643199571799043, -0.777725262632196, 0.7731495467328146, 0.18062328973014358, 0.9924833750682206, 0.20767988730408643, -0.17496783608048996, 0.0015769199486528167, -0.2760927778043612, -0.24972687617797515, -0.687187293033468, 0.8739237743337697, -0.6687555318032616, -0.13323519699988973, 1.142363840492469, -0.270683968952354, 1.2213182143797743, -0.6530838403596835, -0.07887886921673892, -0.15949726608677098, -1.2083725357104302, 0.005487941892006171, 0.4713064898610162]}],\n",
       "                        {\"legend\": {\"bgcolor\": \"#F5F6F9\", \"font\": {\"color\": \"#4D5663\"}}, \"paper_bgcolor\": \"#F5F6F9\", \"plot_bgcolor\": \"#F5F6F9\", \"template\": {\"data\": {\"bar\": [{\"error_x\": {\"color\": \"#2a3f5f\"}, \"error_y\": {\"color\": \"#2a3f5f\"}, \"marker\": {\"line\": {\"color\": \"#E5ECF6\", \"width\": 0.5}}, \"type\": \"bar\"}], \"barpolar\": [{\"marker\": {\"line\": {\"color\": \"#E5ECF6\", \"width\": 0.5}}, \"type\": \"barpolar\"}], \"carpet\": [{\"aaxis\": {\"endlinecolor\": \"#2a3f5f\", \"gridcolor\": \"white\", \"linecolor\": \"white\", \"minorgridcolor\": \"white\", \"startlinecolor\": \"#2a3f5f\"}, \"baxis\": {\"endlinecolor\": \"#2a3f5f\", \"gridcolor\": \"white\", \"linecolor\": \"white\", \"minorgridcolor\": \"white\", \"startlinecolor\": \"#2a3f5f\"}, \"type\": \"carpet\"}], \"choropleth\": [{\"colorbar\": {\"outlinewidth\": 0, \"ticks\": \"\"}, \"type\": \"choropleth\"}], \"contour\": [{\"colorbar\": {\"outlinewidth\": 0, \"ticks\": \"\"}, \"colorscale\": [[0.0, \"#0d0887\"], [0.1111111111111111, \"#46039f\"], [0.2222222222222222, \"#7201a8\"], [0.3333333333333333, \"#9c179e\"], [0.4444444444444444, \"#bd3786\"], [0.5555555555555556, \"#d8576b\"], [0.6666666666666666, \"#ed7953\"], [0.7777777777777778, \"#fb9f3a\"], [0.8888888888888888, \"#fdca26\"], [1.0, \"#f0f921\"]], \"type\": \"contour\"}], \"contourcarpet\": [{\"colorbar\": {\"outlinewidth\": 0, \"ticks\": \"\"}, \"type\": \"contourcarpet\"}], \"heatmap\": [{\"colorbar\": {\"outlinewidth\": 0, \"ticks\": \"\"}, \"colorscale\": [[0.0, \"#0d0887\"], [0.1111111111111111, \"#46039f\"], [0.2222222222222222, \"#7201a8\"], [0.3333333333333333, \"#9c179e\"], [0.4444444444444444, \"#bd3786\"], [0.5555555555555556, \"#d8576b\"], [0.6666666666666666, \"#ed7953\"], [0.7777777777777778, \"#fb9f3a\"], [0.8888888888888888, \"#fdca26\"], [1.0, \"#f0f921\"]], \"type\": \"heatmap\"}], \"heatmapgl\": [{\"colorbar\": {\"outlinewidth\": 0, \"ticks\": \"\"}, \"colorscale\": [[0.0, \"#0d0887\"], [0.1111111111111111, \"#46039f\"], [0.2222222222222222, \"#7201a8\"], [0.3333333333333333, \"#9c179e\"], [0.4444444444444444, \"#bd3786\"], [0.5555555555555556, \"#d8576b\"], [0.6666666666666666, \"#ed7953\"], [0.7777777777777778, \"#fb9f3a\"], [0.8888888888888888, \"#fdca26\"], [1.0, \"#f0f921\"]], \"type\": \"heatmapgl\"}], \"histogram\": [{\"marker\": {\"colorbar\": {\"outlinewidth\": 0, \"ticks\": \"\"}}, \"type\": \"histogram\"}], \"histogram2d\": [{\"colorbar\": {\"outlinewidth\": 0, \"ticks\": \"\"}, \"colorscale\": [[0.0, \"#0d0887\"], [0.1111111111111111, \"#46039f\"], [0.2222222222222222, \"#7201a8\"], [0.3333333333333333, \"#9c179e\"], [0.4444444444444444, \"#bd3786\"], [0.5555555555555556, \"#d8576b\"], [0.6666666666666666, \"#ed7953\"], [0.7777777777777778, \"#fb9f3a\"], [0.8888888888888888, \"#fdca26\"], [1.0, \"#f0f921\"]], \"type\": \"histogram2d\"}], \"histogram2dcontour\": [{\"colorbar\": {\"outlinewidth\": 0, \"ticks\": \"\"}, \"colorscale\": [[0.0, \"#0d0887\"], [0.1111111111111111, \"#46039f\"], [0.2222222222222222, \"#7201a8\"], [0.3333333333333333, \"#9c179e\"], [0.4444444444444444, \"#bd3786\"], [0.5555555555555556, \"#d8576b\"], [0.6666666666666666, \"#ed7953\"], [0.7777777777777778, \"#fb9f3a\"], [0.8888888888888888, \"#fdca26\"], [1.0, \"#f0f921\"]], \"type\": \"histogram2dcontour\"}], \"mesh3d\": [{\"colorbar\": {\"outlinewidth\": 0, \"ticks\": \"\"}, \"type\": \"mesh3d\"}], \"parcoords\": [{\"line\": {\"colorbar\": {\"outlinewidth\": 0, \"ticks\": \"\"}}, \"type\": \"parcoords\"}], \"pie\": [{\"automargin\": true, \"type\": \"pie\"}], \"scatter\": [{\"marker\": {\"colorbar\": {\"outlinewidth\": 0, \"ticks\": \"\"}}, \"type\": \"scatter\"}], \"scatter3d\": [{\"line\": {\"colorbar\": {\"outlinewidth\": 0, \"ticks\": \"\"}}, \"marker\": {\"colorbar\": {\"outlinewidth\": 0, \"ticks\": \"\"}}, \"type\": \"scatter3d\"}], \"scattercarpet\": [{\"marker\": {\"colorbar\": {\"outlinewidth\": 0, \"ticks\": \"\"}}, \"type\": \"scattercarpet\"}], \"scattergeo\": [{\"marker\": {\"colorbar\": {\"outlinewidth\": 0, \"ticks\": \"\"}}, \"type\": \"scattergeo\"}], \"scattergl\": [{\"marker\": {\"colorbar\": {\"outlinewidth\": 0, \"ticks\": \"\"}}, \"type\": \"scattergl\"}], \"scattermapbox\": [{\"marker\": {\"colorbar\": {\"outlinewidth\": 0, \"ticks\": \"\"}}, \"type\": \"scattermapbox\"}], \"scatterpolar\": [{\"marker\": {\"colorbar\": {\"outlinewidth\": 0, \"ticks\": \"\"}}, \"type\": \"scatterpolar\"}], \"scatterpolargl\": [{\"marker\": {\"colorbar\": {\"outlinewidth\": 0, \"ticks\": \"\"}}, \"type\": \"scatterpolargl\"}], \"scatterternary\": [{\"marker\": {\"colorbar\": {\"outlinewidth\": 0, \"ticks\": \"\"}}, \"type\": \"scatterternary\"}], \"surface\": [{\"colorbar\": {\"outlinewidth\": 0, \"ticks\": \"\"}, \"colorscale\": [[0.0, \"#0d0887\"], [0.1111111111111111, \"#46039f\"], [0.2222222222222222, \"#7201a8\"], [0.3333333333333333, \"#9c179e\"], [0.4444444444444444, \"#bd3786\"], [0.5555555555555556, \"#d8576b\"], [0.6666666666666666, \"#ed7953\"], [0.7777777777777778, \"#fb9f3a\"], [0.8888888888888888, \"#fdca26\"], [1.0, \"#f0f921\"]], \"type\": \"surface\"}], \"table\": [{\"cells\": {\"fill\": {\"color\": \"#EBF0F8\"}, \"line\": {\"color\": \"white\"}}, \"header\": {\"fill\": {\"color\": \"#C8D4E3\"}, \"line\": {\"color\": \"white\"}}, \"type\": \"table\"}]}, \"layout\": {\"annotationdefaults\": {\"arrowcolor\": \"#2a3f5f\", \"arrowhead\": 0, \"arrowwidth\": 1}, \"coloraxis\": {\"colorbar\": {\"outlinewidth\": 0, \"ticks\": \"\"}}, \"colorscale\": {\"diverging\": [[0, \"#8e0152\"], [0.1, \"#c51b7d\"], [0.2, \"#de77ae\"], [0.3, \"#f1b6da\"], [0.4, \"#fde0ef\"], [0.5, \"#f7f7f7\"], [0.6, \"#e6f5d0\"], [0.7, \"#b8e186\"], [0.8, \"#7fbc41\"], [0.9, \"#4d9221\"], [1, \"#276419\"]], \"sequential\": [[0.0, \"#0d0887\"], [0.1111111111111111, \"#46039f\"], [0.2222222222222222, \"#7201a8\"], [0.3333333333333333, \"#9c179e\"], [0.4444444444444444, \"#bd3786\"], [0.5555555555555556, \"#d8576b\"], [0.6666666666666666, \"#ed7953\"], [0.7777777777777778, \"#fb9f3a\"], [0.8888888888888888, \"#fdca26\"], [1.0, \"#f0f921\"]], \"sequentialminus\": [[0.0, \"#0d0887\"], [0.1111111111111111, \"#46039f\"], [0.2222222222222222, \"#7201a8\"], [0.3333333333333333, \"#9c179e\"], [0.4444444444444444, \"#bd3786\"], [0.5555555555555556, \"#d8576b\"], [0.6666666666666666, \"#ed7953\"], [0.7777777777777778, \"#fb9f3a\"], [0.8888888888888888, \"#fdca26\"], [1.0, \"#f0f921\"]]}, \"colorway\": [\"#636efa\", \"#EF553B\", \"#00cc96\", \"#ab63fa\", \"#FFA15A\", \"#19d3f3\", \"#FF6692\", \"#B6E880\", \"#FF97FF\", \"#FECB52\"], \"font\": {\"color\": \"#2a3f5f\"}, \"geo\": {\"bgcolor\": \"white\", \"lakecolor\": \"white\", \"landcolor\": \"#E5ECF6\", \"showlakes\": true, \"showland\": true, \"subunitcolor\": \"white\"}, \"hoverlabel\": {\"align\": \"left\"}, \"hovermode\": \"closest\", \"mapbox\": {\"style\": \"light\"}, \"paper_bgcolor\": \"white\", \"plot_bgcolor\": \"#E5ECF6\", \"polar\": {\"angularaxis\": {\"gridcolor\": \"white\", \"linecolor\": \"white\", \"ticks\": \"\"}, \"bgcolor\": \"#E5ECF6\", \"radialaxis\": {\"gridcolor\": \"white\", \"linecolor\": \"white\", \"ticks\": \"\"}}, \"scene\": {\"xaxis\": {\"backgroundcolor\": \"#E5ECF6\", \"gridcolor\": \"white\", \"gridwidth\": 2, \"linecolor\": \"white\", \"showbackground\": true, \"ticks\": \"\", \"zerolinecolor\": \"white\"}, \"yaxis\": {\"backgroundcolor\": \"#E5ECF6\", \"gridcolor\": \"white\", \"gridwidth\": 2, \"linecolor\": \"white\", \"showbackground\": true, \"ticks\": \"\", \"zerolinecolor\": \"white\"}, \"zaxis\": {\"backgroundcolor\": \"#E5ECF6\", \"gridcolor\": \"white\", \"gridwidth\": 2, \"linecolor\": \"white\", \"showbackground\": true, \"ticks\": \"\", \"zerolinecolor\": \"white\"}}, \"shapedefaults\": {\"line\": {\"color\": \"#2a3f5f\"}}, \"ternary\": {\"aaxis\": {\"gridcolor\": \"white\", \"linecolor\": \"white\", \"ticks\": \"\"}, \"baxis\": {\"gridcolor\": \"white\", \"linecolor\": \"white\", \"ticks\": \"\"}, \"bgcolor\": \"#E5ECF6\", \"caxis\": {\"gridcolor\": \"white\", \"linecolor\": \"white\", \"ticks\": \"\"}}, \"title\": {\"x\": 0.05}, \"xaxis\": {\"automargin\": true, \"gridcolor\": \"white\", \"linecolor\": \"white\", \"ticks\": \"\", \"title\": {\"standoff\": 15}, \"zerolinecolor\": \"white\", \"zerolinewidth\": 2}, \"yaxis\": {\"automargin\": true, \"gridcolor\": \"white\", \"linecolor\": \"white\", \"ticks\": \"\", \"title\": {\"standoff\": 15}, \"zerolinecolor\": \"white\", \"zerolinewidth\": 2}}}, \"title\": {\"font\": {\"color\": \"#4D5663\"}}, \"xaxis\": {\"gridcolor\": \"#E1E5ED\", \"showgrid\": true, \"tickfont\": {\"color\": \"#4D5663\"}, \"title\": {\"font\": {\"color\": \"#4D5663\"}, \"text\": \"\"}, \"zerolinecolor\": \"#E1E5ED\"}, \"yaxis\": {\"gridcolor\": \"#E1E5ED\", \"showgrid\": true, \"tickfont\": {\"color\": \"#4D5663\"}, \"title\": {\"font\": {\"color\": \"#4D5663\"}, \"text\": \"\"}, \"zerolinecolor\": \"#E1E5ED\"}},\n",
       "                        {\"showLink\": true, \"linkText\": \"Export to plot.ly\", \"plotlyServerURL\": \"https://plot.ly\", \"responsive\": true}\n",
       "                    ).then(function(){\n",
       "                            \n",
       "var gd = document.getElementById('0a77cff7-6615-430a-9823-696fbae90c3c');\n",
       "var x = new MutationObserver(function (mutations, observer) {{\n",
       "        var display = window.getComputedStyle(gd).display;\n",
       "        if (!display || display === 'none') {{\n",
       "            console.log([gd, 'removed!']);\n",
       "            Plotly.purge(gd);\n",
       "            observer.disconnect();\n",
       "        }}\n",
       "}});\n",
       "\n",
       "// Listen for the removal of the full notebook cells\n",
       "var notebookContainer = gd.closest('#notebook-container');\n",
       "if (notebookContainer) {{\n",
       "    x.observe(notebookContainer, {childList: true});\n",
       "}}\n",
       "\n",
       "// Listen for the clearing of the current output cell\n",
       "var outputEl = gd.closest('.output');\n",
       "if (outputEl) {{\n",
       "    x.observe(outputEl, {childList: true});\n",
       "}}\n",
       "\n",
       "                        })\n",
       "                };\n",
       "                });\n",
       "            </script>\n",
       "        </div>"
      ]
     },
     "metadata": {},
     "output_type": "display_data"
    }
   ],
   "source": [
    "df.iplot(kind='scatter', x='A', y='B', mode='markers', size=df['E']*20)"
   ]
  },
  {
   "cell_type": "markdown",
   "id": "popular-subscription",
   "metadata": {},
   "source": [
    "## Bar plots\n"
   ]
  },
  {
   "cell_type": "code",
   "execution_count": 31,
   "id": "unknown-chocolate",
   "metadata": {},
   "outputs": [
    {
     "data": {
      "application/vnd.plotly.v1+json": {
       "config": {
        "linkText": "Export to plot.ly",
        "plotlyServerURL": "https://plot.ly",
        "showLink": true
       },
       "data": [
        {
         "marker": {
          "color": "rgba(255, 153, 51, 0.6)",
          "line": {
           "color": "rgba(255, 153, 51, 1.0)",
           "width": 1
          }
         },
         "name": "Values",
         "orientation": "v",
         "text": "",
         "type": "bar",
         "x": [
          "A",
          "B",
          "C"
         ],
         "y": [
          32,
          43,
          50
         ]
        }
       ],
       "layout": {
        "legend": {
         "bgcolor": "#F5F6F9",
         "font": {
          "color": "#4D5663"
         }
        },
        "paper_bgcolor": "#F5F6F9",
        "plot_bgcolor": "#F5F6F9",
        "template": {
         "data": {
          "bar": [
           {
            "error_x": {
             "color": "#2a3f5f"
            },
            "error_y": {
             "color": "#2a3f5f"
            },
            "marker": {
             "line": {
              "color": "#E5ECF6",
              "width": 0.5
             }
            },
            "type": "bar"
           }
          ],
          "barpolar": [
           {
            "marker": {
             "line": {
              "color": "#E5ECF6",
              "width": 0.5
             }
            },
            "type": "barpolar"
           }
          ],
          "carpet": [
           {
            "aaxis": {
             "endlinecolor": "#2a3f5f",
             "gridcolor": "white",
             "linecolor": "white",
             "minorgridcolor": "white",
             "startlinecolor": "#2a3f5f"
            },
            "baxis": {
             "endlinecolor": "#2a3f5f",
             "gridcolor": "white",
             "linecolor": "white",
             "minorgridcolor": "white",
             "startlinecolor": "#2a3f5f"
            },
            "type": "carpet"
           }
          ],
          "choropleth": [
           {
            "colorbar": {
             "outlinewidth": 0,
             "ticks": ""
            },
            "type": "choropleth"
           }
          ],
          "contour": [
           {
            "colorbar": {
             "outlinewidth": 0,
             "ticks": ""
            },
            "colorscale": [
             [
              0,
              "#0d0887"
             ],
             [
              0.1111111111111111,
              "#46039f"
             ],
             [
              0.2222222222222222,
              "#7201a8"
             ],
             [
              0.3333333333333333,
              "#9c179e"
             ],
             [
              0.4444444444444444,
              "#bd3786"
             ],
             [
              0.5555555555555556,
              "#d8576b"
             ],
             [
              0.6666666666666666,
              "#ed7953"
             ],
             [
              0.7777777777777778,
              "#fb9f3a"
             ],
             [
              0.8888888888888888,
              "#fdca26"
             ],
             [
              1,
              "#f0f921"
             ]
            ],
            "type": "contour"
           }
          ],
          "contourcarpet": [
           {
            "colorbar": {
             "outlinewidth": 0,
             "ticks": ""
            },
            "type": "contourcarpet"
           }
          ],
          "heatmap": [
           {
            "colorbar": {
             "outlinewidth": 0,
             "ticks": ""
            },
            "colorscale": [
             [
              0,
              "#0d0887"
             ],
             [
              0.1111111111111111,
              "#46039f"
             ],
             [
              0.2222222222222222,
              "#7201a8"
             ],
             [
              0.3333333333333333,
              "#9c179e"
             ],
             [
              0.4444444444444444,
              "#bd3786"
             ],
             [
              0.5555555555555556,
              "#d8576b"
             ],
             [
              0.6666666666666666,
              "#ed7953"
             ],
             [
              0.7777777777777778,
              "#fb9f3a"
             ],
             [
              0.8888888888888888,
              "#fdca26"
             ],
             [
              1,
              "#f0f921"
             ]
            ],
            "type": "heatmap"
           }
          ],
          "heatmapgl": [
           {
            "colorbar": {
             "outlinewidth": 0,
             "ticks": ""
            },
            "colorscale": [
             [
              0,
              "#0d0887"
             ],
             [
              0.1111111111111111,
              "#46039f"
             ],
             [
              0.2222222222222222,
              "#7201a8"
             ],
             [
              0.3333333333333333,
              "#9c179e"
             ],
             [
              0.4444444444444444,
              "#bd3786"
             ],
             [
              0.5555555555555556,
              "#d8576b"
             ],
             [
              0.6666666666666666,
              "#ed7953"
             ],
             [
              0.7777777777777778,
              "#fb9f3a"
             ],
             [
              0.8888888888888888,
              "#fdca26"
             ],
             [
              1,
              "#f0f921"
             ]
            ],
            "type": "heatmapgl"
           }
          ],
          "histogram": [
           {
            "marker": {
             "colorbar": {
              "outlinewidth": 0,
              "ticks": ""
             }
            },
            "type": "histogram"
           }
          ],
          "histogram2d": [
           {
            "colorbar": {
             "outlinewidth": 0,
             "ticks": ""
            },
            "colorscale": [
             [
              0,
              "#0d0887"
             ],
             [
              0.1111111111111111,
              "#46039f"
             ],
             [
              0.2222222222222222,
              "#7201a8"
             ],
             [
              0.3333333333333333,
              "#9c179e"
             ],
             [
              0.4444444444444444,
              "#bd3786"
             ],
             [
              0.5555555555555556,
              "#d8576b"
             ],
             [
              0.6666666666666666,
              "#ed7953"
             ],
             [
              0.7777777777777778,
              "#fb9f3a"
             ],
             [
              0.8888888888888888,
              "#fdca26"
             ],
             [
              1,
              "#f0f921"
             ]
            ],
            "type": "histogram2d"
           }
          ],
          "histogram2dcontour": [
           {
            "colorbar": {
             "outlinewidth": 0,
             "ticks": ""
            },
            "colorscale": [
             [
              0,
              "#0d0887"
             ],
             [
              0.1111111111111111,
              "#46039f"
             ],
             [
              0.2222222222222222,
              "#7201a8"
             ],
             [
              0.3333333333333333,
              "#9c179e"
             ],
             [
              0.4444444444444444,
              "#bd3786"
             ],
             [
              0.5555555555555556,
              "#d8576b"
             ],
             [
              0.6666666666666666,
              "#ed7953"
             ],
             [
              0.7777777777777778,
              "#fb9f3a"
             ],
             [
              0.8888888888888888,
              "#fdca26"
             ],
             [
              1,
              "#f0f921"
             ]
            ],
            "type": "histogram2dcontour"
           }
          ],
          "mesh3d": [
           {
            "colorbar": {
             "outlinewidth": 0,
             "ticks": ""
            },
            "type": "mesh3d"
           }
          ],
          "parcoords": [
           {
            "line": {
             "colorbar": {
              "outlinewidth": 0,
              "ticks": ""
             }
            },
            "type": "parcoords"
           }
          ],
          "pie": [
           {
            "automargin": true,
            "type": "pie"
           }
          ],
          "scatter": [
           {
            "marker": {
             "colorbar": {
              "outlinewidth": 0,
              "ticks": ""
             }
            },
            "type": "scatter"
           }
          ],
          "scatter3d": [
           {
            "line": {
             "colorbar": {
              "outlinewidth": 0,
              "ticks": ""
             }
            },
            "marker": {
             "colorbar": {
              "outlinewidth": 0,
              "ticks": ""
             }
            },
            "type": "scatter3d"
           }
          ],
          "scattercarpet": [
           {
            "marker": {
             "colorbar": {
              "outlinewidth": 0,
              "ticks": ""
             }
            },
            "type": "scattercarpet"
           }
          ],
          "scattergeo": [
           {
            "marker": {
             "colorbar": {
              "outlinewidth": 0,
              "ticks": ""
             }
            },
            "type": "scattergeo"
           }
          ],
          "scattergl": [
           {
            "marker": {
             "colorbar": {
              "outlinewidth": 0,
              "ticks": ""
             }
            },
            "type": "scattergl"
           }
          ],
          "scattermapbox": [
           {
            "marker": {
             "colorbar": {
              "outlinewidth": 0,
              "ticks": ""
             }
            },
            "type": "scattermapbox"
           }
          ],
          "scatterpolar": [
           {
            "marker": {
             "colorbar": {
              "outlinewidth": 0,
              "ticks": ""
             }
            },
            "type": "scatterpolar"
           }
          ],
          "scatterpolargl": [
           {
            "marker": {
             "colorbar": {
              "outlinewidth": 0,
              "ticks": ""
             }
            },
            "type": "scatterpolargl"
           }
          ],
          "scatterternary": [
           {
            "marker": {
             "colorbar": {
              "outlinewidth": 0,
              "ticks": ""
             }
            },
            "type": "scatterternary"
           }
          ],
          "surface": [
           {
            "colorbar": {
             "outlinewidth": 0,
             "ticks": ""
            },
            "colorscale": [
             [
              0,
              "#0d0887"
             ],
             [
              0.1111111111111111,
              "#46039f"
             ],
             [
              0.2222222222222222,
              "#7201a8"
             ],
             [
              0.3333333333333333,
              "#9c179e"
             ],
             [
              0.4444444444444444,
              "#bd3786"
             ],
             [
              0.5555555555555556,
              "#d8576b"
             ],
             [
              0.6666666666666666,
              "#ed7953"
             ],
             [
              0.7777777777777778,
              "#fb9f3a"
             ],
             [
              0.8888888888888888,
              "#fdca26"
             ],
             [
              1,
              "#f0f921"
             ]
            ],
            "type": "surface"
           }
          ],
          "table": [
           {
            "cells": {
             "fill": {
              "color": "#EBF0F8"
             },
             "line": {
              "color": "white"
             }
            },
            "header": {
             "fill": {
              "color": "#C8D4E3"
             },
             "line": {
              "color": "white"
             }
            },
            "type": "table"
           }
          ]
         },
         "layout": {
          "annotationdefaults": {
           "arrowcolor": "#2a3f5f",
           "arrowhead": 0,
           "arrowwidth": 1
          },
          "coloraxis": {
           "colorbar": {
            "outlinewidth": 0,
            "ticks": ""
           }
          },
          "colorscale": {
           "diverging": [
            [
             0,
             "#8e0152"
            ],
            [
             0.1,
             "#c51b7d"
            ],
            [
             0.2,
             "#de77ae"
            ],
            [
             0.3,
             "#f1b6da"
            ],
            [
             0.4,
             "#fde0ef"
            ],
            [
             0.5,
             "#f7f7f7"
            ],
            [
             0.6,
             "#e6f5d0"
            ],
            [
             0.7,
             "#b8e186"
            ],
            [
             0.8,
             "#7fbc41"
            ],
            [
             0.9,
             "#4d9221"
            ],
            [
             1,
             "#276419"
            ]
           ],
           "sequential": [
            [
             0,
             "#0d0887"
            ],
            [
             0.1111111111111111,
             "#46039f"
            ],
            [
             0.2222222222222222,
             "#7201a8"
            ],
            [
             0.3333333333333333,
             "#9c179e"
            ],
            [
             0.4444444444444444,
             "#bd3786"
            ],
            [
             0.5555555555555556,
             "#d8576b"
            ],
            [
             0.6666666666666666,
             "#ed7953"
            ],
            [
             0.7777777777777778,
             "#fb9f3a"
            ],
            [
             0.8888888888888888,
             "#fdca26"
            ],
            [
             1,
             "#f0f921"
            ]
           ],
           "sequentialminus": [
            [
             0,
             "#0d0887"
            ],
            [
             0.1111111111111111,
             "#46039f"
            ],
            [
             0.2222222222222222,
             "#7201a8"
            ],
            [
             0.3333333333333333,
             "#9c179e"
            ],
            [
             0.4444444444444444,
             "#bd3786"
            ],
            [
             0.5555555555555556,
             "#d8576b"
            ],
            [
             0.6666666666666666,
             "#ed7953"
            ],
            [
             0.7777777777777778,
             "#fb9f3a"
            ],
            [
             0.8888888888888888,
             "#fdca26"
            ],
            [
             1,
             "#f0f921"
            ]
           ]
          },
          "colorway": [
           "#636efa",
           "#EF553B",
           "#00cc96",
           "#ab63fa",
           "#FFA15A",
           "#19d3f3",
           "#FF6692",
           "#B6E880",
           "#FF97FF",
           "#FECB52"
          ],
          "font": {
           "color": "#2a3f5f"
          },
          "geo": {
           "bgcolor": "white",
           "lakecolor": "white",
           "landcolor": "#E5ECF6",
           "showlakes": true,
           "showland": true,
           "subunitcolor": "white"
          },
          "hoverlabel": {
           "align": "left"
          },
          "hovermode": "closest",
          "mapbox": {
           "style": "light"
          },
          "paper_bgcolor": "white",
          "plot_bgcolor": "#E5ECF6",
          "polar": {
           "angularaxis": {
            "gridcolor": "white",
            "linecolor": "white",
            "ticks": ""
           },
           "bgcolor": "#E5ECF6",
           "radialaxis": {
            "gridcolor": "white",
            "linecolor": "white",
            "ticks": ""
           }
          },
          "scene": {
           "xaxis": {
            "backgroundcolor": "#E5ECF6",
            "gridcolor": "white",
            "gridwidth": 2,
            "linecolor": "white",
            "showbackground": true,
            "ticks": "",
            "zerolinecolor": "white"
           },
           "yaxis": {
            "backgroundcolor": "#E5ECF6",
            "gridcolor": "white",
            "gridwidth": 2,
            "linecolor": "white",
            "showbackground": true,
            "ticks": "",
            "zerolinecolor": "white"
           },
           "zaxis": {
            "backgroundcolor": "#E5ECF6",
            "gridcolor": "white",
            "gridwidth": 2,
            "linecolor": "white",
            "showbackground": true,
            "ticks": "",
            "zerolinecolor": "white"
           }
          },
          "shapedefaults": {
           "line": {
            "color": "#2a3f5f"
           }
          },
          "ternary": {
           "aaxis": {
            "gridcolor": "white",
            "linecolor": "white",
            "ticks": ""
           },
           "baxis": {
            "gridcolor": "white",
            "linecolor": "white",
            "ticks": ""
           },
           "bgcolor": "#E5ECF6",
           "caxis": {
            "gridcolor": "white",
            "linecolor": "white",
            "ticks": ""
           }
          },
          "title": {
           "x": 0.05
          },
          "xaxis": {
           "automargin": true,
           "gridcolor": "white",
           "linecolor": "white",
           "ticks": "",
           "title": {
            "standoff": 15
           },
           "zerolinecolor": "white",
           "zerolinewidth": 2
          },
          "yaxis": {
           "automargin": true,
           "gridcolor": "white",
           "linecolor": "white",
           "ticks": "",
           "title": {
            "standoff": 15
           },
           "zerolinecolor": "white",
           "zerolinewidth": 2
          }
         }
        },
        "title": {
         "font": {
          "color": "#4D5663"
         }
        },
        "xaxis": {
         "gridcolor": "#E1E5ED",
         "showgrid": true,
         "tickfont": {
          "color": "#4D5663"
         },
         "title": {
          "font": {
           "color": "#4D5663"
          },
          "text": ""
         },
         "zerolinecolor": "#E1E5ED"
        },
        "yaxis": {
         "gridcolor": "#E1E5ED",
         "showgrid": true,
         "tickfont": {
          "color": "#4D5663"
         },
         "title": {
          "font": {
           "color": "#4D5663"
          },
          "text": ""
         },
         "zerolinecolor": "#E1E5ED"
        }
       }
      },
      "text/html": [
       "<div>\n",
       "        \n",
       "        \n",
       "            <div id=\"ec89c001-2595-4e1f-9c71-a408de74049b\" class=\"plotly-graph-div\" style=\"height:525px; width:100%;\"></div>\n",
       "            <script type=\"text/javascript\">\n",
       "                require([\"plotly\"], function(Plotly) {\n",
       "                    window.PLOTLYENV=window.PLOTLYENV || {};\n",
       "                    window.PLOTLYENV.BASE_URL='https://plot.ly';\n",
       "                    \n",
       "                if (document.getElementById(\"ec89c001-2595-4e1f-9c71-a408de74049b\")) {\n",
       "                    Plotly.newPlot(\n",
       "                        'ec89c001-2595-4e1f-9c71-a408de74049b',\n",
       "                        [{\"marker\": {\"color\": \"rgba(255, 153, 51, 0.6)\", \"line\": {\"color\": \"rgba(255, 153, 51, 1.0)\", \"width\": 1}}, \"name\": \"Values\", \"orientation\": \"v\", \"text\": \"\", \"type\": \"bar\", \"x\": [\"A\", \"B\", \"C\"], \"y\": [32, 43, 50]}],\n",
       "                        {\"legend\": {\"bgcolor\": \"#F5F6F9\", \"font\": {\"color\": \"#4D5663\"}}, \"paper_bgcolor\": \"#F5F6F9\", \"plot_bgcolor\": \"#F5F6F9\", \"template\": {\"data\": {\"bar\": [{\"error_x\": {\"color\": \"#2a3f5f\"}, \"error_y\": {\"color\": \"#2a3f5f\"}, \"marker\": {\"line\": {\"color\": \"#E5ECF6\", \"width\": 0.5}}, \"type\": \"bar\"}], \"barpolar\": [{\"marker\": {\"line\": {\"color\": \"#E5ECF6\", \"width\": 0.5}}, \"type\": \"barpolar\"}], \"carpet\": [{\"aaxis\": {\"endlinecolor\": \"#2a3f5f\", \"gridcolor\": \"white\", \"linecolor\": \"white\", \"minorgridcolor\": \"white\", \"startlinecolor\": \"#2a3f5f\"}, \"baxis\": {\"endlinecolor\": \"#2a3f5f\", \"gridcolor\": \"white\", \"linecolor\": \"white\", \"minorgridcolor\": \"white\", \"startlinecolor\": \"#2a3f5f\"}, \"type\": \"carpet\"}], \"choropleth\": [{\"colorbar\": {\"outlinewidth\": 0, \"ticks\": \"\"}, \"type\": \"choropleth\"}], \"contour\": [{\"colorbar\": {\"outlinewidth\": 0, \"ticks\": \"\"}, \"colorscale\": [[0.0, \"#0d0887\"], [0.1111111111111111, \"#46039f\"], [0.2222222222222222, \"#7201a8\"], [0.3333333333333333, \"#9c179e\"], [0.4444444444444444, \"#bd3786\"], [0.5555555555555556, \"#d8576b\"], [0.6666666666666666, \"#ed7953\"], [0.7777777777777778, \"#fb9f3a\"], [0.8888888888888888, \"#fdca26\"], [1.0, \"#f0f921\"]], \"type\": \"contour\"}], \"contourcarpet\": [{\"colorbar\": {\"outlinewidth\": 0, \"ticks\": \"\"}, \"type\": \"contourcarpet\"}], \"heatmap\": [{\"colorbar\": {\"outlinewidth\": 0, \"ticks\": \"\"}, \"colorscale\": [[0.0, \"#0d0887\"], [0.1111111111111111, \"#46039f\"], [0.2222222222222222, \"#7201a8\"], [0.3333333333333333, \"#9c179e\"], [0.4444444444444444, \"#bd3786\"], [0.5555555555555556, \"#d8576b\"], [0.6666666666666666, \"#ed7953\"], [0.7777777777777778, \"#fb9f3a\"], [0.8888888888888888, \"#fdca26\"], [1.0, \"#f0f921\"]], \"type\": \"heatmap\"}], \"heatmapgl\": [{\"colorbar\": {\"outlinewidth\": 0, \"ticks\": \"\"}, \"colorscale\": [[0.0, \"#0d0887\"], [0.1111111111111111, \"#46039f\"], [0.2222222222222222, \"#7201a8\"], [0.3333333333333333, \"#9c179e\"], [0.4444444444444444, \"#bd3786\"], [0.5555555555555556, \"#d8576b\"], [0.6666666666666666, \"#ed7953\"], [0.7777777777777778, \"#fb9f3a\"], [0.8888888888888888, \"#fdca26\"], [1.0, \"#f0f921\"]], \"type\": \"heatmapgl\"}], \"histogram\": [{\"marker\": {\"colorbar\": {\"outlinewidth\": 0, \"ticks\": \"\"}}, \"type\": \"histogram\"}], \"histogram2d\": [{\"colorbar\": {\"outlinewidth\": 0, \"ticks\": \"\"}, \"colorscale\": [[0.0, \"#0d0887\"], [0.1111111111111111, \"#46039f\"], [0.2222222222222222, \"#7201a8\"], [0.3333333333333333, \"#9c179e\"], [0.4444444444444444, \"#bd3786\"], [0.5555555555555556, \"#d8576b\"], [0.6666666666666666, \"#ed7953\"], [0.7777777777777778, \"#fb9f3a\"], [0.8888888888888888, \"#fdca26\"], [1.0, \"#f0f921\"]], \"type\": \"histogram2d\"}], \"histogram2dcontour\": [{\"colorbar\": {\"outlinewidth\": 0, \"ticks\": \"\"}, \"colorscale\": [[0.0, \"#0d0887\"], [0.1111111111111111, \"#46039f\"], [0.2222222222222222, \"#7201a8\"], [0.3333333333333333, \"#9c179e\"], [0.4444444444444444, \"#bd3786\"], [0.5555555555555556, \"#d8576b\"], [0.6666666666666666, \"#ed7953\"], [0.7777777777777778, \"#fb9f3a\"], [0.8888888888888888, \"#fdca26\"], [1.0, \"#f0f921\"]], \"type\": \"histogram2dcontour\"}], \"mesh3d\": [{\"colorbar\": {\"outlinewidth\": 0, \"ticks\": \"\"}, \"type\": \"mesh3d\"}], \"parcoords\": [{\"line\": {\"colorbar\": {\"outlinewidth\": 0, \"ticks\": \"\"}}, \"type\": \"parcoords\"}], \"pie\": [{\"automargin\": true, \"type\": \"pie\"}], \"scatter\": [{\"marker\": {\"colorbar\": {\"outlinewidth\": 0, \"ticks\": \"\"}}, \"type\": \"scatter\"}], \"scatter3d\": [{\"line\": {\"colorbar\": {\"outlinewidth\": 0, \"ticks\": \"\"}}, \"marker\": {\"colorbar\": {\"outlinewidth\": 0, \"ticks\": \"\"}}, \"type\": \"scatter3d\"}], \"scattercarpet\": [{\"marker\": {\"colorbar\": {\"outlinewidth\": 0, \"ticks\": \"\"}}, \"type\": \"scattercarpet\"}], \"scattergeo\": [{\"marker\": {\"colorbar\": {\"outlinewidth\": 0, \"ticks\": \"\"}}, \"type\": \"scattergeo\"}], \"scattergl\": [{\"marker\": {\"colorbar\": {\"outlinewidth\": 0, \"ticks\": \"\"}}, \"type\": \"scattergl\"}], \"scattermapbox\": [{\"marker\": {\"colorbar\": {\"outlinewidth\": 0, \"ticks\": \"\"}}, \"type\": \"scattermapbox\"}], \"scatterpolar\": [{\"marker\": {\"colorbar\": {\"outlinewidth\": 0, \"ticks\": \"\"}}, \"type\": \"scatterpolar\"}], \"scatterpolargl\": [{\"marker\": {\"colorbar\": {\"outlinewidth\": 0, \"ticks\": \"\"}}, \"type\": \"scatterpolargl\"}], \"scatterternary\": [{\"marker\": {\"colorbar\": {\"outlinewidth\": 0, \"ticks\": \"\"}}, \"type\": \"scatterternary\"}], \"surface\": [{\"colorbar\": {\"outlinewidth\": 0, \"ticks\": \"\"}, \"colorscale\": [[0.0, \"#0d0887\"], [0.1111111111111111, \"#46039f\"], [0.2222222222222222, \"#7201a8\"], [0.3333333333333333, \"#9c179e\"], [0.4444444444444444, \"#bd3786\"], [0.5555555555555556, \"#d8576b\"], [0.6666666666666666, \"#ed7953\"], [0.7777777777777778, \"#fb9f3a\"], [0.8888888888888888, \"#fdca26\"], [1.0, \"#f0f921\"]], \"type\": \"surface\"}], \"table\": [{\"cells\": {\"fill\": {\"color\": \"#EBF0F8\"}, \"line\": {\"color\": \"white\"}}, \"header\": {\"fill\": {\"color\": \"#C8D4E3\"}, \"line\": {\"color\": \"white\"}}, \"type\": \"table\"}]}, \"layout\": {\"annotationdefaults\": {\"arrowcolor\": \"#2a3f5f\", \"arrowhead\": 0, \"arrowwidth\": 1}, \"coloraxis\": {\"colorbar\": {\"outlinewidth\": 0, \"ticks\": \"\"}}, \"colorscale\": {\"diverging\": [[0, \"#8e0152\"], [0.1, \"#c51b7d\"], [0.2, \"#de77ae\"], [0.3, \"#f1b6da\"], [0.4, \"#fde0ef\"], [0.5, \"#f7f7f7\"], [0.6, \"#e6f5d0\"], [0.7, \"#b8e186\"], [0.8, \"#7fbc41\"], [0.9, \"#4d9221\"], [1, \"#276419\"]], \"sequential\": [[0.0, \"#0d0887\"], [0.1111111111111111, \"#46039f\"], [0.2222222222222222, \"#7201a8\"], [0.3333333333333333, \"#9c179e\"], [0.4444444444444444, \"#bd3786\"], [0.5555555555555556, \"#d8576b\"], [0.6666666666666666, \"#ed7953\"], [0.7777777777777778, \"#fb9f3a\"], [0.8888888888888888, \"#fdca26\"], [1.0, \"#f0f921\"]], \"sequentialminus\": [[0.0, \"#0d0887\"], [0.1111111111111111, \"#46039f\"], [0.2222222222222222, \"#7201a8\"], [0.3333333333333333, \"#9c179e\"], [0.4444444444444444, \"#bd3786\"], [0.5555555555555556, \"#d8576b\"], [0.6666666666666666, \"#ed7953\"], [0.7777777777777778, \"#fb9f3a\"], [0.8888888888888888, \"#fdca26\"], [1.0, \"#f0f921\"]]}, \"colorway\": [\"#636efa\", \"#EF553B\", \"#00cc96\", \"#ab63fa\", \"#FFA15A\", \"#19d3f3\", \"#FF6692\", \"#B6E880\", \"#FF97FF\", \"#FECB52\"], \"font\": {\"color\": \"#2a3f5f\"}, \"geo\": {\"bgcolor\": \"white\", \"lakecolor\": \"white\", \"landcolor\": \"#E5ECF6\", \"showlakes\": true, \"showland\": true, \"subunitcolor\": \"white\"}, \"hoverlabel\": {\"align\": \"left\"}, \"hovermode\": \"closest\", \"mapbox\": {\"style\": \"light\"}, \"paper_bgcolor\": \"white\", \"plot_bgcolor\": \"#E5ECF6\", \"polar\": {\"angularaxis\": {\"gridcolor\": \"white\", \"linecolor\": \"white\", \"ticks\": \"\"}, \"bgcolor\": \"#E5ECF6\", \"radialaxis\": {\"gridcolor\": \"white\", \"linecolor\": \"white\", \"ticks\": \"\"}}, \"scene\": {\"xaxis\": {\"backgroundcolor\": \"#E5ECF6\", \"gridcolor\": \"white\", \"gridwidth\": 2, \"linecolor\": \"white\", \"showbackground\": true, \"ticks\": \"\", \"zerolinecolor\": \"white\"}, \"yaxis\": {\"backgroundcolor\": \"#E5ECF6\", \"gridcolor\": \"white\", \"gridwidth\": 2, \"linecolor\": \"white\", \"showbackground\": true, \"ticks\": \"\", \"zerolinecolor\": \"white\"}, \"zaxis\": {\"backgroundcolor\": \"#E5ECF6\", \"gridcolor\": \"white\", \"gridwidth\": 2, \"linecolor\": \"white\", \"showbackground\": true, \"ticks\": \"\", \"zerolinecolor\": \"white\"}}, \"shapedefaults\": {\"line\": {\"color\": \"#2a3f5f\"}}, \"ternary\": {\"aaxis\": {\"gridcolor\": \"white\", \"linecolor\": \"white\", \"ticks\": \"\"}, \"baxis\": {\"gridcolor\": \"white\", \"linecolor\": \"white\", \"ticks\": \"\"}, \"bgcolor\": \"#E5ECF6\", \"caxis\": {\"gridcolor\": \"white\", \"linecolor\": \"white\", \"ticks\": \"\"}}, \"title\": {\"x\": 0.05}, \"xaxis\": {\"automargin\": true, \"gridcolor\": \"white\", \"linecolor\": \"white\", \"ticks\": \"\", \"title\": {\"standoff\": 15}, \"zerolinecolor\": \"white\", \"zerolinewidth\": 2}, \"yaxis\": {\"automargin\": true, \"gridcolor\": \"white\", \"linecolor\": \"white\", \"ticks\": \"\", \"title\": {\"standoff\": 15}, \"zerolinecolor\": \"white\", \"zerolinewidth\": 2}}}, \"title\": {\"font\": {\"color\": \"#4D5663\"}}, \"xaxis\": {\"gridcolor\": \"#E1E5ED\", \"showgrid\": true, \"tickfont\": {\"color\": \"#4D5663\"}, \"title\": {\"font\": {\"color\": \"#4D5663\"}, \"text\": \"\"}, \"zerolinecolor\": \"#E1E5ED\"}, \"yaxis\": {\"gridcolor\": \"#E1E5ED\", \"showgrid\": true, \"tickfont\": {\"color\": \"#4D5663\"}, \"title\": {\"font\": {\"color\": \"#4D5663\"}, \"text\": \"\"}, \"zerolinecolor\": \"#E1E5ED\"}},\n",
       "                        {\"showLink\": true, \"linkText\": \"Export to plot.ly\", \"plotlyServerURL\": \"https://plot.ly\", \"responsive\": true}\n",
       "                    ).then(function(){\n",
       "                            \n",
       "var gd = document.getElementById('ec89c001-2595-4e1f-9c71-a408de74049b');\n",
       "var x = new MutationObserver(function (mutations, observer) {{\n",
       "        var display = window.getComputedStyle(gd).display;\n",
       "        if (!display || display === 'none') {{\n",
       "            console.log([gd, 'removed!']);\n",
       "            Plotly.purge(gd);\n",
       "            observer.disconnect();\n",
       "        }}\n",
       "}});\n",
       "\n",
       "// Listen for the removal of the full notebook cells\n",
       "var notebookContainer = gd.closest('#notebook-container');\n",
       "if (notebookContainer) {{\n",
       "    x.observe(notebookContainer, {childList: true});\n",
       "}}\n",
       "\n",
       "// Listen for the clearing of the current output cell\n",
       "var outputEl = gd.closest('.output');\n",
       "if (outputEl) {{\n",
       "    x.observe(outputEl, {childList: true});\n",
       "}}\n",
       "\n",
       "                        })\n",
       "                };\n",
       "                });\n",
       "            </script>\n",
       "        </div>"
      ]
     },
     "metadata": {},
     "output_type": "display_data"
    }
   ],
   "source": [
    "df2.iplot(kind='bar', x='Category', y='Values')"
   ]
  },
  {
   "cell_type": "code",
   "execution_count": 32,
   "id": "toxic-resistance",
   "metadata": {},
   "outputs": [
    {
     "data": {
      "application/vnd.plotly.v1+json": {
       "config": {
        "linkText": "Export to plot.ly",
        "plotlyServerURL": "https://plot.ly",
        "showLink": true
       },
       "data": [
        {
         "marker": {
          "color": "rgba(255, 153, 51, 0.6)",
          "line": {
           "color": "rgba(255, 153, 51, 1.0)",
           "width": 1
          }
         },
         "name": "None",
         "orientation": "v",
         "text": "",
         "type": "bar",
         "x": [
          "A",
          "B",
          "C",
          "D",
          "E"
         ],
         "y": [
          100,
          100,
          100,
          100,
          100
         ]
        }
       ],
       "layout": {
        "legend": {
         "bgcolor": "#F5F6F9",
         "font": {
          "color": "#4D5663"
         }
        },
        "paper_bgcolor": "#F5F6F9",
        "plot_bgcolor": "#F5F6F9",
        "template": {
         "data": {
          "bar": [
           {
            "error_x": {
             "color": "#2a3f5f"
            },
            "error_y": {
             "color": "#2a3f5f"
            },
            "marker": {
             "line": {
              "color": "#E5ECF6",
              "width": 0.5
             }
            },
            "type": "bar"
           }
          ],
          "barpolar": [
           {
            "marker": {
             "line": {
              "color": "#E5ECF6",
              "width": 0.5
             }
            },
            "type": "barpolar"
           }
          ],
          "carpet": [
           {
            "aaxis": {
             "endlinecolor": "#2a3f5f",
             "gridcolor": "white",
             "linecolor": "white",
             "minorgridcolor": "white",
             "startlinecolor": "#2a3f5f"
            },
            "baxis": {
             "endlinecolor": "#2a3f5f",
             "gridcolor": "white",
             "linecolor": "white",
             "minorgridcolor": "white",
             "startlinecolor": "#2a3f5f"
            },
            "type": "carpet"
           }
          ],
          "choropleth": [
           {
            "colorbar": {
             "outlinewidth": 0,
             "ticks": ""
            },
            "type": "choropleth"
           }
          ],
          "contour": [
           {
            "colorbar": {
             "outlinewidth": 0,
             "ticks": ""
            },
            "colorscale": [
             [
              0,
              "#0d0887"
             ],
             [
              0.1111111111111111,
              "#46039f"
             ],
             [
              0.2222222222222222,
              "#7201a8"
             ],
             [
              0.3333333333333333,
              "#9c179e"
             ],
             [
              0.4444444444444444,
              "#bd3786"
             ],
             [
              0.5555555555555556,
              "#d8576b"
             ],
             [
              0.6666666666666666,
              "#ed7953"
             ],
             [
              0.7777777777777778,
              "#fb9f3a"
             ],
             [
              0.8888888888888888,
              "#fdca26"
             ],
             [
              1,
              "#f0f921"
             ]
            ],
            "type": "contour"
           }
          ],
          "contourcarpet": [
           {
            "colorbar": {
             "outlinewidth": 0,
             "ticks": ""
            },
            "type": "contourcarpet"
           }
          ],
          "heatmap": [
           {
            "colorbar": {
             "outlinewidth": 0,
             "ticks": ""
            },
            "colorscale": [
             [
              0,
              "#0d0887"
             ],
             [
              0.1111111111111111,
              "#46039f"
             ],
             [
              0.2222222222222222,
              "#7201a8"
             ],
             [
              0.3333333333333333,
              "#9c179e"
             ],
             [
              0.4444444444444444,
              "#bd3786"
             ],
             [
              0.5555555555555556,
              "#d8576b"
             ],
             [
              0.6666666666666666,
              "#ed7953"
             ],
             [
              0.7777777777777778,
              "#fb9f3a"
             ],
             [
              0.8888888888888888,
              "#fdca26"
             ],
             [
              1,
              "#f0f921"
             ]
            ],
            "type": "heatmap"
           }
          ],
          "heatmapgl": [
           {
            "colorbar": {
             "outlinewidth": 0,
             "ticks": ""
            },
            "colorscale": [
             [
              0,
              "#0d0887"
             ],
             [
              0.1111111111111111,
              "#46039f"
             ],
             [
              0.2222222222222222,
              "#7201a8"
             ],
             [
              0.3333333333333333,
              "#9c179e"
             ],
             [
              0.4444444444444444,
              "#bd3786"
             ],
             [
              0.5555555555555556,
              "#d8576b"
             ],
             [
              0.6666666666666666,
              "#ed7953"
             ],
             [
              0.7777777777777778,
              "#fb9f3a"
             ],
             [
              0.8888888888888888,
              "#fdca26"
             ],
             [
              1,
              "#f0f921"
             ]
            ],
            "type": "heatmapgl"
           }
          ],
          "histogram": [
           {
            "marker": {
             "colorbar": {
              "outlinewidth": 0,
              "ticks": ""
             }
            },
            "type": "histogram"
           }
          ],
          "histogram2d": [
           {
            "colorbar": {
             "outlinewidth": 0,
             "ticks": ""
            },
            "colorscale": [
             [
              0,
              "#0d0887"
             ],
             [
              0.1111111111111111,
              "#46039f"
             ],
             [
              0.2222222222222222,
              "#7201a8"
             ],
             [
              0.3333333333333333,
              "#9c179e"
             ],
             [
              0.4444444444444444,
              "#bd3786"
             ],
             [
              0.5555555555555556,
              "#d8576b"
             ],
             [
              0.6666666666666666,
              "#ed7953"
             ],
             [
              0.7777777777777778,
              "#fb9f3a"
             ],
             [
              0.8888888888888888,
              "#fdca26"
             ],
             [
              1,
              "#f0f921"
             ]
            ],
            "type": "histogram2d"
           }
          ],
          "histogram2dcontour": [
           {
            "colorbar": {
             "outlinewidth": 0,
             "ticks": ""
            },
            "colorscale": [
             [
              0,
              "#0d0887"
             ],
             [
              0.1111111111111111,
              "#46039f"
             ],
             [
              0.2222222222222222,
              "#7201a8"
             ],
             [
              0.3333333333333333,
              "#9c179e"
             ],
             [
              0.4444444444444444,
              "#bd3786"
             ],
             [
              0.5555555555555556,
              "#d8576b"
             ],
             [
              0.6666666666666666,
              "#ed7953"
             ],
             [
              0.7777777777777778,
              "#fb9f3a"
             ],
             [
              0.8888888888888888,
              "#fdca26"
             ],
             [
              1,
              "#f0f921"
             ]
            ],
            "type": "histogram2dcontour"
           }
          ],
          "mesh3d": [
           {
            "colorbar": {
             "outlinewidth": 0,
             "ticks": ""
            },
            "type": "mesh3d"
           }
          ],
          "parcoords": [
           {
            "line": {
             "colorbar": {
              "outlinewidth": 0,
              "ticks": ""
             }
            },
            "type": "parcoords"
           }
          ],
          "pie": [
           {
            "automargin": true,
            "type": "pie"
           }
          ],
          "scatter": [
           {
            "marker": {
             "colorbar": {
              "outlinewidth": 0,
              "ticks": ""
             }
            },
            "type": "scatter"
           }
          ],
          "scatter3d": [
           {
            "line": {
             "colorbar": {
              "outlinewidth": 0,
              "ticks": ""
             }
            },
            "marker": {
             "colorbar": {
              "outlinewidth": 0,
              "ticks": ""
             }
            },
            "type": "scatter3d"
           }
          ],
          "scattercarpet": [
           {
            "marker": {
             "colorbar": {
              "outlinewidth": 0,
              "ticks": ""
             }
            },
            "type": "scattercarpet"
           }
          ],
          "scattergeo": [
           {
            "marker": {
             "colorbar": {
              "outlinewidth": 0,
              "ticks": ""
             }
            },
            "type": "scattergeo"
           }
          ],
          "scattergl": [
           {
            "marker": {
             "colorbar": {
              "outlinewidth": 0,
              "ticks": ""
             }
            },
            "type": "scattergl"
           }
          ],
          "scattermapbox": [
           {
            "marker": {
             "colorbar": {
              "outlinewidth": 0,
              "ticks": ""
             }
            },
            "type": "scattermapbox"
           }
          ],
          "scatterpolar": [
           {
            "marker": {
             "colorbar": {
              "outlinewidth": 0,
              "ticks": ""
             }
            },
            "type": "scatterpolar"
           }
          ],
          "scatterpolargl": [
           {
            "marker": {
             "colorbar": {
              "outlinewidth": 0,
              "ticks": ""
             }
            },
            "type": "scatterpolargl"
           }
          ],
          "scatterternary": [
           {
            "marker": {
             "colorbar": {
              "outlinewidth": 0,
              "ticks": ""
             }
            },
            "type": "scatterternary"
           }
          ],
          "surface": [
           {
            "colorbar": {
             "outlinewidth": 0,
             "ticks": ""
            },
            "colorscale": [
             [
              0,
              "#0d0887"
             ],
             [
              0.1111111111111111,
              "#46039f"
             ],
             [
              0.2222222222222222,
              "#7201a8"
             ],
             [
              0.3333333333333333,
              "#9c179e"
             ],
             [
              0.4444444444444444,
              "#bd3786"
             ],
             [
              0.5555555555555556,
              "#d8576b"
             ],
             [
              0.6666666666666666,
              "#ed7953"
             ],
             [
              0.7777777777777778,
              "#fb9f3a"
             ],
             [
              0.8888888888888888,
              "#fdca26"
             ],
             [
              1,
              "#f0f921"
             ]
            ],
            "type": "surface"
           }
          ],
          "table": [
           {
            "cells": {
             "fill": {
              "color": "#EBF0F8"
             },
             "line": {
              "color": "white"
             }
            },
            "header": {
             "fill": {
              "color": "#C8D4E3"
             },
             "line": {
              "color": "white"
             }
            },
            "type": "table"
           }
          ]
         },
         "layout": {
          "annotationdefaults": {
           "arrowcolor": "#2a3f5f",
           "arrowhead": 0,
           "arrowwidth": 1
          },
          "coloraxis": {
           "colorbar": {
            "outlinewidth": 0,
            "ticks": ""
           }
          },
          "colorscale": {
           "diverging": [
            [
             0,
             "#8e0152"
            ],
            [
             0.1,
             "#c51b7d"
            ],
            [
             0.2,
             "#de77ae"
            ],
            [
             0.3,
             "#f1b6da"
            ],
            [
             0.4,
             "#fde0ef"
            ],
            [
             0.5,
             "#f7f7f7"
            ],
            [
             0.6,
             "#e6f5d0"
            ],
            [
             0.7,
             "#b8e186"
            ],
            [
             0.8,
             "#7fbc41"
            ],
            [
             0.9,
             "#4d9221"
            ],
            [
             1,
             "#276419"
            ]
           ],
           "sequential": [
            [
             0,
             "#0d0887"
            ],
            [
             0.1111111111111111,
             "#46039f"
            ],
            [
             0.2222222222222222,
             "#7201a8"
            ],
            [
             0.3333333333333333,
             "#9c179e"
            ],
            [
             0.4444444444444444,
             "#bd3786"
            ],
            [
             0.5555555555555556,
             "#d8576b"
            ],
            [
             0.6666666666666666,
             "#ed7953"
            ],
            [
             0.7777777777777778,
             "#fb9f3a"
            ],
            [
             0.8888888888888888,
             "#fdca26"
            ],
            [
             1,
             "#f0f921"
            ]
           ],
           "sequentialminus": [
            [
             0,
             "#0d0887"
            ],
            [
             0.1111111111111111,
             "#46039f"
            ],
            [
             0.2222222222222222,
             "#7201a8"
            ],
            [
             0.3333333333333333,
             "#9c179e"
            ],
            [
             0.4444444444444444,
             "#bd3786"
            ],
            [
             0.5555555555555556,
             "#d8576b"
            ],
            [
             0.6666666666666666,
             "#ed7953"
            ],
            [
             0.7777777777777778,
             "#fb9f3a"
            ],
            [
             0.8888888888888888,
             "#fdca26"
            ],
            [
             1,
             "#f0f921"
            ]
           ]
          },
          "colorway": [
           "#636efa",
           "#EF553B",
           "#00cc96",
           "#ab63fa",
           "#FFA15A",
           "#19d3f3",
           "#FF6692",
           "#B6E880",
           "#FF97FF",
           "#FECB52"
          ],
          "font": {
           "color": "#2a3f5f"
          },
          "geo": {
           "bgcolor": "white",
           "lakecolor": "white",
           "landcolor": "#E5ECF6",
           "showlakes": true,
           "showland": true,
           "subunitcolor": "white"
          },
          "hoverlabel": {
           "align": "left"
          },
          "hovermode": "closest",
          "mapbox": {
           "style": "light"
          },
          "paper_bgcolor": "white",
          "plot_bgcolor": "#E5ECF6",
          "polar": {
           "angularaxis": {
            "gridcolor": "white",
            "linecolor": "white",
            "ticks": ""
           },
           "bgcolor": "#E5ECF6",
           "radialaxis": {
            "gridcolor": "white",
            "linecolor": "white",
            "ticks": ""
           }
          },
          "scene": {
           "xaxis": {
            "backgroundcolor": "#E5ECF6",
            "gridcolor": "white",
            "gridwidth": 2,
            "linecolor": "white",
            "showbackground": true,
            "ticks": "",
            "zerolinecolor": "white"
           },
           "yaxis": {
            "backgroundcolor": "#E5ECF6",
            "gridcolor": "white",
            "gridwidth": 2,
            "linecolor": "white",
            "showbackground": true,
            "ticks": "",
            "zerolinecolor": "white"
           },
           "zaxis": {
            "backgroundcolor": "#E5ECF6",
            "gridcolor": "white",
            "gridwidth": 2,
            "linecolor": "white",
            "showbackground": true,
            "ticks": "",
            "zerolinecolor": "white"
           }
          },
          "shapedefaults": {
           "line": {
            "color": "#2a3f5f"
           }
          },
          "ternary": {
           "aaxis": {
            "gridcolor": "white",
            "linecolor": "white",
            "ticks": ""
           },
           "baxis": {
            "gridcolor": "white",
            "linecolor": "white",
            "ticks": ""
           },
           "bgcolor": "#E5ECF6",
           "caxis": {
            "gridcolor": "white",
            "linecolor": "white",
            "ticks": ""
           }
          },
          "title": {
           "x": 0.05
          },
          "xaxis": {
           "automargin": true,
           "gridcolor": "white",
           "linecolor": "white",
           "ticks": "",
           "title": {
            "standoff": 15
           },
           "zerolinecolor": "white",
           "zerolinewidth": 2
          },
          "yaxis": {
           "automargin": true,
           "gridcolor": "white",
           "linecolor": "white",
           "ticks": "",
           "title": {
            "standoff": 15
           },
           "zerolinecolor": "white",
           "zerolinewidth": 2
          }
         }
        },
        "title": {
         "font": {
          "color": "#4D5663"
         }
        },
        "xaxis": {
         "gridcolor": "#E1E5ED",
         "showgrid": true,
         "tickfont": {
          "color": "#4D5663"
         },
         "title": {
          "font": {
           "color": "#4D5663"
          },
          "text": ""
         },
         "zerolinecolor": "#E1E5ED"
        },
        "yaxis": {
         "gridcolor": "#E1E5ED",
         "showgrid": true,
         "tickfont": {
          "color": "#4D5663"
         },
         "title": {
          "font": {
           "color": "#4D5663"
          },
          "text": ""
         },
         "zerolinecolor": "#E1E5ED"
        }
       }
      },
      "text/html": [
       "<div>\n",
       "        \n",
       "        \n",
       "            <div id=\"a978e489-f95f-4574-94a9-cb58351b7697\" class=\"plotly-graph-div\" style=\"height:525px; width:100%;\"></div>\n",
       "            <script type=\"text/javascript\">\n",
       "                require([\"plotly\"], function(Plotly) {\n",
       "                    window.PLOTLYENV=window.PLOTLYENV || {};\n",
       "                    window.PLOTLYENV.BASE_URL='https://plot.ly';\n",
       "                    \n",
       "                if (document.getElementById(\"a978e489-f95f-4574-94a9-cb58351b7697\")) {\n",
       "                    Plotly.newPlot(\n",
       "                        'a978e489-f95f-4574-94a9-cb58351b7697',\n",
       "                        [{\"marker\": {\"color\": \"rgba(255, 153, 51, 0.6)\", \"line\": {\"color\": \"rgba(255, 153, 51, 1.0)\", \"width\": 1}}, \"name\": \"None\", \"orientation\": \"v\", \"text\": \"\", \"type\": \"bar\", \"x\": [\"A\", \"B\", \"C\", \"D\", \"E\"], \"y\": [100, 100, 100, 100, 100]}],\n",
       "                        {\"legend\": {\"bgcolor\": \"#F5F6F9\", \"font\": {\"color\": \"#4D5663\"}}, \"paper_bgcolor\": \"#F5F6F9\", \"plot_bgcolor\": \"#F5F6F9\", \"template\": {\"data\": {\"bar\": [{\"error_x\": {\"color\": \"#2a3f5f\"}, \"error_y\": {\"color\": \"#2a3f5f\"}, \"marker\": {\"line\": {\"color\": \"#E5ECF6\", \"width\": 0.5}}, \"type\": \"bar\"}], \"barpolar\": [{\"marker\": {\"line\": {\"color\": \"#E5ECF6\", \"width\": 0.5}}, \"type\": \"barpolar\"}], \"carpet\": [{\"aaxis\": {\"endlinecolor\": \"#2a3f5f\", \"gridcolor\": \"white\", \"linecolor\": \"white\", \"minorgridcolor\": \"white\", \"startlinecolor\": \"#2a3f5f\"}, \"baxis\": {\"endlinecolor\": \"#2a3f5f\", \"gridcolor\": \"white\", \"linecolor\": \"white\", \"minorgridcolor\": \"white\", \"startlinecolor\": \"#2a3f5f\"}, \"type\": \"carpet\"}], \"choropleth\": [{\"colorbar\": {\"outlinewidth\": 0, \"ticks\": \"\"}, \"type\": \"choropleth\"}], \"contour\": [{\"colorbar\": {\"outlinewidth\": 0, \"ticks\": \"\"}, \"colorscale\": [[0.0, \"#0d0887\"], [0.1111111111111111, \"#46039f\"], [0.2222222222222222, \"#7201a8\"], [0.3333333333333333, \"#9c179e\"], [0.4444444444444444, \"#bd3786\"], [0.5555555555555556, \"#d8576b\"], [0.6666666666666666, \"#ed7953\"], [0.7777777777777778, \"#fb9f3a\"], [0.8888888888888888, \"#fdca26\"], [1.0, \"#f0f921\"]], \"type\": \"contour\"}], \"contourcarpet\": [{\"colorbar\": {\"outlinewidth\": 0, \"ticks\": \"\"}, \"type\": \"contourcarpet\"}], \"heatmap\": [{\"colorbar\": {\"outlinewidth\": 0, \"ticks\": \"\"}, \"colorscale\": [[0.0, \"#0d0887\"], [0.1111111111111111, \"#46039f\"], [0.2222222222222222, \"#7201a8\"], [0.3333333333333333, \"#9c179e\"], [0.4444444444444444, \"#bd3786\"], [0.5555555555555556, \"#d8576b\"], [0.6666666666666666, \"#ed7953\"], [0.7777777777777778, \"#fb9f3a\"], [0.8888888888888888, \"#fdca26\"], [1.0, \"#f0f921\"]], \"type\": \"heatmap\"}], \"heatmapgl\": [{\"colorbar\": {\"outlinewidth\": 0, \"ticks\": \"\"}, \"colorscale\": [[0.0, \"#0d0887\"], [0.1111111111111111, \"#46039f\"], [0.2222222222222222, \"#7201a8\"], [0.3333333333333333, \"#9c179e\"], [0.4444444444444444, \"#bd3786\"], [0.5555555555555556, \"#d8576b\"], [0.6666666666666666, \"#ed7953\"], [0.7777777777777778, \"#fb9f3a\"], [0.8888888888888888, \"#fdca26\"], [1.0, \"#f0f921\"]], \"type\": \"heatmapgl\"}], \"histogram\": [{\"marker\": {\"colorbar\": {\"outlinewidth\": 0, \"ticks\": \"\"}}, \"type\": \"histogram\"}], \"histogram2d\": [{\"colorbar\": {\"outlinewidth\": 0, \"ticks\": \"\"}, \"colorscale\": [[0.0, \"#0d0887\"], [0.1111111111111111, \"#46039f\"], [0.2222222222222222, \"#7201a8\"], [0.3333333333333333, \"#9c179e\"], [0.4444444444444444, \"#bd3786\"], [0.5555555555555556, \"#d8576b\"], [0.6666666666666666, \"#ed7953\"], [0.7777777777777778, \"#fb9f3a\"], [0.8888888888888888, \"#fdca26\"], [1.0, \"#f0f921\"]], \"type\": \"histogram2d\"}], \"histogram2dcontour\": [{\"colorbar\": {\"outlinewidth\": 0, \"ticks\": \"\"}, \"colorscale\": [[0.0, \"#0d0887\"], [0.1111111111111111, \"#46039f\"], [0.2222222222222222, \"#7201a8\"], [0.3333333333333333, \"#9c179e\"], [0.4444444444444444, \"#bd3786\"], [0.5555555555555556, \"#d8576b\"], [0.6666666666666666, \"#ed7953\"], [0.7777777777777778, \"#fb9f3a\"], [0.8888888888888888, \"#fdca26\"], [1.0, \"#f0f921\"]], \"type\": \"histogram2dcontour\"}], \"mesh3d\": [{\"colorbar\": {\"outlinewidth\": 0, \"ticks\": \"\"}, \"type\": \"mesh3d\"}], \"parcoords\": [{\"line\": {\"colorbar\": {\"outlinewidth\": 0, \"ticks\": \"\"}}, \"type\": \"parcoords\"}], \"pie\": [{\"automargin\": true, \"type\": \"pie\"}], \"scatter\": [{\"marker\": {\"colorbar\": {\"outlinewidth\": 0, \"ticks\": \"\"}}, \"type\": \"scatter\"}], \"scatter3d\": [{\"line\": {\"colorbar\": {\"outlinewidth\": 0, \"ticks\": \"\"}}, \"marker\": {\"colorbar\": {\"outlinewidth\": 0, \"ticks\": \"\"}}, \"type\": \"scatter3d\"}], \"scattercarpet\": [{\"marker\": {\"colorbar\": {\"outlinewidth\": 0, \"ticks\": \"\"}}, \"type\": \"scattercarpet\"}], \"scattergeo\": [{\"marker\": {\"colorbar\": {\"outlinewidth\": 0, \"ticks\": \"\"}}, \"type\": \"scattergeo\"}], \"scattergl\": [{\"marker\": {\"colorbar\": {\"outlinewidth\": 0, \"ticks\": \"\"}}, \"type\": \"scattergl\"}], \"scattermapbox\": [{\"marker\": {\"colorbar\": {\"outlinewidth\": 0, \"ticks\": \"\"}}, \"type\": \"scattermapbox\"}], \"scatterpolar\": [{\"marker\": {\"colorbar\": {\"outlinewidth\": 0, \"ticks\": \"\"}}, \"type\": \"scatterpolar\"}], \"scatterpolargl\": [{\"marker\": {\"colorbar\": {\"outlinewidth\": 0, \"ticks\": \"\"}}, \"type\": \"scatterpolargl\"}], \"scatterternary\": [{\"marker\": {\"colorbar\": {\"outlinewidth\": 0, \"ticks\": \"\"}}, \"type\": \"scatterternary\"}], \"surface\": [{\"colorbar\": {\"outlinewidth\": 0, \"ticks\": \"\"}, \"colorscale\": [[0.0, \"#0d0887\"], [0.1111111111111111, \"#46039f\"], [0.2222222222222222, \"#7201a8\"], [0.3333333333333333, \"#9c179e\"], [0.4444444444444444, \"#bd3786\"], [0.5555555555555556, \"#d8576b\"], [0.6666666666666666, \"#ed7953\"], [0.7777777777777778, \"#fb9f3a\"], [0.8888888888888888, \"#fdca26\"], [1.0, \"#f0f921\"]], \"type\": \"surface\"}], \"table\": [{\"cells\": {\"fill\": {\"color\": \"#EBF0F8\"}, \"line\": {\"color\": \"white\"}}, \"header\": {\"fill\": {\"color\": \"#C8D4E3\"}, \"line\": {\"color\": \"white\"}}, \"type\": \"table\"}]}, \"layout\": {\"annotationdefaults\": {\"arrowcolor\": \"#2a3f5f\", \"arrowhead\": 0, \"arrowwidth\": 1}, \"coloraxis\": {\"colorbar\": {\"outlinewidth\": 0, \"ticks\": \"\"}}, \"colorscale\": {\"diverging\": [[0, \"#8e0152\"], [0.1, \"#c51b7d\"], [0.2, \"#de77ae\"], [0.3, \"#f1b6da\"], [0.4, \"#fde0ef\"], [0.5, \"#f7f7f7\"], [0.6, \"#e6f5d0\"], [0.7, \"#b8e186\"], [0.8, \"#7fbc41\"], [0.9, \"#4d9221\"], [1, \"#276419\"]], \"sequential\": [[0.0, \"#0d0887\"], [0.1111111111111111, \"#46039f\"], [0.2222222222222222, \"#7201a8\"], [0.3333333333333333, \"#9c179e\"], [0.4444444444444444, \"#bd3786\"], [0.5555555555555556, \"#d8576b\"], [0.6666666666666666, \"#ed7953\"], [0.7777777777777778, \"#fb9f3a\"], [0.8888888888888888, \"#fdca26\"], [1.0, \"#f0f921\"]], \"sequentialminus\": [[0.0, \"#0d0887\"], [0.1111111111111111, \"#46039f\"], [0.2222222222222222, \"#7201a8\"], [0.3333333333333333, \"#9c179e\"], [0.4444444444444444, \"#bd3786\"], [0.5555555555555556, \"#d8576b\"], [0.6666666666666666, \"#ed7953\"], [0.7777777777777778, \"#fb9f3a\"], [0.8888888888888888, \"#fdca26\"], [1.0, \"#f0f921\"]]}, \"colorway\": [\"#636efa\", \"#EF553B\", \"#00cc96\", \"#ab63fa\", \"#FFA15A\", \"#19d3f3\", \"#FF6692\", \"#B6E880\", \"#FF97FF\", \"#FECB52\"], \"font\": {\"color\": \"#2a3f5f\"}, \"geo\": {\"bgcolor\": \"white\", \"lakecolor\": \"white\", \"landcolor\": \"#E5ECF6\", \"showlakes\": true, \"showland\": true, \"subunitcolor\": \"white\"}, \"hoverlabel\": {\"align\": \"left\"}, \"hovermode\": \"closest\", \"mapbox\": {\"style\": \"light\"}, \"paper_bgcolor\": \"white\", \"plot_bgcolor\": \"#E5ECF6\", \"polar\": {\"angularaxis\": {\"gridcolor\": \"white\", \"linecolor\": \"white\", \"ticks\": \"\"}, \"bgcolor\": \"#E5ECF6\", \"radialaxis\": {\"gridcolor\": \"white\", \"linecolor\": \"white\", \"ticks\": \"\"}}, \"scene\": {\"xaxis\": {\"backgroundcolor\": \"#E5ECF6\", \"gridcolor\": \"white\", \"gridwidth\": 2, \"linecolor\": \"white\", \"showbackground\": true, \"ticks\": \"\", \"zerolinecolor\": \"white\"}, \"yaxis\": {\"backgroundcolor\": \"#E5ECF6\", \"gridcolor\": \"white\", \"gridwidth\": 2, \"linecolor\": \"white\", \"showbackground\": true, \"ticks\": \"\", \"zerolinecolor\": \"white\"}, \"zaxis\": {\"backgroundcolor\": \"#E5ECF6\", \"gridcolor\": \"white\", \"gridwidth\": 2, \"linecolor\": \"white\", \"showbackground\": true, \"ticks\": \"\", \"zerolinecolor\": \"white\"}}, \"shapedefaults\": {\"line\": {\"color\": \"#2a3f5f\"}}, \"ternary\": {\"aaxis\": {\"gridcolor\": \"white\", \"linecolor\": \"white\", \"ticks\": \"\"}, \"baxis\": {\"gridcolor\": \"white\", \"linecolor\": \"white\", \"ticks\": \"\"}, \"bgcolor\": \"#E5ECF6\", \"caxis\": {\"gridcolor\": \"white\", \"linecolor\": \"white\", \"ticks\": \"\"}}, \"title\": {\"x\": 0.05}, \"xaxis\": {\"automargin\": true, \"gridcolor\": \"white\", \"linecolor\": \"white\", \"ticks\": \"\", \"title\": {\"standoff\": 15}, \"zerolinecolor\": \"white\", \"zerolinewidth\": 2}, \"yaxis\": {\"automargin\": true, \"gridcolor\": \"white\", \"linecolor\": \"white\", \"ticks\": \"\", \"title\": {\"standoff\": 15}, \"zerolinecolor\": \"white\", \"zerolinewidth\": 2}}}, \"title\": {\"font\": {\"color\": \"#4D5663\"}}, \"xaxis\": {\"gridcolor\": \"#E1E5ED\", \"showgrid\": true, \"tickfont\": {\"color\": \"#4D5663\"}, \"title\": {\"font\": {\"color\": \"#4D5663\"}, \"text\": \"\"}, \"zerolinecolor\": \"#E1E5ED\"}, \"yaxis\": {\"gridcolor\": \"#E1E5ED\", \"showgrid\": true, \"tickfont\": {\"color\": \"#4D5663\"}, \"title\": {\"font\": {\"color\": \"#4D5663\"}, \"text\": \"\"}, \"zerolinecolor\": \"#E1E5ED\"}},\n",
       "                        {\"showLink\": true, \"linkText\": \"Export to plot.ly\", \"plotlyServerURL\": \"https://plot.ly\", \"responsive\": true}\n",
       "                    ).then(function(){\n",
       "                            \n",
       "var gd = document.getElementById('a978e489-f95f-4574-94a9-cb58351b7697');\n",
       "var x = new MutationObserver(function (mutations, observer) {{\n",
       "        var display = window.getComputedStyle(gd).display;\n",
       "        if (!display || display === 'none') {{\n",
       "            console.log([gd, 'removed!']);\n",
       "            Plotly.purge(gd);\n",
       "            observer.disconnect();\n",
       "        }}\n",
       "}});\n",
       "\n",
       "// Listen for the removal of the full notebook cells\n",
       "var notebookContainer = gd.closest('#notebook-container');\n",
       "if (notebookContainer) {{\n",
       "    x.observe(notebookContainer, {childList: true});\n",
       "}}\n",
       "\n",
       "// Listen for the clearing of the current output cell\n",
       "var outputEl = gd.closest('.output');\n",
       "if (outputEl) {{\n",
       "    x.observe(outputEl, {childList: true});\n",
       "}}\n",
       "\n",
       "                        })\n",
       "                };\n",
       "                });\n",
       "            </script>\n",
       "        </div>"
      ]
     },
     "metadata": {},
     "output_type": "display_data"
    }
   ],
   "source": [
    "df.count().iplot(kind='bar')"
   ]
  },
  {
   "cell_type": "markdown",
   "id": "silver-longitude",
   "metadata": {},
   "source": [
    "## Boxplots"
   ]
  },
  {
   "cell_type": "code",
   "execution_count": 33,
   "id": "dense-weapon",
   "metadata": {},
   "outputs": [
    {
     "data": {
      "application/vnd.plotly.v1+json": {
       "config": {
        "linkText": "Export to plot.ly",
        "plotlyServerURL": "https://plot.ly",
        "showLink": true
       },
       "data": [
        {
         "boxpoints": false,
         "line": {
          "width": 1.3
         },
         "marker": {
          "color": "rgba(255, 153, 51, 1.0)"
         },
         "name": "A",
         "orientation": "v",
         "type": "box",
         "y": [
          -0.1486870569660644,
          0.39248607716009937,
          -0.7051592443933776,
          0.27576110754488387,
          -0.7802285366256736,
          -0.32929780839891537,
          -1.087810196165536,
          1.2605600894157034,
          -0.6162220153584765,
          -0.11030956050421618,
          1.642528183340233,
          -1.2471083408197337,
          -0.5030824358409205,
          0.44198222958182076,
          0.46872327753545967,
          0.7832720942473845,
          -1.816832134632092,
          -0.7734372708387459,
          -0.9663161807866139,
          -2.3035477810580884,
          -0.6424602387239299,
          -0.31914331999725876,
          -0.41844043091859484,
          0.1781758613682762,
          0.157684394184153,
          0.41595274357957573,
          0.5891850592042421,
          0.454834731394502,
          -0.14870591833136512,
          0.7917259872985981,
          -1.6466753374193293,
          -0.5984417164356648,
          0.3653669533476257,
          0.6013941003199482,
          1.0281964811508901,
          -0.29834588163580716,
          -1.5812091606674015,
          -0.4949013337856304,
          -1.0499374247496878,
          -0.25492516141576343,
          -1.347720027956506,
          1.1167699738973915,
          1.087498437295148,
          -0.3627318007990501,
          -0.9841088308619188,
          -0.24774969270479127,
          -0.10622973456180605,
          0.7743684307462901,
          -0.02005363965663801,
          -0.28863295343821105,
          -0.24808140074432009,
          0.6771989860434181,
          1.5103210368836282,
          -0.4484038407099252,
          -0.1027729276442637,
          0.4150356400669393,
          -0.8696069965432033,
          0.11551999215410763,
          1.0162559751767088,
          -0.1739788003636956,
          -0.2799898988878147,
          1.9689679185639573,
          -1.3712364456885864,
          -0.062367008698916995,
          0.1622031476510854,
          -0.0955223967895753,
          -1.5029096551345607,
          0.8754195676784564,
          -0.5524799575282217,
          -0.0980995694221568,
          0.7693585830793594,
          0.2854937541855559,
          -0.6581872556779551,
          2.114936095689492,
          0.059169867679413055,
          0.2932317898134375,
          0.3618512027631301,
          -0.1705460913024023,
          -0.029204570730282167,
          -0.7415372272530977,
          -0.7651224698222944,
          1.1547221513795514,
          -0.33103781811196065,
          -0.4952355302309878,
          0.7267534144738079,
          -0.7882902125536603,
          0.312778641188715,
          -0.11825028351583512,
          -0.9180040351441507,
          0.587033645365291,
          0.3798610800599315,
          0.21441879761051574,
          1.1707497307467345,
          1.1275071326418369,
          -0.8479588333638166,
          -0.058157108364463896,
          -0.7560319712251692,
          1.8283683259669392,
          1.2952801263299962,
          2.46499250024484
         ]
        },
        {
         "boxpoints": false,
         "line": {
          "width": 1.3
         },
         "marker": {
          "color": "rgba(55, 128, 191, 1.0)"
         },
         "name": "B",
         "orientation": "v",
         "type": "box",
         "y": [
          -0.13720291276205954,
          0.7360290366001643,
          0.6182914547488014,
          -0.41717865842575486,
          0.7616049708336934,
          1.255700448517242,
          -0.7878477215044183,
          0.4094201423714498,
          -3.0777284071151,
          0.2962713084261198,
          -0.7566439163766893,
          0.6805595530508529,
          -0.8140383734076175,
          -0.3756519163109862,
          1.1209571938669993,
          0.7109715243740368,
          0.2706370322757297,
          0.5173522166570037,
          0.1412707917259537,
          1.7956131042028805,
          -0.37740080006068927,
          -0.0705594757231226,
          0.00017043336379697554,
          -1.0807897118199614,
          -0.8927637981588197,
          1.157805138567086,
          -0.3890743339711945,
          -0.2998728491363871,
          -0.7629484122608581,
          -1.5568150046882465,
          1.5926536293276692,
          1.065928900246484,
          1.3951763524319545,
          2.361874775141413,
          -0.6703775046596167,
          0.6874294250674926,
          -0.11962209780754239,
          -0.6757993702607386,
          0.10369601942428011,
          -1.3706785393771903,
          0.5150297006610829,
          -0.20348877806099472,
          1.278848828762823,
          -1.3672379451360985,
          0.5084740282707778,
          2.999494366246489,
          0.10681899651937042,
          0.9167978639920289,
          -0.9777499167088237,
          0.4298857429657398,
          -0.7956504240436582,
          -1.8406413912670503,
          -0.9271791648378976,
          -0.14817646279579028,
          -0.31747939699923206,
          -0.18223864047336216,
          0.3284940245408851,
          1.3411829957637205,
          -0.3643147505889812,
          0.17639462525327843,
          -1.2086092815298164,
          -1.0846769577310682,
          -1.605427128703998,
          0.24649724788045124,
          -0.11866380461086354,
          1.239307253391713,
          0.12871910997126498,
          -2.0949804045461393,
          0.2767507297426342,
          -0.752300159792606,
          0.004858035242644644,
          0.1906322672214624,
          0.3386326129851458,
          0.9664630145228903,
          -0.0014315777408607548,
          -0.9170153450824298,
          0.8204004032861612,
          0.9643199571799043,
          -0.777725262632196,
          0.7731495467328146,
          0.18062328973014358,
          0.9924833750682206,
          0.20767988730408643,
          -0.17496783608048996,
          0.0015769199486528167,
          -0.2760927778043612,
          -0.24972687617797515,
          -0.687187293033468,
          0.8739237743337697,
          -0.6687555318032616,
          -0.13323519699988973,
          1.142363840492469,
          -0.270683968952354,
          1.2213182143797743,
          -0.6530838403596835,
          -0.07887886921673892,
          -0.15949726608677098,
          -1.2083725357104302,
          0.005487941892006171,
          0.4713064898610162
         ]
        },
        {
         "boxpoints": false,
         "line": {
          "width": 1.3
         },
         "marker": {
          "color": "rgba(50, 171, 96, 1.0)"
         },
         "name": "C",
         "orientation": "v",
         "type": "box",
         "y": [
          0.9772588645208288,
          0.031095691670485027,
          -0.4517709119065063,
          -0.11505177760843294,
          1.4013872068608693,
          0.12439243290780622,
          0.3143384594106518,
          -0.5961004707616886,
          -1.65968642352273,
          -0.8433833213279801,
          -0.8790929369988937,
          0.9097731167884134,
          -0.25449939223936224,
          -1.7474010052042062,
          -0.03195149495193755,
          0.338535606682914,
          0.5861914699834533,
          -0.7852693129036312,
          -1.0256124153016837,
          0.4960274764979757,
          1.6404394193794958,
          -0.5842610371983409,
          1.350264431529778,
          0.5408179423679065,
          -0.9082479053654744,
          -0.7069767492991279,
          0.13019795076909318,
          1.1282516887737086,
          1.747822457753705,
          1.1991010788063432,
          0.25207171650754456,
          -0.18816983036314108,
          -0.8539774592252419,
          0.00027423242096450177,
          -2.3615316526291985,
          1.1081702271247518,
          -0.1720795612082035,
          0.4685511660296994,
          -0.14548278138294873,
          0.06695480734404455,
          -0.04695989997971613,
          1.304340085601986,
          0.3004069831905211,
          -0.3285035098188163,
          -0.18408980579232542,
          -0.575668330094647,
          0.06211278056024565,
          -0.2980839207808471,
          -0.6900263190687328,
          0.9466928356118943,
          0.4369369161764057,
          0.5739310383836496,
          1.6449112745434582,
          -1.7630502680546434,
          0.42499331331685625,
          -0.2682487501446132,
          -0.6439931869255161,
          -1.2890874571532962,
          0.3372180775483443,
          1.1368618824392678,
          -0.09908569591730172,
          0.22941801268669706,
          2.274530159793604,
          -2.084826865936759,
          0.02246326885110578,
          -0.9976814010788779,
          -1.203611465436587,
          -1.4404546117895198,
          1.0945896626940594,
          -0.12331873437293468,
          -0.07486416417015195,
          -0.7159735904353373,
          -1.441541741269909,
          -1.6511113002928979,
          0.20752755106164675,
          0.6866692431899022,
          -0.5253434684781135,
          -0.34121696680681823,
          -0.7101377241544234,
          0.8673374851513335,
          0.6693814303903495,
          0.33747861279895386,
          0.43421948846386565,
          -0.5896906486777742,
          0.8577732734671204,
          0.8822318167813604,
          -0.8355998873733064,
          -0.2671808432114606,
          0.38149373806550346,
          0.39710818594576847,
          0.0016939175901426367,
          0.27169299128835644,
          -0.18503242288638252,
          0.2874110489074513,
          1.2917036599964835,
          0.012806392764316277,
          -0.6013187829788086,
          0.2887690472805458,
          0.5294632809754649,
          -0.4671865195622524
         ]
        },
        {
         "boxpoints": false,
         "line": {
          "width": 1.3
         },
         "marker": {
          "color": "rgba(128, 0, 128, 1.0)"
         },
         "name": "D",
         "orientation": "v",
         "type": "box",
         "y": [
          0.09124207426154374,
          0.23050372092668295,
          0.014859888913373658,
          0.6239763264699059,
          0.16235480114648318,
          1.4845492406294487,
          -0.24759749095892106,
          -0.4612202072965182,
          0.6683144012220376,
          -0.46535510850761114,
          -0.33395440282299166,
          0.3573635291563245,
          -1.1442608614644356,
          0.17296148121397323,
          0.9259288697005811,
          -1.1354172237080085,
          -0.9824537715249738,
          0.7620280141971381,
          -0.5478607089718354,
          -0.02271906163973041,
          0.9382739201658581,
          0.06040255294631438,
          1.5768722286871253,
          1.1789065779684256,
          0.5957667468533718,
          0.6928160880203745,
          0.07803318534448397,
          -0.7511507900485863,
          -2.017575266863575,
          -0.7542311486743793,
          0.9843274467312364,
          0.9223614498976392,
          -0.0693254979767664,
          -0.625152690130413,
          -0.6965352404178793,
          0.16506324429332273,
          -1.3565483683732344,
          0.6732798515567434,
          -0.36557683850328776,
          1.2172166050384277,
          0.019235232902732866,
          0.17912685594107225,
          1.7899803581562799,
          1.0009507152107793,
          0.2192444165275358,
          -0.5131790606950488,
          1.8891102583364106,
          0.5321953810646466,
          -0.6644872263417928,
          -0.12309162364411347,
          -0.31339044568114677,
          -0.25054260467209893,
          -0.27939346708240065,
          -1.2162483585682222,
          0.8697394362378188,
          -1.6708438737163958,
          -2.3312698618270753,
          0.644992665599839,
          0.6095144094932191,
          0.49378481933131374,
          0.9317908390993053,
          0.32139932260319765,
          1.0040081325122843,
          0.6759993179706805,
          -0.13810627740614917,
          0.8594883991882487,
          0.2555764941620284,
          0.9307411415069429,
          -1.4115427388612543,
          -0.08438065706766976,
          0.3677178589278481,
          1.0088429569294157,
          0.9926769433668462,
          0.7830876388691718,
          -0.650139602099969,
          0.03227373601388025,
          0.27477362140694533,
          1.3928724370929564,
          1.209919303897628,
          -0.3224507855553749,
          0.49539365772792204,
          -0.7065013288865348,
          0.7964809892009287,
          1.5097441064074213,
          1.4462034803456403,
          1.0269528923873075,
          0.4500910963989715,
          0.7349224726807688,
          1.227614343659497,
          0.738796879112678,
          0.776915386590465,
          -1.2574127005090718,
          -0.38990474087731036,
          0.04920506131048392,
          -0.17230849326652384,
          -0.33656939690551585,
          1.0046983868385404,
          -0.2261403969988013,
          1.3273304506972414,
          -0.6846365084550697
         ]
        },
        {
         "boxpoints": false,
         "line": {
          "width": 1.3
         },
         "marker": {
          "color": "rgba(219, 64, 82, 1.0)"
         },
         "name": "E",
         "orientation": "v",
         "type": "box",
         "y": [
          0.9772588645208288,
          0.031095691670485027,
          0.4517709119065063,
          0.11505177760843294,
          1.4013872068608693,
          0.12439243290780622,
          0.3143384594106518,
          0.5961004707616886,
          1.65968642352273,
          0.8433833213279801,
          0.8790929369988937,
          0.9097731167884134,
          0.25449939223936224,
          1.7474010052042062,
          0.03195149495193755,
          0.338535606682914,
          0.5861914699834533,
          0.7852693129036312,
          1.0256124153016837,
          0.4960274764979757,
          1.6404394193794958,
          0.5842610371983409,
          1.350264431529778,
          0.5408179423679065,
          0.9082479053654744,
          0.7069767492991279,
          0.13019795076909318,
          1.1282516887737086,
          1.747822457753705,
          1.1991010788063432,
          0.25207171650754456,
          0.18816983036314108,
          0.8539774592252419,
          0.00027423242096450177,
          2.3615316526291985,
          1.1081702271247518,
          0.1720795612082035,
          0.4685511660296994,
          0.14548278138294873,
          0.06695480734404455,
          0.04695989997971613,
          1.304340085601986,
          0.3004069831905211,
          0.3285035098188163,
          0.18408980579232542,
          0.575668330094647,
          0.06211278056024565,
          0.2980839207808471,
          0.6900263190687328,
          0.9466928356118943,
          0.4369369161764057,
          0.5739310383836496,
          1.6449112745434582,
          1.7630502680546434,
          0.42499331331685625,
          0.2682487501446132,
          0.6439931869255161,
          1.2890874571532962,
          0.3372180775483443,
          1.1368618824392678,
          0.09908569591730172,
          0.22941801268669706,
          2.274530159793604,
          2.084826865936759,
          0.02246326885110578,
          0.9976814010788779,
          1.203611465436587,
          1.4404546117895198,
          1.0945896626940594,
          0.12331873437293468,
          0.07486416417015195,
          0.7159735904353373,
          1.441541741269909,
          1.6511113002928979,
          0.20752755106164675,
          0.6866692431899022,
          0.5253434684781135,
          0.34121696680681823,
          0.7101377241544234,
          0.8673374851513335,
          0.6693814303903495,
          0.33747861279895386,
          0.43421948846386565,
          0.5896906486777742,
          0.8577732734671204,
          0.8822318167813604,
          0.8355998873733064,
          0.2671808432114606,
          0.38149373806550346,
          0.39710818594576847,
          0.0016939175901426367,
          0.27169299128835644,
          0.18503242288638252,
          0.2874110489074513,
          1.2917036599964835,
          0.012806392764316277,
          0.6013187829788086,
          0.2887690472805458,
          0.5294632809754649,
          0.4671865195622524
         ]
        }
       ],
       "layout": {
        "legend": {
         "bgcolor": "#F5F6F9",
         "font": {
          "color": "#4D5663"
         }
        },
        "paper_bgcolor": "#F5F6F9",
        "plot_bgcolor": "#F5F6F9",
        "template": {
         "data": {
          "bar": [
           {
            "error_x": {
             "color": "#2a3f5f"
            },
            "error_y": {
             "color": "#2a3f5f"
            },
            "marker": {
             "line": {
              "color": "#E5ECF6",
              "width": 0.5
             }
            },
            "type": "bar"
           }
          ],
          "barpolar": [
           {
            "marker": {
             "line": {
              "color": "#E5ECF6",
              "width": 0.5
             }
            },
            "type": "barpolar"
           }
          ],
          "carpet": [
           {
            "aaxis": {
             "endlinecolor": "#2a3f5f",
             "gridcolor": "white",
             "linecolor": "white",
             "minorgridcolor": "white",
             "startlinecolor": "#2a3f5f"
            },
            "baxis": {
             "endlinecolor": "#2a3f5f",
             "gridcolor": "white",
             "linecolor": "white",
             "minorgridcolor": "white",
             "startlinecolor": "#2a3f5f"
            },
            "type": "carpet"
           }
          ],
          "choropleth": [
           {
            "colorbar": {
             "outlinewidth": 0,
             "ticks": ""
            },
            "type": "choropleth"
           }
          ],
          "contour": [
           {
            "colorbar": {
             "outlinewidth": 0,
             "ticks": ""
            },
            "colorscale": [
             [
              0,
              "#0d0887"
             ],
             [
              0.1111111111111111,
              "#46039f"
             ],
             [
              0.2222222222222222,
              "#7201a8"
             ],
             [
              0.3333333333333333,
              "#9c179e"
             ],
             [
              0.4444444444444444,
              "#bd3786"
             ],
             [
              0.5555555555555556,
              "#d8576b"
             ],
             [
              0.6666666666666666,
              "#ed7953"
             ],
             [
              0.7777777777777778,
              "#fb9f3a"
             ],
             [
              0.8888888888888888,
              "#fdca26"
             ],
             [
              1,
              "#f0f921"
             ]
            ],
            "type": "contour"
           }
          ],
          "contourcarpet": [
           {
            "colorbar": {
             "outlinewidth": 0,
             "ticks": ""
            },
            "type": "contourcarpet"
           }
          ],
          "heatmap": [
           {
            "colorbar": {
             "outlinewidth": 0,
             "ticks": ""
            },
            "colorscale": [
             [
              0,
              "#0d0887"
             ],
             [
              0.1111111111111111,
              "#46039f"
             ],
             [
              0.2222222222222222,
              "#7201a8"
             ],
             [
              0.3333333333333333,
              "#9c179e"
             ],
             [
              0.4444444444444444,
              "#bd3786"
             ],
             [
              0.5555555555555556,
              "#d8576b"
             ],
             [
              0.6666666666666666,
              "#ed7953"
             ],
             [
              0.7777777777777778,
              "#fb9f3a"
             ],
             [
              0.8888888888888888,
              "#fdca26"
             ],
             [
              1,
              "#f0f921"
             ]
            ],
            "type": "heatmap"
           }
          ],
          "heatmapgl": [
           {
            "colorbar": {
             "outlinewidth": 0,
             "ticks": ""
            },
            "colorscale": [
             [
              0,
              "#0d0887"
             ],
             [
              0.1111111111111111,
              "#46039f"
             ],
             [
              0.2222222222222222,
              "#7201a8"
             ],
             [
              0.3333333333333333,
              "#9c179e"
             ],
             [
              0.4444444444444444,
              "#bd3786"
             ],
             [
              0.5555555555555556,
              "#d8576b"
             ],
             [
              0.6666666666666666,
              "#ed7953"
             ],
             [
              0.7777777777777778,
              "#fb9f3a"
             ],
             [
              0.8888888888888888,
              "#fdca26"
             ],
             [
              1,
              "#f0f921"
             ]
            ],
            "type": "heatmapgl"
           }
          ],
          "histogram": [
           {
            "marker": {
             "colorbar": {
              "outlinewidth": 0,
              "ticks": ""
             }
            },
            "type": "histogram"
           }
          ],
          "histogram2d": [
           {
            "colorbar": {
             "outlinewidth": 0,
             "ticks": ""
            },
            "colorscale": [
             [
              0,
              "#0d0887"
             ],
             [
              0.1111111111111111,
              "#46039f"
             ],
             [
              0.2222222222222222,
              "#7201a8"
             ],
             [
              0.3333333333333333,
              "#9c179e"
             ],
             [
              0.4444444444444444,
              "#bd3786"
             ],
             [
              0.5555555555555556,
              "#d8576b"
             ],
             [
              0.6666666666666666,
              "#ed7953"
             ],
             [
              0.7777777777777778,
              "#fb9f3a"
             ],
             [
              0.8888888888888888,
              "#fdca26"
             ],
             [
              1,
              "#f0f921"
             ]
            ],
            "type": "histogram2d"
           }
          ],
          "histogram2dcontour": [
           {
            "colorbar": {
             "outlinewidth": 0,
             "ticks": ""
            },
            "colorscale": [
             [
              0,
              "#0d0887"
             ],
             [
              0.1111111111111111,
              "#46039f"
             ],
             [
              0.2222222222222222,
              "#7201a8"
             ],
             [
              0.3333333333333333,
              "#9c179e"
             ],
             [
              0.4444444444444444,
              "#bd3786"
             ],
             [
              0.5555555555555556,
              "#d8576b"
             ],
             [
              0.6666666666666666,
              "#ed7953"
             ],
             [
              0.7777777777777778,
              "#fb9f3a"
             ],
             [
              0.8888888888888888,
              "#fdca26"
             ],
             [
              1,
              "#f0f921"
             ]
            ],
            "type": "histogram2dcontour"
           }
          ],
          "mesh3d": [
           {
            "colorbar": {
             "outlinewidth": 0,
             "ticks": ""
            },
            "type": "mesh3d"
           }
          ],
          "parcoords": [
           {
            "line": {
             "colorbar": {
              "outlinewidth": 0,
              "ticks": ""
             }
            },
            "type": "parcoords"
           }
          ],
          "pie": [
           {
            "automargin": true,
            "type": "pie"
           }
          ],
          "scatter": [
           {
            "marker": {
             "colorbar": {
              "outlinewidth": 0,
              "ticks": ""
             }
            },
            "type": "scatter"
           }
          ],
          "scatter3d": [
           {
            "line": {
             "colorbar": {
              "outlinewidth": 0,
              "ticks": ""
             }
            },
            "marker": {
             "colorbar": {
              "outlinewidth": 0,
              "ticks": ""
             }
            },
            "type": "scatter3d"
           }
          ],
          "scattercarpet": [
           {
            "marker": {
             "colorbar": {
              "outlinewidth": 0,
              "ticks": ""
             }
            },
            "type": "scattercarpet"
           }
          ],
          "scattergeo": [
           {
            "marker": {
             "colorbar": {
              "outlinewidth": 0,
              "ticks": ""
             }
            },
            "type": "scattergeo"
           }
          ],
          "scattergl": [
           {
            "marker": {
             "colorbar": {
              "outlinewidth": 0,
              "ticks": ""
             }
            },
            "type": "scattergl"
           }
          ],
          "scattermapbox": [
           {
            "marker": {
             "colorbar": {
              "outlinewidth": 0,
              "ticks": ""
             }
            },
            "type": "scattermapbox"
           }
          ],
          "scatterpolar": [
           {
            "marker": {
             "colorbar": {
              "outlinewidth": 0,
              "ticks": ""
             }
            },
            "type": "scatterpolar"
           }
          ],
          "scatterpolargl": [
           {
            "marker": {
             "colorbar": {
              "outlinewidth": 0,
              "ticks": ""
             }
            },
            "type": "scatterpolargl"
           }
          ],
          "scatterternary": [
           {
            "marker": {
             "colorbar": {
              "outlinewidth": 0,
              "ticks": ""
             }
            },
            "type": "scatterternary"
           }
          ],
          "surface": [
           {
            "colorbar": {
             "outlinewidth": 0,
             "ticks": ""
            },
            "colorscale": [
             [
              0,
              "#0d0887"
             ],
             [
              0.1111111111111111,
              "#46039f"
             ],
             [
              0.2222222222222222,
              "#7201a8"
             ],
             [
              0.3333333333333333,
              "#9c179e"
             ],
             [
              0.4444444444444444,
              "#bd3786"
             ],
             [
              0.5555555555555556,
              "#d8576b"
             ],
             [
              0.6666666666666666,
              "#ed7953"
             ],
             [
              0.7777777777777778,
              "#fb9f3a"
             ],
             [
              0.8888888888888888,
              "#fdca26"
             ],
             [
              1,
              "#f0f921"
             ]
            ],
            "type": "surface"
           }
          ],
          "table": [
           {
            "cells": {
             "fill": {
              "color": "#EBF0F8"
             },
             "line": {
              "color": "white"
             }
            },
            "header": {
             "fill": {
              "color": "#C8D4E3"
             },
             "line": {
              "color": "white"
             }
            },
            "type": "table"
           }
          ]
         },
         "layout": {
          "annotationdefaults": {
           "arrowcolor": "#2a3f5f",
           "arrowhead": 0,
           "arrowwidth": 1
          },
          "coloraxis": {
           "colorbar": {
            "outlinewidth": 0,
            "ticks": ""
           }
          },
          "colorscale": {
           "diverging": [
            [
             0,
             "#8e0152"
            ],
            [
             0.1,
             "#c51b7d"
            ],
            [
             0.2,
             "#de77ae"
            ],
            [
             0.3,
             "#f1b6da"
            ],
            [
             0.4,
             "#fde0ef"
            ],
            [
             0.5,
             "#f7f7f7"
            ],
            [
             0.6,
             "#e6f5d0"
            ],
            [
             0.7,
             "#b8e186"
            ],
            [
             0.8,
             "#7fbc41"
            ],
            [
             0.9,
             "#4d9221"
            ],
            [
             1,
             "#276419"
            ]
           ],
           "sequential": [
            [
             0,
             "#0d0887"
            ],
            [
             0.1111111111111111,
             "#46039f"
            ],
            [
             0.2222222222222222,
             "#7201a8"
            ],
            [
             0.3333333333333333,
             "#9c179e"
            ],
            [
             0.4444444444444444,
             "#bd3786"
            ],
            [
             0.5555555555555556,
             "#d8576b"
            ],
            [
             0.6666666666666666,
             "#ed7953"
            ],
            [
             0.7777777777777778,
             "#fb9f3a"
            ],
            [
             0.8888888888888888,
             "#fdca26"
            ],
            [
             1,
             "#f0f921"
            ]
           ],
           "sequentialminus": [
            [
             0,
             "#0d0887"
            ],
            [
             0.1111111111111111,
             "#46039f"
            ],
            [
             0.2222222222222222,
             "#7201a8"
            ],
            [
             0.3333333333333333,
             "#9c179e"
            ],
            [
             0.4444444444444444,
             "#bd3786"
            ],
            [
             0.5555555555555556,
             "#d8576b"
            ],
            [
             0.6666666666666666,
             "#ed7953"
            ],
            [
             0.7777777777777778,
             "#fb9f3a"
            ],
            [
             0.8888888888888888,
             "#fdca26"
            ],
            [
             1,
             "#f0f921"
            ]
           ]
          },
          "colorway": [
           "#636efa",
           "#EF553B",
           "#00cc96",
           "#ab63fa",
           "#FFA15A",
           "#19d3f3",
           "#FF6692",
           "#B6E880",
           "#FF97FF",
           "#FECB52"
          ],
          "font": {
           "color": "#2a3f5f"
          },
          "geo": {
           "bgcolor": "white",
           "lakecolor": "white",
           "landcolor": "#E5ECF6",
           "showlakes": true,
           "showland": true,
           "subunitcolor": "white"
          },
          "hoverlabel": {
           "align": "left"
          },
          "hovermode": "closest",
          "mapbox": {
           "style": "light"
          },
          "paper_bgcolor": "white",
          "plot_bgcolor": "#E5ECF6",
          "polar": {
           "angularaxis": {
            "gridcolor": "white",
            "linecolor": "white",
            "ticks": ""
           },
           "bgcolor": "#E5ECF6",
           "radialaxis": {
            "gridcolor": "white",
            "linecolor": "white",
            "ticks": ""
           }
          },
          "scene": {
           "xaxis": {
            "backgroundcolor": "#E5ECF6",
            "gridcolor": "white",
            "gridwidth": 2,
            "linecolor": "white",
            "showbackground": true,
            "ticks": "",
            "zerolinecolor": "white"
           },
           "yaxis": {
            "backgroundcolor": "#E5ECF6",
            "gridcolor": "white",
            "gridwidth": 2,
            "linecolor": "white",
            "showbackground": true,
            "ticks": "",
            "zerolinecolor": "white"
           },
           "zaxis": {
            "backgroundcolor": "#E5ECF6",
            "gridcolor": "white",
            "gridwidth": 2,
            "linecolor": "white",
            "showbackground": true,
            "ticks": "",
            "zerolinecolor": "white"
           }
          },
          "shapedefaults": {
           "line": {
            "color": "#2a3f5f"
           }
          },
          "ternary": {
           "aaxis": {
            "gridcolor": "white",
            "linecolor": "white",
            "ticks": ""
           },
           "baxis": {
            "gridcolor": "white",
            "linecolor": "white",
            "ticks": ""
           },
           "bgcolor": "#E5ECF6",
           "caxis": {
            "gridcolor": "white",
            "linecolor": "white",
            "ticks": ""
           }
          },
          "title": {
           "x": 0.05
          },
          "xaxis": {
           "automargin": true,
           "gridcolor": "white",
           "linecolor": "white",
           "ticks": "",
           "title": {
            "standoff": 15
           },
           "zerolinecolor": "white",
           "zerolinewidth": 2
          },
          "yaxis": {
           "automargin": true,
           "gridcolor": "white",
           "linecolor": "white",
           "ticks": "",
           "title": {
            "standoff": 15
           },
           "zerolinecolor": "white",
           "zerolinewidth": 2
          }
         }
        },
        "title": {
         "font": {
          "color": "#4D5663"
         }
        },
        "xaxis": {
         "gridcolor": "#E1E5ED",
         "showgrid": true,
         "tickfont": {
          "color": "#4D5663"
         },
         "title": {
          "font": {
           "color": "#4D5663"
          },
          "text": ""
         },
         "zerolinecolor": "#E1E5ED"
        },
        "yaxis": {
         "gridcolor": "#E1E5ED",
         "showgrid": true,
         "tickfont": {
          "color": "#4D5663"
         },
         "title": {
          "font": {
           "color": "#4D5663"
          },
          "text": ""
         },
         "zerolinecolor": "#E1E5ED"
        }
       }
      },
      "text/html": [
       "<div>\n",
       "        \n",
       "        \n",
       "            <div id=\"1e1b75d7-1432-4513-a244-f250f216b834\" class=\"plotly-graph-div\" style=\"height:525px; width:100%;\"></div>\n",
       "            <script type=\"text/javascript\">\n",
       "                require([\"plotly\"], function(Plotly) {\n",
       "                    window.PLOTLYENV=window.PLOTLYENV || {};\n",
       "                    window.PLOTLYENV.BASE_URL='https://plot.ly';\n",
       "                    \n",
       "                if (document.getElementById(\"1e1b75d7-1432-4513-a244-f250f216b834\")) {\n",
       "                    Plotly.newPlot(\n",
       "                        '1e1b75d7-1432-4513-a244-f250f216b834',\n",
       "                        [{\"boxpoints\": false, \"line\": {\"width\": 1.3}, \"marker\": {\"color\": \"rgba(255, 153, 51, 1.0)\"}, \"name\": \"A\", \"orientation\": \"v\", \"type\": \"box\", \"y\": [-0.1486870569660644, 0.39248607716009937, -0.7051592443933776, 0.27576110754488387, -0.7802285366256736, -0.32929780839891537, -1.087810196165536, 1.2605600894157034, -0.6162220153584765, -0.11030956050421618, 1.642528183340233, -1.2471083408197337, -0.5030824358409205, 0.44198222958182076, 0.46872327753545967, 0.7832720942473845, -1.816832134632092, -0.7734372708387459, -0.9663161807866139, -2.3035477810580884, -0.6424602387239299, -0.31914331999725876, -0.41844043091859484, 0.1781758613682762, 0.157684394184153, 0.41595274357957573, 0.5891850592042421, 0.454834731394502, -0.14870591833136512, 0.7917259872985981, -1.6466753374193293, -0.5984417164356648, 0.3653669533476257, 0.6013941003199482, 1.0281964811508901, -0.29834588163580716, -1.5812091606674015, -0.4949013337856304, -1.0499374247496878, -0.25492516141576343, -1.347720027956506, 1.1167699738973915, 1.087498437295148, -0.3627318007990501, -0.9841088308619188, -0.24774969270479127, -0.10622973456180605, 0.7743684307462901, -0.02005363965663801, -0.28863295343821105, -0.24808140074432009, 0.6771989860434181, 1.5103210368836282, -0.4484038407099252, -0.1027729276442637, 0.4150356400669393, -0.8696069965432033, 0.11551999215410763, 1.0162559751767088, -0.1739788003636956, -0.2799898988878147, 1.9689679185639573, -1.3712364456885864, -0.062367008698916995, 0.1622031476510854, -0.0955223967895753, -1.5029096551345607, 0.8754195676784564, -0.5524799575282217, -0.0980995694221568, 0.7693585830793594, 0.2854937541855559, -0.6581872556779551, 2.114936095689492, 0.059169867679413055, 0.2932317898134375, 0.3618512027631301, -0.1705460913024023, -0.029204570730282167, -0.7415372272530977, -0.7651224698222944, 1.1547221513795514, -0.33103781811196065, -0.4952355302309878, 0.7267534144738079, -0.7882902125536603, 0.312778641188715, -0.11825028351583512, -0.9180040351441507, 0.587033645365291, 0.3798610800599315, 0.21441879761051574, 1.1707497307467345, 1.1275071326418369, -0.8479588333638166, -0.058157108364463896, -0.7560319712251692, 1.8283683259669392, 1.2952801263299962, 2.46499250024484]}, {\"boxpoints\": false, \"line\": {\"width\": 1.3}, \"marker\": {\"color\": \"rgba(55, 128, 191, 1.0)\"}, \"name\": \"B\", \"orientation\": \"v\", \"type\": \"box\", \"y\": [-0.13720291276205954, 0.7360290366001643, 0.6182914547488014, -0.41717865842575486, 0.7616049708336934, 1.255700448517242, -0.7878477215044183, 0.4094201423714498, -3.0777284071151, 0.2962713084261198, -0.7566439163766893, 0.6805595530508529, -0.8140383734076175, -0.3756519163109862, 1.1209571938669993, 0.7109715243740368, 0.2706370322757297, 0.5173522166570037, 0.1412707917259537, 1.7956131042028805, -0.37740080006068927, -0.0705594757231226, 0.00017043336379697554, -1.0807897118199614, -0.8927637981588197, 1.157805138567086, -0.3890743339711945, -0.2998728491363871, -0.7629484122608581, -1.5568150046882465, 1.5926536293276692, 1.065928900246484, 1.3951763524319545, 2.361874775141413, -0.6703775046596167, 0.6874294250674926, -0.11962209780754239, -0.6757993702607386, 0.10369601942428011, -1.3706785393771903, 0.5150297006610829, -0.20348877806099472, 1.278848828762823, -1.3672379451360985, 0.5084740282707778, 2.999494366246489, 0.10681899651937042, 0.9167978639920289, -0.9777499167088237, 0.4298857429657398, -0.7956504240436582, -1.8406413912670503, -0.9271791648378976, -0.14817646279579028, -0.31747939699923206, -0.18223864047336216, 0.3284940245408851, 1.3411829957637205, -0.3643147505889812, 0.17639462525327843, -1.2086092815298164, -1.0846769577310682, -1.605427128703998, 0.24649724788045124, -0.11866380461086354, 1.239307253391713, 0.12871910997126498, -2.0949804045461393, 0.2767507297426342, -0.752300159792606, 0.004858035242644644, 0.1906322672214624, 0.3386326129851458, 0.9664630145228903, -0.0014315777408607548, -0.9170153450824298, 0.8204004032861612, 0.9643199571799043, -0.777725262632196, 0.7731495467328146, 0.18062328973014358, 0.9924833750682206, 0.20767988730408643, -0.17496783608048996, 0.0015769199486528167, -0.2760927778043612, -0.24972687617797515, -0.687187293033468, 0.8739237743337697, -0.6687555318032616, -0.13323519699988973, 1.142363840492469, -0.270683968952354, 1.2213182143797743, -0.6530838403596835, -0.07887886921673892, -0.15949726608677098, -1.2083725357104302, 0.005487941892006171, 0.4713064898610162]}, {\"boxpoints\": false, \"line\": {\"width\": 1.3}, \"marker\": {\"color\": \"rgba(50, 171, 96, 1.0)\"}, \"name\": \"C\", \"orientation\": \"v\", \"type\": \"box\", \"y\": [0.9772588645208288, 0.031095691670485027, -0.4517709119065063, -0.11505177760843294, 1.4013872068608693, 0.12439243290780622, 0.3143384594106518, -0.5961004707616886, -1.65968642352273, -0.8433833213279801, -0.8790929369988937, 0.9097731167884134, -0.25449939223936224, -1.7474010052042062, -0.03195149495193755, 0.338535606682914, 0.5861914699834533, -0.7852693129036312, -1.0256124153016837, 0.4960274764979757, 1.6404394193794958, -0.5842610371983409, 1.350264431529778, 0.5408179423679065, -0.9082479053654744, -0.7069767492991279, 0.13019795076909318, 1.1282516887737086, 1.747822457753705, 1.1991010788063432, 0.25207171650754456, -0.18816983036314108, -0.8539774592252419, 0.00027423242096450177, -2.3615316526291985, 1.1081702271247518, -0.1720795612082035, 0.4685511660296994, -0.14548278138294873, 0.06695480734404455, -0.04695989997971613, 1.304340085601986, 0.3004069831905211, -0.3285035098188163, -0.18408980579232542, -0.575668330094647, 0.06211278056024565, -0.2980839207808471, -0.6900263190687328, 0.9466928356118943, 0.4369369161764057, 0.5739310383836496, 1.6449112745434582, -1.7630502680546434, 0.42499331331685625, -0.2682487501446132, -0.6439931869255161, -1.2890874571532962, 0.3372180775483443, 1.1368618824392678, -0.09908569591730172, 0.22941801268669706, 2.274530159793604, -2.084826865936759, 0.02246326885110578, -0.9976814010788779, -1.203611465436587, -1.4404546117895198, 1.0945896626940594, -0.12331873437293468, -0.07486416417015195, -0.7159735904353373, -1.441541741269909, -1.6511113002928979, 0.20752755106164675, 0.6866692431899022, -0.5253434684781135, -0.34121696680681823, -0.7101377241544234, 0.8673374851513335, 0.6693814303903495, 0.33747861279895386, 0.43421948846386565, -0.5896906486777742, 0.8577732734671204, 0.8822318167813604, -0.8355998873733064, -0.2671808432114606, 0.38149373806550346, 0.39710818594576847, 0.0016939175901426367, 0.27169299128835644, -0.18503242288638252, 0.2874110489074513, 1.2917036599964835, 0.012806392764316277, -0.6013187829788086, 0.2887690472805458, 0.5294632809754649, -0.4671865195622524]}, {\"boxpoints\": false, \"line\": {\"width\": 1.3}, \"marker\": {\"color\": \"rgba(128, 0, 128, 1.0)\"}, \"name\": \"D\", \"orientation\": \"v\", \"type\": \"box\", \"y\": [0.09124207426154374, 0.23050372092668295, 0.014859888913373658, 0.6239763264699059, 0.16235480114648318, 1.4845492406294487, -0.24759749095892106, -0.4612202072965182, 0.6683144012220376, -0.46535510850761114, -0.33395440282299166, 0.3573635291563245, -1.1442608614644356, 0.17296148121397323, 0.9259288697005811, -1.1354172237080085, -0.9824537715249738, 0.7620280141971381, -0.5478607089718354, -0.02271906163973041, 0.9382739201658581, 0.06040255294631438, 1.5768722286871253, 1.1789065779684256, 0.5957667468533718, 0.6928160880203745, 0.07803318534448397, -0.7511507900485863, -2.017575266863575, -0.7542311486743793, 0.9843274467312364, 0.9223614498976392, -0.0693254979767664, -0.625152690130413, -0.6965352404178793, 0.16506324429332273, -1.3565483683732344, 0.6732798515567434, -0.36557683850328776, 1.2172166050384277, 0.019235232902732866, 0.17912685594107225, 1.7899803581562799, 1.0009507152107793, 0.2192444165275358, -0.5131790606950488, 1.8891102583364106, 0.5321953810646466, -0.6644872263417928, -0.12309162364411347, -0.31339044568114677, -0.25054260467209893, -0.27939346708240065, -1.2162483585682222, 0.8697394362378188, -1.6708438737163958, -2.3312698618270753, 0.644992665599839, 0.6095144094932191, 0.49378481933131374, 0.9317908390993053, 0.32139932260319765, 1.0040081325122843, 0.6759993179706805, -0.13810627740614917, 0.8594883991882487, 0.2555764941620284, 0.9307411415069429, -1.4115427388612543, -0.08438065706766976, 0.3677178589278481, 1.0088429569294157, 0.9926769433668462, 0.7830876388691718, -0.650139602099969, 0.03227373601388025, 0.27477362140694533, 1.3928724370929564, 1.209919303897628, -0.3224507855553749, 0.49539365772792204, -0.7065013288865348, 0.7964809892009287, 1.5097441064074213, 1.4462034803456403, 1.0269528923873075, 0.4500910963989715, 0.7349224726807688, 1.227614343659497, 0.738796879112678, 0.776915386590465, -1.2574127005090718, -0.38990474087731036, 0.04920506131048392, -0.17230849326652384, -0.33656939690551585, 1.0046983868385404, -0.2261403969988013, 1.3273304506972414, -0.6846365084550697]}, {\"boxpoints\": false, \"line\": {\"width\": 1.3}, \"marker\": {\"color\": \"rgba(219, 64, 82, 1.0)\"}, \"name\": \"E\", \"orientation\": \"v\", \"type\": \"box\", \"y\": [0.9772588645208288, 0.031095691670485027, 0.4517709119065063, 0.11505177760843294, 1.4013872068608693, 0.12439243290780622, 0.3143384594106518, 0.5961004707616886, 1.65968642352273, 0.8433833213279801, 0.8790929369988937, 0.9097731167884134, 0.25449939223936224, 1.7474010052042062, 0.03195149495193755, 0.338535606682914, 0.5861914699834533, 0.7852693129036312, 1.0256124153016837, 0.4960274764979757, 1.6404394193794958, 0.5842610371983409, 1.350264431529778, 0.5408179423679065, 0.9082479053654744, 0.7069767492991279, 0.13019795076909318, 1.1282516887737086, 1.747822457753705, 1.1991010788063432, 0.25207171650754456, 0.18816983036314108, 0.8539774592252419, 0.00027423242096450177, 2.3615316526291985, 1.1081702271247518, 0.1720795612082035, 0.4685511660296994, 0.14548278138294873, 0.06695480734404455, 0.04695989997971613, 1.304340085601986, 0.3004069831905211, 0.3285035098188163, 0.18408980579232542, 0.575668330094647, 0.06211278056024565, 0.2980839207808471, 0.6900263190687328, 0.9466928356118943, 0.4369369161764057, 0.5739310383836496, 1.6449112745434582, 1.7630502680546434, 0.42499331331685625, 0.2682487501446132, 0.6439931869255161, 1.2890874571532962, 0.3372180775483443, 1.1368618824392678, 0.09908569591730172, 0.22941801268669706, 2.274530159793604, 2.084826865936759, 0.02246326885110578, 0.9976814010788779, 1.203611465436587, 1.4404546117895198, 1.0945896626940594, 0.12331873437293468, 0.07486416417015195, 0.7159735904353373, 1.441541741269909, 1.6511113002928979, 0.20752755106164675, 0.6866692431899022, 0.5253434684781135, 0.34121696680681823, 0.7101377241544234, 0.8673374851513335, 0.6693814303903495, 0.33747861279895386, 0.43421948846386565, 0.5896906486777742, 0.8577732734671204, 0.8822318167813604, 0.8355998873733064, 0.2671808432114606, 0.38149373806550346, 0.39710818594576847, 0.0016939175901426367, 0.27169299128835644, 0.18503242288638252, 0.2874110489074513, 1.2917036599964835, 0.012806392764316277, 0.6013187829788086, 0.2887690472805458, 0.5294632809754649, 0.4671865195622524]}],\n",
       "                        {\"legend\": {\"bgcolor\": \"#F5F6F9\", \"font\": {\"color\": \"#4D5663\"}}, \"paper_bgcolor\": \"#F5F6F9\", \"plot_bgcolor\": \"#F5F6F9\", \"template\": {\"data\": {\"bar\": [{\"error_x\": {\"color\": \"#2a3f5f\"}, \"error_y\": {\"color\": \"#2a3f5f\"}, \"marker\": {\"line\": {\"color\": \"#E5ECF6\", \"width\": 0.5}}, \"type\": \"bar\"}], \"barpolar\": [{\"marker\": {\"line\": {\"color\": \"#E5ECF6\", \"width\": 0.5}}, \"type\": \"barpolar\"}], \"carpet\": [{\"aaxis\": {\"endlinecolor\": \"#2a3f5f\", \"gridcolor\": \"white\", \"linecolor\": \"white\", \"minorgridcolor\": \"white\", \"startlinecolor\": \"#2a3f5f\"}, \"baxis\": {\"endlinecolor\": \"#2a3f5f\", \"gridcolor\": \"white\", \"linecolor\": \"white\", \"minorgridcolor\": \"white\", \"startlinecolor\": \"#2a3f5f\"}, \"type\": \"carpet\"}], \"choropleth\": [{\"colorbar\": {\"outlinewidth\": 0, \"ticks\": \"\"}, \"type\": \"choropleth\"}], \"contour\": [{\"colorbar\": {\"outlinewidth\": 0, \"ticks\": \"\"}, \"colorscale\": [[0.0, \"#0d0887\"], [0.1111111111111111, \"#46039f\"], [0.2222222222222222, \"#7201a8\"], [0.3333333333333333, \"#9c179e\"], [0.4444444444444444, \"#bd3786\"], [0.5555555555555556, \"#d8576b\"], [0.6666666666666666, \"#ed7953\"], [0.7777777777777778, \"#fb9f3a\"], [0.8888888888888888, \"#fdca26\"], [1.0, \"#f0f921\"]], \"type\": \"contour\"}], \"contourcarpet\": [{\"colorbar\": {\"outlinewidth\": 0, \"ticks\": \"\"}, \"type\": \"contourcarpet\"}], \"heatmap\": [{\"colorbar\": {\"outlinewidth\": 0, \"ticks\": \"\"}, \"colorscale\": [[0.0, \"#0d0887\"], [0.1111111111111111, \"#46039f\"], [0.2222222222222222, \"#7201a8\"], [0.3333333333333333, \"#9c179e\"], [0.4444444444444444, \"#bd3786\"], [0.5555555555555556, \"#d8576b\"], [0.6666666666666666, \"#ed7953\"], [0.7777777777777778, \"#fb9f3a\"], [0.8888888888888888, \"#fdca26\"], [1.0, \"#f0f921\"]], \"type\": \"heatmap\"}], \"heatmapgl\": [{\"colorbar\": {\"outlinewidth\": 0, \"ticks\": \"\"}, \"colorscale\": [[0.0, \"#0d0887\"], [0.1111111111111111, \"#46039f\"], [0.2222222222222222, \"#7201a8\"], [0.3333333333333333, \"#9c179e\"], [0.4444444444444444, \"#bd3786\"], [0.5555555555555556, \"#d8576b\"], [0.6666666666666666, \"#ed7953\"], [0.7777777777777778, \"#fb9f3a\"], [0.8888888888888888, \"#fdca26\"], [1.0, \"#f0f921\"]], \"type\": \"heatmapgl\"}], \"histogram\": [{\"marker\": {\"colorbar\": {\"outlinewidth\": 0, \"ticks\": \"\"}}, \"type\": \"histogram\"}], \"histogram2d\": [{\"colorbar\": {\"outlinewidth\": 0, \"ticks\": \"\"}, \"colorscale\": [[0.0, \"#0d0887\"], [0.1111111111111111, \"#46039f\"], [0.2222222222222222, \"#7201a8\"], [0.3333333333333333, \"#9c179e\"], [0.4444444444444444, \"#bd3786\"], [0.5555555555555556, \"#d8576b\"], [0.6666666666666666, \"#ed7953\"], [0.7777777777777778, \"#fb9f3a\"], [0.8888888888888888, \"#fdca26\"], [1.0, \"#f0f921\"]], \"type\": \"histogram2d\"}], \"histogram2dcontour\": [{\"colorbar\": {\"outlinewidth\": 0, \"ticks\": \"\"}, \"colorscale\": [[0.0, \"#0d0887\"], [0.1111111111111111, \"#46039f\"], [0.2222222222222222, \"#7201a8\"], [0.3333333333333333, \"#9c179e\"], [0.4444444444444444, \"#bd3786\"], [0.5555555555555556, \"#d8576b\"], [0.6666666666666666, \"#ed7953\"], [0.7777777777777778, \"#fb9f3a\"], [0.8888888888888888, \"#fdca26\"], [1.0, \"#f0f921\"]], \"type\": \"histogram2dcontour\"}], \"mesh3d\": [{\"colorbar\": {\"outlinewidth\": 0, \"ticks\": \"\"}, \"type\": \"mesh3d\"}], \"parcoords\": [{\"line\": {\"colorbar\": {\"outlinewidth\": 0, \"ticks\": \"\"}}, \"type\": \"parcoords\"}], \"pie\": [{\"automargin\": true, \"type\": \"pie\"}], \"scatter\": [{\"marker\": {\"colorbar\": {\"outlinewidth\": 0, \"ticks\": \"\"}}, \"type\": \"scatter\"}], \"scatter3d\": [{\"line\": {\"colorbar\": {\"outlinewidth\": 0, \"ticks\": \"\"}}, \"marker\": {\"colorbar\": {\"outlinewidth\": 0, \"ticks\": \"\"}}, \"type\": \"scatter3d\"}], \"scattercarpet\": [{\"marker\": {\"colorbar\": {\"outlinewidth\": 0, \"ticks\": \"\"}}, \"type\": \"scattercarpet\"}], \"scattergeo\": [{\"marker\": {\"colorbar\": {\"outlinewidth\": 0, \"ticks\": \"\"}}, \"type\": \"scattergeo\"}], \"scattergl\": [{\"marker\": {\"colorbar\": {\"outlinewidth\": 0, \"ticks\": \"\"}}, \"type\": \"scattergl\"}], \"scattermapbox\": [{\"marker\": {\"colorbar\": {\"outlinewidth\": 0, \"ticks\": \"\"}}, \"type\": \"scattermapbox\"}], \"scatterpolar\": [{\"marker\": {\"colorbar\": {\"outlinewidth\": 0, \"ticks\": \"\"}}, \"type\": \"scatterpolar\"}], \"scatterpolargl\": [{\"marker\": {\"colorbar\": {\"outlinewidth\": 0, \"ticks\": \"\"}}, \"type\": \"scatterpolargl\"}], \"scatterternary\": [{\"marker\": {\"colorbar\": {\"outlinewidth\": 0, \"ticks\": \"\"}}, \"type\": \"scatterternary\"}], \"surface\": [{\"colorbar\": {\"outlinewidth\": 0, \"ticks\": \"\"}, \"colorscale\": [[0.0, \"#0d0887\"], [0.1111111111111111, \"#46039f\"], [0.2222222222222222, \"#7201a8\"], [0.3333333333333333, \"#9c179e\"], [0.4444444444444444, \"#bd3786\"], [0.5555555555555556, \"#d8576b\"], [0.6666666666666666, \"#ed7953\"], [0.7777777777777778, \"#fb9f3a\"], [0.8888888888888888, \"#fdca26\"], [1.0, \"#f0f921\"]], \"type\": \"surface\"}], \"table\": [{\"cells\": {\"fill\": {\"color\": \"#EBF0F8\"}, \"line\": {\"color\": \"white\"}}, \"header\": {\"fill\": {\"color\": \"#C8D4E3\"}, \"line\": {\"color\": \"white\"}}, \"type\": \"table\"}]}, \"layout\": {\"annotationdefaults\": {\"arrowcolor\": \"#2a3f5f\", \"arrowhead\": 0, \"arrowwidth\": 1}, \"coloraxis\": {\"colorbar\": {\"outlinewidth\": 0, \"ticks\": \"\"}}, \"colorscale\": {\"diverging\": [[0, \"#8e0152\"], [0.1, \"#c51b7d\"], [0.2, \"#de77ae\"], [0.3, \"#f1b6da\"], [0.4, \"#fde0ef\"], [0.5, \"#f7f7f7\"], [0.6, \"#e6f5d0\"], [0.7, \"#b8e186\"], [0.8, \"#7fbc41\"], [0.9, \"#4d9221\"], [1, \"#276419\"]], \"sequential\": [[0.0, \"#0d0887\"], [0.1111111111111111, \"#46039f\"], [0.2222222222222222, \"#7201a8\"], [0.3333333333333333, \"#9c179e\"], [0.4444444444444444, \"#bd3786\"], [0.5555555555555556, \"#d8576b\"], [0.6666666666666666, \"#ed7953\"], [0.7777777777777778, \"#fb9f3a\"], [0.8888888888888888, \"#fdca26\"], [1.0, \"#f0f921\"]], \"sequentialminus\": [[0.0, \"#0d0887\"], [0.1111111111111111, \"#46039f\"], [0.2222222222222222, \"#7201a8\"], [0.3333333333333333, \"#9c179e\"], [0.4444444444444444, \"#bd3786\"], [0.5555555555555556, \"#d8576b\"], [0.6666666666666666, \"#ed7953\"], [0.7777777777777778, \"#fb9f3a\"], [0.8888888888888888, \"#fdca26\"], [1.0, \"#f0f921\"]]}, \"colorway\": [\"#636efa\", \"#EF553B\", \"#00cc96\", \"#ab63fa\", \"#FFA15A\", \"#19d3f3\", \"#FF6692\", \"#B6E880\", \"#FF97FF\", \"#FECB52\"], \"font\": {\"color\": \"#2a3f5f\"}, \"geo\": {\"bgcolor\": \"white\", \"lakecolor\": \"white\", \"landcolor\": \"#E5ECF6\", \"showlakes\": true, \"showland\": true, \"subunitcolor\": \"white\"}, \"hoverlabel\": {\"align\": \"left\"}, \"hovermode\": \"closest\", \"mapbox\": {\"style\": \"light\"}, \"paper_bgcolor\": \"white\", \"plot_bgcolor\": \"#E5ECF6\", \"polar\": {\"angularaxis\": {\"gridcolor\": \"white\", \"linecolor\": \"white\", \"ticks\": \"\"}, \"bgcolor\": \"#E5ECF6\", \"radialaxis\": {\"gridcolor\": \"white\", \"linecolor\": \"white\", \"ticks\": \"\"}}, \"scene\": {\"xaxis\": {\"backgroundcolor\": \"#E5ECF6\", \"gridcolor\": \"white\", \"gridwidth\": 2, \"linecolor\": \"white\", \"showbackground\": true, \"ticks\": \"\", \"zerolinecolor\": \"white\"}, \"yaxis\": {\"backgroundcolor\": \"#E5ECF6\", \"gridcolor\": \"white\", \"gridwidth\": 2, \"linecolor\": \"white\", \"showbackground\": true, \"ticks\": \"\", \"zerolinecolor\": \"white\"}, \"zaxis\": {\"backgroundcolor\": \"#E5ECF6\", \"gridcolor\": \"white\", \"gridwidth\": 2, \"linecolor\": \"white\", \"showbackground\": true, \"ticks\": \"\", \"zerolinecolor\": \"white\"}}, \"shapedefaults\": {\"line\": {\"color\": \"#2a3f5f\"}}, \"ternary\": {\"aaxis\": {\"gridcolor\": \"white\", \"linecolor\": \"white\", \"ticks\": \"\"}, \"baxis\": {\"gridcolor\": \"white\", \"linecolor\": \"white\", \"ticks\": \"\"}, \"bgcolor\": \"#E5ECF6\", \"caxis\": {\"gridcolor\": \"white\", \"linecolor\": \"white\", \"ticks\": \"\"}}, \"title\": {\"x\": 0.05}, \"xaxis\": {\"automargin\": true, \"gridcolor\": \"white\", \"linecolor\": \"white\", \"ticks\": \"\", \"title\": {\"standoff\": 15}, \"zerolinecolor\": \"white\", \"zerolinewidth\": 2}, \"yaxis\": {\"automargin\": true, \"gridcolor\": \"white\", \"linecolor\": \"white\", \"ticks\": \"\", \"title\": {\"standoff\": 15}, \"zerolinecolor\": \"white\", \"zerolinewidth\": 2}}}, \"title\": {\"font\": {\"color\": \"#4D5663\"}}, \"xaxis\": {\"gridcolor\": \"#E1E5ED\", \"showgrid\": true, \"tickfont\": {\"color\": \"#4D5663\"}, \"title\": {\"font\": {\"color\": \"#4D5663\"}, \"text\": \"\"}, \"zerolinecolor\": \"#E1E5ED\"}, \"yaxis\": {\"gridcolor\": \"#E1E5ED\", \"showgrid\": true, \"tickfont\": {\"color\": \"#4D5663\"}, \"title\": {\"font\": {\"color\": \"#4D5663\"}, \"text\": \"\"}, \"zerolinecolor\": \"#E1E5ED\"}},\n",
       "                        {\"showLink\": true, \"linkText\": \"Export to plot.ly\", \"plotlyServerURL\": \"https://plot.ly\", \"responsive\": true}\n",
       "                    ).then(function(){\n",
       "                            \n",
       "var gd = document.getElementById('1e1b75d7-1432-4513-a244-f250f216b834');\n",
       "var x = new MutationObserver(function (mutations, observer) {{\n",
       "        var display = window.getComputedStyle(gd).display;\n",
       "        if (!display || display === 'none') {{\n",
       "            console.log([gd, 'removed!']);\n",
       "            Plotly.purge(gd);\n",
       "            observer.disconnect();\n",
       "        }}\n",
       "}});\n",
       "\n",
       "// Listen for the removal of the full notebook cells\n",
       "var notebookContainer = gd.closest('#notebook-container');\n",
       "if (notebookContainer) {{\n",
       "    x.observe(notebookContainer, {childList: true});\n",
       "}}\n",
       "\n",
       "// Listen for the clearing of the current output cell\n",
       "var outputEl = gd.closest('.output');\n",
       "if (outputEl) {{\n",
       "    x.observe(outputEl, {childList: true});\n",
       "}}\n",
       "\n",
       "                        })\n",
       "                };\n",
       "                });\n",
       "            </script>\n",
       "        </div>"
      ]
     },
     "metadata": {},
     "output_type": "display_data"
    }
   ],
   "source": [
    "df.iplot(kind='box')"
   ]
  },
  {
   "cell_type": "markdown",
   "id": "appropriate-doubt",
   "metadata": {},
   "source": [
    "## 3D Surface"
   ]
  },
  {
   "cell_type": "code",
   "execution_count": 38,
   "id": "caring-french",
   "metadata": {},
   "outputs": [
    {
     "data": {
      "text/html": [
       "<div>\n",
       "<style scoped>\n",
       "    .dataframe tbody tr th:only-of-type {\n",
       "        vertical-align: middle;\n",
       "    }\n",
       "\n",
       "    .dataframe tbody tr th {\n",
       "        vertical-align: top;\n",
       "    }\n",
       "\n",
       "    .dataframe thead th {\n",
       "        text-align: right;\n",
       "    }\n",
       "</style>\n",
       "<table border=\"1\" class=\"dataframe\">\n",
       "  <thead>\n",
       "    <tr style=\"text-align: right;\">\n",
       "      <th></th>\n",
       "      <th>x</th>\n",
       "      <th>y</th>\n",
       "      <th>z</th>\n",
       "    </tr>\n",
       "  </thead>\n",
       "  <tbody>\n",
       "    <tr>\n",
       "      <th>0</th>\n",
       "      <td>1</td>\n",
       "      <td>10</td>\n",
       "      <td>5</td>\n",
       "    </tr>\n",
       "    <tr>\n",
       "      <th>1</th>\n",
       "      <td>2</td>\n",
       "      <td>20</td>\n",
       "      <td>4</td>\n",
       "    </tr>\n",
       "    <tr>\n",
       "      <th>2</th>\n",
       "      <td>3</td>\n",
       "      <td>30</td>\n",
       "      <td>3</td>\n",
       "    </tr>\n",
       "    <tr>\n",
       "      <th>3</th>\n",
       "      <td>4</td>\n",
       "      <td>20</td>\n",
       "      <td>2</td>\n",
       "    </tr>\n",
       "    <tr>\n",
       "      <th>4</th>\n",
       "      <td>5</td>\n",
       "      <td>10</td>\n",
       "      <td>1</td>\n",
       "    </tr>\n",
       "  </tbody>\n",
       "</table>\n",
       "</div>"
      ],
      "text/plain": [
       "   x   y  z\n",
       "0  1  10  5\n",
       "1  2  20  4\n",
       "2  3  30  3\n",
       "3  4  20  2\n",
       "4  5  10  1"
      ]
     },
     "execution_count": 38,
     "metadata": {},
     "output_type": "execute_result"
    }
   ],
   "source": [
    "df3 = pd.DataFrame({'x': [1,2,3,4,5], 'y':[10,20,30,20,10], 'z':[5,4,3,2,1]})\n",
    "df3"
   ]
  },
  {
   "cell_type": "code",
   "execution_count": 42,
   "id": "consolidated-hours",
   "metadata": {},
   "outputs": [
    {
     "data": {
      "application/vnd.plotly.v1+json": {
       "config": {
        "linkText": "Export to plot.ly",
        "plotlyServerURL": "https://plot.ly",
        "showLink": true
       },
       "data": [
        {
         "colorscale": [
          [
           0,
           "rgb(165,0,38)"
          ],
          [
           0.1,
           "rgb(215,48,39)"
          ],
          [
           0.2,
           "rgb(244,109,67)"
          ],
          [
           0.3,
           "rgb(253,174,97)"
          ],
          [
           0.4,
           "rgb(254,224,144)"
          ],
          [
           0.5,
           "rgb(255,255,191)"
          ],
          [
           0.6,
           "rgb(224,243,248)"
          ],
          [
           0.7,
           "rgb(171,217,233)"
          ],
          [
           0.8,
           "rgb(116,173,209)"
          ],
          [
           0.9,
           "rgb(69,117,180)"
          ],
          [
           1,
           "rgb(49,54,149)"
          ]
         ],
         "type": "surface",
         "x": [
          0,
          1,
          2,
          3,
          4
         ],
         "y": [
          "x",
          "y",
          "z"
         ],
         "z": [
          [
           1,
           2,
           3,
           4,
           5
          ],
          [
           10,
           20,
           30,
           20,
           10
          ],
          [
           5,
           4,
           3,
           2,
           1
          ]
         ]
        }
       ],
       "layout": {
        "legend": {
         "bgcolor": "#F5F6F9",
         "font": {
          "color": "#4D5663"
         }
        },
        "paper_bgcolor": "#F5F6F9",
        "plot_bgcolor": "#F5F6F9",
        "template": {
         "data": {
          "bar": [
           {
            "error_x": {
             "color": "#2a3f5f"
            },
            "error_y": {
             "color": "#2a3f5f"
            },
            "marker": {
             "line": {
              "color": "#E5ECF6",
              "width": 0.5
             }
            },
            "type": "bar"
           }
          ],
          "barpolar": [
           {
            "marker": {
             "line": {
              "color": "#E5ECF6",
              "width": 0.5
             }
            },
            "type": "barpolar"
           }
          ],
          "carpet": [
           {
            "aaxis": {
             "endlinecolor": "#2a3f5f",
             "gridcolor": "white",
             "linecolor": "white",
             "minorgridcolor": "white",
             "startlinecolor": "#2a3f5f"
            },
            "baxis": {
             "endlinecolor": "#2a3f5f",
             "gridcolor": "white",
             "linecolor": "white",
             "minorgridcolor": "white",
             "startlinecolor": "#2a3f5f"
            },
            "type": "carpet"
           }
          ],
          "choropleth": [
           {
            "colorbar": {
             "outlinewidth": 0,
             "ticks": ""
            },
            "type": "choropleth"
           }
          ],
          "contour": [
           {
            "colorbar": {
             "outlinewidth": 0,
             "ticks": ""
            },
            "colorscale": [
             [
              0,
              "#0d0887"
             ],
             [
              0.1111111111111111,
              "#46039f"
             ],
             [
              0.2222222222222222,
              "#7201a8"
             ],
             [
              0.3333333333333333,
              "#9c179e"
             ],
             [
              0.4444444444444444,
              "#bd3786"
             ],
             [
              0.5555555555555556,
              "#d8576b"
             ],
             [
              0.6666666666666666,
              "#ed7953"
             ],
             [
              0.7777777777777778,
              "#fb9f3a"
             ],
             [
              0.8888888888888888,
              "#fdca26"
             ],
             [
              1,
              "#f0f921"
             ]
            ],
            "type": "contour"
           }
          ],
          "contourcarpet": [
           {
            "colorbar": {
             "outlinewidth": 0,
             "ticks": ""
            },
            "type": "contourcarpet"
           }
          ],
          "heatmap": [
           {
            "colorbar": {
             "outlinewidth": 0,
             "ticks": ""
            },
            "colorscale": [
             [
              0,
              "#0d0887"
             ],
             [
              0.1111111111111111,
              "#46039f"
             ],
             [
              0.2222222222222222,
              "#7201a8"
             ],
             [
              0.3333333333333333,
              "#9c179e"
             ],
             [
              0.4444444444444444,
              "#bd3786"
             ],
             [
              0.5555555555555556,
              "#d8576b"
             ],
             [
              0.6666666666666666,
              "#ed7953"
             ],
             [
              0.7777777777777778,
              "#fb9f3a"
             ],
             [
              0.8888888888888888,
              "#fdca26"
             ],
             [
              1,
              "#f0f921"
             ]
            ],
            "type": "heatmap"
           }
          ],
          "heatmapgl": [
           {
            "colorbar": {
             "outlinewidth": 0,
             "ticks": ""
            },
            "colorscale": [
             [
              0,
              "#0d0887"
             ],
             [
              0.1111111111111111,
              "#46039f"
             ],
             [
              0.2222222222222222,
              "#7201a8"
             ],
             [
              0.3333333333333333,
              "#9c179e"
             ],
             [
              0.4444444444444444,
              "#bd3786"
             ],
             [
              0.5555555555555556,
              "#d8576b"
             ],
             [
              0.6666666666666666,
              "#ed7953"
             ],
             [
              0.7777777777777778,
              "#fb9f3a"
             ],
             [
              0.8888888888888888,
              "#fdca26"
             ],
             [
              1,
              "#f0f921"
             ]
            ],
            "type": "heatmapgl"
           }
          ],
          "histogram": [
           {
            "marker": {
             "colorbar": {
              "outlinewidth": 0,
              "ticks": ""
             }
            },
            "type": "histogram"
           }
          ],
          "histogram2d": [
           {
            "colorbar": {
             "outlinewidth": 0,
             "ticks": ""
            },
            "colorscale": [
             [
              0,
              "#0d0887"
             ],
             [
              0.1111111111111111,
              "#46039f"
             ],
             [
              0.2222222222222222,
              "#7201a8"
             ],
             [
              0.3333333333333333,
              "#9c179e"
             ],
             [
              0.4444444444444444,
              "#bd3786"
             ],
             [
              0.5555555555555556,
              "#d8576b"
             ],
             [
              0.6666666666666666,
              "#ed7953"
             ],
             [
              0.7777777777777778,
              "#fb9f3a"
             ],
             [
              0.8888888888888888,
              "#fdca26"
             ],
             [
              1,
              "#f0f921"
             ]
            ],
            "type": "histogram2d"
           }
          ],
          "histogram2dcontour": [
           {
            "colorbar": {
             "outlinewidth": 0,
             "ticks": ""
            },
            "colorscale": [
             [
              0,
              "#0d0887"
             ],
             [
              0.1111111111111111,
              "#46039f"
             ],
             [
              0.2222222222222222,
              "#7201a8"
             ],
             [
              0.3333333333333333,
              "#9c179e"
             ],
             [
              0.4444444444444444,
              "#bd3786"
             ],
             [
              0.5555555555555556,
              "#d8576b"
             ],
             [
              0.6666666666666666,
              "#ed7953"
             ],
             [
              0.7777777777777778,
              "#fb9f3a"
             ],
             [
              0.8888888888888888,
              "#fdca26"
             ],
             [
              1,
              "#f0f921"
             ]
            ],
            "type": "histogram2dcontour"
           }
          ],
          "mesh3d": [
           {
            "colorbar": {
             "outlinewidth": 0,
             "ticks": ""
            },
            "type": "mesh3d"
           }
          ],
          "parcoords": [
           {
            "line": {
             "colorbar": {
              "outlinewidth": 0,
              "ticks": ""
             }
            },
            "type": "parcoords"
           }
          ],
          "pie": [
           {
            "automargin": true,
            "type": "pie"
           }
          ],
          "scatter": [
           {
            "marker": {
             "colorbar": {
              "outlinewidth": 0,
              "ticks": ""
             }
            },
            "type": "scatter"
           }
          ],
          "scatter3d": [
           {
            "line": {
             "colorbar": {
              "outlinewidth": 0,
              "ticks": ""
             }
            },
            "marker": {
             "colorbar": {
              "outlinewidth": 0,
              "ticks": ""
             }
            },
            "type": "scatter3d"
           }
          ],
          "scattercarpet": [
           {
            "marker": {
             "colorbar": {
              "outlinewidth": 0,
              "ticks": ""
             }
            },
            "type": "scattercarpet"
           }
          ],
          "scattergeo": [
           {
            "marker": {
             "colorbar": {
              "outlinewidth": 0,
              "ticks": ""
             }
            },
            "type": "scattergeo"
           }
          ],
          "scattergl": [
           {
            "marker": {
             "colorbar": {
              "outlinewidth": 0,
              "ticks": ""
             }
            },
            "type": "scattergl"
           }
          ],
          "scattermapbox": [
           {
            "marker": {
             "colorbar": {
              "outlinewidth": 0,
              "ticks": ""
             }
            },
            "type": "scattermapbox"
           }
          ],
          "scatterpolar": [
           {
            "marker": {
             "colorbar": {
              "outlinewidth": 0,
              "ticks": ""
             }
            },
            "type": "scatterpolar"
           }
          ],
          "scatterpolargl": [
           {
            "marker": {
             "colorbar": {
              "outlinewidth": 0,
              "ticks": ""
             }
            },
            "type": "scatterpolargl"
           }
          ],
          "scatterternary": [
           {
            "marker": {
             "colorbar": {
              "outlinewidth": 0,
              "ticks": ""
             }
            },
            "type": "scatterternary"
           }
          ],
          "surface": [
           {
            "colorbar": {
             "outlinewidth": 0,
             "ticks": ""
            },
            "colorscale": [
             [
              0,
              "#0d0887"
             ],
             [
              0.1111111111111111,
              "#46039f"
             ],
             [
              0.2222222222222222,
              "#7201a8"
             ],
             [
              0.3333333333333333,
              "#9c179e"
             ],
             [
              0.4444444444444444,
              "#bd3786"
             ],
             [
              0.5555555555555556,
              "#d8576b"
             ],
             [
              0.6666666666666666,
              "#ed7953"
             ],
             [
              0.7777777777777778,
              "#fb9f3a"
             ],
             [
              0.8888888888888888,
              "#fdca26"
             ],
             [
              1,
              "#f0f921"
             ]
            ],
            "type": "surface"
           }
          ],
          "table": [
           {
            "cells": {
             "fill": {
              "color": "#EBF0F8"
             },
             "line": {
              "color": "white"
             }
            },
            "header": {
             "fill": {
              "color": "#C8D4E3"
             },
             "line": {
              "color": "white"
             }
            },
            "type": "table"
           }
          ]
         },
         "layout": {
          "annotationdefaults": {
           "arrowcolor": "#2a3f5f",
           "arrowhead": 0,
           "arrowwidth": 1
          },
          "coloraxis": {
           "colorbar": {
            "outlinewidth": 0,
            "ticks": ""
           }
          },
          "colorscale": {
           "diverging": [
            [
             0,
             "#8e0152"
            ],
            [
             0.1,
             "#c51b7d"
            ],
            [
             0.2,
             "#de77ae"
            ],
            [
             0.3,
             "#f1b6da"
            ],
            [
             0.4,
             "#fde0ef"
            ],
            [
             0.5,
             "#f7f7f7"
            ],
            [
             0.6,
             "#e6f5d0"
            ],
            [
             0.7,
             "#b8e186"
            ],
            [
             0.8,
             "#7fbc41"
            ],
            [
             0.9,
             "#4d9221"
            ],
            [
             1,
             "#276419"
            ]
           ],
           "sequential": [
            [
             0,
             "#0d0887"
            ],
            [
             0.1111111111111111,
             "#46039f"
            ],
            [
             0.2222222222222222,
             "#7201a8"
            ],
            [
             0.3333333333333333,
             "#9c179e"
            ],
            [
             0.4444444444444444,
             "#bd3786"
            ],
            [
             0.5555555555555556,
             "#d8576b"
            ],
            [
             0.6666666666666666,
             "#ed7953"
            ],
            [
             0.7777777777777778,
             "#fb9f3a"
            ],
            [
             0.8888888888888888,
             "#fdca26"
            ],
            [
             1,
             "#f0f921"
            ]
           ],
           "sequentialminus": [
            [
             0,
             "#0d0887"
            ],
            [
             0.1111111111111111,
             "#46039f"
            ],
            [
             0.2222222222222222,
             "#7201a8"
            ],
            [
             0.3333333333333333,
             "#9c179e"
            ],
            [
             0.4444444444444444,
             "#bd3786"
            ],
            [
             0.5555555555555556,
             "#d8576b"
            ],
            [
             0.6666666666666666,
             "#ed7953"
            ],
            [
             0.7777777777777778,
             "#fb9f3a"
            ],
            [
             0.8888888888888888,
             "#fdca26"
            ],
            [
             1,
             "#f0f921"
            ]
           ]
          },
          "colorway": [
           "#636efa",
           "#EF553B",
           "#00cc96",
           "#ab63fa",
           "#FFA15A",
           "#19d3f3",
           "#FF6692",
           "#B6E880",
           "#FF97FF",
           "#FECB52"
          ],
          "font": {
           "color": "#2a3f5f"
          },
          "geo": {
           "bgcolor": "white",
           "lakecolor": "white",
           "landcolor": "#E5ECF6",
           "showlakes": true,
           "showland": true,
           "subunitcolor": "white"
          },
          "hoverlabel": {
           "align": "left"
          },
          "hovermode": "closest",
          "mapbox": {
           "style": "light"
          },
          "paper_bgcolor": "white",
          "plot_bgcolor": "#E5ECF6",
          "polar": {
           "angularaxis": {
            "gridcolor": "white",
            "linecolor": "white",
            "ticks": ""
           },
           "bgcolor": "#E5ECF6",
           "radialaxis": {
            "gridcolor": "white",
            "linecolor": "white",
            "ticks": ""
           }
          },
          "scene": {
           "xaxis": {
            "backgroundcolor": "#E5ECF6",
            "gridcolor": "white",
            "gridwidth": 2,
            "linecolor": "white",
            "showbackground": true,
            "ticks": "",
            "zerolinecolor": "white"
           },
           "yaxis": {
            "backgroundcolor": "#E5ECF6",
            "gridcolor": "white",
            "gridwidth": 2,
            "linecolor": "white",
            "showbackground": true,
            "ticks": "",
            "zerolinecolor": "white"
           },
           "zaxis": {
            "backgroundcolor": "#E5ECF6",
            "gridcolor": "white",
            "gridwidth": 2,
            "linecolor": "white",
            "showbackground": true,
            "ticks": "",
            "zerolinecolor": "white"
           }
          },
          "shapedefaults": {
           "line": {
            "color": "#2a3f5f"
           }
          },
          "ternary": {
           "aaxis": {
            "gridcolor": "white",
            "linecolor": "white",
            "ticks": ""
           },
           "baxis": {
            "gridcolor": "white",
            "linecolor": "white",
            "ticks": ""
           },
           "bgcolor": "#E5ECF6",
           "caxis": {
            "gridcolor": "white",
            "linecolor": "white",
            "ticks": ""
           }
          },
          "title": {
           "x": 0.05
          },
          "xaxis": {
           "automargin": true,
           "gridcolor": "white",
           "linecolor": "white",
           "ticks": "",
           "title": {
            "standoff": 15
           },
           "zerolinecolor": "white",
           "zerolinewidth": 2
          },
          "yaxis": {
           "automargin": true,
           "gridcolor": "white",
           "linecolor": "white",
           "ticks": "",
           "title": {
            "standoff": 15
           },
           "zerolinecolor": "white",
           "zerolinewidth": 2
          }
         }
        },
        "title": {
         "font": {
          "color": "#4D5663"
         }
        },
        "xaxis": {
         "gridcolor": "#E1E5ED",
         "showgrid": true,
         "tickfont": {
          "color": "#4D5663"
         },
         "title": {
          "font": {
           "color": "#4D5663"
          },
          "text": ""
         },
         "zerolinecolor": "#E1E5ED"
        },
        "yaxis": {
         "gridcolor": "#E1E5ED",
         "showgrid": true,
         "tickfont": {
          "color": "#4D5663"
         },
         "title": {
          "font": {
           "color": "#4D5663"
          },
          "text": ""
         },
         "zerolinecolor": "#E1E5ED"
        }
       }
      },
      "text/html": [
       "<div>\n",
       "        \n",
       "        \n",
       "            <div id=\"b89f1783-1cea-437d-bd41-96faf2ee0ae7\" class=\"plotly-graph-div\" style=\"height:525px; width:100%;\"></div>\n",
       "            <script type=\"text/javascript\">\n",
       "                require([\"plotly\"], function(Plotly) {\n",
       "                    window.PLOTLYENV=window.PLOTLYENV || {};\n",
       "                    window.PLOTLYENV.BASE_URL='https://plot.ly';\n",
       "                    \n",
       "                if (document.getElementById(\"b89f1783-1cea-437d-bd41-96faf2ee0ae7\")) {\n",
       "                    Plotly.newPlot(\n",
       "                        'b89f1783-1cea-437d-bd41-96faf2ee0ae7',\n",
       "                        [{\"colorscale\": [[0.0, \"rgb(165,0,38)\"], [0.1, \"rgb(215,48,39)\"], [0.2, \"rgb(244,109,67)\"], [0.3, \"rgb(253,174,97)\"], [0.4, \"rgb(254,224,144)\"], [0.5, \"rgb(255,255,191)\"], [0.6, \"rgb(224,243,248)\"], [0.7, \"rgb(171,217,233)\"], [0.8, \"rgb(116,173,209)\"], [0.9, \"rgb(69,117,180)\"], [1.0, \"rgb(49,54,149)\"]], \"type\": \"surface\", \"x\": [0, 1, 2, 3, 4], \"y\": [\"x\", \"y\", \"z\"], \"z\": [[1, 2, 3, 4, 5], [10, 20, 30, 20, 10], [5, 4, 3, 2, 1]]}],\n",
       "                        {\"legend\": {\"bgcolor\": \"#F5F6F9\", \"font\": {\"color\": \"#4D5663\"}}, \"paper_bgcolor\": \"#F5F6F9\", \"plot_bgcolor\": \"#F5F6F9\", \"template\": {\"data\": {\"bar\": [{\"error_x\": {\"color\": \"#2a3f5f\"}, \"error_y\": {\"color\": \"#2a3f5f\"}, \"marker\": {\"line\": {\"color\": \"#E5ECF6\", \"width\": 0.5}}, \"type\": \"bar\"}], \"barpolar\": [{\"marker\": {\"line\": {\"color\": \"#E5ECF6\", \"width\": 0.5}}, \"type\": \"barpolar\"}], \"carpet\": [{\"aaxis\": {\"endlinecolor\": \"#2a3f5f\", \"gridcolor\": \"white\", \"linecolor\": \"white\", \"minorgridcolor\": \"white\", \"startlinecolor\": \"#2a3f5f\"}, \"baxis\": {\"endlinecolor\": \"#2a3f5f\", \"gridcolor\": \"white\", \"linecolor\": \"white\", \"minorgridcolor\": \"white\", \"startlinecolor\": \"#2a3f5f\"}, \"type\": \"carpet\"}], \"choropleth\": [{\"colorbar\": {\"outlinewidth\": 0, \"ticks\": \"\"}, \"type\": \"choropleth\"}], \"contour\": [{\"colorbar\": {\"outlinewidth\": 0, \"ticks\": \"\"}, \"colorscale\": [[0.0, \"#0d0887\"], [0.1111111111111111, \"#46039f\"], [0.2222222222222222, \"#7201a8\"], [0.3333333333333333, \"#9c179e\"], [0.4444444444444444, \"#bd3786\"], [0.5555555555555556, \"#d8576b\"], [0.6666666666666666, \"#ed7953\"], [0.7777777777777778, \"#fb9f3a\"], [0.8888888888888888, \"#fdca26\"], [1.0, \"#f0f921\"]], \"type\": \"contour\"}], \"contourcarpet\": [{\"colorbar\": {\"outlinewidth\": 0, \"ticks\": \"\"}, \"type\": \"contourcarpet\"}], \"heatmap\": [{\"colorbar\": {\"outlinewidth\": 0, \"ticks\": \"\"}, \"colorscale\": [[0.0, \"#0d0887\"], [0.1111111111111111, \"#46039f\"], [0.2222222222222222, \"#7201a8\"], [0.3333333333333333, \"#9c179e\"], [0.4444444444444444, \"#bd3786\"], [0.5555555555555556, \"#d8576b\"], [0.6666666666666666, \"#ed7953\"], [0.7777777777777778, \"#fb9f3a\"], [0.8888888888888888, \"#fdca26\"], [1.0, \"#f0f921\"]], \"type\": \"heatmap\"}], \"heatmapgl\": [{\"colorbar\": {\"outlinewidth\": 0, \"ticks\": \"\"}, \"colorscale\": [[0.0, \"#0d0887\"], [0.1111111111111111, \"#46039f\"], [0.2222222222222222, \"#7201a8\"], [0.3333333333333333, \"#9c179e\"], [0.4444444444444444, \"#bd3786\"], [0.5555555555555556, \"#d8576b\"], [0.6666666666666666, \"#ed7953\"], [0.7777777777777778, \"#fb9f3a\"], [0.8888888888888888, \"#fdca26\"], [1.0, \"#f0f921\"]], \"type\": \"heatmapgl\"}], \"histogram\": [{\"marker\": {\"colorbar\": {\"outlinewidth\": 0, \"ticks\": \"\"}}, \"type\": \"histogram\"}], \"histogram2d\": [{\"colorbar\": {\"outlinewidth\": 0, \"ticks\": \"\"}, \"colorscale\": [[0.0, \"#0d0887\"], [0.1111111111111111, \"#46039f\"], [0.2222222222222222, \"#7201a8\"], [0.3333333333333333, \"#9c179e\"], [0.4444444444444444, \"#bd3786\"], [0.5555555555555556, \"#d8576b\"], [0.6666666666666666, \"#ed7953\"], [0.7777777777777778, \"#fb9f3a\"], [0.8888888888888888, \"#fdca26\"], [1.0, \"#f0f921\"]], \"type\": \"histogram2d\"}], \"histogram2dcontour\": [{\"colorbar\": {\"outlinewidth\": 0, \"ticks\": \"\"}, \"colorscale\": [[0.0, \"#0d0887\"], [0.1111111111111111, \"#46039f\"], [0.2222222222222222, \"#7201a8\"], [0.3333333333333333, \"#9c179e\"], [0.4444444444444444, \"#bd3786\"], [0.5555555555555556, \"#d8576b\"], [0.6666666666666666, \"#ed7953\"], [0.7777777777777778, \"#fb9f3a\"], [0.8888888888888888, \"#fdca26\"], [1.0, \"#f0f921\"]], \"type\": \"histogram2dcontour\"}], \"mesh3d\": [{\"colorbar\": {\"outlinewidth\": 0, \"ticks\": \"\"}, \"type\": \"mesh3d\"}], \"parcoords\": [{\"line\": {\"colorbar\": {\"outlinewidth\": 0, \"ticks\": \"\"}}, \"type\": \"parcoords\"}], \"pie\": [{\"automargin\": true, \"type\": \"pie\"}], \"scatter\": [{\"marker\": {\"colorbar\": {\"outlinewidth\": 0, \"ticks\": \"\"}}, \"type\": \"scatter\"}], \"scatter3d\": [{\"line\": {\"colorbar\": {\"outlinewidth\": 0, \"ticks\": \"\"}}, \"marker\": {\"colorbar\": {\"outlinewidth\": 0, \"ticks\": \"\"}}, \"type\": \"scatter3d\"}], \"scattercarpet\": [{\"marker\": {\"colorbar\": {\"outlinewidth\": 0, \"ticks\": \"\"}}, \"type\": \"scattercarpet\"}], \"scattergeo\": [{\"marker\": {\"colorbar\": {\"outlinewidth\": 0, \"ticks\": \"\"}}, \"type\": \"scattergeo\"}], \"scattergl\": [{\"marker\": {\"colorbar\": {\"outlinewidth\": 0, \"ticks\": \"\"}}, \"type\": \"scattergl\"}], \"scattermapbox\": [{\"marker\": {\"colorbar\": {\"outlinewidth\": 0, \"ticks\": \"\"}}, \"type\": \"scattermapbox\"}], \"scatterpolar\": [{\"marker\": {\"colorbar\": {\"outlinewidth\": 0, \"ticks\": \"\"}}, \"type\": \"scatterpolar\"}], \"scatterpolargl\": [{\"marker\": {\"colorbar\": {\"outlinewidth\": 0, \"ticks\": \"\"}}, \"type\": \"scatterpolargl\"}], \"scatterternary\": [{\"marker\": {\"colorbar\": {\"outlinewidth\": 0, \"ticks\": \"\"}}, \"type\": \"scatterternary\"}], \"surface\": [{\"colorbar\": {\"outlinewidth\": 0, \"ticks\": \"\"}, \"colorscale\": [[0.0, \"#0d0887\"], [0.1111111111111111, \"#46039f\"], [0.2222222222222222, \"#7201a8\"], [0.3333333333333333, \"#9c179e\"], [0.4444444444444444, \"#bd3786\"], [0.5555555555555556, \"#d8576b\"], [0.6666666666666666, \"#ed7953\"], [0.7777777777777778, \"#fb9f3a\"], [0.8888888888888888, \"#fdca26\"], [1.0, \"#f0f921\"]], \"type\": \"surface\"}], \"table\": [{\"cells\": {\"fill\": {\"color\": \"#EBF0F8\"}, \"line\": {\"color\": \"white\"}}, \"header\": {\"fill\": {\"color\": \"#C8D4E3\"}, \"line\": {\"color\": \"white\"}}, \"type\": \"table\"}]}, \"layout\": {\"annotationdefaults\": {\"arrowcolor\": \"#2a3f5f\", \"arrowhead\": 0, \"arrowwidth\": 1}, \"coloraxis\": {\"colorbar\": {\"outlinewidth\": 0, \"ticks\": \"\"}}, \"colorscale\": {\"diverging\": [[0, \"#8e0152\"], [0.1, \"#c51b7d\"], [0.2, \"#de77ae\"], [0.3, \"#f1b6da\"], [0.4, \"#fde0ef\"], [0.5, \"#f7f7f7\"], [0.6, \"#e6f5d0\"], [0.7, \"#b8e186\"], [0.8, \"#7fbc41\"], [0.9, \"#4d9221\"], [1, \"#276419\"]], \"sequential\": [[0.0, \"#0d0887\"], [0.1111111111111111, \"#46039f\"], [0.2222222222222222, \"#7201a8\"], [0.3333333333333333, \"#9c179e\"], [0.4444444444444444, \"#bd3786\"], [0.5555555555555556, \"#d8576b\"], [0.6666666666666666, \"#ed7953\"], [0.7777777777777778, \"#fb9f3a\"], [0.8888888888888888, \"#fdca26\"], [1.0, \"#f0f921\"]], \"sequentialminus\": [[0.0, \"#0d0887\"], [0.1111111111111111, \"#46039f\"], [0.2222222222222222, \"#7201a8\"], [0.3333333333333333, \"#9c179e\"], [0.4444444444444444, \"#bd3786\"], [0.5555555555555556, \"#d8576b\"], [0.6666666666666666, \"#ed7953\"], [0.7777777777777778, \"#fb9f3a\"], [0.8888888888888888, \"#fdca26\"], [1.0, \"#f0f921\"]]}, \"colorway\": [\"#636efa\", \"#EF553B\", \"#00cc96\", \"#ab63fa\", \"#FFA15A\", \"#19d3f3\", \"#FF6692\", \"#B6E880\", \"#FF97FF\", \"#FECB52\"], \"font\": {\"color\": \"#2a3f5f\"}, \"geo\": {\"bgcolor\": \"white\", \"lakecolor\": \"white\", \"landcolor\": \"#E5ECF6\", \"showlakes\": true, \"showland\": true, \"subunitcolor\": \"white\"}, \"hoverlabel\": {\"align\": \"left\"}, \"hovermode\": \"closest\", \"mapbox\": {\"style\": \"light\"}, \"paper_bgcolor\": \"white\", \"plot_bgcolor\": \"#E5ECF6\", \"polar\": {\"angularaxis\": {\"gridcolor\": \"white\", \"linecolor\": \"white\", \"ticks\": \"\"}, \"bgcolor\": \"#E5ECF6\", \"radialaxis\": {\"gridcolor\": \"white\", \"linecolor\": \"white\", \"ticks\": \"\"}}, \"scene\": {\"xaxis\": {\"backgroundcolor\": \"#E5ECF6\", \"gridcolor\": \"white\", \"gridwidth\": 2, \"linecolor\": \"white\", \"showbackground\": true, \"ticks\": \"\", \"zerolinecolor\": \"white\"}, \"yaxis\": {\"backgroundcolor\": \"#E5ECF6\", \"gridcolor\": \"white\", \"gridwidth\": 2, \"linecolor\": \"white\", \"showbackground\": true, \"ticks\": \"\", \"zerolinecolor\": \"white\"}, \"zaxis\": {\"backgroundcolor\": \"#E5ECF6\", \"gridcolor\": \"white\", \"gridwidth\": 2, \"linecolor\": \"white\", \"showbackground\": true, \"ticks\": \"\", \"zerolinecolor\": \"white\"}}, \"shapedefaults\": {\"line\": {\"color\": \"#2a3f5f\"}}, \"ternary\": {\"aaxis\": {\"gridcolor\": \"white\", \"linecolor\": \"white\", \"ticks\": \"\"}, \"baxis\": {\"gridcolor\": \"white\", \"linecolor\": \"white\", \"ticks\": \"\"}, \"bgcolor\": \"#E5ECF6\", \"caxis\": {\"gridcolor\": \"white\", \"linecolor\": \"white\", \"ticks\": \"\"}}, \"title\": {\"x\": 0.05}, \"xaxis\": {\"automargin\": true, \"gridcolor\": \"white\", \"linecolor\": \"white\", \"ticks\": \"\", \"title\": {\"standoff\": 15}, \"zerolinecolor\": \"white\", \"zerolinewidth\": 2}, \"yaxis\": {\"automargin\": true, \"gridcolor\": \"white\", \"linecolor\": \"white\", \"ticks\": \"\", \"title\": {\"standoff\": 15}, \"zerolinecolor\": \"white\", \"zerolinewidth\": 2}}}, \"title\": {\"font\": {\"color\": \"#4D5663\"}}, \"xaxis\": {\"gridcolor\": \"#E1E5ED\", \"showgrid\": true, \"tickfont\": {\"color\": \"#4D5663\"}, \"title\": {\"font\": {\"color\": \"#4D5663\"}, \"text\": \"\"}, \"zerolinecolor\": \"#E1E5ED\"}, \"yaxis\": {\"gridcolor\": \"#E1E5ED\", \"showgrid\": true, \"tickfont\": {\"color\": \"#4D5663\"}, \"title\": {\"font\": {\"color\": \"#4D5663\"}, \"text\": \"\"}, \"zerolinecolor\": \"#E1E5ED\"}},\n",
       "                        {\"showLink\": true, \"linkText\": \"Export to plot.ly\", \"plotlyServerURL\": \"https://plot.ly\", \"responsive\": true}\n",
       "                    ).then(function(){\n",
       "                            \n",
       "var gd = document.getElementById('b89f1783-1cea-437d-bd41-96faf2ee0ae7');\n",
       "var x = new MutationObserver(function (mutations, observer) {{\n",
       "        var display = window.getComputedStyle(gd).display;\n",
       "        if (!display || display === 'none') {{\n",
       "            console.log([gd, 'removed!']);\n",
       "            Plotly.purge(gd);\n",
       "            observer.disconnect();\n",
       "        }}\n",
       "}});\n",
       "\n",
       "// Listen for the removal of the full notebook cells\n",
       "var notebookContainer = gd.closest('#notebook-container');\n",
       "if (notebookContainer) {{\n",
       "    x.observe(notebookContainer, {childList: true});\n",
       "}}\n",
       "\n",
       "// Listen for the clearing of the current output cell\n",
       "var outputEl = gd.closest('.output');\n",
       "if (outputEl) {{\n",
       "    x.observe(outputEl, {childList: true});\n",
       "}}\n",
       "\n",
       "                        })\n",
       "                };\n",
       "                });\n",
       "            </script>\n",
       "        </div>"
      ]
     },
     "metadata": {},
     "output_type": "display_data"
    }
   ],
   "source": [
    "df3.iplot(kind='surface', colorscale='rdylbu')"
   ]
  },
  {
   "cell_type": "markdown",
   "id": "innocent-toronto",
   "metadata": {},
   "source": [
    "## Histogram"
   ]
  },
  {
   "cell_type": "code",
   "execution_count": 44,
   "id": "common-sunset",
   "metadata": {},
   "outputs": [
    {
     "data": {
      "application/vnd.plotly.v1+json": {
       "config": {
        "linkText": "Export to plot.ly",
        "plotlyServerURL": "https://plot.ly",
        "showLink": true
       },
       "data": [
        {
         "histfunc": "count",
         "histnorm": "",
         "marker": {
          "color": "rgba(255, 153, 51, 1.0)",
          "line": {
           "color": "#4D5663",
           "width": 1.3
          }
         },
         "name": "A",
         "nbinsx": 25,
         "opacity": 0.8,
         "orientation": "v",
         "type": "histogram",
         "x": [
          -0.1486870569660644,
          0.39248607716009937,
          -0.7051592443933776,
          0.27576110754488387,
          -0.7802285366256736,
          -0.32929780839891537,
          -1.087810196165536,
          1.2605600894157034,
          -0.6162220153584765,
          -0.11030956050421618,
          1.642528183340233,
          -1.2471083408197337,
          -0.5030824358409205,
          0.44198222958182076,
          0.46872327753545967,
          0.7832720942473845,
          -1.816832134632092,
          -0.7734372708387459,
          -0.9663161807866139,
          -2.3035477810580884,
          -0.6424602387239299,
          -0.31914331999725876,
          -0.41844043091859484,
          0.1781758613682762,
          0.157684394184153,
          0.41595274357957573,
          0.5891850592042421,
          0.454834731394502,
          -0.14870591833136512,
          0.7917259872985981,
          -1.6466753374193293,
          -0.5984417164356648,
          0.3653669533476257,
          0.6013941003199482,
          1.0281964811508901,
          -0.29834588163580716,
          -1.5812091606674015,
          -0.4949013337856304,
          -1.0499374247496878,
          -0.25492516141576343,
          -1.347720027956506,
          1.1167699738973915,
          1.087498437295148,
          -0.3627318007990501,
          -0.9841088308619188,
          -0.24774969270479127,
          -0.10622973456180605,
          0.7743684307462901,
          -0.02005363965663801,
          -0.28863295343821105,
          -0.24808140074432009,
          0.6771989860434181,
          1.5103210368836282,
          -0.4484038407099252,
          -0.1027729276442637,
          0.4150356400669393,
          -0.8696069965432033,
          0.11551999215410763,
          1.0162559751767088,
          -0.1739788003636956,
          -0.2799898988878147,
          1.9689679185639573,
          -1.3712364456885864,
          -0.062367008698916995,
          0.1622031476510854,
          -0.0955223967895753,
          -1.5029096551345607,
          0.8754195676784564,
          -0.5524799575282217,
          -0.0980995694221568,
          0.7693585830793594,
          0.2854937541855559,
          -0.6581872556779551,
          2.114936095689492,
          0.059169867679413055,
          0.2932317898134375,
          0.3618512027631301,
          -0.1705460913024023,
          -0.029204570730282167,
          -0.7415372272530977,
          -0.7651224698222944,
          1.1547221513795514,
          -0.33103781811196065,
          -0.4952355302309878,
          0.7267534144738079,
          -0.7882902125536603,
          0.312778641188715,
          -0.11825028351583512,
          -0.9180040351441507,
          0.587033645365291,
          0.3798610800599315,
          0.21441879761051574,
          1.1707497307467345,
          1.1275071326418369,
          -0.8479588333638166,
          -0.058157108364463896,
          -0.7560319712251692,
          1.8283683259669392,
          1.2952801263299962,
          2.46499250024484
         ]
        }
       ],
       "layout": {
        "barmode": "overlay",
        "legend": {
         "bgcolor": "#F5F6F9",
         "font": {
          "color": "#4D5663"
         }
        },
        "paper_bgcolor": "#F5F6F9",
        "plot_bgcolor": "#F5F6F9",
        "template": {
         "data": {
          "bar": [
           {
            "error_x": {
             "color": "#2a3f5f"
            },
            "error_y": {
             "color": "#2a3f5f"
            },
            "marker": {
             "line": {
              "color": "#E5ECF6",
              "width": 0.5
             }
            },
            "type": "bar"
           }
          ],
          "barpolar": [
           {
            "marker": {
             "line": {
              "color": "#E5ECF6",
              "width": 0.5
             }
            },
            "type": "barpolar"
           }
          ],
          "carpet": [
           {
            "aaxis": {
             "endlinecolor": "#2a3f5f",
             "gridcolor": "white",
             "linecolor": "white",
             "minorgridcolor": "white",
             "startlinecolor": "#2a3f5f"
            },
            "baxis": {
             "endlinecolor": "#2a3f5f",
             "gridcolor": "white",
             "linecolor": "white",
             "minorgridcolor": "white",
             "startlinecolor": "#2a3f5f"
            },
            "type": "carpet"
           }
          ],
          "choropleth": [
           {
            "colorbar": {
             "outlinewidth": 0,
             "ticks": ""
            },
            "type": "choropleth"
           }
          ],
          "contour": [
           {
            "colorbar": {
             "outlinewidth": 0,
             "ticks": ""
            },
            "colorscale": [
             [
              0,
              "#0d0887"
             ],
             [
              0.1111111111111111,
              "#46039f"
             ],
             [
              0.2222222222222222,
              "#7201a8"
             ],
             [
              0.3333333333333333,
              "#9c179e"
             ],
             [
              0.4444444444444444,
              "#bd3786"
             ],
             [
              0.5555555555555556,
              "#d8576b"
             ],
             [
              0.6666666666666666,
              "#ed7953"
             ],
             [
              0.7777777777777778,
              "#fb9f3a"
             ],
             [
              0.8888888888888888,
              "#fdca26"
             ],
             [
              1,
              "#f0f921"
             ]
            ],
            "type": "contour"
           }
          ],
          "contourcarpet": [
           {
            "colorbar": {
             "outlinewidth": 0,
             "ticks": ""
            },
            "type": "contourcarpet"
           }
          ],
          "heatmap": [
           {
            "colorbar": {
             "outlinewidth": 0,
             "ticks": ""
            },
            "colorscale": [
             [
              0,
              "#0d0887"
             ],
             [
              0.1111111111111111,
              "#46039f"
             ],
             [
              0.2222222222222222,
              "#7201a8"
             ],
             [
              0.3333333333333333,
              "#9c179e"
             ],
             [
              0.4444444444444444,
              "#bd3786"
             ],
             [
              0.5555555555555556,
              "#d8576b"
             ],
             [
              0.6666666666666666,
              "#ed7953"
             ],
             [
              0.7777777777777778,
              "#fb9f3a"
             ],
             [
              0.8888888888888888,
              "#fdca26"
             ],
             [
              1,
              "#f0f921"
             ]
            ],
            "type": "heatmap"
           }
          ],
          "heatmapgl": [
           {
            "colorbar": {
             "outlinewidth": 0,
             "ticks": ""
            },
            "colorscale": [
             [
              0,
              "#0d0887"
             ],
             [
              0.1111111111111111,
              "#46039f"
             ],
             [
              0.2222222222222222,
              "#7201a8"
             ],
             [
              0.3333333333333333,
              "#9c179e"
             ],
             [
              0.4444444444444444,
              "#bd3786"
             ],
             [
              0.5555555555555556,
              "#d8576b"
             ],
             [
              0.6666666666666666,
              "#ed7953"
             ],
             [
              0.7777777777777778,
              "#fb9f3a"
             ],
             [
              0.8888888888888888,
              "#fdca26"
             ],
             [
              1,
              "#f0f921"
             ]
            ],
            "type": "heatmapgl"
           }
          ],
          "histogram": [
           {
            "marker": {
             "colorbar": {
              "outlinewidth": 0,
              "ticks": ""
             }
            },
            "type": "histogram"
           }
          ],
          "histogram2d": [
           {
            "colorbar": {
             "outlinewidth": 0,
             "ticks": ""
            },
            "colorscale": [
             [
              0,
              "#0d0887"
             ],
             [
              0.1111111111111111,
              "#46039f"
             ],
             [
              0.2222222222222222,
              "#7201a8"
             ],
             [
              0.3333333333333333,
              "#9c179e"
             ],
             [
              0.4444444444444444,
              "#bd3786"
             ],
             [
              0.5555555555555556,
              "#d8576b"
             ],
             [
              0.6666666666666666,
              "#ed7953"
             ],
             [
              0.7777777777777778,
              "#fb9f3a"
             ],
             [
              0.8888888888888888,
              "#fdca26"
             ],
             [
              1,
              "#f0f921"
             ]
            ],
            "type": "histogram2d"
           }
          ],
          "histogram2dcontour": [
           {
            "colorbar": {
             "outlinewidth": 0,
             "ticks": ""
            },
            "colorscale": [
             [
              0,
              "#0d0887"
             ],
             [
              0.1111111111111111,
              "#46039f"
             ],
             [
              0.2222222222222222,
              "#7201a8"
             ],
             [
              0.3333333333333333,
              "#9c179e"
             ],
             [
              0.4444444444444444,
              "#bd3786"
             ],
             [
              0.5555555555555556,
              "#d8576b"
             ],
             [
              0.6666666666666666,
              "#ed7953"
             ],
             [
              0.7777777777777778,
              "#fb9f3a"
             ],
             [
              0.8888888888888888,
              "#fdca26"
             ],
             [
              1,
              "#f0f921"
             ]
            ],
            "type": "histogram2dcontour"
           }
          ],
          "mesh3d": [
           {
            "colorbar": {
             "outlinewidth": 0,
             "ticks": ""
            },
            "type": "mesh3d"
           }
          ],
          "parcoords": [
           {
            "line": {
             "colorbar": {
              "outlinewidth": 0,
              "ticks": ""
             }
            },
            "type": "parcoords"
           }
          ],
          "pie": [
           {
            "automargin": true,
            "type": "pie"
           }
          ],
          "scatter": [
           {
            "marker": {
             "colorbar": {
              "outlinewidth": 0,
              "ticks": ""
             }
            },
            "type": "scatter"
           }
          ],
          "scatter3d": [
           {
            "line": {
             "colorbar": {
              "outlinewidth": 0,
              "ticks": ""
             }
            },
            "marker": {
             "colorbar": {
              "outlinewidth": 0,
              "ticks": ""
             }
            },
            "type": "scatter3d"
           }
          ],
          "scattercarpet": [
           {
            "marker": {
             "colorbar": {
              "outlinewidth": 0,
              "ticks": ""
             }
            },
            "type": "scattercarpet"
           }
          ],
          "scattergeo": [
           {
            "marker": {
             "colorbar": {
              "outlinewidth": 0,
              "ticks": ""
             }
            },
            "type": "scattergeo"
           }
          ],
          "scattergl": [
           {
            "marker": {
             "colorbar": {
              "outlinewidth": 0,
              "ticks": ""
             }
            },
            "type": "scattergl"
           }
          ],
          "scattermapbox": [
           {
            "marker": {
             "colorbar": {
              "outlinewidth": 0,
              "ticks": ""
             }
            },
            "type": "scattermapbox"
           }
          ],
          "scatterpolar": [
           {
            "marker": {
             "colorbar": {
              "outlinewidth": 0,
              "ticks": ""
             }
            },
            "type": "scatterpolar"
           }
          ],
          "scatterpolargl": [
           {
            "marker": {
             "colorbar": {
              "outlinewidth": 0,
              "ticks": ""
             }
            },
            "type": "scatterpolargl"
           }
          ],
          "scatterternary": [
           {
            "marker": {
             "colorbar": {
              "outlinewidth": 0,
              "ticks": ""
             }
            },
            "type": "scatterternary"
           }
          ],
          "surface": [
           {
            "colorbar": {
             "outlinewidth": 0,
             "ticks": ""
            },
            "colorscale": [
             [
              0,
              "#0d0887"
             ],
             [
              0.1111111111111111,
              "#46039f"
             ],
             [
              0.2222222222222222,
              "#7201a8"
             ],
             [
              0.3333333333333333,
              "#9c179e"
             ],
             [
              0.4444444444444444,
              "#bd3786"
             ],
             [
              0.5555555555555556,
              "#d8576b"
             ],
             [
              0.6666666666666666,
              "#ed7953"
             ],
             [
              0.7777777777777778,
              "#fb9f3a"
             ],
             [
              0.8888888888888888,
              "#fdca26"
             ],
             [
              1,
              "#f0f921"
             ]
            ],
            "type": "surface"
           }
          ],
          "table": [
           {
            "cells": {
             "fill": {
              "color": "#EBF0F8"
             },
             "line": {
              "color": "white"
             }
            },
            "header": {
             "fill": {
              "color": "#C8D4E3"
             },
             "line": {
              "color": "white"
             }
            },
            "type": "table"
           }
          ]
         },
         "layout": {
          "annotationdefaults": {
           "arrowcolor": "#2a3f5f",
           "arrowhead": 0,
           "arrowwidth": 1
          },
          "coloraxis": {
           "colorbar": {
            "outlinewidth": 0,
            "ticks": ""
           }
          },
          "colorscale": {
           "diverging": [
            [
             0,
             "#8e0152"
            ],
            [
             0.1,
             "#c51b7d"
            ],
            [
             0.2,
             "#de77ae"
            ],
            [
             0.3,
             "#f1b6da"
            ],
            [
             0.4,
             "#fde0ef"
            ],
            [
             0.5,
             "#f7f7f7"
            ],
            [
             0.6,
             "#e6f5d0"
            ],
            [
             0.7,
             "#b8e186"
            ],
            [
             0.8,
             "#7fbc41"
            ],
            [
             0.9,
             "#4d9221"
            ],
            [
             1,
             "#276419"
            ]
           ],
           "sequential": [
            [
             0,
             "#0d0887"
            ],
            [
             0.1111111111111111,
             "#46039f"
            ],
            [
             0.2222222222222222,
             "#7201a8"
            ],
            [
             0.3333333333333333,
             "#9c179e"
            ],
            [
             0.4444444444444444,
             "#bd3786"
            ],
            [
             0.5555555555555556,
             "#d8576b"
            ],
            [
             0.6666666666666666,
             "#ed7953"
            ],
            [
             0.7777777777777778,
             "#fb9f3a"
            ],
            [
             0.8888888888888888,
             "#fdca26"
            ],
            [
             1,
             "#f0f921"
            ]
           ],
           "sequentialminus": [
            [
             0,
             "#0d0887"
            ],
            [
             0.1111111111111111,
             "#46039f"
            ],
            [
             0.2222222222222222,
             "#7201a8"
            ],
            [
             0.3333333333333333,
             "#9c179e"
            ],
            [
             0.4444444444444444,
             "#bd3786"
            ],
            [
             0.5555555555555556,
             "#d8576b"
            ],
            [
             0.6666666666666666,
             "#ed7953"
            ],
            [
             0.7777777777777778,
             "#fb9f3a"
            ],
            [
             0.8888888888888888,
             "#fdca26"
            ],
            [
             1,
             "#f0f921"
            ]
           ]
          },
          "colorway": [
           "#636efa",
           "#EF553B",
           "#00cc96",
           "#ab63fa",
           "#FFA15A",
           "#19d3f3",
           "#FF6692",
           "#B6E880",
           "#FF97FF",
           "#FECB52"
          ],
          "font": {
           "color": "#2a3f5f"
          },
          "geo": {
           "bgcolor": "white",
           "lakecolor": "white",
           "landcolor": "#E5ECF6",
           "showlakes": true,
           "showland": true,
           "subunitcolor": "white"
          },
          "hoverlabel": {
           "align": "left"
          },
          "hovermode": "closest",
          "mapbox": {
           "style": "light"
          },
          "paper_bgcolor": "white",
          "plot_bgcolor": "#E5ECF6",
          "polar": {
           "angularaxis": {
            "gridcolor": "white",
            "linecolor": "white",
            "ticks": ""
           },
           "bgcolor": "#E5ECF6",
           "radialaxis": {
            "gridcolor": "white",
            "linecolor": "white",
            "ticks": ""
           }
          },
          "scene": {
           "xaxis": {
            "backgroundcolor": "#E5ECF6",
            "gridcolor": "white",
            "gridwidth": 2,
            "linecolor": "white",
            "showbackground": true,
            "ticks": "",
            "zerolinecolor": "white"
           },
           "yaxis": {
            "backgroundcolor": "#E5ECF6",
            "gridcolor": "white",
            "gridwidth": 2,
            "linecolor": "white",
            "showbackground": true,
            "ticks": "",
            "zerolinecolor": "white"
           },
           "zaxis": {
            "backgroundcolor": "#E5ECF6",
            "gridcolor": "white",
            "gridwidth": 2,
            "linecolor": "white",
            "showbackground": true,
            "ticks": "",
            "zerolinecolor": "white"
           }
          },
          "shapedefaults": {
           "line": {
            "color": "#2a3f5f"
           }
          },
          "ternary": {
           "aaxis": {
            "gridcolor": "white",
            "linecolor": "white",
            "ticks": ""
           },
           "baxis": {
            "gridcolor": "white",
            "linecolor": "white",
            "ticks": ""
           },
           "bgcolor": "#E5ECF6",
           "caxis": {
            "gridcolor": "white",
            "linecolor": "white",
            "ticks": ""
           }
          },
          "title": {
           "x": 0.05
          },
          "xaxis": {
           "automargin": true,
           "gridcolor": "white",
           "linecolor": "white",
           "ticks": "",
           "title": {
            "standoff": 15
           },
           "zerolinecolor": "white",
           "zerolinewidth": 2
          },
          "yaxis": {
           "automargin": true,
           "gridcolor": "white",
           "linecolor": "white",
           "ticks": "",
           "title": {
            "standoff": 15
           },
           "zerolinecolor": "white",
           "zerolinewidth": 2
          }
         }
        },
        "title": {
         "font": {
          "color": "#4D5663"
         }
        },
        "xaxis": {
         "gridcolor": "#E1E5ED",
         "showgrid": true,
         "tickfont": {
          "color": "#4D5663"
         },
         "title": {
          "font": {
           "color": "#4D5663"
          },
          "text": ""
         },
         "zerolinecolor": "#E1E5ED"
        },
        "yaxis": {
         "gridcolor": "#E1E5ED",
         "showgrid": true,
         "tickfont": {
          "color": "#4D5663"
         },
         "title": {
          "font": {
           "color": "#4D5663"
          },
          "text": ""
         },
         "zerolinecolor": "#E1E5ED"
        }
       }
      },
      "text/html": [
       "<div>\n",
       "        \n",
       "        \n",
       "            <div id=\"f2d5ce18-e3ab-423e-a27b-263621877c86\" class=\"plotly-graph-div\" style=\"height:525px; width:100%;\"></div>\n",
       "            <script type=\"text/javascript\">\n",
       "                require([\"plotly\"], function(Plotly) {\n",
       "                    window.PLOTLYENV=window.PLOTLYENV || {};\n",
       "                    window.PLOTLYENV.BASE_URL='https://plot.ly';\n",
       "                    \n",
       "                if (document.getElementById(\"f2d5ce18-e3ab-423e-a27b-263621877c86\")) {\n",
       "                    Plotly.newPlot(\n",
       "                        'f2d5ce18-e3ab-423e-a27b-263621877c86',\n",
       "                        [{\"histfunc\": \"count\", \"histnorm\": \"\", \"marker\": {\"color\": \"rgba(255, 153, 51, 1.0)\", \"line\": {\"color\": \"#4D5663\", \"width\": 1.3}}, \"name\": \"A\", \"nbinsx\": 25, \"opacity\": 0.8, \"orientation\": \"v\", \"type\": \"histogram\", \"x\": [-0.1486870569660644, 0.39248607716009937, -0.7051592443933776, 0.27576110754488387, -0.7802285366256736, -0.32929780839891537, -1.087810196165536, 1.2605600894157034, -0.6162220153584765, -0.11030956050421618, 1.642528183340233, -1.2471083408197337, -0.5030824358409205, 0.44198222958182076, 0.46872327753545967, 0.7832720942473845, -1.816832134632092, -0.7734372708387459, -0.9663161807866139, -2.3035477810580884, -0.6424602387239299, -0.31914331999725876, -0.41844043091859484, 0.1781758613682762, 0.157684394184153, 0.41595274357957573, 0.5891850592042421, 0.454834731394502, -0.14870591833136512, 0.7917259872985981, -1.6466753374193293, -0.5984417164356648, 0.3653669533476257, 0.6013941003199482, 1.0281964811508901, -0.29834588163580716, -1.5812091606674015, -0.4949013337856304, -1.0499374247496878, -0.25492516141576343, -1.347720027956506, 1.1167699738973915, 1.087498437295148, -0.3627318007990501, -0.9841088308619188, -0.24774969270479127, -0.10622973456180605, 0.7743684307462901, -0.02005363965663801, -0.28863295343821105, -0.24808140074432009, 0.6771989860434181, 1.5103210368836282, -0.4484038407099252, -0.1027729276442637, 0.4150356400669393, -0.8696069965432033, 0.11551999215410763, 1.0162559751767088, -0.1739788003636956, -0.2799898988878147, 1.9689679185639573, -1.3712364456885864, -0.062367008698916995, 0.1622031476510854, -0.0955223967895753, -1.5029096551345607, 0.8754195676784564, -0.5524799575282217, -0.0980995694221568, 0.7693585830793594, 0.2854937541855559, -0.6581872556779551, 2.114936095689492, 0.059169867679413055, 0.2932317898134375, 0.3618512027631301, -0.1705460913024023, -0.029204570730282167, -0.7415372272530977, -0.7651224698222944, 1.1547221513795514, -0.33103781811196065, -0.4952355302309878, 0.7267534144738079, -0.7882902125536603, 0.312778641188715, -0.11825028351583512, -0.9180040351441507, 0.587033645365291, 0.3798610800599315, 0.21441879761051574, 1.1707497307467345, 1.1275071326418369, -0.8479588333638166, -0.058157108364463896, -0.7560319712251692, 1.8283683259669392, 1.2952801263299962, 2.46499250024484]}],\n",
       "                        {\"barmode\": \"overlay\", \"legend\": {\"bgcolor\": \"#F5F6F9\", \"font\": {\"color\": \"#4D5663\"}}, \"paper_bgcolor\": \"#F5F6F9\", \"plot_bgcolor\": \"#F5F6F9\", \"template\": {\"data\": {\"bar\": [{\"error_x\": {\"color\": \"#2a3f5f\"}, \"error_y\": {\"color\": \"#2a3f5f\"}, \"marker\": {\"line\": {\"color\": \"#E5ECF6\", \"width\": 0.5}}, \"type\": \"bar\"}], \"barpolar\": [{\"marker\": {\"line\": {\"color\": \"#E5ECF6\", \"width\": 0.5}}, \"type\": \"barpolar\"}], \"carpet\": [{\"aaxis\": {\"endlinecolor\": \"#2a3f5f\", \"gridcolor\": \"white\", \"linecolor\": \"white\", \"minorgridcolor\": \"white\", \"startlinecolor\": \"#2a3f5f\"}, \"baxis\": {\"endlinecolor\": \"#2a3f5f\", \"gridcolor\": \"white\", \"linecolor\": \"white\", \"minorgridcolor\": \"white\", \"startlinecolor\": \"#2a3f5f\"}, \"type\": \"carpet\"}], \"choropleth\": [{\"colorbar\": {\"outlinewidth\": 0, \"ticks\": \"\"}, \"type\": \"choropleth\"}], \"contour\": [{\"colorbar\": {\"outlinewidth\": 0, \"ticks\": \"\"}, \"colorscale\": [[0.0, \"#0d0887\"], [0.1111111111111111, \"#46039f\"], [0.2222222222222222, \"#7201a8\"], [0.3333333333333333, \"#9c179e\"], [0.4444444444444444, \"#bd3786\"], [0.5555555555555556, \"#d8576b\"], [0.6666666666666666, \"#ed7953\"], [0.7777777777777778, \"#fb9f3a\"], [0.8888888888888888, \"#fdca26\"], [1.0, \"#f0f921\"]], \"type\": \"contour\"}], \"contourcarpet\": [{\"colorbar\": {\"outlinewidth\": 0, \"ticks\": \"\"}, \"type\": \"contourcarpet\"}], \"heatmap\": [{\"colorbar\": {\"outlinewidth\": 0, \"ticks\": \"\"}, \"colorscale\": [[0.0, \"#0d0887\"], [0.1111111111111111, \"#46039f\"], [0.2222222222222222, \"#7201a8\"], [0.3333333333333333, \"#9c179e\"], [0.4444444444444444, \"#bd3786\"], [0.5555555555555556, \"#d8576b\"], [0.6666666666666666, \"#ed7953\"], [0.7777777777777778, \"#fb9f3a\"], [0.8888888888888888, \"#fdca26\"], [1.0, \"#f0f921\"]], \"type\": \"heatmap\"}], \"heatmapgl\": [{\"colorbar\": {\"outlinewidth\": 0, \"ticks\": \"\"}, \"colorscale\": [[0.0, \"#0d0887\"], [0.1111111111111111, \"#46039f\"], [0.2222222222222222, \"#7201a8\"], [0.3333333333333333, \"#9c179e\"], [0.4444444444444444, \"#bd3786\"], [0.5555555555555556, \"#d8576b\"], [0.6666666666666666, \"#ed7953\"], [0.7777777777777778, \"#fb9f3a\"], [0.8888888888888888, \"#fdca26\"], [1.0, \"#f0f921\"]], \"type\": \"heatmapgl\"}], \"histogram\": [{\"marker\": {\"colorbar\": {\"outlinewidth\": 0, \"ticks\": \"\"}}, \"type\": \"histogram\"}], \"histogram2d\": [{\"colorbar\": {\"outlinewidth\": 0, \"ticks\": \"\"}, \"colorscale\": [[0.0, \"#0d0887\"], [0.1111111111111111, \"#46039f\"], [0.2222222222222222, \"#7201a8\"], [0.3333333333333333, \"#9c179e\"], [0.4444444444444444, \"#bd3786\"], [0.5555555555555556, \"#d8576b\"], [0.6666666666666666, \"#ed7953\"], [0.7777777777777778, \"#fb9f3a\"], [0.8888888888888888, \"#fdca26\"], [1.0, \"#f0f921\"]], \"type\": \"histogram2d\"}], \"histogram2dcontour\": [{\"colorbar\": {\"outlinewidth\": 0, \"ticks\": \"\"}, \"colorscale\": [[0.0, \"#0d0887\"], [0.1111111111111111, \"#46039f\"], [0.2222222222222222, \"#7201a8\"], [0.3333333333333333, \"#9c179e\"], [0.4444444444444444, \"#bd3786\"], [0.5555555555555556, \"#d8576b\"], [0.6666666666666666, \"#ed7953\"], [0.7777777777777778, \"#fb9f3a\"], [0.8888888888888888, \"#fdca26\"], [1.0, \"#f0f921\"]], \"type\": \"histogram2dcontour\"}], \"mesh3d\": [{\"colorbar\": {\"outlinewidth\": 0, \"ticks\": \"\"}, \"type\": \"mesh3d\"}], \"parcoords\": [{\"line\": {\"colorbar\": {\"outlinewidth\": 0, \"ticks\": \"\"}}, \"type\": \"parcoords\"}], \"pie\": [{\"automargin\": true, \"type\": \"pie\"}], \"scatter\": [{\"marker\": {\"colorbar\": {\"outlinewidth\": 0, \"ticks\": \"\"}}, \"type\": \"scatter\"}], \"scatter3d\": [{\"line\": {\"colorbar\": {\"outlinewidth\": 0, \"ticks\": \"\"}}, \"marker\": {\"colorbar\": {\"outlinewidth\": 0, \"ticks\": \"\"}}, \"type\": \"scatter3d\"}], \"scattercarpet\": [{\"marker\": {\"colorbar\": {\"outlinewidth\": 0, \"ticks\": \"\"}}, \"type\": \"scattercarpet\"}], \"scattergeo\": [{\"marker\": {\"colorbar\": {\"outlinewidth\": 0, \"ticks\": \"\"}}, \"type\": \"scattergeo\"}], \"scattergl\": [{\"marker\": {\"colorbar\": {\"outlinewidth\": 0, \"ticks\": \"\"}}, \"type\": \"scattergl\"}], \"scattermapbox\": [{\"marker\": {\"colorbar\": {\"outlinewidth\": 0, \"ticks\": \"\"}}, \"type\": \"scattermapbox\"}], \"scatterpolar\": [{\"marker\": {\"colorbar\": {\"outlinewidth\": 0, \"ticks\": \"\"}}, \"type\": \"scatterpolar\"}], \"scatterpolargl\": [{\"marker\": {\"colorbar\": {\"outlinewidth\": 0, \"ticks\": \"\"}}, \"type\": \"scatterpolargl\"}], \"scatterternary\": [{\"marker\": {\"colorbar\": {\"outlinewidth\": 0, \"ticks\": \"\"}}, \"type\": \"scatterternary\"}], \"surface\": [{\"colorbar\": {\"outlinewidth\": 0, \"ticks\": \"\"}, \"colorscale\": [[0.0, \"#0d0887\"], [0.1111111111111111, \"#46039f\"], [0.2222222222222222, \"#7201a8\"], [0.3333333333333333, \"#9c179e\"], [0.4444444444444444, \"#bd3786\"], [0.5555555555555556, \"#d8576b\"], [0.6666666666666666, \"#ed7953\"], [0.7777777777777778, \"#fb9f3a\"], [0.8888888888888888, \"#fdca26\"], [1.0, \"#f0f921\"]], \"type\": \"surface\"}], \"table\": [{\"cells\": {\"fill\": {\"color\": \"#EBF0F8\"}, \"line\": {\"color\": \"white\"}}, \"header\": {\"fill\": {\"color\": \"#C8D4E3\"}, \"line\": {\"color\": \"white\"}}, \"type\": \"table\"}]}, \"layout\": {\"annotationdefaults\": {\"arrowcolor\": \"#2a3f5f\", \"arrowhead\": 0, \"arrowwidth\": 1}, \"coloraxis\": {\"colorbar\": {\"outlinewidth\": 0, \"ticks\": \"\"}}, \"colorscale\": {\"diverging\": [[0, \"#8e0152\"], [0.1, \"#c51b7d\"], [0.2, \"#de77ae\"], [0.3, \"#f1b6da\"], [0.4, \"#fde0ef\"], [0.5, \"#f7f7f7\"], [0.6, \"#e6f5d0\"], [0.7, \"#b8e186\"], [0.8, \"#7fbc41\"], [0.9, \"#4d9221\"], [1, \"#276419\"]], \"sequential\": [[0.0, \"#0d0887\"], [0.1111111111111111, \"#46039f\"], [0.2222222222222222, \"#7201a8\"], [0.3333333333333333, \"#9c179e\"], [0.4444444444444444, \"#bd3786\"], [0.5555555555555556, \"#d8576b\"], [0.6666666666666666, \"#ed7953\"], [0.7777777777777778, \"#fb9f3a\"], [0.8888888888888888, \"#fdca26\"], [1.0, \"#f0f921\"]], \"sequentialminus\": [[0.0, \"#0d0887\"], [0.1111111111111111, \"#46039f\"], [0.2222222222222222, \"#7201a8\"], [0.3333333333333333, \"#9c179e\"], [0.4444444444444444, \"#bd3786\"], [0.5555555555555556, \"#d8576b\"], [0.6666666666666666, \"#ed7953\"], [0.7777777777777778, \"#fb9f3a\"], [0.8888888888888888, \"#fdca26\"], [1.0, \"#f0f921\"]]}, \"colorway\": [\"#636efa\", \"#EF553B\", \"#00cc96\", \"#ab63fa\", \"#FFA15A\", \"#19d3f3\", \"#FF6692\", \"#B6E880\", \"#FF97FF\", \"#FECB52\"], \"font\": {\"color\": \"#2a3f5f\"}, \"geo\": {\"bgcolor\": \"white\", \"lakecolor\": \"white\", \"landcolor\": \"#E5ECF6\", \"showlakes\": true, \"showland\": true, \"subunitcolor\": \"white\"}, \"hoverlabel\": {\"align\": \"left\"}, \"hovermode\": \"closest\", \"mapbox\": {\"style\": \"light\"}, \"paper_bgcolor\": \"white\", \"plot_bgcolor\": \"#E5ECF6\", \"polar\": {\"angularaxis\": {\"gridcolor\": \"white\", \"linecolor\": \"white\", \"ticks\": \"\"}, \"bgcolor\": \"#E5ECF6\", \"radialaxis\": {\"gridcolor\": \"white\", \"linecolor\": \"white\", \"ticks\": \"\"}}, \"scene\": {\"xaxis\": {\"backgroundcolor\": \"#E5ECF6\", \"gridcolor\": \"white\", \"gridwidth\": 2, \"linecolor\": \"white\", \"showbackground\": true, \"ticks\": \"\", \"zerolinecolor\": \"white\"}, \"yaxis\": {\"backgroundcolor\": \"#E5ECF6\", \"gridcolor\": \"white\", \"gridwidth\": 2, \"linecolor\": \"white\", \"showbackground\": true, \"ticks\": \"\", \"zerolinecolor\": \"white\"}, \"zaxis\": {\"backgroundcolor\": \"#E5ECF6\", \"gridcolor\": \"white\", \"gridwidth\": 2, \"linecolor\": \"white\", \"showbackground\": true, \"ticks\": \"\", \"zerolinecolor\": \"white\"}}, \"shapedefaults\": {\"line\": {\"color\": \"#2a3f5f\"}}, \"ternary\": {\"aaxis\": {\"gridcolor\": \"white\", \"linecolor\": \"white\", \"ticks\": \"\"}, \"baxis\": {\"gridcolor\": \"white\", \"linecolor\": \"white\", \"ticks\": \"\"}, \"bgcolor\": \"#E5ECF6\", \"caxis\": {\"gridcolor\": \"white\", \"linecolor\": \"white\", \"ticks\": \"\"}}, \"title\": {\"x\": 0.05}, \"xaxis\": {\"automargin\": true, \"gridcolor\": \"white\", \"linecolor\": \"white\", \"ticks\": \"\", \"title\": {\"standoff\": 15}, \"zerolinecolor\": \"white\", \"zerolinewidth\": 2}, \"yaxis\": {\"automargin\": true, \"gridcolor\": \"white\", \"linecolor\": \"white\", \"ticks\": \"\", \"title\": {\"standoff\": 15}, \"zerolinecolor\": \"white\", \"zerolinewidth\": 2}}}, \"title\": {\"font\": {\"color\": \"#4D5663\"}}, \"xaxis\": {\"gridcolor\": \"#E1E5ED\", \"showgrid\": true, \"tickfont\": {\"color\": \"#4D5663\"}, \"title\": {\"font\": {\"color\": \"#4D5663\"}, \"text\": \"\"}, \"zerolinecolor\": \"#E1E5ED\"}, \"yaxis\": {\"gridcolor\": \"#E1E5ED\", \"showgrid\": true, \"tickfont\": {\"color\": \"#4D5663\"}, \"title\": {\"font\": {\"color\": \"#4D5663\"}, \"text\": \"\"}, \"zerolinecolor\": \"#E1E5ED\"}},\n",
       "                        {\"showLink\": true, \"linkText\": \"Export to plot.ly\", \"plotlyServerURL\": \"https://plot.ly\", \"responsive\": true}\n",
       "                    ).then(function(){\n",
       "                            \n",
       "var gd = document.getElementById('f2d5ce18-e3ab-423e-a27b-263621877c86');\n",
       "var x = new MutationObserver(function (mutations, observer) {{\n",
       "        var display = window.getComputedStyle(gd).display;\n",
       "        if (!display || display === 'none') {{\n",
       "            console.log([gd, 'removed!']);\n",
       "            Plotly.purge(gd);\n",
       "            observer.disconnect();\n",
       "        }}\n",
       "}});\n",
       "\n",
       "// Listen for the removal of the full notebook cells\n",
       "var notebookContainer = gd.closest('#notebook-container');\n",
       "if (notebookContainer) {{\n",
       "    x.observe(notebookContainer, {childList: true});\n",
       "}}\n",
       "\n",
       "// Listen for the clearing of the current output cell\n",
       "var outputEl = gd.closest('.output');\n",
       "if (outputEl) {{\n",
       "    x.observe(outputEl, {childList: true});\n",
       "}}\n",
       "\n",
       "                        })\n",
       "                };\n",
       "                });\n",
       "            </script>\n",
       "        </div>"
      ]
     },
     "metadata": {},
     "output_type": "display_data"
    }
   ],
   "source": [
    "df['A'].iplot(kind='hist', bins=25)"
   ]
  },
  {
   "cell_type": "code",
   "execution_count": 54,
   "id": "needed-bronze",
   "metadata": {},
   "outputs": [
    {
     "data": {
      "text/html": [
       "<div style=\"display:inline-block;padding:10px;\"><div>accent</div><div style=\"background-color:rgb(127,201,127);height:20px;width:20px;margin-bottom:0px;display:inline-block;\"></div><div style=\"background-color:rgb(190,174,212);height:20px;width:20px;margin-bottom:0px;display:inline-block;\"></div><div style=\"background-color:rgb(253,192,134);height:20px;width:20px;margin-bottom:0px;display:inline-block;\"></div><div style=\"background-color:rgb(255,255,153);height:20px;width:20px;margin-bottom:0px;display:inline-block;\"></div><div style=\"background-color:rgb(56,108,176);height:20px;width:20px;margin-bottom:0px;display:inline-block;\"></div><div style=\"background-color:rgb(240,2,127);height:20px;width:20px;margin-bottom:0px;display:inline-block;\"></div><div style=\"background-color:rgb(191,91,23);height:20px;width:20px;margin-bottom:0px;display:inline-block;\"></div><div style=\"background-color:rgb(102,102,102);height:20px;width:20px;margin-bottom:0px;display:inline-block;\"></div></div><div style=\"display:inline-block;padding:10px;\"><div>blues</div><div style=\"background-color:rgb(247,251,255);height:20px;width:20px;margin-bottom:0px;display:inline-block;\"></div><div style=\"background-color:rgb(222,235,247);height:20px;width:20px;margin-bottom:0px;display:inline-block;\"></div><div style=\"background-color:rgb(198,219,239);height:20px;width:20px;margin-bottom:0px;display:inline-block;\"></div><div style=\"background-color:rgb(158,202,225);height:20px;width:20px;margin-bottom:0px;display:inline-block;\"></div><div style=\"background-color:rgb(107,174,214);height:20px;width:20px;margin-bottom:0px;display:inline-block;\"></div><div style=\"background-color:rgb(66,146,198);height:20px;width:20px;margin-bottom:0px;display:inline-block;\"></div><div style=\"background-color:rgb(33,113,181);height:20px;width:20px;margin-bottom:0px;display:inline-block;\"></div><div style=\"background-color:rgb(8,81,156);height:20px;width:20px;margin-bottom:0px;display:inline-block;\"></div><div style=\"background-color:rgb(8,48,107);height:20px;width:20px;margin-bottom:0px;display:inline-block;\"></div></div><div style=\"display:inline-block;padding:10px;\"><div>brbg</div><div style=\"background-color:rgb(84,48,5);height:20px;width:20px;margin-bottom:0px;display:inline-block;\"></div><div style=\"background-color:rgb(140,81,10);height:20px;width:20px;margin-bottom:0px;display:inline-block;\"></div><div style=\"background-color:rgb(191,129,45);height:20px;width:20px;margin-bottom:0px;display:inline-block;\"></div><div style=\"background-color:rgb(223,194,125);height:20px;width:20px;margin-bottom:0px;display:inline-block;\"></div><div style=\"background-color:rgb(246,232,195);height:20px;width:20px;margin-bottom:0px;display:inline-block;\"></div><div style=\"background-color:rgb(245,245,245);height:20px;width:20px;margin-bottom:0px;display:inline-block;\"></div><div style=\"background-color:rgb(199,234,229);height:20px;width:20px;margin-bottom:0px;display:inline-block;\"></div><div style=\"background-color:rgb(128,205,193);height:20px;width:20px;margin-bottom:0px;display:inline-block;\"></div><div style=\"background-color:rgb(53,151,143);height:20px;width:20px;margin-bottom:0px;display:inline-block;\"></div><div style=\"background-color:rgb(1,102,94);height:20px;width:20px;margin-bottom:0px;display:inline-block;\"></div><div style=\"background-color:rgb(0,60,48);height:20px;width:20px;margin-bottom:0px;display:inline-block;\"></div></div><div style=\"display:inline-block;padding:10px;\"><div>bugn</div><div style=\"background-color:rgb(247,252,253);height:20px;width:20px;margin-bottom:0px;display:inline-block;\"></div><div style=\"background-color:rgb(229,245,249);height:20px;width:20px;margin-bottom:0px;display:inline-block;\"></div><div style=\"background-color:rgb(204,236,230);height:20px;width:20px;margin-bottom:0px;display:inline-block;\"></div><div style=\"background-color:rgb(153,216,201);height:20px;width:20px;margin-bottom:0px;display:inline-block;\"></div><div style=\"background-color:rgb(102,194,164);height:20px;width:20px;margin-bottom:0px;display:inline-block;\"></div><div style=\"background-color:rgb(65,174,118);height:20px;width:20px;margin-bottom:0px;display:inline-block;\"></div><div style=\"background-color:rgb(35,139,69);height:20px;width:20px;margin-bottom:0px;display:inline-block;\"></div><div style=\"background-color:rgb(0,109,44);height:20px;width:20px;margin-bottom:0px;display:inline-block;\"></div><div style=\"background-color:rgb(0,68,27);height:20px;width:20px;margin-bottom:0px;display:inline-block;\"></div></div><div style=\"display:inline-block;padding:10px;\"><div>bupu</div><div style=\"background-color:rgb(247,252,253);height:20px;width:20px;margin-bottom:0px;display:inline-block;\"></div><div style=\"background-color:rgb(224,236,244);height:20px;width:20px;margin-bottom:0px;display:inline-block;\"></div><div style=\"background-color:rgb(191,211,230);height:20px;width:20px;margin-bottom:0px;display:inline-block;\"></div><div style=\"background-color:rgb(158,188,218);height:20px;width:20px;margin-bottom:0px;display:inline-block;\"></div><div style=\"background-color:rgb(140,150,198);height:20px;width:20px;margin-bottom:0px;display:inline-block;\"></div><div style=\"background-color:rgb(140,107,177);height:20px;width:20px;margin-bottom:0px;display:inline-block;\"></div><div style=\"background-color:rgb(136,65,157);height:20px;width:20px;margin-bottom:0px;display:inline-block;\"></div><div style=\"background-color:rgb(129,15,124);height:20px;width:20px;margin-bottom:0px;display:inline-block;\"></div><div style=\"background-color:rgb(77,0,75);height:20px;width:20px;margin-bottom:0px;display:inline-block;\"></div></div><div style=\"display:inline-block;padding:10px;\"><div>dark2</div><div style=\"background-color:rgb(27,158,119);height:20px;width:20px;margin-bottom:0px;display:inline-block;\"></div><div style=\"background-color:rgb(217,95,2);height:20px;width:20px;margin-bottom:0px;display:inline-block;\"></div><div style=\"background-color:rgb(117,112,179);height:20px;width:20px;margin-bottom:0px;display:inline-block;\"></div><div style=\"background-color:rgb(231,41,138);height:20px;width:20px;margin-bottom:0px;display:inline-block;\"></div><div style=\"background-color:rgb(102,166,30);height:20px;width:20px;margin-bottom:0px;display:inline-block;\"></div><div style=\"background-color:rgb(230,171,2);height:20px;width:20px;margin-bottom:0px;display:inline-block;\"></div><div style=\"background-color:rgb(166,118,29);height:20px;width:20px;margin-bottom:0px;display:inline-block;\"></div><div style=\"background-color:rgb(102,102,102);height:20px;width:20px;margin-bottom:0px;display:inline-block;\"></div></div><div style=\"display:inline-block;padding:10px;\"><div>dflt</div><div style=\"background-color:rgb(255, 153, 51);height:20px;width:20px;margin-bottom:0px;display:inline-block;\"></div><div style=\"background-color:rgb(55, 128, 191);height:20px;width:20px;margin-bottom:0px;display:inline-block;\"></div><div style=\"background-color:rgb(50, 171, 96);height:20px;width:20px;margin-bottom:0px;display:inline-block;\"></div><div style=\"background-color:rgb(128, 0, 128);height:20px;width:20px;margin-bottom:0px;display:inline-block;\"></div><div style=\"background-color:rgb(219, 64, 82);height:20px;width:20px;margin-bottom:0px;display:inline-block;\"></div><div style=\"background-color:rgb(0, 128, 128);height:20px;width:20px;margin-bottom:0px;display:inline-block;\"></div><div style=\"background-color:rgb(255, 255, 51);height:20px;width:20px;margin-bottom:0px;display:inline-block;\"></div><div style=\"background-color:rgb(128, 128, 0);height:20px;width:20px;margin-bottom:0px;display:inline-block;\"></div><div style=\"background-color:rgb(251, 128, 114);height:20px;width:20px;margin-bottom:0px;display:inline-block;\"></div><div style=\"background-color:rgb(128, 177, 211);height:20px;width:20px;margin-bottom:0px;display:inline-block;\"></div></div><div style=\"display:inline-block;padding:10px;\"><div>ggplot</div><div style=\"background-color:rgb(226, 74, 51);height:20px;width:20px;margin-bottom:0px;display:inline-block;\"></div><div style=\"background-color:rgb(62, 111, 176);height:20px;width:20px;margin-bottom:0px;display:inline-block;\"></div><div style=\"background-color:rgb(132, 118, 202);height:20px;width:20px;margin-bottom:0px;display:inline-block;\"></div><div style=\"background-color:rgb(101, 101, 101);height:20px;width:20px;margin-bottom:0px;display:inline-block;\"></div><div style=\"background-color:rgb(251, 193, 94);height:20px;width:20px;margin-bottom:0px;display:inline-block;\"></div><div style=\"background-color:rgb(142, 186, 66);height:20px;width:20px;margin-bottom:0px;display:inline-block;\"></div><div style=\"background-color:rgb(255, 181, 184);height:20px;width:20px;margin-bottom:0px;display:inline-block;\"></div></div><div style=\"display:inline-block;padding:10px;\"><div>gnbu</div><div style=\"background-color:rgb(247,252,240);height:20px;width:20px;margin-bottom:0px;display:inline-block;\"></div><div style=\"background-color:rgb(224,243,219);height:20px;width:20px;margin-bottom:0px;display:inline-block;\"></div><div style=\"background-color:rgb(204,235,197);height:20px;width:20px;margin-bottom:0px;display:inline-block;\"></div><div style=\"background-color:rgb(168,221,181);height:20px;width:20px;margin-bottom:0px;display:inline-block;\"></div><div style=\"background-color:rgb(123,204,196);height:20px;width:20px;margin-bottom:0px;display:inline-block;\"></div><div style=\"background-color:rgb(78,179,211);height:20px;width:20px;margin-bottom:0px;display:inline-block;\"></div><div style=\"background-color:rgb(43,140,190);height:20px;width:20px;margin-bottom:0px;display:inline-block;\"></div><div style=\"background-color:rgb(8,104,172);height:20px;width:20px;margin-bottom:0px;display:inline-block;\"></div><div style=\"background-color:rgb(8,64,129);height:20px;width:20px;margin-bottom:0px;display:inline-block;\"></div></div><div style=\"display:inline-block;padding:10px;\"><div>greens</div><div style=\"background-color:rgb(247,252,245);height:20px;width:20px;margin-bottom:0px;display:inline-block;\"></div><div style=\"background-color:rgb(229,245,224);height:20px;width:20px;margin-bottom:0px;display:inline-block;\"></div><div style=\"background-color:rgb(199,233,192);height:20px;width:20px;margin-bottom:0px;display:inline-block;\"></div><div style=\"background-color:rgb(161,217,155);height:20px;width:20px;margin-bottom:0px;display:inline-block;\"></div><div style=\"background-color:rgb(116,196,118);height:20px;width:20px;margin-bottom:0px;display:inline-block;\"></div><div style=\"background-color:rgb(65,171,93);height:20px;width:20px;margin-bottom:0px;display:inline-block;\"></div><div style=\"background-color:rgb(35,139,69);height:20px;width:20px;margin-bottom:0px;display:inline-block;\"></div><div style=\"background-color:rgb(0,109,44);height:20px;width:20px;margin-bottom:0px;display:inline-block;\"></div><div style=\"background-color:rgb(0,68,27);height:20px;width:20px;margin-bottom:0px;display:inline-block;\"></div></div><div style=\"display:inline-block;padding:10px;\"><div>greys</div><div style=\"background-color:rgb(255,255,255);height:20px;width:20px;margin-bottom:0px;display:inline-block;\"></div><div style=\"background-color:rgb(240,240,240);height:20px;width:20px;margin-bottom:0px;display:inline-block;\"></div><div style=\"background-color:rgb(217,217,217);height:20px;width:20px;margin-bottom:0px;display:inline-block;\"></div><div style=\"background-color:rgb(189,189,189);height:20px;width:20px;margin-bottom:0px;display:inline-block;\"></div><div style=\"background-color:rgb(150,150,150);height:20px;width:20px;margin-bottom:0px;display:inline-block;\"></div><div style=\"background-color:rgb(115,115,115);height:20px;width:20px;margin-bottom:0px;display:inline-block;\"></div><div style=\"background-color:rgb(82,82,82);height:20px;width:20px;margin-bottom:0px;display:inline-block;\"></div><div style=\"background-color:rgb(37,37,37);height:20px;width:20px;margin-bottom:0px;display:inline-block;\"></div><div style=\"background-color:rgb(0,0,0);height:20px;width:20px;margin-bottom:0px;display:inline-block;\"></div></div><div style=\"display:inline-block;padding:10px;\"><div>henanigans</div><div style=\"background-color:rgb(182, 236, 243);height:20px;width:20px;margin-bottom:0px;display:inline-block;\"></div><div style=\"background-color:rgb(222, 149, 142);height:20px;width:20px;margin-bottom:0px;display:inline-block;\"></div><div style=\"background-color:rgb(160, 209, 123);height:20px;width:20px;margin-bottom:0px;display:inline-block;\"></div><div style=\"background-color:rgb(147, 182, 230);height:20px;width:20px;margin-bottom:0px;display:inline-block;\"></div><div style=\"background-color:rgb(235, 180, 131);height:20px;width:20px;margin-bottom:0px;display:inline-block;\"></div><div style=\"background-color:rgb(172, 146, 222);height:20px;width:20px;margin-bottom:0px;display:inline-block;\"></div><div style=\"background-color:rgb(233, 234, 190);height:20px;width:20px;margin-bottom:0px;display:inline-block;\"></div><div style=\"background-color:rgb(244, 244, 244);height:20px;width:20px;margin-bottom:0px;display:inline-block;\"></div><div style=\"background-color:rgb(126, 196, 207);height:20px;width:20px;margin-bottom:0px;display:inline-block;\"></div><div style=\"background-color:rgb(247, 126, 112);height:20px;width:20px;margin-bottom:0px;display:inline-block;\"></div><div style=\"background-color:rgb(139, 209, 85);height:20px;width:20px;margin-bottom:0px;display:inline-block;\"></div><div style=\"background-color:rgb(95, 149, 222);height:20px;width:20px;margin-bottom:0px;display:inline-block;\"></div></div><div style=\"display:inline-block;padding:10px;\"><div>oranges</div><div style=\"background-color:rgb(255,245,235);height:20px;width:20px;margin-bottom:0px;display:inline-block;\"></div><div style=\"background-color:rgb(254,230,206);height:20px;width:20px;margin-bottom:0px;display:inline-block;\"></div><div style=\"background-color:rgb(253,208,162);height:20px;width:20px;margin-bottom:0px;display:inline-block;\"></div><div style=\"background-color:rgb(253,174,107);height:20px;width:20px;margin-bottom:0px;display:inline-block;\"></div><div style=\"background-color:rgb(253,141,60);height:20px;width:20px;margin-bottom:0px;display:inline-block;\"></div><div style=\"background-color:rgb(241,105,19);height:20px;width:20px;margin-bottom:0px;display:inline-block;\"></div><div style=\"background-color:rgb(217,72,1);height:20px;width:20px;margin-bottom:0px;display:inline-block;\"></div><div style=\"background-color:rgb(166,54,3);height:20px;width:20px;margin-bottom:0px;display:inline-block;\"></div><div style=\"background-color:rgb(127,39,4);height:20px;width:20px;margin-bottom:0px;display:inline-block;\"></div></div><div style=\"display:inline-block;padding:10px;\"><div>original</div><div style=\"background-color:rgb(255, 153, 51);height:20px;width:20px;margin-bottom:0px;display:inline-block;\"></div><div style=\"background-color:rgb(55, 128, 191);height:20px;width:20px;margin-bottom:0px;display:inline-block;\"></div><div style=\"background-color:rgb(50, 171, 96);height:20px;width:20px;margin-bottom:0px;display:inline-block;\"></div><div style=\"background-color:rgb(128, 0, 128);height:20px;width:20px;margin-bottom:0px;display:inline-block;\"></div><div style=\"background-color:rgb(219, 64, 82);height:20px;width:20px;margin-bottom:0px;display:inline-block;\"></div><div style=\"background-color:rgb(0, 128, 128);height:20px;width:20px;margin-bottom:0px;display:inline-block;\"></div><div style=\"background-color:rgb(255, 255, 51);height:20px;width:20px;margin-bottom:0px;display:inline-block;\"></div><div style=\"background-color:rgb(128, 128, 0);height:20px;width:20px;margin-bottom:0px;display:inline-block;\"></div><div style=\"background-color:rgb(251, 128, 114);height:20px;width:20px;margin-bottom:0px;display:inline-block;\"></div><div style=\"background-color:rgb(128, 177, 211);height:20px;width:20px;margin-bottom:0px;display:inline-block;\"></div></div><div style=\"display:inline-block;padding:10px;\"><div>orrd</div><div style=\"background-color:rgb(255,247,236);height:20px;width:20px;margin-bottom:0px;display:inline-block;\"></div><div style=\"background-color:rgb(254,232,200);height:20px;width:20px;margin-bottom:0px;display:inline-block;\"></div><div style=\"background-color:rgb(253,212,158);height:20px;width:20px;margin-bottom:0px;display:inline-block;\"></div><div style=\"background-color:rgb(253,187,132);height:20px;width:20px;margin-bottom:0px;display:inline-block;\"></div><div style=\"background-color:rgb(252,141,89);height:20px;width:20px;margin-bottom:0px;display:inline-block;\"></div><div style=\"background-color:rgb(239,101,72);height:20px;width:20px;margin-bottom:0px;display:inline-block;\"></div><div style=\"background-color:rgb(215,48,31);height:20px;width:20px;margin-bottom:0px;display:inline-block;\"></div><div style=\"background-color:rgb(179,0,0);height:20px;width:20px;margin-bottom:0px;display:inline-block;\"></div><div style=\"background-color:rgb(127,0,0);height:20px;width:20px;margin-bottom:0px;display:inline-block;\"></div></div><div style=\"display:inline-block;padding:10px;\"><div>paired</div><div style=\"background-color:rgb(166,206,227);height:20px;width:20px;margin-bottom:0px;display:inline-block;\"></div><div style=\"background-color:rgb(31,120,180);height:20px;width:20px;margin-bottom:0px;display:inline-block;\"></div><div style=\"background-color:rgb(178,223,138);height:20px;width:20px;margin-bottom:0px;display:inline-block;\"></div><div style=\"background-color:rgb(51,160,44);height:20px;width:20px;margin-bottom:0px;display:inline-block;\"></div><div style=\"background-color:rgb(251,154,153);height:20px;width:20px;margin-bottom:0px;display:inline-block;\"></div><div style=\"background-color:rgb(227,26,28);height:20px;width:20px;margin-bottom:0px;display:inline-block;\"></div><div style=\"background-color:rgb(253,191,111);height:20px;width:20px;margin-bottom:0px;display:inline-block;\"></div><div style=\"background-color:rgb(255,127,0);height:20px;width:20px;margin-bottom:0px;display:inline-block;\"></div><div style=\"background-color:rgb(202,178,214);height:20px;width:20px;margin-bottom:0px;display:inline-block;\"></div><div style=\"background-color:rgb(106,61,154);height:20px;width:20px;margin-bottom:0px;display:inline-block;\"></div><div style=\"background-color:rgb(255,255,153);height:20px;width:20px;margin-bottom:0px;display:inline-block;\"></div><div style=\"background-color:rgb(177,89,40);height:20px;width:20px;margin-bottom:0px;display:inline-block;\"></div></div><div style=\"display:inline-block;padding:10px;\"><div>pastel1</div><div style=\"background-color:rgb(251,180,174);height:20px;width:20px;margin-bottom:0px;display:inline-block;\"></div><div style=\"background-color:rgb(179,205,227);height:20px;width:20px;margin-bottom:0px;display:inline-block;\"></div><div style=\"background-color:rgb(204,235,197);height:20px;width:20px;margin-bottom:0px;display:inline-block;\"></div><div style=\"background-color:rgb(222,203,228);height:20px;width:20px;margin-bottom:0px;display:inline-block;\"></div><div style=\"background-color:rgb(254,217,166);height:20px;width:20px;margin-bottom:0px;display:inline-block;\"></div><div style=\"background-color:rgb(255,255,204);height:20px;width:20px;margin-bottom:0px;display:inline-block;\"></div><div style=\"background-color:rgb(229,216,189);height:20px;width:20px;margin-bottom:0px;display:inline-block;\"></div><div style=\"background-color:rgb(253,218,236);height:20px;width:20px;margin-bottom:0px;display:inline-block;\"></div><div style=\"background-color:rgb(242,242,242);height:20px;width:20px;margin-bottom:0px;display:inline-block;\"></div></div><div style=\"display:inline-block;padding:10px;\"><div>pastel2</div><div style=\"background-color:rgb(179,226,205);height:20px;width:20px;margin-bottom:0px;display:inline-block;\"></div><div style=\"background-color:rgb(253,205,172);height:20px;width:20px;margin-bottom:0px;display:inline-block;\"></div><div style=\"background-color:rgb(203,213,232);height:20px;width:20px;margin-bottom:0px;display:inline-block;\"></div><div style=\"background-color:rgb(244,202,228);height:20px;width:20px;margin-bottom:0px;display:inline-block;\"></div><div style=\"background-color:rgb(230,245,201);height:20px;width:20px;margin-bottom:0px;display:inline-block;\"></div><div style=\"background-color:rgb(255,242,174);height:20px;width:20px;margin-bottom:0px;display:inline-block;\"></div><div style=\"background-color:rgb(241,226,204);height:20px;width:20px;margin-bottom:0px;display:inline-block;\"></div><div style=\"background-color:rgb(204,204,204);height:20px;width:20px;margin-bottom:0px;display:inline-block;\"></div></div><div style=\"display:inline-block;padding:10px;\"><div>piyg</div><div style=\"background-color:rgb(142,1,82);height:20px;width:20px;margin-bottom:0px;display:inline-block;\"></div><div style=\"background-color:rgb(197,27,125);height:20px;width:20px;margin-bottom:0px;display:inline-block;\"></div><div style=\"background-color:rgb(222,119,174);height:20px;width:20px;margin-bottom:0px;display:inline-block;\"></div><div style=\"background-color:rgb(241,182,218);height:20px;width:20px;margin-bottom:0px;display:inline-block;\"></div><div style=\"background-color:rgb(253,224,239);height:20px;width:20px;margin-bottom:0px;display:inline-block;\"></div><div style=\"background-color:rgb(247,247,247);height:20px;width:20px;margin-bottom:0px;display:inline-block;\"></div><div style=\"background-color:rgb(230,245,208);height:20px;width:20px;margin-bottom:0px;display:inline-block;\"></div><div style=\"background-color:rgb(184,225,134);height:20px;width:20px;margin-bottom:0px;display:inline-block;\"></div><div style=\"background-color:rgb(127,188,65);height:20px;width:20px;margin-bottom:0px;display:inline-block;\"></div><div style=\"background-color:rgb(77,146,33);height:20px;width:20px;margin-bottom:0px;display:inline-block;\"></div><div style=\"background-color:rgb(39,100,25);height:20px;width:20px;margin-bottom:0px;display:inline-block;\"></div></div><div style=\"display:inline-block;padding:10px;\"><div>plotly</div><div style=\"background-color:rgb(31, 119, 180);height:20px;width:20px;margin-bottom:0px;display:inline-block;\"></div><div style=\"background-color:rgb(255, 127, 14);height:20px;width:20px;margin-bottom:0px;display:inline-block;\"></div><div style=\"background-color:rgb(44, 160, 44);height:20px;width:20px;margin-bottom:0px;display:inline-block;\"></div><div style=\"background-color:rgb(214, 39, 40);height:20px;width:20px;margin-bottom:0px;display:inline-block;\"></div><div style=\"background-color:rgb(148, 103, 189);height:20px;width:20px;margin-bottom:0px;display:inline-block;\"></div><div style=\"background-color:rgb(140, 86, 75);height:20px;width:20px;margin-bottom:0px;display:inline-block;\"></div><div style=\"background-color:rgb(227, 119, 194);height:20px;width:20px;margin-bottom:0px;display:inline-block;\"></div><div style=\"background-color:rgb(127, 127, 127);height:20px;width:20px;margin-bottom:0px;display:inline-block;\"></div><div style=\"background-color:rgb(188, 189, 34);height:20px;width:20px;margin-bottom:0px;display:inline-block;\"></div><div style=\"background-color:rgb(23, 190, 207);height:20px;width:20px;margin-bottom:0px;display:inline-block;\"></div></div><div style=\"display:inline-block;padding:10px;\"><div>polar</div><div style=\"background-color:rgb(0, 128, 240);height:20px;width:20px;margin-bottom:0px;display:inline-block;\"></div><div style=\"background-color:rgb(238, 118, 0);height:20px;width:20px;margin-bottom:0px;display:inline-block;\"></div><div style=\"background-color:rgb(48, 144, 84);height:20px;width:20px;margin-bottom:0px;display:inline-block;\"></div><div style=\"background-color:rgb(98, 98, 222);height:20px;width:20px;margin-bottom:0px;display:inline-block;\"></div><div style=\"background-color:rgb(217, 66, 85);height:20px;width:20px;margin-bottom:0px;display:inline-block;\"></div><div style=\"background-color:rgb(173, 252, 252);height:20px;width:20px;margin-bottom:0px;display:inline-block;\"></div><div style=\"background-color:rgb(70, 160, 240);height:20px;width:20px;margin-bottom:0px;display:inline-block;\"></div></div><div style=\"display:inline-block;padding:10px;\"><div>prgn</div><div style=\"background-color:rgb(64,0,75);height:20px;width:20px;margin-bottom:0px;display:inline-block;\"></div><div style=\"background-color:rgb(118,42,131);height:20px;width:20px;margin-bottom:0px;display:inline-block;\"></div><div style=\"background-color:rgb(153,112,171);height:20px;width:20px;margin-bottom:0px;display:inline-block;\"></div><div style=\"background-color:rgb(194,165,207);height:20px;width:20px;margin-bottom:0px;display:inline-block;\"></div><div style=\"background-color:rgb(231,212,232);height:20px;width:20px;margin-bottom:0px;display:inline-block;\"></div><div style=\"background-color:rgb(247,247,247);height:20px;width:20px;margin-bottom:0px;display:inline-block;\"></div><div style=\"background-color:rgb(217,240,211);height:20px;width:20px;margin-bottom:0px;display:inline-block;\"></div><div style=\"background-color:rgb(166,219,160);height:20px;width:20px;margin-bottom:0px;display:inline-block;\"></div><div style=\"background-color:rgb(90,174,97);height:20px;width:20px;margin-bottom:0px;display:inline-block;\"></div><div style=\"background-color:rgb(27,120,55);height:20px;width:20px;margin-bottom:0px;display:inline-block;\"></div><div style=\"background-color:rgb(0,68,27);height:20px;width:20px;margin-bottom:0px;display:inline-block;\"></div></div><div style=\"display:inline-block;padding:10px;\"><div>pubu</div><div style=\"background-color:rgb(255,247,251);height:20px;width:20px;margin-bottom:0px;display:inline-block;\"></div><div style=\"background-color:rgb(236,231,242);height:20px;width:20px;margin-bottom:0px;display:inline-block;\"></div><div style=\"background-color:rgb(208,209,230);height:20px;width:20px;margin-bottom:0px;display:inline-block;\"></div><div style=\"background-color:rgb(166,189,219);height:20px;width:20px;margin-bottom:0px;display:inline-block;\"></div><div style=\"background-color:rgb(116,169,207);height:20px;width:20px;margin-bottom:0px;display:inline-block;\"></div><div style=\"background-color:rgb(54,144,192);height:20px;width:20px;margin-bottom:0px;display:inline-block;\"></div><div style=\"background-color:rgb(5,112,176);height:20px;width:20px;margin-bottom:0px;display:inline-block;\"></div><div style=\"background-color:rgb(4,90,141);height:20px;width:20px;margin-bottom:0px;display:inline-block;\"></div><div style=\"background-color:rgb(2,56,88);height:20px;width:20px;margin-bottom:0px;display:inline-block;\"></div></div><div style=\"display:inline-block;padding:10px;\"><div>pubugn</div><div style=\"background-color:rgb(255,247,251);height:20px;width:20px;margin-bottom:0px;display:inline-block;\"></div><div style=\"background-color:rgb(236,226,240);height:20px;width:20px;margin-bottom:0px;display:inline-block;\"></div><div style=\"background-color:rgb(208,209,230);height:20px;width:20px;margin-bottom:0px;display:inline-block;\"></div><div style=\"background-color:rgb(166,189,219);height:20px;width:20px;margin-bottom:0px;display:inline-block;\"></div><div style=\"background-color:rgb(103,169,207);height:20px;width:20px;margin-bottom:0px;display:inline-block;\"></div><div style=\"background-color:rgb(54,144,192);height:20px;width:20px;margin-bottom:0px;display:inline-block;\"></div><div style=\"background-color:rgb(2,129,138);height:20px;width:20px;margin-bottom:0px;display:inline-block;\"></div><div style=\"background-color:rgb(1,108,89);height:20px;width:20px;margin-bottom:0px;display:inline-block;\"></div><div style=\"background-color:rgb(1,70,54);height:20px;width:20px;margin-bottom:0px;display:inline-block;\"></div></div><div style=\"display:inline-block;padding:10px;\"><div>puor</div><div style=\"background-color:rgb(127,59,8);height:20px;width:20px;margin-bottom:0px;display:inline-block;\"></div><div style=\"background-color:rgb(179,88,6);height:20px;width:20px;margin-bottom:0px;display:inline-block;\"></div><div style=\"background-color:rgb(224,130,20);height:20px;width:20px;margin-bottom:0px;display:inline-block;\"></div><div style=\"background-color:rgb(253,184,99);height:20px;width:20px;margin-bottom:0px;display:inline-block;\"></div><div style=\"background-color:rgb(254,224,182);height:20px;width:20px;margin-bottom:0px;display:inline-block;\"></div><div style=\"background-color:rgb(247,247,247);height:20px;width:20px;margin-bottom:0px;display:inline-block;\"></div><div style=\"background-color:rgb(216,218,235);height:20px;width:20px;margin-bottom:0px;display:inline-block;\"></div><div style=\"background-color:rgb(178,171,210);height:20px;width:20px;margin-bottom:0px;display:inline-block;\"></div><div style=\"background-color:rgb(128,115,172);height:20px;width:20px;margin-bottom:0px;display:inline-block;\"></div><div style=\"background-color:rgb(84,39,136);height:20px;width:20px;margin-bottom:0px;display:inline-block;\"></div><div style=\"background-color:rgb(45,0,75);height:20px;width:20px;margin-bottom:0px;display:inline-block;\"></div></div><div style=\"display:inline-block;padding:10px;\"><div>purd</div><div style=\"background-color:rgb(247,244,249);height:20px;width:20px;margin-bottom:0px;display:inline-block;\"></div><div style=\"background-color:rgb(231,225,239);height:20px;width:20px;margin-bottom:0px;display:inline-block;\"></div><div style=\"background-color:rgb(212,185,218);height:20px;width:20px;margin-bottom:0px;display:inline-block;\"></div><div style=\"background-color:rgb(201,148,199);height:20px;width:20px;margin-bottom:0px;display:inline-block;\"></div><div style=\"background-color:rgb(223,101,176);height:20px;width:20px;margin-bottom:0px;display:inline-block;\"></div><div style=\"background-color:rgb(231,41,138);height:20px;width:20px;margin-bottom:0px;display:inline-block;\"></div><div style=\"background-color:rgb(206,18,86);height:20px;width:20px;margin-bottom:0px;display:inline-block;\"></div><div style=\"background-color:rgb(152,0,67);height:20px;width:20px;margin-bottom:0px;display:inline-block;\"></div><div style=\"background-color:rgb(103,0,31);height:20px;width:20px;margin-bottom:0px;display:inline-block;\"></div></div><div style=\"display:inline-block;padding:10px;\"><div>purples</div><div style=\"background-color:rgb(252,251,253);height:20px;width:20px;margin-bottom:0px;display:inline-block;\"></div><div style=\"background-color:rgb(239,237,245);height:20px;width:20px;margin-bottom:0px;display:inline-block;\"></div><div style=\"background-color:rgb(218,218,235);height:20px;width:20px;margin-bottom:0px;display:inline-block;\"></div><div style=\"background-color:rgb(188,189,220);height:20px;width:20px;margin-bottom:0px;display:inline-block;\"></div><div style=\"background-color:rgb(158,154,200);height:20px;width:20px;margin-bottom:0px;display:inline-block;\"></div><div style=\"background-color:rgb(128,125,186);height:20px;width:20px;margin-bottom:0px;display:inline-block;\"></div><div style=\"background-color:rgb(106,81,163);height:20px;width:20px;margin-bottom:0px;display:inline-block;\"></div><div style=\"background-color:rgb(84,39,143);height:20px;width:20px;margin-bottom:0px;display:inline-block;\"></div><div style=\"background-color:rgb(63,0,125);height:20px;width:20px;margin-bottom:0px;display:inline-block;\"></div></div><div style=\"display:inline-block;padding:10px;\"><div>rdbu</div><div style=\"background-color:rgb(103,0,31);height:20px;width:20px;margin-bottom:0px;display:inline-block;\"></div><div style=\"background-color:rgb(178,24,43);height:20px;width:20px;margin-bottom:0px;display:inline-block;\"></div><div style=\"background-color:rgb(214,96,77);height:20px;width:20px;margin-bottom:0px;display:inline-block;\"></div><div style=\"background-color:rgb(244,165,130);height:20px;width:20px;margin-bottom:0px;display:inline-block;\"></div><div style=\"background-color:rgb(253,219,199);height:20px;width:20px;margin-bottom:0px;display:inline-block;\"></div><div style=\"background-color:rgb(247,247,247);height:20px;width:20px;margin-bottom:0px;display:inline-block;\"></div><div style=\"background-color:rgb(209,229,240);height:20px;width:20px;margin-bottom:0px;display:inline-block;\"></div><div style=\"background-color:rgb(146,197,222);height:20px;width:20px;margin-bottom:0px;display:inline-block;\"></div><div style=\"background-color:rgb(67,147,195);height:20px;width:20px;margin-bottom:0px;display:inline-block;\"></div><div style=\"background-color:rgb(33,102,172);height:20px;width:20px;margin-bottom:0px;display:inline-block;\"></div><div style=\"background-color:rgb(5,48,97);height:20px;width:20px;margin-bottom:0px;display:inline-block;\"></div></div><div style=\"display:inline-block;padding:10px;\"><div>rdgy</div><div style=\"background-color:rgb(103,0,31);height:20px;width:20px;margin-bottom:0px;display:inline-block;\"></div><div style=\"background-color:rgb(178,24,43);height:20px;width:20px;margin-bottom:0px;display:inline-block;\"></div><div style=\"background-color:rgb(214,96,77);height:20px;width:20px;margin-bottom:0px;display:inline-block;\"></div><div style=\"background-color:rgb(244,165,130);height:20px;width:20px;margin-bottom:0px;display:inline-block;\"></div><div style=\"background-color:rgb(253,219,199);height:20px;width:20px;margin-bottom:0px;display:inline-block;\"></div><div style=\"background-color:rgb(255,255,255);height:20px;width:20px;margin-bottom:0px;display:inline-block;\"></div><div style=\"background-color:rgb(224,224,224);height:20px;width:20px;margin-bottom:0px;display:inline-block;\"></div><div style=\"background-color:rgb(186,186,186);height:20px;width:20px;margin-bottom:0px;display:inline-block;\"></div><div style=\"background-color:rgb(135,135,135);height:20px;width:20px;margin-bottom:0px;display:inline-block;\"></div><div style=\"background-color:rgb(77,77,77);height:20px;width:20px;margin-bottom:0px;display:inline-block;\"></div><div style=\"background-color:rgb(26,26,26);height:20px;width:20px;margin-bottom:0px;display:inline-block;\"></div></div><div style=\"display:inline-block;padding:10px;\"><div>rdpu</div><div style=\"background-color:rgb(255,247,243);height:20px;width:20px;margin-bottom:0px;display:inline-block;\"></div><div style=\"background-color:rgb(253,224,221);height:20px;width:20px;margin-bottom:0px;display:inline-block;\"></div><div style=\"background-color:rgb(252,197,192);height:20px;width:20px;margin-bottom:0px;display:inline-block;\"></div><div style=\"background-color:rgb(250,159,181);height:20px;width:20px;margin-bottom:0px;display:inline-block;\"></div><div style=\"background-color:rgb(247,104,161);height:20px;width:20px;margin-bottom:0px;display:inline-block;\"></div><div style=\"background-color:rgb(221,52,151);height:20px;width:20px;margin-bottom:0px;display:inline-block;\"></div><div style=\"background-color:rgb(174,1,126);height:20px;width:20px;margin-bottom:0px;display:inline-block;\"></div><div style=\"background-color:rgb(122,1,119);height:20px;width:20px;margin-bottom:0px;display:inline-block;\"></div><div style=\"background-color:rgb(73,0,106);height:20px;width:20px;margin-bottom:0px;display:inline-block;\"></div></div><div style=\"display:inline-block;padding:10px;\"><div>rdylbu</div><div style=\"background-color:rgb(165,0,38);height:20px;width:20px;margin-bottom:0px;display:inline-block;\"></div><div style=\"background-color:rgb(215,48,39);height:20px;width:20px;margin-bottom:0px;display:inline-block;\"></div><div style=\"background-color:rgb(244,109,67);height:20px;width:20px;margin-bottom:0px;display:inline-block;\"></div><div style=\"background-color:rgb(253,174,97);height:20px;width:20px;margin-bottom:0px;display:inline-block;\"></div><div style=\"background-color:rgb(254,224,144);height:20px;width:20px;margin-bottom:0px;display:inline-block;\"></div><div style=\"background-color:rgb(255,255,191);height:20px;width:20px;margin-bottom:0px;display:inline-block;\"></div><div style=\"background-color:rgb(224,243,248);height:20px;width:20px;margin-bottom:0px;display:inline-block;\"></div><div style=\"background-color:rgb(171,217,233);height:20px;width:20px;margin-bottom:0px;display:inline-block;\"></div><div style=\"background-color:rgb(116,173,209);height:20px;width:20px;margin-bottom:0px;display:inline-block;\"></div><div style=\"background-color:rgb(69,117,180);height:20px;width:20px;margin-bottom:0px;display:inline-block;\"></div><div style=\"background-color:rgb(49,54,149);height:20px;width:20px;margin-bottom:0px;display:inline-block;\"></div></div><div style=\"display:inline-block;padding:10px;\"><div>rdylgn</div><div style=\"background-color:rgb(165,0,38);height:20px;width:20px;margin-bottom:0px;display:inline-block;\"></div><div style=\"background-color:rgb(215,48,39);height:20px;width:20px;margin-bottom:0px;display:inline-block;\"></div><div style=\"background-color:rgb(244,109,67);height:20px;width:20px;margin-bottom:0px;display:inline-block;\"></div><div style=\"background-color:rgb(253,174,97);height:20px;width:20px;margin-bottom:0px;display:inline-block;\"></div><div style=\"background-color:rgb(254,224,139);height:20px;width:20px;margin-bottom:0px;display:inline-block;\"></div><div style=\"background-color:rgb(255,255,191);height:20px;width:20px;margin-bottom:0px;display:inline-block;\"></div><div style=\"background-color:rgb(217,239,139);height:20px;width:20px;margin-bottom:0px;display:inline-block;\"></div><div style=\"background-color:rgb(166,217,106);height:20px;width:20px;margin-bottom:0px;display:inline-block;\"></div><div style=\"background-color:rgb(102,189,99);height:20px;width:20px;margin-bottom:0px;display:inline-block;\"></div><div style=\"background-color:rgb(26,152,80);height:20px;width:20px;margin-bottom:0px;display:inline-block;\"></div><div style=\"background-color:rgb(0,104,55);height:20px;width:20px;margin-bottom:0px;display:inline-block;\"></div></div><div style=\"display:inline-block;padding:10px;\"><div>reds</div><div style=\"background-color:rgb(255,245,240);height:20px;width:20px;margin-bottom:0px;display:inline-block;\"></div><div style=\"background-color:rgb(254,224,210);height:20px;width:20px;margin-bottom:0px;display:inline-block;\"></div><div style=\"background-color:rgb(252,187,161);height:20px;width:20px;margin-bottom:0px;display:inline-block;\"></div><div style=\"background-color:rgb(252,146,114);height:20px;width:20px;margin-bottom:0px;display:inline-block;\"></div><div style=\"background-color:rgb(251,106,74);height:20px;width:20px;margin-bottom:0px;display:inline-block;\"></div><div style=\"background-color:rgb(239,59,44);height:20px;width:20px;margin-bottom:0px;display:inline-block;\"></div><div style=\"background-color:rgb(203,24,29);height:20px;width:20px;margin-bottom:0px;display:inline-block;\"></div><div style=\"background-color:rgb(165,15,21);height:20px;width:20px;margin-bottom:0px;display:inline-block;\"></div><div style=\"background-color:rgb(103,0,13);height:20px;width:20px;margin-bottom:0px;display:inline-block;\"></div></div><div style=\"display:inline-block;padding:10px;\"><div>set1</div><div style=\"background-color:rgb(228,26,28);height:20px;width:20px;margin-bottom:0px;display:inline-block;\"></div><div style=\"background-color:rgb(55,126,184);height:20px;width:20px;margin-bottom:0px;display:inline-block;\"></div><div style=\"background-color:rgb(77,175,74);height:20px;width:20px;margin-bottom:0px;display:inline-block;\"></div><div style=\"background-color:rgb(152,78,163);height:20px;width:20px;margin-bottom:0px;display:inline-block;\"></div><div style=\"background-color:rgb(255,127,0);height:20px;width:20px;margin-bottom:0px;display:inline-block;\"></div><div style=\"background-color:rgb(255,255,51);height:20px;width:20px;margin-bottom:0px;display:inline-block;\"></div><div style=\"background-color:rgb(166,86,40);height:20px;width:20px;margin-bottom:0px;display:inline-block;\"></div><div style=\"background-color:rgb(247,129,191);height:20px;width:20px;margin-bottom:0px;display:inline-block;\"></div><div style=\"background-color:rgb(153,153,153);height:20px;width:20px;margin-bottom:0px;display:inline-block;\"></div></div><div style=\"display:inline-block;padding:10px;\"><div>set2</div><div style=\"background-color:rgb(102,194,165);height:20px;width:20px;margin-bottom:0px;display:inline-block;\"></div><div style=\"background-color:rgb(252,141,98);height:20px;width:20px;margin-bottom:0px;display:inline-block;\"></div><div style=\"background-color:rgb(141,160,203);height:20px;width:20px;margin-bottom:0px;display:inline-block;\"></div><div style=\"background-color:rgb(231,138,195);height:20px;width:20px;margin-bottom:0px;display:inline-block;\"></div><div style=\"background-color:rgb(166,216,84);height:20px;width:20px;margin-bottom:0px;display:inline-block;\"></div><div style=\"background-color:rgb(255,217,47);height:20px;width:20px;margin-bottom:0px;display:inline-block;\"></div><div style=\"background-color:rgb(229,196,148);height:20px;width:20px;margin-bottom:0px;display:inline-block;\"></div><div style=\"background-color:rgb(179,179,179);height:20px;width:20px;margin-bottom:0px;display:inline-block;\"></div></div><div style=\"display:inline-block;padding:10px;\"><div>set3</div><div style=\"background-color:rgb(141,211,199);height:20px;width:20px;margin-bottom:0px;display:inline-block;\"></div><div style=\"background-color:rgb(255,255,179);height:20px;width:20px;margin-bottom:0px;display:inline-block;\"></div><div style=\"background-color:rgb(190,186,218);height:20px;width:20px;margin-bottom:0px;display:inline-block;\"></div><div style=\"background-color:rgb(251,128,114);height:20px;width:20px;margin-bottom:0px;display:inline-block;\"></div><div style=\"background-color:rgb(128,177,211);height:20px;width:20px;margin-bottom:0px;display:inline-block;\"></div><div style=\"background-color:rgb(253,180,98);height:20px;width:20px;margin-bottom:0px;display:inline-block;\"></div><div style=\"background-color:rgb(179,222,105);height:20px;width:20px;margin-bottom:0px;display:inline-block;\"></div><div style=\"background-color:rgb(252,205,229);height:20px;width:20px;margin-bottom:0px;display:inline-block;\"></div><div style=\"background-color:rgb(217,217,217);height:20px;width:20px;margin-bottom:0px;display:inline-block;\"></div><div style=\"background-color:rgb(188,128,189);height:20px;width:20px;margin-bottom:0px;display:inline-block;\"></div><div style=\"background-color:rgb(204,235,197);height:20px;width:20px;margin-bottom:0px;display:inline-block;\"></div><div style=\"background-color:rgb(255,237,111);height:20px;width:20px;margin-bottom:0px;display:inline-block;\"></div></div><div style=\"display:inline-block;padding:10px;\"><div>spectral</div><div style=\"background-color:rgb(158,1,66);height:20px;width:20px;margin-bottom:0px;display:inline-block;\"></div><div style=\"background-color:rgb(213,62,79);height:20px;width:20px;margin-bottom:0px;display:inline-block;\"></div><div style=\"background-color:rgb(244,109,67);height:20px;width:20px;margin-bottom:0px;display:inline-block;\"></div><div style=\"background-color:rgb(253,174,97);height:20px;width:20px;margin-bottom:0px;display:inline-block;\"></div><div style=\"background-color:rgb(254,224,139);height:20px;width:20px;margin-bottom:0px;display:inline-block;\"></div><div style=\"background-color:rgb(255,255,191);height:20px;width:20px;margin-bottom:0px;display:inline-block;\"></div><div style=\"background-color:rgb(230,245,152);height:20px;width:20px;margin-bottom:0px;display:inline-block;\"></div><div style=\"background-color:rgb(171,221,164);height:20px;width:20px;margin-bottom:0px;display:inline-block;\"></div><div style=\"background-color:rgb(102,194,165);height:20px;width:20px;margin-bottom:0px;display:inline-block;\"></div><div style=\"background-color:rgb(50,136,189);height:20px;width:20px;margin-bottom:0px;display:inline-block;\"></div><div style=\"background-color:rgb(94,79,162);height:20px;width:20px;margin-bottom:0px;display:inline-block;\"></div></div><div style=\"display:inline-block;padding:10px;\"><div>ylgn</div><div style=\"background-color:rgb(255,255,229);height:20px;width:20px;margin-bottom:0px;display:inline-block;\"></div><div style=\"background-color:rgb(247,252,185);height:20px;width:20px;margin-bottom:0px;display:inline-block;\"></div><div style=\"background-color:rgb(217,240,163);height:20px;width:20px;margin-bottom:0px;display:inline-block;\"></div><div style=\"background-color:rgb(173,221,142);height:20px;width:20px;margin-bottom:0px;display:inline-block;\"></div><div style=\"background-color:rgb(120,198,121);height:20px;width:20px;margin-bottom:0px;display:inline-block;\"></div><div style=\"background-color:rgb(65,171,93);height:20px;width:20px;margin-bottom:0px;display:inline-block;\"></div><div style=\"background-color:rgb(35,132,67);height:20px;width:20px;margin-bottom:0px;display:inline-block;\"></div><div style=\"background-color:rgb(0,104,55);height:20px;width:20px;margin-bottom:0px;display:inline-block;\"></div><div style=\"background-color:rgb(0,69,41);height:20px;width:20px;margin-bottom:0px;display:inline-block;\"></div></div><div style=\"display:inline-block;padding:10px;\"><div>ylgnbu</div><div style=\"background-color:rgb(255,255,217);height:20px;width:20px;margin-bottom:0px;display:inline-block;\"></div><div style=\"background-color:rgb(237,248,177);height:20px;width:20px;margin-bottom:0px;display:inline-block;\"></div><div style=\"background-color:rgb(199,233,180);height:20px;width:20px;margin-bottom:0px;display:inline-block;\"></div><div style=\"background-color:rgb(127,205,187);height:20px;width:20px;margin-bottom:0px;display:inline-block;\"></div><div style=\"background-color:rgb(65,182,196);height:20px;width:20px;margin-bottom:0px;display:inline-block;\"></div><div style=\"background-color:rgb(29,145,192);height:20px;width:20px;margin-bottom:0px;display:inline-block;\"></div><div style=\"background-color:rgb(34,94,168);height:20px;width:20px;margin-bottom:0px;display:inline-block;\"></div><div style=\"background-color:rgb(37,52,148);height:20px;width:20px;margin-bottom:0px;display:inline-block;\"></div><div style=\"background-color:rgb(8,29,88);height:20px;width:20px;margin-bottom:0px;display:inline-block;\"></div></div><div style=\"display:inline-block;padding:10px;\"><div>ylorbr</div><div style=\"background-color:rgb(255,255,229);height:20px;width:20px;margin-bottom:0px;display:inline-block;\"></div><div style=\"background-color:rgb(255,247,188);height:20px;width:20px;margin-bottom:0px;display:inline-block;\"></div><div style=\"background-color:rgb(254,227,145);height:20px;width:20px;margin-bottom:0px;display:inline-block;\"></div><div style=\"background-color:rgb(254,196,79);height:20px;width:20px;margin-bottom:0px;display:inline-block;\"></div><div style=\"background-color:rgb(254,153,41);height:20px;width:20px;margin-bottom:0px;display:inline-block;\"></div><div style=\"background-color:rgb(236,112,20);height:20px;width:20px;margin-bottom:0px;display:inline-block;\"></div><div style=\"background-color:rgb(204,76,2);height:20px;width:20px;margin-bottom:0px;display:inline-block;\"></div><div style=\"background-color:rgb(153,52,4);height:20px;width:20px;margin-bottom:0px;display:inline-block;\"></div><div style=\"background-color:rgb(102,37,6);height:20px;width:20px;margin-bottom:0px;display:inline-block;\"></div></div><div style=\"display:inline-block;padding:10px;\"><div>ylorrd</div><div style=\"background-color:rgb(255,255,204);height:20px;width:20px;margin-bottom:0px;display:inline-block;\"></div><div style=\"background-color:rgb(255,237,160);height:20px;width:20px;margin-bottom:0px;display:inline-block;\"></div><div style=\"background-color:rgb(254,217,118);height:20px;width:20px;margin-bottom:0px;display:inline-block;\"></div><div style=\"background-color:rgb(254,178,76);height:20px;width:20px;margin-bottom:0px;display:inline-block;\"></div><div style=\"background-color:rgb(253,141,60);height:20px;width:20px;margin-bottom:0px;display:inline-block;\"></div><div style=\"background-color:rgb(252,78,42);height:20px;width:20px;margin-bottom:0px;display:inline-block;\"></div><div style=\"background-color:rgb(227,26,28);height:20px;width:20px;margin-bottom:0px;display:inline-block;\"></div><div style=\"background-color:rgb(189,0,38);height:20px;width:20px;margin-bottom:0px;display:inline-block;\"></div><div style=\"background-color:rgb(128,0,38);height:20px;width:20px;margin-bottom:0px;display:inline-block;\"></div></div>"
      ],
      "text/plain": [
       "<IPython.core.display.HTML object>"
      ]
     },
     "metadata": {},
     "output_type": "display_data"
    },
    {
     "data": {
      "application/vnd.plotly.v1+json": {
       "config": {
        "linkText": "Export to plot.ly",
        "plotlyServerURL": "https://plot.ly",
        "showLink": true
       },
       "data": [
        {
         "marker": {
          "color": [
           "rgb(252,251,253)",
           "rgb(239,237,245)",
           "rgb(218,218,235)",
           "rgb(188,189,220)",
           "rgb(158,154,200)",
           "rgb(128,125,186)",
           "rgb(106,81,163)",
           "rgb(84,39,143)",
           "rgb(63,0,125)"
          ],
          "line": {
           "width": 1.3
          },
          "size": [
           84,
           63,
           53,
           60,
           93,
           65,
           69,
           50,
           27,
           44,
           43,
           82,
           57,
           25,
           62,
           70,
           75,
           46,
           40,
           73,
           98,
           50,
           92,
           74,
           43,
           47,
           65,
           87,
           100,
           88,
           68,
           58,
           44,
           62,
           12,
           86,
           59,
           73,
           59,
           64,
           61,
           91,
           69,
           55,
           58,
           50,
           64,
           56,
           48,
           83,
           72,
           75,
           98,
           24,
           72,
           57,
           49,
           35,
           70,
           87,
           60,
           67,
           112,
           17,
           63,
           41,
           36,
           31,
           86,
           60,
           61,
           47,
           31,
           27,
           67,
           77,
           51,
           55,
           47,
           81,
           77,
           70,
           72,
           50,
           81,
           81,
           44,
           57,
           71,
           71,
           62,
           68,
           58,
           69,
           90,
           63,
           49,
           69,
           74,
           52
          ],
          "symbol": "circle"
         },
         "mode": "markers",
         "text": "",
         "type": "scatter",
         "x": [
          -0.1486870569660644,
          0.39248607716009937,
          -0.7051592443933776,
          0.27576110754488387,
          -0.7802285366256736,
          -0.32929780839891537,
          -1.087810196165536,
          1.2605600894157034,
          -0.6162220153584765,
          -0.11030956050421618,
          1.642528183340233,
          -1.2471083408197337,
          -0.5030824358409205,
          0.44198222958182076,
          0.46872327753545967,
          0.7832720942473845,
          -1.816832134632092,
          -0.7734372708387459,
          -0.9663161807866139,
          -2.3035477810580884,
          -0.6424602387239299,
          -0.31914331999725876,
          -0.41844043091859484,
          0.1781758613682762,
          0.157684394184153,
          0.41595274357957573,
          0.5891850592042421,
          0.454834731394502,
          -0.14870591833136512,
          0.7917259872985981,
          -1.6466753374193293,
          -0.5984417164356648,
          0.3653669533476257,
          0.6013941003199482,
          1.0281964811508901,
          -0.29834588163580716,
          -1.5812091606674015,
          -0.4949013337856304,
          -1.0499374247496878,
          -0.25492516141576343,
          -1.347720027956506,
          1.1167699738973915,
          1.087498437295148,
          -0.3627318007990501,
          -0.9841088308619188,
          -0.24774969270479127,
          -0.10622973456180605,
          0.7743684307462901,
          -0.02005363965663801,
          -0.28863295343821105,
          -0.24808140074432009,
          0.6771989860434181,
          1.5103210368836282,
          -0.4484038407099252,
          -0.1027729276442637,
          0.4150356400669393,
          -0.8696069965432033,
          0.11551999215410763,
          1.0162559751767088,
          -0.1739788003636956,
          -0.2799898988878147,
          1.9689679185639573,
          -1.3712364456885864,
          -0.062367008698916995,
          0.1622031476510854,
          -0.0955223967895753,
          -1.5029096551345607,
          0.8754195676784564,
          -0.5524799575282217,
          -0.0980995694221568,
          0.7693585830793594,
          0.2854937541855559,
          -0.6581872556779551,
          2.114936095689492,
          0.059169867679413055,
          0.2932317898134375,
          0.3618512027631301,
          -0.1705460913024023,
          -0.029204570730282167,
          -0.7415372272530977,
          -0.7651224698222944,
          1.1547221513795514,
          -0.33103781811196065,
          -0.4952355302309878,
          0.7267534144738079,
          -0.7882902125536603,
          0.312778641188715,
          -0.11825028351583512,
          -0.9180040351441507,
          0.587033645365291,
          0.3798610800599315,
          0.21441879761051574,
          1.1707497307467345,
          1.1275071326418369,
          -0.8479588333638166,
          -0.058157108364463896,
          -0.7560319712251692,
          1.8283683259669392,
          1.2952801263299962,
          2.46499250024484
         ],
         "y": [
          -0.13720291276205954,
          0.7360290366001643,
          0.6182914547488014,
          -0.41717865842575486,
          0.7616049708336934,
          1.255700448517242,
          -0.7878477215044183,
          0.4094201423714498,
          -3.0777284071151,
          0.2962713084261198,
          -0.7566439163766893,
          0.6805595530508529,
          -0.8140383734076175,
          -0.3756519163109862,
          1.1209571938669993,
          0.7109715243740368,
          0.2706370322757297,
          0.5173522166570037,
          0.1412707917259537,
          1.7956131042028805,
          -0.37740080006068927,
          -0.0705594757231226,
          0.00017043336379697554,
          -1.0807897118199614,
          -0.8927637981588197,
          1.157805138567086,
          -0.3890743339711945,
          -0.2998728491363871,
          -0.7629484122608581,
          -1.5568150046882465,
          1.5926536293276692,
          1.065928900246484,
          1.3951763524319545,
          2.361874775141413,
          -0.6703775046596167,
          0.6874294250674926,
          -0.11962209780754239,
          -0.6757993702607386,
          0.10369601942428011,
          -1.3706785393771903,
          0.5150297006610829,
          -0.20348877806099472,
          1.278848828762823,
          -1.3672379451360985,
          0.5084740282707778,
          2.999494366246489,
          0.10681899651937042,
          0.9167978639920289,
          -0.9777499167088237,
          0.4298857429657398,
          -0.7956504240436582,
          -1.8406413912670503,
          -0.9271791648378976,
          -0.14817646279579028,
          -0.31747939699923206,
          -0.18223864047336216,
          0.3284940245408851,
          1.3411829957637205,
          -0.3643147505889812,
          0.17639462525327843,
          -1.2086092815298164,
          -1.0846769577310682,
          -1.605427128703998,
          0.24649724788045124,
          -0.11866380461086354,
          1.239307253391713,
          0.12871910997126498,
          -2.0949804045461393,
          0.2767507297426342,
          -0.752300159792606,
          0.004858035242644644,
          0.1906322672214624,
          0.3386326129851458,
          0.9664630145228903,
          -0.0014315777408607548,
          -0.9170153450824298,
          0.8204004032861612,
          0.9643199571799043,
          -0.777725262632196,
          0.7731495467328146,
          0.18062328973014358,
          0.9924833750682206,
          0.20767988730408643,
          -0.17496783608048996,
          0.0015769199486528167,
          -0.2760927778043612,
          -0.24972687617797515,
          -0.687187293033468,
          0.8739237743337697,
          -0.6687555318032616,
          -0.13323519699988973,
          1.142363840492469,
          -0.270683968952354,
          1.2213182143797743,
          -0.6530838403596835,
          -0.07887886921673892,
          -0.15949726608677098,
          -1.2083725357104302,
          0.005487941892006171,
          0.4713064898610162
         ]
        }
       ],
       "layout": {
        "legend": {
         "bgcolor": "#F5F6F9",
         "font": {
          "color": "#4D5663"
         }
        },
        "paper_bgcolor": "#F5F6F9",
        "plot_bgcolor": "#F5F6F9",
        "template": {
         "data": {
          "bar": [
           {
            "error_x": {
             "color": "#2a3f5f"
            },
            "error_y": {
             "color": "#2a3f5f"
            },
            "marker": {
             "line": {
              "color": "#E5ECF6",
              "width": 0.5
             }
            },
            "type": "bar"
           }
          ],
          "barpolar": [
           {
            "marker": {
             "line": {
              "color": "#E5ECF6",
              "width": 0.5
             }
            },
            "type": "barpolar"
           }
          ],
          "carpet": [
           {
            "aaxis": {
             "endlinecolor": "#2a3f5f",
             "gridcolor": "white",
             "linecolor": "white",
             "minorgridcolor": "white",
             "startlinecolor": "#2a3f5f"
            },
            "baxis": {
             "endlinecolor": "#2a3f5f",
             "gridcolor": "white",
             "linecolor": "white",
             "minorgridcolor": "white",
             "startlinecolor": "#2a3f5f"
            },
            "type": "carpet"
           }
          ],
          "choropleth": [
           {
            "colorbar": {
             "outlinewidth": 0,
             "ticks": ""
            },
            "type": "choropleth"
           }
          ],
          "contour": [
           {
            "colorbar": {
             "outlinewidth": 0,
             "ticks": ""
            },
            "colorscale": [
             [
              0,
              "#0d0887"
             ],
             [
              0.1111111111111111,
              "#46039f"
             ],
             [
              0.2222222222222222,
              "#7201a8"
             ],
             [
              0.3333333333333333,
              "#9c179e"
             ],
             [
              0.4444444444444444,
              "#bd3786"
             ],
             [
              0.5555555555555556,
              "#d8576b"
             ],
             [
              0.6666666666666666,
              "#ed7953"
             ],
             [
              0.7777777777777778,
              "#fb9f3a"
             ],
             [
              0.8888888888888888,
              "#fdca26"
             ],
             [
              1,
              "#f0f921"
             ]
            ],
            "type": "contour"
           }
          ],
          "contourcarpet": [
           {
            "colorbar": {
             "outlinewidth": 0,
             "ticks": ""
            },
            "type": "contourcarpet"
           }
          ],
          "heatmap": [
           {
            "colorbar": {
             "outlinewidth": 0,
             "ticks": ""
            },
            "colorscale": [
             [
              0,
              "#0d0887"
             ],
             [
              0.1111111111111111,
              "#46039f"
             ],
             [
              0.2222222222222222,
              "#7201a8"
             ],
             [
              0.3333333333333333,
              "#9c179e"
             ],
             [
              0.4444444444444444,
              "#bd3786"
             ],
             [
              0.5555555555555556,
              "#d8576b"
             ],
             [
              0.6666666666666666,
              "#ed7953"
             ],
             [
              0.7777777777777778,
              "#fb9f3a"
             ],
             [
              0.8888888888888888,
              "#fdca26"
             ],
             [
              1,
              "#f0f921"
             ]
            ],
            "type": "heatmap"
           }
          ],
          "heatmapgl": [
           {
            "colorbar": {
             "outlinewidth": 0,
             "ticks": ""
            },
            "colorscale": [
             [
              0,
              "#0d0887"
             ],
             [
              0.1111111111111111,
              "#46039f"
             ],
             [
              0.2222222222222222,
              "#7201a8"
             ],
             [
              0.3333333333333333,
              "#9c179e"
             ],
             [
              0.4444444444444444,
              "#bd3786"
             ],
             [
              0.5555555555555556,
              "#d8576b"
             ],
             [
              0.6666666666666666,
              "#ed7953"
             ],
             [
              0.7777777777777778,
              "#fb9f3a"
             ],
             [
              0.8888888888888888,
              "#fdca26"
             ],
             [
              1,
              "#f0f921"
             ]
            ],
            "type": "heatmapgl"
           }
          ],
          "histogram": [
           {
            "marker": {
             "colorbar": {
              "outlinewidth": 0,
              "ticks": ""
             }
            },
            "type": "histogram"
           }
          ],
          "histogram2d": [
           {
            "colorbar": {
             "outlinewidth": 0,
             "ticks": ""
            },
            "colorscale": [
             [
              0,
              "#0d0887"
             ],
             [
              0.1111111111111111,
              "#46039f"
             ],
             [
              0.2222222222222222,
              "#7201a8"
             ],
             [
              0.3333333333333333,
              "#9c179e"
             ],
             [
              0.4444444444444444,
              "#bd3786"
             ],
             [
              0.5555555555555556,
              "#d8576b"
             ],
             [
              0.6666666666666666,
              "#ed7953"
             ],
             [
              0.7777777777777778,
              "#fb9f3a"
             ],
             [
              0.8888888888888888,
              "#fdca26"
             ],
             [
              1,
              "#f0f921"
             ]
            ],
            "type": "histogram2d"
           }
          ],
          "histogram2dcontour": [
           {
            "colorbar": {
             "outlinewidth": 0,
             "ticks": ""
            },
            "colorscale": [
             [
              0,
              "#0d0887"
             ],
             [
              0.1111111111111111,
              "#46039f"
             ],
             [
              0.2222222222222222,
              "#7201a8"
             ],
             [
              0.3333333333333333,
              "#9c179e"
             ],
             [
              0.4444444444444444,
              "#bd3786"
             ],
             [
              0.5555555555555556,
              "#d8576b"
             ],
             [
              0.6666666666666666,
              "#ed7953"
             ],
             [
              0.7777777777777778,
              "#fb9f3a"
             ],
             [
              0.8888888888888888,
              "#fdca26"
             ],
             [
              1,
              "#f0f921"
             ]
            ],
            "type": "histogram2dcontour"
           }
          ],
          "mesh3d": [
           {
            "colorbar": {
             "outlinewidth": 0,
             "ticks": ""
            },
            "type": "mesh3d"
           }
          ],
          "parcoords": [
           {
            "line": {
             "colorbar": {
              "outlinewidth": 0,
              "ticks": ""
             }
            },
            "type": "parcoords"
           }
          ],
          "pie": [
           {
            "automargin": true,
            "type": "pie"
           }
          ],
          "scatter": [
           {
            "marker": {
             "colorbar": {
              "outlinewidth": 0,
              "ticks": ""
             }
            },
            "type": "scatter"
           }
          ],
          "scatter3d": [
           {
            "line": {
             "colorbar": {
              "outlinewidth": 0,
              "ticks": ""
             }
            },
            "marker": {
             "colorbar": {
              "outlinewidth": 0,
              "ticks": ""
             }
            },
            "type": "scatter3d"
           }
          ],
          "scattercarpet": [
           {
            "marker": {
             "colorbar": {
              "outlinewidth": 0,
              "ticks": ""
             }
            },
            "type": "scattercarpet"
           }
          ],
          "scattergeo": [
           {
            "marker": {
             "colorbar": {
              "outlinewidth": 0,
              "ticks": ""
             }
            },
            "type": "scattergeo"
           }
          ],
          "scattergl": [
           {
            "marker": {
             "colorbar": {
              "outlinewidth": 0,
              "ticks": ""
             }
            },
            "type": "scattergl"
           }
          ],
          "scattermapbox": [
           {
            "marker": {
             "colorbar": {
              "outlinewidth": 0,
              "ticks": ""
             }
            },
            "type": "scattermapbox"
           }
          ],
          "scatterpolar": [
           {
            "marker": {
             "colorbar": {
              "outlinewidth": 0,
              "ticks": ""
             }
            },
            "type": "scatterpolar"
           }
          ],
          "scatterpolargl": [
           {
            "marker": {
             "colorbar": {
              "outlinewidth": 0,
              "ticks": ""
             }
            },
            "type": "scatterpolargl"
           }
          ],
          "scatterternary": [
           {
            "marker": {
             "colorbar": {
              "outlinewidth": 0,
              "ticks": ""
             }
            },
            "type": "scatterternary"
           }
          ],
          "surface": [
           {
            "colorbar": {
             "outlinewidth": 0,
             "ticks": ""
            },
            "colorscale": [
             [
              0,
              "#0d0887"
             ],
             [
              0.1111111111111111,
              "#46039f"
             ],
             [
              0.2222222222222222,
              "#7201a8"
             ],
             [
              0.3333333333333333,
              "#9c179e"
             ],
             [
              0.4444444444444444,
              "#bd3786"
             ],
             [
              0.5555555555555556,
              "#d8576b"
             ],
             [
              0.6666666666666666,
              "#ed7953"
             ],
             [
              0.7777777777777778,
              "#fb9f3a"
             ],
             [
              0.8888888888888888,
              "#fdca26"
             ],
             [
              1,
              "#f0f921"
             ]
            ],
            "type": "surface"
           }
          ],
          "table": [
           {
            "cells": {
             "fill": {
              "color": "#EBF0F8"
             },
             "line": {
              "color": "white"
             }
            },
            "header": {
             "fill": {
              "color": "#C8D4E3"
             },
             "line": {
              "color": "white"
             }
            },
            "type": "table"
           }
          ]
         },
         "layout": {
          "annotationdefaults": {
           "arrowcolor": "#2a3f5f",
           "arrowhead": 0,
           "arrowwidth": 1
          },
          "coloraxis": {
           "colorbar": {
            "outlinewidth": 0,
            "ticks": ""
           }
          },
          "colorscale": {
           "diverging": [
            [
             0,
             "#8e0152"
            ],
            [
             0.1,
             "#c51b7d"
            ],
            [
             0.2,
             "#de77ae"
            ],
            [
             0.3,
             "#f1b6da"
            ],
            [
             0.4,
             "#fde0ef"
            ],
            [
             0.5,
             "#f7f7f7"
            ],
            [
             0.6,
             "#e6f5d0"
            ],
            [
             0.7,
             "#b8e186"
            ],
            [
             0.8,
             "#7fbc41"
            ],
            [
             0.9,
             "#4d9221"
            ],
            [
             1,
             "#276419"
            ]
           ],
           "sequential": [
            [
             0,
             "#0d0887"
            ],
            [
             0.1111111111111111,
             "#46039f"
            ],
            [
             0.2222222222222222,
             "#7201a8"
            ],
            [
             0.3333333333333333,
             "#9c179e"
            ],
            [
             0.4444444444444444,
             "#bd3786"
            ],
            [
             0.5555555555555556,
             "#d8576b"
            ],
            [
             0.6666666666666666,
             "#ed7953"
            ],
            [
             0.7777777777777778,
             "#fb9f3a"
            ],
            [
             0.8888888888888888,
             "#fdca26"
            ],
            [
             1,
             "#f0f921"
            ]
           ],
           "sequentialminus": [
            [
             0,
             "#0d0887"
            ],
            [
             0.1111111111111111,
             "#46039f"
            ],
            [
             0.2222222222222222,
             "#7201a8"
            ],
            [
             0.3333333333333333,
             "#9c179e"
            ],
            [
             0.4444444444444444,
             "#bd3786"
            ],
            [
             0.5555555555555556,
             "#d8576b"
            ],
            [
             0.6666666666666666,
             "#ed7953"
            ],
            [
             0.7777777777777778,
             "#fb9f3a"
            ],
            [
             0.8888888888888888,
             "#fdca26"
            ],
            [
             1,
             "#f0f921"
            ]
           ]
          },
          "colorway": [
           "#636efa",
           "#EF553B",
           "#00cc96",
           "#ab63fa",
           "#FFA15A",
           "#19d3f3",
           "#FF6692",
           "#B6E880",
           "#FF97FF",
           "#FECB52"
          ],
          "font": {
           "color": "#2a3f5f"
          },
          "geo": {
           "bgcolor": "white",
           "lakecolor": "white",
           "landcolor": "#E5ECF6",
           "showlakes": true,
           "showland": true,
           "subunitcolor": "white"
          },
          "hoverlabel": {
           "align": "left"
          },
          "hovermode": "closest",
          "mapbox": {
           "style": "light"
          },
          "paper_bgcolor": "white",
          "plot_bgcolor": "#E5ECF6",
          "polar": {
           "angularaxis": {
            "gridcolor": "white",
            "linecolor": "white",
            "ticks": ""
           },
           "bgcolor": "#E5ECF6",
           "radialaxis": {
            "gridcolor": "white",
            "linecolor": "white",
            "ticks": ""
           }
          },
          "scene": {
           "xaxis": {
            "backgroundcolor": "#E5ECF6",
            "gridcolor": "white",
            "gridwidth": 2,
            "linecolor": "white",
            "showbackground": true,
            "ticks": "",
            "zerolinecolor": "white"
           },
           "yaxis": {
            "backgroundcolor": "#E5ECF6",
            "gridcolor": "white",
            "gridwidth": 2,
            "linecolor": "white",
            "showbackground": true,
            "ticks": "",
            "zerolinecolor": "white"
           },
           "zaxis": {
            "backgroundcolor": "#E5ECF6",
            "gridcolor": "white",
            "gridwidth": 2,
            "linecolor": "white",
            "showbackground": true,
            "ticks": "",
            "zerolinecolor": "white"
           }
          },
          "shapedefaults": {
           "line": {
            "color": "#2a3f5f"
           }
          },
          "ternary": {
           "aaxis": {
            "gridcolor": "white",
            "linecolor": "white",
            "ticks": ""
           },
           "baxis": {
            "gridcolor": "white",
            "linecolor": "white",
            "ticks": ""
           },
           "bgcolor": "#E5ECF6",
           "caxis": {
            "gridcolor": "white",
            "linecolor": "white",
            "ticks": ""
           }
          },
          "title": {
           "x": 0.05
          },
          "xaxis": {
           "automargin": true,
           "gridcolor": "white",
           "linecolor": "white",
           "ticks": "",
           "title": {
            "standoff": 15
           },
           "zerolinecolor": "white",
           "zerolinewidth": 2
          },
          "yaxis": {
           "automargin": true,
           "gridcolor": "white",
           "linecolor": "white",
           "ticks": "",
           "title": {
            "standoff": 15
           },
           "zerolinecolor": "white",
           "zerolinewidth": 2
          }
         }
        },
        "title": {
         "font": {
          "color": "#4D5663"
         }
        },
        "xaxis": {
         "gridcolor": "#E1E5ED",
         "showgrid": true,
         "tickfont": {
          "color": "#4D5663"
         },
         "title": {
          "font": {
           "color": "#4D5663"
          },
          "text": ""
         },
         "zerolinecolor": "#E1E5ED"
        },
        "yaxis": {
         "gridcolor": "#E1E5ED",
         "showgrid": true,
         "tickfont": {
          "color": "#4D5663"
         },
         "title": {
          "font": {
           "color": "#4D5663"
          },
          "text": ""
         },
         "zerolinecolor": "#E1E5ED"
        }
       }
      },
      "text/html": [
       "<div>\n",
       "        \n",
       "        \n",
       "            <div id=\"bdf0a87e-4d52-4d36-b453-db140ec3bb86\" class=\"plotly-graph-div\" style=\"height:525px; width:100%;\"></div>\n",
       "            <script type=\"text/javascript\">\n",
       "                require([\"plotly\"], function(Plotly) {\n",
       "                    window.PLOTLYENV=window.PLOTLYENV || {};\n",
       "                    window.PLOTLYENV.BASE_URL='https://plot.ly';\n",
       "                    \n",
       "                if (document.getElementById(\"bdf0a87e-4d52-4d36-b453-db140ec3bb86\")) {\n",
       "                    Plotly.newPlot(\n",
       "                        'bdf0a87e-4d52-4d36-b453-db140ec3bb86',\n",
       "                        [{\"marker\": {\"color\": [\"rgb(252,251,253)\", \"rgb(239,237,245)\", \"rgb(218,218,235)\", \"rgb(188,189,220)\", \"rgb(158,154,200)\", \"rgb(128,125,186)\", \"rgb(106,81,163)\", \"rgb(84,39,143)\", \"rgb(63,0,125)\"], \"line\": {\"width\": 1.3}, \"size\": [84, 63, 53, 60, 93, 65, 69, 50, 27, 44, 43, 82, 57, 25, 62, 70, 75, 46, 40, 73, 98, 50, 92, 74, 43, 47, 65, 87, 100, 88, 68, 58, 44, 62, 12, 86, 59, 73, 59, 64, 61, 91, 69, 55, 58, 50, 64, 56, 48, 83, 72, 75, 98, 24, 72, 57, 49, 35, 70, 87, 60, 67, 112, 17, 63, 41, 36, 31, 86, 60, 61, 47, 31, 27, 67, 77, 51, 55, 47, 81, 77, 70, 72, 50, 81, 81, 44, 57, 71, 71, 62, 68, 58, 69, 90, 63, 49, 69, 74, 52], \"symbol\": \"circle\"}, \"mode\": \"markers\", \"text\": \"\", \"type\": \"scatter\", \"x\": [-0.1486870569660644, 0.39248607716009937, -0.7051592443933776, 0.27576110754488387, -0.7802285366256736, -0.32929780839891537, -1.087810196165536, 1.2605600894157034, -0.6162220153584765, -0.11030956050421618, 1.642528183340233, -1.2471083408197337, -0.5030824358409205, 0.44198222958182076, 0.46872327753545967, 0.7832720942473845, -1.816832134632092, -0.7734372708387459, -0.9663161807866139, -2.3035477810580884, -0.6424602387239299, -0.31914331999725876, -0.41844043091859484, 0.1781758613682762, 0.157684394184153, 0.41595274357957573, 0.5891850592042421, 0.454834731394502, -0.14870591833136512, 0.7917259872985981, -1.6466753374193293, -0.5984417164356648, 0.3653669533476257, 0.6013941003199482, 1.0281964811508901, -0.29834588163580716, -1.5812091606674015, -0.4949013337856304, -1.0499374247496878, -0.25492516141576343, -1.347720027956506, 1.1167699738973915, 1.087498437295148, -0.3627318007990501, -0.9841088308619188, -0.24774969270479127, -0.10622973456180605, 0.7743684307462901, -0.02005363965663801, -0.28863295343821105, -0.24808140074432009, 0.6771989860434181, 1.5103210368836282, -0.4484038407099252, -0.1027729276442637, 0.4150356400669393, -0.8696069965432033, 0.11551999215410763, 1.0162559751767088, -0.1739788003636956, -0.2799898988878147, 1.9689679185639573, -1.3712364456885864, -0.062367008698916995, 0.1622031476510854, -0.0955223967895753, -1.5029096551345607, 0.8754195676784564, -0.5524799575282217, -0.0980995694221568, 0.7693585830793594, 0.2854937541855559, -0.6581872556779551, 2.114936095689492, 0.059169867679413055, 0.2932317898134375, 0.3618512027631301, -0.1705460913024023, -0.029204570730282167, -0.7415372272530977, -0.7651224698222944, 1.1547221513795514, -0.33103781811196065, -0.4952355302309878, 0.7267534144738079, -0.7882902125536603, 0.312778641188715, -0.11825028351583512, -0.9180040351441507, 0.587033645365291, 0.3798610800599315, 0.21441879761051574, 1.1707497307467345, 1.1275071326418369, -0.8479588333638166, -0.058157108364463896, -0.7560319712251692, 1.8283683259669392, 1.2952801263299962, 2.46499250024484], \"y\": [-0.13720291276205954, 0.7360290366001643, 0.6182914547488014, -0.41717865842575486, 0.7616049708336934, 1.255700448517242, -0.7878477215044183, 0.4094201423714498, -3.0777284071151, 0.2962713084261198, -0.7566439163766893, 0.6805595530508529, -0.8140383734076175, -0.3756519163109862, 1.1209571938669993, 0.7109715243740368, 0.2706370322757297, 0.5173522166570037, 0.1412707917259537, 1.7956131042028805, -0.37740080006068927, -0.0705594757231226, 0.00017043336379697554, -1.0807897118199614, -0.8927637981588197, 1.157805138567086, -0.3890743339711945, -0.2998728491363871, -0.7629484122608581, -1.5568150046882465, 1.5926536293276692, 1.065928900246484, 1.3951763524319545, 2.361874775141413, -0.6703775046596167, 0.6874294250674926, -0.11962209780754239, -0.6757993702607386, 0.10369601942428011, -1.3706785393771903, 0.5150297006610829, -0.20348877806099472, 1.278848828762823, -1.3672379451360985, 0.5084740282707778, 2.999494366246489, 0.10681899651937042, 0.9167978639920289, -0.9777499167088237, 0.4298857429657398, -0.7956504240436582, -1.8406413912670503, -0.9271791648378976, -0.14817646279579028, -0.31747939699923206, -0.18223864047336216, 0.3284940245408851, 1.3411829957637205, -0.3643147505889812, 0.17639462525327843, -1.2086092815298164, -1.0846769577310682, -1.605427128703998, 0.24649724788045124, -0.11866380461086354, 1.239307253391713, 0.12871910997126498, -2.0949804045461393, 0.2767507297426342, -0.752300159792606, 0.004858035242644644, 0.1906322672214624, 0.3386326129851458, 0.9664630145228903, -0.0014315777408607548, -0.9170153450824298, 0.8204004032861612, 0.9643199571799043, -0.777725262632196, 0.7731495467328146, 0.18062328973014358, 0.9924833750682206, 0.20767988730408643, -0.17496783608048996, 0.0015769199486528167, -0.2760927778043612, -0.24972687617797515, -0.687187293033468, 0.8739237743337697, -0.6687555318032616, -0.13323519699988973, 1.142363840492469, -0.270683968952354, 1.2213182143797743, -0.6530838403596835, -0.07887886921673892, -0.15949726608677098, -1.2083725357104302, 0.005487941892006171, 0.4713064898610162]}],\n",
       "                        {\"legend\": {\"bgcolor\": \"#F5F6F9\", \"font\": {\"color\": \"#4D5663\"}}, \"paper_bgcolor\": \"#F5F6F9\", \"plot_bgcolor\": \"#F5F6F9\", \"template\": {\"data\": {\"bar\": [{\"error_x\": {\"color\": \"#2a3f5f\"}, \"error_y\": {\"color\": \"#2a3f5f\"}, \"marker\": {\"line\": {\"color\": \"#E5ECF6\", \"width\": 0.5}}, \"type\": \"bar\"}], \"barpolar\": [{\"marker\": {\"line\": {\"color\": \"#E5ECF6\", \"width\": 0.5}}, \"type\": \"barpolar\"}], \"carpet\": [{\"aaxis\": {\"endlinecolor\": \"#2a3f5f\", \"gridcolor\": \"white\", \"linecolor\": \"white\", \"minorgridcolor\": \"white\", \"startlinecolor\": \"#2a3f5f\"}, \"baxis\": {\"endlinecolor\": \"#2a3f5f\", \"gridcolor\": \"white\", \"linecolor\": \"white\", \"minorgridcolor\": \"white\", \"startlinecolor\": \"#2a3f5f\"}, \"type\": \"carpet\"}], \"choropleth\": [{\"colorbar\": {\"outlinewidth\": 0, \"ticks\": \"\"}, \"type\": \"choropleth\"}], \"contour\": [{\"colorbar\": {\"outlinewidth\": 0, \"ticks\": \"\"}, \"colorscale\": [[0.0, \"#0d0887\"], [0.1111111111111111, \"#46039f\"], [0.2222222222222222, \"#7201a8\"], [0.3333333333333333, \"#9c179e\"], [0.4444444444444444, \"#bd3786\"], [0.5555555555555556, \"#d8576b\"], [0.6666666666666666, \"#ed7953\"], [0.7777777777777778, \"#fb9f3a\"], [0.8888888888888888, \"#fdca26\"], [1.0, \"#f0f921\"]], \"type\": \"contour\"}], \"contourcarpet\": [{\"colorbar\": {\"outlinewidth\": 0, \"ticks\": \"\"}, \"type\": \"contourcarpet\"}], \"heatmap\": [{\"colorbar\": {\"outlinewidth\": 0, \"ticks\": \"\"}, \"colorscale\": [[0.0, \"#0d0887\"], [0.1111111111111111, \"#46039f\"], [0.2222222222222222, \"#7201a8\"], [0.3333333333333333, \"#9c179e\"], [0.4444444444444444, \"#bd3786\"], [0.5555555555555556, \"#d8576b\"], [0.6666666666666666, \"#ed7953\"], [0.7777777777777778, \"#fb9f3a\"], [0.8888888888888888, \"#fdca26\"], [1.0, \"#f0f921\"]], \"type\": \"heatmap\"}], \"heatmapgl\": [{\"colorbar\": {\"outlinewidth\": 0, \"ticks\": \"\"}, \"colorscale\": [[0.0, \"#0d0887\"], [0.1111111111111111, \"#46039f\"], [0.2222222222222222, \"#7201a8\"], [0.3333333333333333, \"#9c179e\"], [0.4444444444444444, \"#bd3786\"], [0.5555555555555556, \"#d8576b\"], [0.6666666666666666, \"#ed7953\"], [0.7777777777777778, \"#fb9f3a\"], [0.8888888888888888, \"#fdca26\"], [1.0, \"#f0f921\"]], \"type\": \"heatmapgl\"}], \"histogram\": [{\"marker\": {\"colorbar\": {\"outlinewidth\": 0, \"ticks\": \"\"}}, \"type\": \"histogram\"}], \"histogram2d\": [{\"colorbar\": {\"outlinewidth\": 0, \"ticks\": \"\"}, \"colorscale\": [[0.0, \"#0d0887\"], [0.1111111111111111, \"#46039f\"], [0.2222222222222222, \"#7201a8\"], [0.3333333333333333, \"#9c179e\"], [0.4444444444444444, \"#bd3786\"], [0.5555555555555556, \"#d8576b\"], [0.6666666666666666, \"#ed7953\"], [0.7777777777777778, \"#fb9f3a\"], [0.8888888888888888, \"#fdca26\"], [1.0, \"#f0f921\"]], \"type\": \"histogram2d\"}], \"histogram2dcontour\": [{\"colorbar\": {\"outlinewidth\": 0, \"ticks\": \"\"}, \"colorscale\": [[0.0, \"#0d0887\"], [0.1111111111111111, \"#46039f\"], [0.2222222222222222, \"#7201a8\"], [0.3333333333333333, \"#9c179e\"], [0.4444444444444444, \"#bd3786\"], [0.5555555555555556, \"#d8576b\"], [0.6666666666666666, \"#ed7953\"], [0.7777777777777778, \"#fb9f3a\"], [0.8888888888888888, \"#fdca26\"], [1.0, \"#f0f921\"]], \"type\": \"histogram2dcontour\"}], \"mesh3d\": [{\"colorbar\": {\"outlinewidth\": 0, \"ticks\": \"\"}, \"type\": \"mesh3d\"}], \"parcoords\": [{\"line\": {\"colorbar\": {\"outlinewidth\": 0, \"ticks\": \"\"}}, \"type\": \"parcoords\"}], \"pie\": [{\"automargin\": true, \"type\": \"pie\"}], \"scatter\": [{\"marker\": {\"colorbar\": {\"outlinewidth\": 0, \"ticks\": \"\"}}, \"type\": \"scatter\"}], \"scatter3d\": [{\"line\": {\"colorbar\": {\"outlinewidth\": 0, \"ticks\": \"\"}}, \"marker\": {\"colorbar\": {\"outlinewidth\": 0, \"ticks\": \"\"}}, \"type\": \"scatter3d\"}], \"scattercarpet\": [{\"marker\": {\"colorbar\": {\"outlinewidth\": 0, \"ticks\": \"\"}}, \"type\": \"scattercarpet\"}], \"scattergeo\": [{\"marker\": {\"colorbar\": {\"outlinewidth\": 0, \"ticks\": \"\"}}, \"type\": \"scattergeo\"}], \"scattergl\": [{\"marker\": {\"colorbar\": {\"outlinewidth\": 0, \"ticks\": \"\"}}, \"type\": \"scattergl\"}], \"scattermapbox\": [{\"marker\": {\"colorbar\": {\"outlinewidth\": 0, \"ticks\": \"\"}}, \"type\": \"scattermapbox\"}], \"scatterpolar\": [{\"marker\": {\"colorbar\": {\"outlinewidth\": 0, \"ticks\": \"\"}}, \"type\": \"scatterpolar\"}], \"scatterpolargl\": [{\"marker\": {\"colorbar\": {\"outlinewidth\": 0, \"ticks\": \"\"}}, \"type\": \"scatterpolargl\"}], \"scatterternary\": [{\"marker\": {\"colorbar\": {\"outlinewidth\": 0, \"ticks\": \"\"}}, \"type\": \"scatterternary\"}], \"surface\": [{\"colorbar\": {\"outlinewidth\": 0, \"ticks\": \"\"}, \"colorscale\": [[0.0, \"#0d0887\"], [0.1111111111111111, \"#46039f\"], [0.2222222222222222, \"#7201a8\"], [0.3333333333333333, \"#9c179e\"], [0.4444444444444444, \"#bd3786\"], [0.5555555555555556, \"#d8576b\"], [0.6666666666666666, \"#ed7953\"], [0.7777777777777778, \"#fb9f3a\"], [0.8888888888888888, \"#fdca26\"], [1.0, \"#f0f921\"]], \"type\": \"surface\"}], \"table\": [{\"cells\": {\"fill\": {\"color\": \"#EBF0F8\"}, \"line\": {\"color\": \"white\"}}, \"header\": {\"fill\": {\"color\": \"#C8D4E3\"}, \"line\": {\"color\": \"white\"}}, \"type\": \"table\"}]}, \"layout\": {\"annotationdefaults\": {\"arrowcolor\": \"#2a3f5f\", \"arrowhead\": 0, \"arrowwidth\": 1}, \"coloraxis\": {\"colorbar\": {\"outlinewidth\": 0, \"ticks\": \"\"}}, \"colorscale\": {\"diverging\": [[0, \"#8e0152\"], [0.1, \"#c51b7d\"], [0.2, \"#de77ae\"], [0.3, \"#f1b6da\"], [0.4, \"#fde0ef\"], [0.5, \"#f7f7f7\"], [0.6, \"#e6f5d0\"], [0.7, \"#b8e186\"], [0.8, \"#7fbc41\"], [0.9, \"#4d9221\"], [1, \"#276419\"]], \"sequential\": [[0.0, \"#0d0887\"], [0.1111111111111111, \"#46039f\"], [0.2222222222222222, \"#7201a8\"], [0.3333333333333333, \"#9c179e\"], [0.4444444444444444, \"#bd3786\"], [0.5555555555555556, \"#d8576b\"], [0.6666666666666666, \"#ed7953\"], [0.7777777777777778, \"#fb9f3a\"], [0.8888888888888888, \"#fdca26\"], [1.0, \"#f0f921\"]], \"sequentialminus\": [[0.0, \"#0d0887\"], [0.1111111111111111, \"#46039f\"], [0.2222222222222222, \"#7201a8\"], [0.3333333333333333, \"#9c179e\"], [0.4444444444444444, \"#bd3786\"], [0.5555555555555556, \"#d8576b\"], [0.6666666666666666, \"#ed7953\"], [0.7777777777777778, \"#fb9f3a\"], [0.8888888888888888, \"#fdca26\"], [1.0, \"#f0f921\"]]}, \"colorway\": [\"#636efa\", \"#EF553B\", \"#00cc96\", \"#ab63fa\", \"#FFA15A\", \"#19d3f3\", \"#FF6692\", \"#B6E880\", \"#FF97FF\", \"#FECB52\"], \"font\": {\"color\": \"#2a3f5f\"}, \"geo\": {\"bgcolor\": \"white\", \"lakecolor\": \"white\", \"landcolor\": \"#E5ECF6\", \"showlakes\": true, \"showland\": true, \"subunitcolor\": \"white\"}, \"hoverlabel\": {\"align\": \"left\"}, \"hovermode\": \"closest\", \"mapbox\": {\"style\": \"light\"}, \"paper_bgcolor\": \"white\", \"plot_bgcolor\": \"#E5ECF6\", \"polar\": {\"angularaxis\": {\"gridcolor\": \"white\", \"linecolor\": \"white\", \"ticks\": \"\"}, \"bgcolor\": \"#E5ECF6\", \"radialaxis\": {\"gridcolor\": \"white\", \"linecolor\": \"white\", \"ticks\": \"\"}}, \"scene\": {\"xaxis\": {\"backgroundcolor\": \"#E5ECF6\", \"gridcolor\": \"white\", \"gridwidth\": 2, \"linecolor\": \"white\", \"showbackground\": true, \"ticks\": \"\", \"zerolinecolor\": \"white\"}, \"yaxis\": {\"backgroundcolor\": \"#E5ECF6\", \"gridcolor\": \"white\", \"gridwidth\": 2, \"linecolor\": \"white\", \"showbackground\": true, \"ticks\": \"\", \"zerolinecolor\": \"white\"}, \"zaxis\": {\"backgroundcolor\": \"#E5ECF6\", \"gridcolor\": \"white\", \"gridwidth\": 2, \"linecolor\": \"white\", \"showbackground\": true, \"ticks\": \"\", \"zerolinecolor\": \"white\"}}, \"shapedefaults\": {\"line\": {\"color\": \"#2a3f5f\"}}, \"ternary\": {\"aaxis\": {\"gridcolor\": \"white\", \"linecolor\": \"white\", \"ticks\": \"\"}, \"baxis\": {\"gridcolor\": \"white\", \"linecolor\": \"white\", \"ticks\": \"\"}, \"bgcolor\": \"#E5ECF6\", \"caxis\": {\"gridcolor\": \"white\", \"linecolor\": \"white\", \"ticks\": \"\"}}, \"title\": {\"x\": 0.05}, \"xaxis\": {\"automargin\": true, \"gridcolor\": \"white\", \"linecolor\": \"white\", \"ticks\": \"\", \"title\": {\"standoff\": 15}, \"zerolinecolor\": \"white\", \"zerolinewidth\": 2}, \"yaxis\": {\"automargin\": true, \"gridcolor\": \"white\", \"linecolor\": \"white\", \"ticks\": \"\", \"title\": {\"standoff\": 15}, \"zerolinecolor\": \"white\", \"zerolinewidth\": 2}}}, \"title\": {\"font\": {\"color\": \"#4D5663\"}}, \"xaxis\": {\"gridcolor\": \"#E1E5ED\", \"showgrid\": true, \"tickfont\": {\"color\": \"#4D5663\"}, \"title\": {\"font\": {\"color\": \"#4D5663\"}, \"text\": \"\"}, \"zerolinecolor\": \"#E1E5ED\"}, \"yaxis\": {\"gridcolor\": \"#E1E5ED\", \"showgrid\": true, \"tickfont\": {\"color\": \"#4D5663\"}, \"title\": {\"font\": {\"color\": \"#4D5663\"}, \"text\": \"\"}, \"zerolinecolor\": \"#E1E5ED\"}},\n",
       "                        {\"showLink\": true, \"linkText\": \"Export to plot.ly\", \"plotlyServerURL\": \"https://plot.ly\", \"responsive\": true}\n",
       "                    ).then(function(){\n",
       "                            \n",
       "var gd = document.getElementById('bdf0a87e-4d52-4d36-b453-db140ec3bb86');\n",
       "var x = new MutationObserver(function (mutations, observer) {{\n",
       "        var display = window.getComputedStyle(gd).display;\n",
       "        if (!display || display === 'none') {{\n",
       "            console.log([gd, 'removed!']);\n",
       "            Plotly.purge(gd);\n",
       "            observer.disconnect();\n",
       "        }}\n",
       "}});\n",
       "\n",
       "// Listen for the removal of the full notebook cells\n",
       "var notebookContainer = gd.closest('#notebook-container');\n",
       "if (notebookContainer) {{\n",
       "    x.observe(notebookContainer, {childList: true});\n",
       "}}\n",
       "\n",
       "// Listen for the clearing of the current output cell\n",
       "var outputEl = gd.closest('.output');\n",
       "if (outputEl) {{\n",
       "    x.observe(outputEl, {childList: true});\n",
       "}}\n",
       "\n",
       "                        })\n",
       "                };\n",
       "                });\n",
       "            </script>\n",
       "        </div>"
      ]
     },
     "metadata": {},
     "output_type": "display_data"
    }
   ],
   "source": [
    "cf.colors.scales()\n",
    "df.iplot(kind='bubble',x='A',y='B',size='C', colorscale='purples')"
   ]
  },
  {
   "cell_type": "markdown",
   "id": "convenient-ozone",
   "metadata": {},
   "source": [
    "## Spread"
   ]
  },
  {
   "cell_type": "code",
   "execution_count": 40,
   "id": "passing-instrumentation",
   "metadata": {},
   "outputs": [
    {
     "name": "stderr",
     "output_type": "stream",
     "text": [
      "/anaconda3/lib/python3.7/site-packages/cufflinks/plotlytools.py:849: FutureWarning:\n",
      "\n",
      "The pandas.np module is deprecated and will be removed from pandas in a future version. Import numpy directly instead\n",
      "\n",
      "/anaconda3/lib/python3.7/site-packages/cufflinks/plotlytools.py:850: FutureWarning:\n",
      "\n",
      "The pandas.np module is deprecated and will be removed from pandas in a future version. Import numpy directly instead\n",
      "\n"
     ]
    },
    {
     "data": {
      "application/vnd.plotly.v1+json": {
       "config": {
        "linkText": "Export to plot.ly",
        "plotlyServerURL": "https://plot.ly",
        "showLink": true
       },
       "data": [
        {
         "line": {
          "color": "rgba(255, 153, 51, 1.0)",
          "dash": "solid",
          "shape": "linear",
          "width": 1.3
         },
         "mode": "lines",
         "name": "A",
         "text": "",
         "type": "scatter",
         "x": [
          0,
          1,
          2,
          3,
          4,
          5,
          6,
          7,
          8,
          9,
          10,
          11,
          12,
          13,
          14,
          15,
          16,
          17,
          18,
          19,
          20,
          21,
          22,
          23,
          24,
          25,
          26,
          27,
          28,
          29,
          30,
          31,
          32,
          33,
          34,
          35,
          36,
          37,
          38,
          39,
          40,
          41,
          42,
          43,
          44,
          45,
          46,
          47,
          48,
          49,
          50,
          51,
          52,
          53,
          54,
          55,
          56,
          57,
          58,
          59,
          60,
          61,
          62,
          63,
          64,
          65,
          66,
          67,
          68,
          69,
          70,
          71,
          72,
          73,
          74,
          75,
          76,
          77,
          78,
          79,
          80,
          81,
          82,
          83,
          84,
          85,
          86,
          87,
          88,
          89,
          90,
          91,
          92,
          93,
          94,
          95,
          96,
          97,
          98,
          99
         ],
         "y": [
          -0.1486870569660644,
          0.39248607716009937,
          -0.7051592443933776,
          0.27576110754488387,
          -0.7802285366256736,
          -0.32929780839891537,
          -1.087810196165536,
          1.2605600894157034,
          -0.6162220153584765,
          -0.11030956050421618,
          1.642528183340233,
          -1.2471083408197337,
          -0.5030824358409205,
          0.44198222958182076,
          0.46872327753545967,
          0.7832720942473845,
          -1.816832134632092,
          -0.7734372708387459,
          -0.9663161807866139,
          -2.3035477810580884,
          -0.6424602387239299,
          -0.31914331999725876,
          -0.41844043091859484,
          0.1781758613682762,
          0.157684394184153,
          0.41595274357957573,
          0.5891850592042421,
          0.454834731394502,
          -0.14870591833136512,
          0.7917259872985981,
          -1.6466753374193293,
          -0.5984417164356648,
          0.3653669533476257,
          0.6013941003199482,
          1.0281964811508901,
          -0.29834588163580716,
          -1.5812091606674015,
          -0.4949013337856304,
          -1.0499374247496878,
          -0.25492516141576343,
          -1.347720027956506,
          1.1167699738973915,
          1.087498437295148,
          -0.3627318007990501,
          -0.9841088308619188,
          -0.24774969270479127,
          -0.10622973456180605,
          0.7743684307462901,
          -0.02005363965663801,
          -0.28863295343821105,
          -0.24808140074432009,
          0.6771989860434181,
          1.5103210368836282,
          -0.4484038407099252,
          -0.1027729276442637,
          0.4150356400669393,
          -0.8696069965432033,
          0.11551999215410763,
          1.0162559751767088,
          -0.1739788003636956,
          -0.2799898988878147,
          1.9689679185639573,
          -1.3712364456885864,
          -0.062367008698916995,
          0.1622031476510854,
          -0.0955223967895753,
          -1.5029096551345607,
          0.8754195676784564,
          -0.5524799575282217,
          -0.0980995694221568,
          0.7693585830793594,
          0.2854937541855559,
          -0.6581872556779551,
          2.114936095689492,
          0.059169867679413055,
          0.2932317898134375,
          0.3618512027631301,
          -0.1705460913024023,
          -0.029204570730282167,
          -0.7415372272530977,
          -0.7651224698222944,
          1.1547221513795514,
          -0.33103781811196065,
          -0.4952355302309878,
          0.7267534144738079,
          -0.7882902125536603,
          0.312778641188715,
          -0.11825028351583512,
          -0.9180040351441507,
          0.587033645365291,
          0.3798610800599315,
          0.21441879761051574,
          1.1707497307467345,
          1.1275071326418369,
          -0.8479588333638166,
          -0.058157108364463896,
          -0.7560319712251692,
          1.8283683259669392,
          1.2952801263299962,
          2.46499250024484
         ]
        },
        {
         "line": {
          "color": "rgba(55, 128, 191, 1.0)",
          "dash": "solid",
          "shape": "linear",
          "width": 1.3
         },
         "mode": "lines",
         "name": "B",
         "text": "",
         "type": "scatter",
         "x": [
          0,
          1,
          2,
          3,
          4,
          5,
          6,
          7,
          8,
          9,
          10,
          11,
          12,
          13,
          14,
          15,
          16,
          17,
          18,
          19,
          20,
          21,
          22,
          23,
          24,
          25,
          26,
          27,
          28,
          29,
          30,
          31,
          32,
          33,
          34,
          35,
          36,
          37,
          38,
          39,
          40,
          41,
          42,
          43,
          44,
          45,
          46,
          47,
          48,
          49,
          50,
          51,
          52,
          53,
          54,
          55,
          56,
          57,
          58,
          59,
          60,
          61,
          62,
          63,
          64,
          65,
          66,
          67,
          68,
          69,
          70,
          71,
          72,
          73,
          74,
          75,
          76,
          77,
          78,
          79,
          80,
          81,
          82,
          83,
          84,
          85,
          86,
          87,
          88,
          89,
          90,
          91,
          92,
          93,
          94,
          95,
          96,
          97,
          98,
          99
         ],
         "y": [
          -0.13720291276205954,
          0.7360290366001643,
          0.6182914547488014,
          -0.41717865842575486,
          0.7616049708336934,
          1.255700448517242,
          -0.7878477215044183,
          0.4094201423714498,
          -3.0777284071151,
          0.2962713084261198,
          -0.7566439163766893,
          0.6805595530508529,
          -0.8140383734076175,
          -0.3756519163109862,
          1.1209571938669993,
          0.7109715243740368,
          0.2706370322757297,
          0.5173522166570037,
          0.1412707917259537,
          1.7956131042028805,
          -0.37740080006068927,
          -0.0705594757231226,
          0.00017043336379697554,
          -1.0807897118199614,
          -0.8927637981588197,
          1.157805138567086,
          -0.3890743339711945,
          -0.2998728491363871,
          -0.7629484122608581,
          -1.5568150046882465,
          1.5926536293276692,
          1.065928900246484,
          1.3951763524319545,
          2.361874775141413,
          -0.6703775046596167,
          0.6874294250674926,
          -0.11962209780754239,
          -0.6757993702607386,
          0.10369601942428011,
          -1.3706785393771903,
          0.5150297006610829,
          -0.20348877806099472,
          1.278848828762823,
          -1.3672379451360985,
          0.5084740282707778,
          2.999494366246489,
          0.10681899651937042,
          0.9167978639920289,
          -0.9777499167088237,
          0.4298857429657398,
          -0.7956504240436582,
          -1.8406413912670503,
          -0.9271791648378976,
          -0.14817646279579028,
          -0.31747939699923206,
          -0.18223864047336216,
          0.3284940245408851,
          1.3411829957637205,
          -0.3643147505889812,
          0.17639462525327843,
          -1.2086092815298164,
          -1.0846769577310682,
          -1.605427128703998,
          0.24649724788045124,
          -0.11866380461086354,
          1.239307253391713,
          0.12871910997126498,
          -2.0949804045461393,
          0.2767507297426342,
          -0.752300159792606,
          0.004858035242644644,
          0.1906322672214624,
          0.3386326129851458,
          0.9664630145228903,
          -0.0014315777408607548,
          -0.9170153450824298,
          0.8204004032861612,
          0.9643199571799043,
          -0.777725262632196,
          0.7731495467328146,
          0.18062328973014358,
          0.9924833750682206,
          0.20767988730408643,
          -0.17496783608048996,
          0.0015769199486528167,
          -0.2760927778043612,
          -0.24972687617797515,
          -0.687187293033468,
          0.8739237743337697,
          -0.6687555318032616,
          -0.13323519699988973,
          1.142363840492469,
          -0.270683968952354,
          1.2213182143797743,
          -0.6530838403596835,
          -0.07887886921673892,
          -0.15949726608677098,
          -1.2083725357104302,
          0.005487941892006171,
          0.4713064898610162
         ]
        },
        {
         "connectgaps": false,
         "fill": "tozeroy",
         "line": {
          "color": "green",
          "dash": "solid",
          "shape": "linear",
          "width": 0.5
         },
         "mode": "lines",
         "name": "Spread",
         "showlegend": false,
         "type": "scatter",
         "x": [
          0,
          1,
          2,
          3,
          4,
          5,
          6,
          7,
          8,
          9,
          10,
          11,
          12,
          13,
          14,
          15,
          16,
          17,
          18,
          19,
          20,
          21,
          22,
          23,
          24,
          25,
          26,
          27,
          28,
          29,
          30,
          31,
          32,
          33,
          34,
          35,
          36,
          37,
          38,
          39,
          40,
          41,
          42,
          43,
          44,
          45,
          46,
          47,
          48,
          49,
          50,
          51,
          52,
          53,
          54,
          55,
          56,
          57,
          58,
          59,
          60,
          61,
          62,
          63,
          64,
          65,
          66,
          67,
          68,
          69,
          70,
          71,
          72,
          73,
          74,
          75,
          76,
          77,
          78,
          79,
          80,
          81,
          82,
          83,
          84,
          85,
          86,
          87,
          88,
          89,
          90,
          91,
          92,
          93,
          94,
          95,
          96,
          97,
          98,
          99
         ],
         "xaxis": "x2",
         "y": [
          "",
          "",
          "",
          0.6929397659706387,
          "",
          "",
          "",
          0.8511399470442536,
          2.4615063917566236,
          "",
          2.3991720997169224,
          "",
          0.31095593756669704,
          0.8176341458928069,
          "",
          0.07230056987334776,
          "",
          "",
          "",
          "",
          "",
          "",
          "",
          1.2589655731882377,
          1.0504481923429727,
          "",
          0.9782593931754366,
          0.7547075805308892,
          0.6142424939294929,
          2.3485409919868445,
          "",
          "",
          "",
          "",
          1.6985739858105067,
          "",
          "",
          0.18089803647510816,
          "",
          1.1157533779614268,
          "",
          1.3202587519583862,
          "",
          1.0045061443370484,
          "",
          "",
          "",
          "",
          0.9576962770521857,
          "",
          0.5475690232993381,
          2.5178403773104683,
          2.4375002017215257,
          "",
          0.21470646935496834,
          0.5972742805403015,
          "",
          "",
          1.38057072576569,
          "",
          0.9286193826420017,
          3.0536448762950252,
          0.23419068301541168,
          "",
          0.2808669522619489,
          "",
          "",
          2.9703999722245955,
          "",
          0.6542005903704492,
          0.7645005478367148,
          0.0948614869640935,
          "",
          1.1484730811666017,
          0.06060144542027381,
          1.2102471348958672,
          "",
          "",
          0.7485206919019138,
          "",
          "",
          0.16223877631133077,
          "",
          "",
          0.7251764945251551,
          "",
          0.5625055173666902,
          0.5689370095176329,
          "",
          1.2557891771685528,
          0.5130962770598213,
          "",
          1.4414336996990884,
          "",
          "",
          0.020721760852275027,
          "",
          3.0367408616773695,
          1.28979218443799,
          1.9936860103838236
         ],
         "yaxis": "y2"
        },
        {
         "connectgaps": false,
         "fill": "tozeroy",
         "line": {
          "color": "red",
          "dash": "solid",
          "shape": "linear",
          "width": 0.5
         },
         "mode": "lines",
         "name": "Spread",
         "showlegend": false,
         "type": "scatter",
         "x": [
          0,
          1,
          2,
          3,
          4,
          5,
          6,
          7,
          8,
          9,
          10,
          11,
          12,
          13,
          14,
          15,
          16,
          17,
          18,
          19,
          20,
          21,
          22,
          23,
          24,
          25,
          26,
          27,
          28,
          29,
          30,
          31,
          32,
          33,
          34,
          35,
          36,
          37,
          38,
          39,
          40,
          41,
          42,
          43,
          44,
          45,
          46,
          47,
          48,
          49,
          50,
          51,
          52,
          53,
          54,
          55,
          56,
          57,
          58,
          59,
          60,
          61,
          62,
          63,
          64,
          65,
          66,
          67,
          68,
          69,
          70,
          71,
          72,
          73,
          74,
          75,
          76,
          77,
          78,
          79,
          80,
          81,
          82,
          83,
          84,
          85,
          86,
          87,
          88,
          89,
          90,
          91,
          92,
          93,
          94,
          95,
          96,
          97,
          98,
          99
         ],
         "xaxis": "x2",
         "y": [
          -0.01148414420400487,
          -0.3435429594400649,
          -1.323450699142179,
          "",
          -1.541833507459367,
          -1.5849982569161574,
          -0.2999624746611177,
          "",
          "",
          -0.406580868930336,
          "",
          -1.9276678938705865,
          "",
          "",
          -0.6522339163315396,
          "",
          -2.087469166907822,
          -1.2907894874957497,
          -1.1075869725125675,
          -4.099160885260969,
          -0.2650594386632406,
          -0.24858384427413616,
          -0.4186108642823918,
          "",
          "",
          -0.7418523949875102,
          "",
          "",
          "",
          "",
          -3.2393289667469984,
          -1.6643706166821488,
          -1.029809399084329,
          -1.7604806748214648,
          "",
          -0.9857753067032997,
          -1.461587062859859,
          "",
          -1.153633444173968,
          "",
          -1.862749728617589,
          "",
          -0.19135039146767507,
          "",
          -1.4925828591326966,
          -3.24724405895128,
          -0.21304873108117647,
          -0.14242943324573876,
          "",
          -0.7185186964039508,
          "",
          "",
          "",
          -0.30022737791413495,
          "",
          "",
          -1.1981010210840883,
          -1.2256630036096128,
          "",
          -0.35037342561697404,
          "",
          "",
          "",
          -0.3088642565793682,
          "",
          -1.3348296501812884,
          -1.6316287651058257,
          "",
          -0.8292306872708559,
          "",
          "",
          "",
          -0.9968198686631009,
          "",
          "",
          "",
          -0.45854920052303105,
          -1.1348660484823065,
          "",
          -1.5146867739859122,
          -0.9457457595524379,
          "",
          -0.538717705416047,
          -0.32026769415049783,
          "",
          -0.512197434749299,
          "",
          "",
          -1.7919278094779205,
          "",
          "",
          -0.9279450428819532,
          "",
          -0.0938110817379374,
          -0.19487499300413313,
          "",
          -0.5965347051383982,
          "",
          "",
          ""
         ],
         "yaxis": "y2"
        }
       ],
       "layout": {
        "hovermode": "x",
        "legend": {
         "bgcolor": "#F5F6F9",
         "font": {
          "color": "#4D5663"
         }
        },
        "paper_bgcolor": "#F5F6F9",
        "plot_bgcolor": "#F5F6F9",
        "template": {
         "data": {
          "bar": [
           {
            "error_x": {
             "color": "#2a3f5f"
            },
            "error_y": {
             "color": "#2a3f5f"
            },
            "marker": {
             "line": {
              "color": "#E5ECF6",
              "width": 0.5
             }
            },
            "type": "bar"
           }
          ],
          "barpolar": [
           {
            "marker": {
             "line": {
              "color": "#E5ECF6",
              "width": 0.5
             }
            },
            "type": "barpolar"
           }
          ],
          "carpet": [
           {
            "aaxis": {
             "endlinecolor": "#2a3f5f",
             "gridcolor": "white",
             "linecolor": "white",
             "minorgridcolor": "white",
             "startlinecolor": "#2a3f5f"
            },
            "baxis": {
             "endlinecolor": "#2a3f5f",
             "gridcolor": "white",
             "linecolor": "white",
             "minorgridcolor": "white",
             "startlinecolor": "#2a3f5f"
            },
            "type": "carpet"
           }
          ],
          "choropleth": [
           {
            "colorbar": {
             "outlinewidth": 0,
             "ticks": ""
            },
            "type": "choropleth"
           }
          ],
          "contour": [
           {
            "colorbar": {
             "outlinewidth": 0,
             "ticks": ""
            },
            "colorscale": [
             [
              0,
              "#0d0887"
             ],
             [
              0.1111111111111111,
              "#46039f"
             ],
             [
              0.2222222222222222,
              "#7201a8"
             ],
             [
              0.3333333333333333,
              "#9c179e"
             ],
             [
              0.4444444444444444,
              "#bd3786"
             ],
             [
              0.5555555555555556,
              "#d8576b"
             ],
             [
              0.6666666666666666,
              "#ed7953"
             ],
             [
              0.7777777777777778,
              "#fb9f3a"
             ],
             [
              0.8888888888888888,
              "#fdca26"
             ],
             [
              1,
              "#f0f921"
             ]
            ],
            "type": "contour"
           }
          ],
          "contourcarpet": [
           {
            "colorbar": {
             "outlinewidth": 0,
             "ticks": ""
            },
            "type": "contourcarpet"
           }
          ],
          "heatmap": [
           {
            "colorbar": {
             "outlinewidth": 0,
             "ticks": ""
            },
            "colorscale": [
             [
              0,
              "#0d0887"
             ],
             [
              0.1111111111111111,
              "#46039f"
             ],
             [
              0.2222222222222222,
              "#7201a8"
             ],
             [
              0.3333333333333333,
              "#9c179e"
             ],
             [
              0.4444444444444444,
              "#bd3786"
             ],
             [
              0.5555555555555556,
              "#d8576b"
             ],
             [
              0.6666666666666666,
              "#ed7953"
             ],
             [
              0.7777777777777778,
              "#fb9f3a"
             ],
             [
              0.8888888888888888,
              "#fdca26"
             ],
             [
              1,
              "#f0f921"
             ]
            ],
            "type": "heatmap"
           }
          ],
          "heatmapgl": [
           {
            "colorbar": {
             "outlinewidth": 0,
             "ticks": ""
            },
            "colorscale": [
             [
              0,
              "#0d0887"
             ],
             [
              0.1111111111111111,
              "#46039f"
             ],
             [
              0.2222222222222222,
              "#7201a8"
             ],
             [
              0.3333333333333333,
              "#9c179e"
             ],
             [
              0.4444444444444444,
              "#bd3786"
             ],
             [
              0.5555555555555556,
              "#d8576b"
             ],
             [
              0.6666666666666666,
              "#ed7953"
             ],
             [
              0.7777777777777778,
              "#fb9f3a"
             ],
             [
              0.8888888888888888,
              "#fdca26"
             ],
             [
              1,
              "#f0f921"
             ]
            ],
            "type": "heatmapgl"
           }
          ],
          "histogram": [
           {
            "marker": {
             "colorbar": {
              "outlinewidth": 0,
              "ticks": ""
             }
            },
            "type": "histogram"
           }
          ],
          "histogram2d": [
           {
            "colorbar": {
             "outlinewidth": 0,
             "ticks": ""
            },
            "colorscale": [
             [
              0,
              "#0d0887"
             ],
             [
              0.1111111111111111,
              "#46039f"
             ],
             [
              0.2222222222222222,
              "#7201a8"
             ],
             [
              0.3333333333333333,
              "#9c179e"
             ],
             [
              0.4444444444444444,
              "#bd3786"
             ],
             [
              0.5555555555555556,
              "#d8576b"
             ],
             [
              0.6666666666666666,
              "#ed7953"
             ],
             [
              0.7777777777777778,
              "#fb9f3a"
             ],
             [
              0.8888888888888888,
              "#fdca26"
             ],
             [
              1,
              "#f0f921"
             ]
            ],
            "type": "histogram2d"
           }
          ],
          "histogram2dcontour": [
           {
            "colorbar": {
             "outlinewidth": 0,
             "ticks": ""
            },
            "colorscale": [
             [
              0,
              "#0d0887"
             ],
             [
              0.1111111111111111,
              "#46039f"
             ],
             [
              0.2222222222222222,
              "#7201a8"
             ],
             [
              0.3333333333333333,
              "#9c179e"
             ],
             [
              0.4444444444444444,
              "#bd3786"
             ],
             [
              0.5555555555555556,
              "#d8576b"
             ],
             [
              0.6666666666666666,
              "#ed7953"
             ],
             [
              0.7777777777777778,
              "#fb9f3a"
             ],
             [
              0.8888888888888888,
              "#fdca26"
             ],
             [
              1,
              "#f0f921"
             ]
            ],
            "type": "histogram2dcontour"
           }
          ],
          "mesh3d": [
           {
            "colorbar": {
             "outlinewidth": 0,
             "ticks": ""
            },
            "type": "mesh3d"
           }
          ],
          "parcoords": [
           {
            "line": {
             "colorbar": {
              "outlinewidth": 0,
              "ticks": ""
             }
            },
            "type": "parcoords"
           }
          ],
          "pie": [
           {
            "automargin": true,
            "type": "pie"
           }
          ],
          "scatter": [
           {
            "marker": {
             "colorbar": {
              "outlinewidth": 0,
              "ticks": ""
             }
            },
            "type": "scatter"
           }
          ],
          "scatter3d": [
           {
            "line": {
             "colorbar": {
              "outlinewidth": 0,
              "ticks": ""
             }
            },
            "marker": {
             "colorbar": {
              "outlinewidth": 0,
              "ticks": ""
             }
            },
            "type": "scatter3d"
           }
          ],
          "scattercarpet": [
           {
            "marker": {
             "colorbar": {
              "outlinewidth": 0,
              "ticks": ""
             }
            },
            "type": "scattercarpet"
           }
          ],
          "scattergeo": [
           {
            "marker": {
             "colorbar": {
              "outlinewidth": 0,
              "ticks": ""
             }
            },
            "type": "scattergeo"
           }
          ],
          "scattergl": [
           {
            "marker": {
             "colorbar": {
              "outlinewidth": 0,
              "ticks": ""
             }
            },
            "type": "scattergl"
           }
          ],
          "scattermapbox": [
           {
            "marker": {
             "colorbar": {
              "outlinewidth": 0,
              "ticks": ""
             }
            },
            "type": "scattermapbox"
           }
          ],
          "scatterpolar": [
           {
            "marker": {
             "colorbar": {
              "outlinewidth": 0,
              "ticks": ""
             }
            },
            "type": "scatterpolar"
           }
          ],
          "scatterpolargl": [
           {
            "marker": {
             "colorbar": {
              "outlinewidth": 0,
              "ticks": ""
             }
            },
            "type": "scatterpolargl"
           }
          ],
          "scatterternary": [
           {
            "marker": {
             "colorbar": {
              "outlinewidth": 0,
              "ticks": ""
             }
            },
            "type": "scatterternary"
           }
          ],
          "surface": [
           {
            "colorbar": {
             "outlinewidth": 0,
             "ticks": ""
            },
            "colorscale": [
             [
              0,
              "#0d0887"
             ],
             [
              0.1111111111111111,
              "#46039f"
             ],
             [
              0.2222222222222222,
              "#7201a8"
             ],
             [
              0.3333333333333333,
              "#9c179e"
             ],
             [
              0.4444444444444444,
              "#bd3786"
             ],
             [
              0.5555555555555556,
              "#d8576b"
             ],
             [
              0.6666666666666666,
              "#ed7953"
             ],
             [
              0.7777777777777778,
              "#fb9f3a"
             ],
             [
              0.8888888888888888,
              "#fdca26"
             ],
             [
              1,
              "#f0f921"
             ]
            ],
            "type": "surface"
           }
          ],
          "table": [
           {
            "cells": {
             "fill": {
              "color": "#EBF0F8"
             },
             "line": {
              "color": "white"
             }
            },
            "header": {
             "fill": {
              "color": "#C8D4E3"
             },
             "line": {
              "color": "white"
             }
            },
            "type": "table"
           }
          ]
         },
         "layout": {
          "annotationdefaults": {
           "arrowcolor": "#2a3f5f",
           "arrowhead": 0,
           "arrowwidth": 1
          },
          "coloraxis": {
           "colorbar": {
            "outlinewidth": 0,
            "ticks": ""
           }
          },
          "colorscale": {
           "diverging": [
            [
             0,
             "#8e0152"
            ],
            [
             0.1,
             "#c51b7d"
            ],
            [
             0.2,
             "#de77ae"
            ],
            [
             0.3,
             "#f1b6da"
            ],
            [
             0.4,
             "#fde0ef"
            ],
            [
             0.5,
             "#f7f7f7"
            ],
            [
             0.6,
             "#e6f5d0"
            ],
            [
             0.7,
             "#b8e186"
            ],
            [
             0.8,
             "#7fbc41"
            ],
            [
             0.9,
             "#4d9221"
            ],
            [
             1,
             "#276419"
            ]
           ],
           "sequential": [
            [
             0,
             "#0d0887"
            ],
            [
             0.1111111111111111,
             "#46039f"
            ],
            [
             0.2222222222222222,
             "#7201a8"
            ],
            [
             0.3333333333333333,
             "#9c179e"
            ],
            [
             0.4444444444444444,
             "#bd3786"
            ],
            [
             0.5555555555555556,
             "#d8576b"
            ],
            [
             0.6666666666666666,
             "#ed7953"
            ],
            [
             0.7777777777777778,
             "#fb9f3a"
            ],
            [
             0.8888888888888888,
             "#fdca26"
            ],
            [
             1,
             "#f0f921"
            ]
           ],
           "sequentialminus": [
            [
             0,
             "#0d0887"
            ],
            [
             0.1111111111111111,
             "#46039f"
            ],
            [
             0.2222222222222222,
             "#7201a8"
            ],
            [
             0.3333333333333333,
             "#9c179e"
            ],
            [
             0.4444444444444444,
             "#bd3786"
            ],
            [
             0.5555555555555556,
             "#d8576b"
            ],
            [
             0.6666666666666666,
             "#ed7953"
            ],
            [
             0.7777777777777778,
             "#fb9f3a"
            ],
            [
             0.8888888888888888,
             "#fdca26"
            ],
            [
             1,
             "#f0f921"
            ]
           ]
          },
          "colorway": [
           "#636efa",
           "#EF553B",
           "#00cc96",
           "#ab63fa",
           "#FFA15A",
           "#19d3f3",
           "#FF6692",
           "#B6E880",
           "#FF97FF",
           "#FECB52"
          ],
          "font": {
           "color": "#2a3f5f"
          },
          "geo": {
           "bgcolor": "white",
           "lakecolor": "white",
           "landcolor": "#E5ECF6",
           "showlakes": true,
           "showland": true,
           "subunitcolor": "white"
          },
          "hoverlabel": {
           "align": "left"
          },
          "hovermode": "closest",
          "mapbox": {
           "style": "light"
          },
          "paper_bgcolor": "white",
          "plot_bgcolor": "#E5ECF6",
          "polar": {
           "angularaxis": {
            "gridcolor": "white",
            "linecolor": "white",
            "ticks": ""
           },
           "bgcolor": "#E5ECF6",
           "radialaxis": {
            "gridcolor": "white",
            "linecolor": "white",
            "ticks": ""
           }
          },
          "scene": {
           "xaxis": {
            "backgroundcolor": "#E5ECF6",
            "gridcolor": "white",
            "gridwidth": 2,
            "linecolor": "white",
            "showbackground": true,
            "ticks": "",
            "zerolinecolor": "white"
           },
           "yaxis": {
            "backgroundcolor": "#E5ECF6",
            "gridcolor": "white",
            "gridwidth": 2,
            "linecolor": "white",
            "showbackground": true,
            "ticks": "",
            "zerolinecolor": "white"
           },
           "zaxis": {
            "backgroundcolor": "#E5ECF6",
            "gridcolor": "white",
            "gridwidth": 2,
            "linecolor": "white",
            "showbackground": true,
            "ticks": "",
            "zerolinecolor": "white"
           }
          },
          "shapedefaults": {
           "line": {
            "color": "#2a3f5f"
           }
          },
          "ternary": {
           "aaxis": {
            "gridcolor": "white",
            "linecolor": "white",
            "ticks": ""
           },
           "baxis": {
            "gridcolor": "white",
            "linecolor": "white",
            "ticks": ""
           },
           "bgcolor": "#E5ECF6",
           "caxis": {
            "gridcolor": "white",
            "linecolor": "white",
            "ticks": ""
           }
          },
          "title": {
           "x": 0.05
          },
          "xaxis": {
           "automargin": true,
           "gridcolor": "white",
           "linecolor": "white",
           "ticks": "",
           "title": {
            "standoff": 15
           },
           "zerolinecolor": "white",
           "zerolinewidth": 2
          },
          "yaxis": {
           "automargin": true,
           "gridcolor": "white",
           "linecolor": "white",
           "ticks": "",
           "title": {
            "standoff": 15
           },
           "zerolinecolor": "white",
           "zerolinewidth": 2
          }
         }
        },
        "title": {
         "font": {
          "color": "#4D5663"
         }
        },
        "xaxis": {
         "gridcolor": "#E1E5ED",
         "showgrid": true,
         "tickfont": {
          "color": "#4D5663"
         },
         "title": {
          "font": {
           "color": "#4D5663"
          },
          "text": ""
         },
         "zerolinecolor": "#E1E5ED"
        },
        "xaxis2": {
         "anchor": "y2",
         "gridcolor": "#E1E5ED",
         "showgrid": true,
         "showticklabels": false,
         "tickfont": {
          "color": "#4D5663"
         },
         "title": {
          "font": {
           "color": "#4D5663"
          },
          "text": ""
         },
         "zerolinecolor": "#E1E5ED"
        },
        "yaxis": {
         "domain": [
          0.3,
          1
         ],
         "gridcolor": "#E1E5ED",
         "showgrid": true,
         "tickfont": {
          "color": "#4D5663"
         },
         "title": {
          "font": {
           "color": "#4D5663"
          },
          "text": ""
         },
         "zerolinecolor": "#E1E5ED"
        },
        "yaxis2": {
         "domain": [
          0,
          0.25
         ],
         "gridcolor": "#E1E5ED",
         "showgrid": true,
         "tickfont": {
          "color": "#4D5663"
         },
         "title": {
          "font": {
           "color": "#4D5663"
          },
          "text": "Spread"
         },
         "zerolinecolor": "#E1E5ED"
        }
       }
      },
      "text/html": [
       "<div>\n",
       "        \n",
       "        \n",
       "            <div id=\"cb7b5155-23cb-4cb6-9672-bc0d083546f1\" class=\"plotly-graph-div\" style=\"height:525px; width:100%;\"></div>\n",
       "            <script type=\"text/javascript\">\n",
       "                require([\"plotly\"], function(Plotly) {\n",
       "                    window.PLOTLYENV=window.PLOTLYENV || {};\n",
       "                    window.PLOTLYENV.BASE_URL='https://plot.ly';\n",
       "                    \n",
       "                if (document.getElementById(\"cb7b5155-23cb-4cb6-9672-bc0d083546f1\")) {\n",
       "                    Plotly.newPlot(\n",
       "                        'cb7b5155-23cb-4cb6-9672-bc0d083546f1',\n",
       "                        [{\"line\": {\"color\": \"rgba(255, 153, 51, 1.0)\", \"dash\": \"solid\", \"shape\": \"linear\", \"width\": 1.3}, \"mode\": \"lines\", \"name\": \"A\", \"text\": \"\", \"type\": \"scatter\", \"x\": [0, 1, 2, 3, 4, 5, 6, 7, 8, 9, 10, 11, 12, 13, 14, 15, 16, 17, 18, 19, 20, 21, 22, 23, 24, 25, 26, 27, 28, 29, 30, 31, 32, 33, 34, 35, 36, 37, 38, 39, 40, 41, 42, 43, 44, 45, 46, 47, 48, 49, 50, 51, 52, 53, 54, 55, 56, 57, 58, 59, 60, 61, 62, 63, 64, 65, 66, 67, 68, 69, 70, 71, 72, 73, 74, 75, 76, 77, 78, 79, 80, 81, 82, 83, 84, 85, 86, 87, 88, 89, 90, 91, 92, 93, 94, 95, 96, 97, 98, 99], \"y\": [-0.1486870569660644, 0.39248607716009937, -0.7051592443933776, 0.27576110754488387, -0.7802285366256736, -0.32929780839891537, -1.087810196165536, 1.2605600894157034, -0.6162220153584765, -0.11030956050421618, 1.642528183340233, -1.2471083408197337, -0.5030824358409205, 0.44198222958182076, 0.46872327753545967, 0.7832720942473845, -1.816832134632092, -0.7734372708387459, -0.9663161807866139, -2.3035477810580884, -0.6424602387239299, -0.31914331999725876, -0.41844043091859484, 0.1781758613682762, 0.157684394184153, 0.41595274357957573, 0.5891850592042421, 0.454834731394502, -0.14870591833136512, 0.7917259872985981, -1.6466753374193293, -0.5984417164356648, 0.3653669533476257, 0.6013941003199482, 1.0281964811508901, -0.29834588163580716, -1.5812091606674015, -0.4949013337856304, -1.0499374247496878, -0.25492516141576343, -1.347720027956506, 1.1167699738973915, 1.087498437295148, -0.3627318007990501, -0.9841088308619188, -0.24774969270479127, -0.10622973456180605, 0.7743684307462901, -0.02005363965663801, -0.28863295343821105, -0.24808140074432009, 0.6771989860434181, 1.5103210368836282, -0.4484038407099252, -0.1027729276442637, 0.4150356400669393, -0.8696069965432033, 0.11551999215410763, 1.0162559751767088, -0.1739788003636956, -0.2799898988878147, 1.9689679185639573, -1.3712364456885864, -0.062367008698916995, 0.1622031476510854, -0.0955223967895753, -1.5029096551345607, 0.8754195676784564, -0.5524799575282217, -0.0980995694221568, 0.7693585830793594, 0.2854937541855559, -0.6581872556779551, 2.114936095689492, 0.059169867679413055, 0.2932317898134375, 0.3618512027631301, -0.1705460913024023, -0.029204570730282167, -0.7415372272530977, -0.7651224698222944, 1.1547221513795514, -0.33103781811196065, -0.4952355302309878, 0.7267534144738079, -0.7882902125536603, 0.312778641188715, -0.11825028351583512, -0.9180040351441507, 0.587033645365291, 0.3798610800599315, 0.21441879761051574, 1.1707497307467345, 1.1275071326418369, -0.8479588333638166, -0.058157108364463896, -0.7560319712251692, 1.8283683259669392, 1.2952801263299962, 2.46499250024484]}, {\"line\": {\"color\": \"rgba(55, 128, 191, 1.0)\", \"dash\": \"solid\", \"shape\": \"linear\", \"width\": 1.3}, \"mode\": \"lines\", \"name\": \"B\", \"text\": \"\", \"type\": \"scatter\", \"x\": [0, 1, 2, 3, 4, 5, 6, 7, 8, 9, 10, 11, 12, 13, 14, 15, 16, 17, 18, 19, 20, 21, 22, 23, 24, 25, 26, 27, 28, 29, 30, 31, 32, 33, 34, 35, 36, 37, 38, 39, 40, 41, 42, 43, 44, 45, 46, 47, 48, 49, 50, 51, 52, 53, 54, 55, 56, 57, 58, 59, 60, 61, 62, 63, 64, 65, 66, 67, 68, 69, 70, 71, 72, 73, 74, 75, 76, 77, 78, 79, 80, 81, 82, 83, 84, 85, 86, 87, 88, 89, 90, 91, 92, 93, 94, 95, 96, 97, 98, 99], \"y\": [-0.13720291276205954, 0.7360290366001643, 0.6182914547488014, -0.41717865842575486, 0.7616049708336934, 1.255700448517242, -0.7878477215044183, 0.4094201423714498, -3.0777284071151, 0.2962713084261198, -0.7566439163766893, 0.6805595530508529, -0.8140383734076175, -0.3756519163109862, 1.1209571938669993, 0.7109715243740368, 0.2706370322757297, 0.5173522166570037, 0.1412707917259537, 1.7956131042028805, -0.37740080006068927, -0.0705594757231226, 0.00017043336379697554, -1.0807897118199614, -0.8927637981588197, 1.157805138567086, -0.3890743339711945, -0.2998728491363871, -0.7629484122608581, -1.5568150046882465, 1.5926536293276692, 1.065928900246484, 1.3951763524319545, 2.361874775141413, -0.6703775046596167, 0.6874294250674926, -0.11962209780754239, -0.6757993702607386, 0.10369601942428011, -1.3706785393771903, 0.5150297006610829, -0.20348877806099472, 1.278848828762823, -1.3672379451360985, 0.5084740282707778, 2.999494366246489, 0.10681899651937042, 0.9167978639920289, -0.9777499167088237, 0.4298857429657398, -0.7956504240436582, -1.8406413912670503, -0.9271791648378976, -0.14817646279579028, -0.31747939699923206, -0.18223864047336216, 0.3284940245408851, 1.3411829957637205, -0.3643147505889812, 0.17639462525327843, -1.2086092815298164, -1.0846769577310682, -1.605427128703998, 0.24649724788045124, -0.11866380461086354, 1.239307253391713, 0.12871910997126498, -2.0949804045461393, 0.2767507297426342, -0.752300159792606, 0.004858035242644644, 0.1906322672214624, 0.3386326129851458, 0.9664630145228903, -0.0014315777408607548, -0.9170153450824298, 0.8204004032861612, 0.9643199571799043, -0.777725262632196, 0.7731495467328146, 0.18062328973014358, 0.9924833750682206, 0.20767988730408643, -0.17496783608048996, 0.0015769199486528167, -0.2760927778043612, -0.24972687617797515, -0.687187293033468, 0.8739237743337697, -0.6687555318032616, -0.13323519699988973, 1.142363840492469, -0.270683968952354, 1.2213182143797743, -0.6530838403596835, -0.07887886921673892, -0.15949726608677098, -1.2083725357104302, 0.005487941892006171, 0.4713064898610162]}, {\"connectgaps\": false, \"fill\": \"tozeroy\", \"line\": {\"color\": \"green\", \"dash\": \"solid\", \"shape\": \"linear\", \"width\": 0.5}, \"mode\": \"lines\", \"name\": \"Spread\", \"showlegend\": false, \"type\": \"scatter\", \"x\": [0, 1, 2, 3, 4, 5, 6, 7, 8, 9, 10, 11, 12, 13, 14, 15, 16, 17, 18, 19, 20, 21, 22, 23, 24, 25, 26, 27, 28, 29, 30, 31, 32, 33, 34, 35, 36, 37, 38, 39, 40, 41, 42, 43, 44, 45, 46, 47, 48, 49, 50, 51, 52, 53, 54, 55, 56, 57, 58, 59, 60, 61, 62, 63, 64, 65, 66, 67, 68, 69, 70, 71, 72, 73, 74, 75, 76, 77, 78, 79, 80, 81, 82, 83, 84, 85, 86, 87, 88, 89, 90, 91, 92, 93, 94, 95, 96, 97, 98, 99], \"xaxis\": \"x2\", \"y\": [\"\", \"\", \"\", 0.6929397659706387, \"\", \"\", \"\", 0.8511399470442536, 2.4615063917566236, \"\", 2.3991720997169224, \"\", 0.31095593756669704, 0.8176341458928069, \"\", 0.07230056987334776, \"\", \"\", \"\", \"\", \"\", \"\", \"\", 1.2589655731882377, 1.0504481923429727, \"\", 0.9782593931754366, 0.7547075805308892, 0.6142424939294929, 2.3485409919868445, \"\", \"\", \"\", \"\", 1.6985739858105067, \"\", \"\", 0.18089803647510816, \"\", 1.1157533779614268, \"\", 1.3202587519583862, \"\", 1.0045061443370484, \"\", \"\", \"\", \"\", 0.9576962770521857, \"\", 0.5475690232993381, 2.5178403773104683, 2.4375002017215257, \"\", 0.21470646935496834, 0.5972742805403015, \"\", \"\", 1.38057072576569, \"\", 0.9286193826420017, 3.0536448762950252, 0.23419068301541168, \"\", 0.2808669522619489, \"\", \"\", 2.9703999722245955, \"\", 0.6542005903704492, 0.7645005478367148, 0.0948614869640935, \"\", 1.1484730811666017, 0.06060144542027381, 1.2102471348958672, \"\", \"\", 0.7485206919019138, \"\", \"\", 0.16223877631133077, \"\", \"\", 0.7251764945251551, \"\", 0.5625055173666902, 0.5689370095176329, \"\", 1.2557891771685528, 0.5130962770598213, \"\", 1.4414336996990884, \"\", \"\", 0.020721760852275027, \"\", 3.0367408616773695, 1.28979218443799, 1.9936860103838236], \"yaxis\": \"y2\"}, {\"connectgaps\": false, \"fill\": \"tozeroy\", \"line\": {\"color\": \"red\", \"dash\": \"solid\", \"shape\": \"linear\", \"width\": 0.5}, \"mode\": \"lines\", \"name\": \"Spread\", \"showlegend\": false, \"type\": \"scatter\", \"x\": [0, 1, 2, 3, 4, 5, 6, 7, 8, 9, 10, 11, 12, 13, 14, 15, 16, 17, 18, 19, 20, 21, 22, 23, 24, 25, 26, 27, 28, 29, 30, 31, 32, 33, 34, 35, 36, 37, 38, 39, 40, 41, 42, 43, 44, 45, 46, 47, 48, 49, 50, 51, 52, 53, 54, 55, 56, 57, 58, 59, 60, 61, 62, 63, 64, 65, 66, 67, 68, 69, 70, 71, 72, 73, 74, 75, 76, 77, 78, 79, 80, 81, 82, 83, 84, 85, 86, 87, 88, 89, 90, 91, 92, 93, 94, 95, 96, 97, 98, 99], \"xaxis\": \"x2\", \"y\": [-0.01148414420400487, -0.3435429594400649, -1.323450699142179, \"\", -1.541833507459367, -1.5849982569161574, -0.2999624746611177, \"\", \"\", -0.406580868930336, \"\", -1.9276678938705865, \"\", \"\", -0.6522339163315396, \"\", -2.087469166907822, -1.2907894874957497, -1.1075869725125675, -4.099160885260969, -0.2650594386632406, -0.24858384427413616, -0.4186108642823918, \"\", \"\", -0.7418523949875102, \"\", \"\", \"\", \"\", -3.2393289667469984, -1.6643706166821488, -1.029809399084329, -1.7604806748214648, \"\", -0.9857753067032997, -1.461587062859859, \"\", -1.153633444173968, \"\", -1.862749728617589, \"\", -0.19135039146767507, \"\", -1.4925828591326966, -3.24724405895128, -0.21304873108117647, -0.14242943324573876, \"\", -0.7185186964039508, \"\", \"\", \"\", -0.30022737791413495, \"\", \"\", -1.1981010210840883, -1.2256630036096128, \"\", -0.35037342561697404, \"\", \"\", \"\", -0.3088642565793682, \"\", -1.3348296501812884, -1.6316287651058257, \"\", -0.8292306872708559, \"\", \"\", \"\", -0.9968198686631009, \"\", \"\", \"\", -0.45854920052303105, -1.1348660484823065, \"\", -1.5146867739859122, -0.9457457595524379, \"\", -0.538717705416047, -0.32026769415049783, \"\", -0.512197434749299, \"\", \"\", -1.7919278094779205, \"\", \"\", -0.9279450428819532, \"\", -0.0938110817379374, -0.19487499300413313, \"\", -0.5965347051383982, \"\", \"\", \"\"], \"yaxis\": \"y2\"}],\n",
       "                        {\"hovermode\": \"x\", \"legend\": {\"bgcolor\": \"#F5F6F9\", \"font\": {\"color\": \"#4D5663\"}}, \"paper_bgcolor\": \"#F5F6F9\", \"plot_bgcolor\": \"#F5F6F9\", \"template\": {\"data\": {\"bar\": [{\"error_x\": {\"color\": \"#2a3f5f\"}, \"error_y\": {\"color\": \"#2a3f5f\"}, \"marker\": {\"line\": {\"color\": \"#E5ECF6\", \"width\": 0.5}}, \"type\": \"bar\"}], \"barpolar\": [{\"marker\": {\"line\": {\"color\": \"#E5ECF6\", \"width\": 0.5}}, \"type\": \"barpolar\"}], \"carpet\": [{\"aaxis\": {\"endlinecolor\": \"#2a3f5f\", \"gridcolor\": \"white\", \"linecolor\": \"white\", \"minorgridcolor\": \"white\", \"startlinecolor\": \"#2a3f5f\"}, \"baxis\": {\"endlinecolor\": \"#2a3f5f\", \"gridcolor\": \"white\", \"linecolor\": \"white\", \"minorgridcolor\": \"white\", \"startlinecolor\": \"#2a3f5f\"}, \"type\": \"carpet\"}], \"choropleth\": [{\"colorbar\": {\"outlinewidth\": 0, \"ticks\": \"\"}, \"type\": \"choropleth\"}], \"contour\": [{\"colorbar\": {\"outlinewidth\": 0, \"ticks\": \"\"}, \"colorscale\": [[0.0, \"#0d0887\"], [0.1111111111111111, \"#46039f\"], [0.2222222222222222, \"#7201a8\"], [0.3333333333333333, \"#9c179e\"], [0.4444444444444444, \"#bd3786\"], [0.5555555555555556, \"#d8576b\"], [0.6666666666666666, \"#ed7953\"], [0.7777777777777778, \"#fb9f3a\"], [0.8888888888888888, \"#fdca26\"], [1.0, \"#f0f921\"]], \"type\": \"contour\"}], \"contourcarpet\": [{\"colorbar\": {\"outlinewidth\": 0, \"ticks\": \"\"}, \"type\": \"contourcarpet\"}], \"heatmap\": [{\"colorbar\": {\"outlinewidth\": 0, \"ticks\": \"\"}, \"colorscale\": [[0.0, \"#0d0887\"], [0.1111111111111111, \"#46039f\"], [0.2222222222222222, \"#7201a8\"], [0.3333333333333333, \"#9c179e\"], [0.4444444444444444, \"#bd3786\"], [0.5555555555555556, \"#d8576b\"], [0.6666666666666666, \"#ed7953\"], [0.7777777777777778, \"#fb9f3a\"], [0.8888888888888888, \"#fdca26\"], [1.0, \"#f0f921\"]], \"type\": \"heatmap\"}], \"heatmapgl\": [{\"colorbar\": {\"outlinewidth\": 0, \"ticks\": \"\"}, \"colorscale\": [[0.0, \"#0d0887\"], [0.1111111111111111, \"#46039f\"], [0.2222222222222222, \"#7201a8\"], [0.3333333333333333, \"#9c179e\"], [0.4444444444444444, \"#bd3786\"], [0.5555555555555556, \"#d8576b\"], [0.6666666666666666, \"#ed7953\"], [0.7777777777777778, \"#fb9f3a\"], [0.8888888888888888, \"#fdca26\"], [1.0, \"#f0f921\"]], \"type\": \"heatmapgl\"}], \"histogram\": [{\"marker\": {\"colorbar\": {\"outlinewidth\": 0, \"ticks\": \"\"}}, \"type\": \"histogram\"}], \"histogram2d\": [{\"colorbar\": {\"outlinewidth\": 0, \"ticks\": \"\"}, \"colorscale\": [[0.0, \"#0d0887\"], [0.1111111111111111, \"#46039f\"], [0.2222222222222222, \"#7201a8\"], [0.3333333333333333, \"#9c179e\"], [0.4444444444444444, \"#bd3786\"], [0.5555555555555556, \"#d8576b\"], [0.6666666666666666, \"#ed7953\"], [0.7777777777777778, \"#fb9f3a\"], [0.8888888888888888, \"#fdca26\"], [1.0, \"#f0f921\"]], \"type\": \"histogram2d\"}], \"histogram2dcontour\": [{\"colorbar\": {\"outlinewidth\": 0, \"ticks\": \"\"}, \"colorscale\": [[0.0, \"#0d0887\"], [0.1111111111111111, \"#46039f\"], [0.2222222222222222, \"#7201a8\"], [0.3333333333333333, \"#9c179e\"], [0.4444444444444444, \"#bd3786\"], [0.5555555555555556, \"#d8576b\"], [0.6666666666666666, \"#ed7953\"], [0.7777777777777778, \"#fb9f3a\"], [0.8888888888888888, \"#fdca26\"], [1.0, \"#f0f921\"]], \"type\": \"histogram2dcontour\"}], \"mesh3d\": [{\"colorbar\": {\"outlinewidth\": 0, \"ticks\": \"\"}, \"type\": \"mesh3d\"}], \"parcoords\": [{\"line\": {\"colorbar\": {\"outlinewidth\": 0, \"ticks\": \"\"}}, \"type\": \"parcoords\"}], \"pie\": [{\"automargin\": true, \"type\": \"pie\"}], \"scatter\": [{\"marker\": {\"colorbar\": {\"outlinewidth\": 0, \"ticks\": \"\"}}, \"type\": \"scatter\"}], \"scatter3d\": [{\"line\": {\"colorbar\": {\"outlinewidth\": 0, \"ticks\": \"\"}}, \"marker\": {\"colorbar\": {\"outlinewidth\": 0, \"ticks\": \"\"}}, \"type\": \"scatter3d\"}], \"scattercarpet\": [{\"marker\": {\"colorbar\": {\"outlinewidth\": 0, \"ticks\": \"\"}}, \"type\": \"scattercarpet\"}], \"scattergeo\": [{\"marker\": {\"colorbar\": {\"outlinewidth\": 0, \"ticks\": \"\"}}, \"type\": \"scattergeo\"}], \"scattergl\": [{\"marker\": {\"colorbar\": {\"outlinewidth\": 0, \"ticks\": \"\"}}, \"type\": \"scattergl\"}], \"scattermapbox\": [{\"marker\": {\"colorbar\": {\"outlinewidth\": 0, \"ticks\": \"\"}}, \"type\": \"scattermapbox\"}], \"scatterpolar\": [{\"marker\": {\"colorbar\": {\"outlinewidth\": 0, \"ticks\": \"\"}}, \"type\": \"scatterpolar\"}], \"scatterpolargl\": [{\"marker\": {\"colorbar\": {\"outlinewidth\": 0, \"ticks\": \"\"}}, \"type\": \"scatterpolargl\"}], \"scatterternary\": [{\"marker\": {\"colorbar\": {\"outlinewidth\": 0, \"ticks\": \"\"}}, \"type\": \"scatterternary\"}], \"surface\": [{\"colorbar\": {\"outlinewidth\": 0, \"ticks\": \"\"}, \"colorscale\": [[0.0, \"#0d0887\"], [0.1111111111111111, \"#46039f\"], [0.2222222222222222, \"#7201a8\"], [0.3333333333333333, \"#9c179e\"], [0.4444444444444444, \"#bd3786\"], [0.5555555555555556, \"#d8576b\"], [0.6666666666666666, \"#ed7953\"], [0.7777777777777778, \"#fb9f3a\"], [0.8888888888888888, \"#fdca26\"], [1.0, \"#f0f921\"]], \"type\": \"surface\"}], \"table\": [{\"cells\": {\"fill\": {\"color\": \"#EBF0F8\"}, \"line\": {\"color\": \"white\"}}, \"header\": {\"fill\": {\"color\": \"#C8D4E3\"}, \"line\": {\"color\": \"white\"}}, \"type\": \"table\"}]}, \"layout\": {\"annotationdefaults\": {\"arrowcolor\": \"#2a3f5f\", \"arrowhead\": 0, \"arrowwidth\": 1}, \"coloraxis\": {\"colorbar\": {\"outlinewidth\": 0, \"ticks\": \"\"}}, \"colorscale\": {\"diverging\": [[0, \"#8e0152\"], [0.1, \"#c51b7d\"], [0.2, \"#de77ae\"], [0.3, \"#f1b6da\"], [0.4, \"#fde0ef\"], [0.5, \"#f7f7f7\"], [0.6, \"#e6f5d0\"], [0.7, \"#b8e186\"], [0.8, \"#7fbc41\"], [0.9, \"#4d9221\"], [1, \"#276419\"]], \"sequential\": [[0.0, \"#0d0887\"], [0.1111111111111111, \"#46039f\"], [0.2222222222222222, \"#7201a8\"], [0.3333333333333333, \"#9c179e\"], [0.4444444444444444, \"#bd3786\"], [0.5555555555555556, \"#d8576b\"], [0.6666666666666666, \"#ed7953\"], [0.7777777777777778, \"#fb9f3a\"], [0.8888888888888888, \"#fdca26\"], [1.0, \"#f0f921\"]], \"sequentialminus\": [[0.0, \"#0d0887\"], [0.1111111111111111, \"#46039f\"], [0.2222222222222222, \"#7201a8\"], [0.3333333333333333, \"#9c179e\"], [0.4444444444444444, \"#bd3786\"], [0.5555555555555556, \"#d8576b\"], [0.6666666666666666, \"#ed7953\"], [0.7777777777777778, \"#fb9f3a\"], [0.8888888888888888, \"#fdca26\"], [1.0, \"#f0f921\"]]}, \"colorway\": [\"#636efa\", \"#EF553B\", \"#00cc96\", \"#ab63fa\", \"#FFA15A\", \"#19d3f3\", \"#FF6692\", \"#B6E880\", \"#FF97FF\", \"#FECB52\"], \"font\": {\"color\": \"#2a3f5f\"}, \"geo\": {\"bgcolor\": \"white\", \"lakecolor\": \"white\", \"landcolor\": \"#E5ECF6\", \"showlakes\": true, \"showland\": true, \"subunitcolor\": \"white\"}, \"hoverlabel\": {\"align\": \"left\"}, \"hovermode\": \"closest\", \"mapbox\": {\"style\": \"light\"}, \"paper_bgcolor\": \"white\", \"plot_bgcolor\": \"#E5ECF6\", \"polar\": {\"angularaxis\": {\"gridcolor\": \"white\", \"linecolor\": \"white\", \"ticks\": \"\"}, \"bgcolor\": \"#E5ECF6\", \"radialaxis\": {\"gridcolor\": \"white\", \"linecolor\": \"white\", \"ticks\": \"\"}}, \"scene\": {\"xaxis\": {\"backgroundcolor\": \"#E5ECF6\", \"gridcolor\": \"white\", \"gridwidth\": 2, \"linecolor\": \"white\", \"showbackground\": true, \"ticks\": \"\", \"zerolinecolor\": \"white\"}, \"yaxis\": {\"backgroundcolor\": \"#E5ECF6\", \"gridcolor\": \"white\", \"gridwidth\": 2, \"linecolor\": \"white\", \"showbackground\": true, \"ticks\": \"\", \"zerolinecolor\": \"white\"}, \"zaxis\": {\"backgroundcolor\": \"#E5ECF6\", \"gridcolor\": \"white\", \"gridwidth\": 2, \"linecolor\": \"white\", \"showbackground\": true, \"ticks\": \"\", \"zerolinecolor\": \"white\"}}, \"shapedefaults\": {\"line\": {\"color\": \"#2a3f5f\"}}, \"ternary\": {\"aaxis\": {\"gridcolor\": \"white\", \"linecolor\": \"white\", \"ticks\": \"\"}, \"baxis\": {\"gridcolor\": \"white\", \"linecolor\": \"white\", \"ticks\": \"\"}, \"bgcolor\": \"#E5ECF6\", \"caxis\": {\"gridcolor\": \"white\", \"linecolor\": \"white\", \"ticks\": \"\"}}, \"title\": {\"x\": 0.05}, \"xaxis\": {\"automargin\": true, \"gridcolor\": \"white\", \"linecolor\": \"white\", \"ticks\": \"\", \"title\": {\"standoff\": 15}, \"zerolinecolor\": \"white\", \"zerolinewidth\": 2}, \"yaxis\": {\"automargin\": true, \"gridcolor\": \"white\", \"linecolor\": \"white\", \"ticks\": \"\", \"title\": {\"standoff\": 15}, \"zerolinecolor\": \"white\", \"zerolinewidth\": 2}}}, \"title\": {\"font\": {\"color\": \"#4D5663\"}}, \"xaxis\": {\"gridcolor\": \"#E1E5ED\", \"showgrid\": true, \"tickfont\": {\"color\": \"#4D5663\"}, \"title\": {\"font\": {\"color\": \"#4D5663\"}, \"text\": \"\"}, \"zerolinecolor\": \"#E1E5ED\"}, \"xaxis2\": {\"anchor\": \"y2\", \"gridcolor\": \"#E1E5ED\", \"showgrid\": true, \"showticklabels\": false, \"tickfont\": {\"color\": \"#4D5663\"}, \"title\": {\"font\": {\"color\": \"#4D5663\"}, \"text\": \"\"}, \"zerolinecolor\": \"#E1E5ED\"}, \"yaxis\": {\"domain\": [0.3, 1], \"gridcolor\": \"#E1E5ED\", \"showgrid\": true, \"tickfont\": {\"color\": \"#4D5663\"}, \"title\": {\"font\": {\"color\": \"#4D5663\"}, \"text\": \"\"}, \"zerolinecolor\": \"#E1E5ED\"}, \"yaxis2\": {\"domain\": [0, 0.25], \"gridcolor\": \"#E1E5ED\", \"showgrid\": true, \"tickfont\": {\"color\": \"#4D5663\"}, \"title\": {\"font\": {\"color\": \"#4D5663\"}, \"text\": \"Spread\"}, \"zerolinecolor\": \"#E1E5ED\"}},\n",
       "                        {\"showLink\": true, \"linkText\": \"Export to plot.ly\", \"plotlyServerURL\": \"https://plot.ly\", \"responsive\": true}\n",
       "                    ).then(function(){\n",
       "                            \n",
       "var gd = document.getElementById('cb7b5155-23cb-4cb6-9672-bc0d083546f1');\n",
       "var x = new MutationObserver(function (mutations, observer) {{\n",
       "        var display = window.getComputedStyle(gd).display;\n",
       "        if (!display || display === 'none') {{\n",
       "            console.log([gd, 'removed!']);\n",
       "            Plotly.purge(gd);\n",
       "            observer.disconnect();\n",
       "        }}\n",
       "}});\n",
       "\n",
       "// Listen for the removal of the full notebook cells\n",
       "var notebookContainer = gd.closest('#notebook-container');\n",
       "if (notebookContainer) {{\n",
       "    x.observe(notebookContainer, {childList: true});\n",
       "}}\n",
       "\n",
       "// Listen for the clearing of the current output cell\n",
       "var outputEl = gd.closest('.output');\n",
       "if (outputEl) {{\n",
       "    x.observe(outputEl, {childList: true});\n",
       "}}\n",
       "\n",
       "                        })\n",
       "                };\n",
       "                });\n",
       "            </script>\n",
       "        </div>"
      ]
     },
     "metadata": {},
     "output_type": "display_data"
    }
   ],
   "source": [
    "df[['A', 'B']].iplot(kind='spread')"
   ]
  },
  {
   "cell_type": "markdown",
   "id": "curious-karen",
   "metadata": {},
   "source": [
    "## scatter_matrix()\n",
    "similar to pairplot"
   ]
  },
  {
   "cell_type": "code",
   "execution_count": 55,
   "id": "coordinate-baseline",
   "metadata": {},
   "outputs": [
    {
     "data": {
      "application/vnd.plotly.v1+json": {
       "config": {
        "linkText": "Export to plot.ly",
        "plotlyServerURL": "https://plot.ly",
        "showLink": true
       },
       "data": [
        {
         "histfunc": "count",
         "histnorm": "",
         "marker": {
          "color": "rgba(255, 153, 51, 1.0)",
          "line": {
           "color": "#4D5663",
           "width": 1.3
          }
         },
         "name": "A",
         "nbinsx": 10,
         "opacity": 0.8,
         "orientation": "v",
         "type": "histogram",
         "x": [
          -0.1486870569660644,
          0.39248607716009937,
          -0.7051592443933776,
          0.27576110754488387,
          -0.7802285366256736,
          -0.32929780839891537,
          -1.087810196165536,
          1.2605600894157034,
          -0.6162220153584765,
          -0.11030956050421618,
          1.642528183340233,
          -1.2471083408197337,
          -0.5030824358409205,
          0.44198222958182076,
          0.46872327753545967,
          0.7832720942473845,
          -1.816832134632092,
          -0.7734372708387459,
          -0.9663161807866139,
          -2.3035477810580884,
          -0.6424602387239299,
          -0.31914331999725876,
          -0.41844043091859484,
          0.1781758613682762,
          0.157684394184153,
          0.41595274357957573,
          0.5891850592042421,
          0.454834731394502,
          -0.14870591833136512,
          0.7917259872985981,
          -1.6466753374193293,
          -0.5984417164356648,
          0.3653669533476257,
          0.6013941003199482,
          1.0281964811508901,
          -0.29834588163580716,
          -1.5812091606674015,
          -0.4949013337856304,
          -1.0499374247496878,
          -0.25492516141576343,
          -1.347720027956506,
          1.1167699738973915,
          1.087498437295148,
          -0.3627318007990501,
          -0.9841088308619188,
          -0.24774969270479127,
          -0.10622973456180605,
          0.7743684307462901,
          -0.02005363965663801,
          -0.28863295343821105,
          -0.24808140074432009,
          0.6771989860434181,
          1.5103210368836282,
          -0.4484038407099252,
          -0.1027729276442637,
          0.4150356400669393,
          -0.8696069965432033,
          0.11551999215410763,
          1.0162559751767088,
          -0.1739788003636956,
          -0.2799898988878147,
          1.9689679185639573,
          -1.3712364456885864,
          -0.062367008698916995,
          0.1622031476510854,
          -0.0955223967895753,
          -1.5029096551345607,
          0.8754195676784564,
          -0.5524799575282217,
          -0.0980995694221568,
          0.7693585830793594,
          0.2854937541855559,
          -0.6581872556779551,
          2.114936095689492,
          0.059169867679413055,
          0.2932317898134375,
          0.3618512027631301,
          -0.1705460913024023,
          -0.029204570730282167,
          -0.7415372272530977,
          -0.7651224698222944,
          1.1547221513795514,
          -0.33103781811196065,
          -0.4952355302309878,
          0.7267534144738079,
          -0.7882902125536603,
          0.312778641188715,
          -0.11825028351583512,
          -0.9180040351441507,
          0.587033645365291,
          0.3798610800599315,
          0.21441879761051574,
          1.1707497307467345,
          1.1275071326418369,
          -0.8479588333638166,
          -0.058157108364463896,
          -0.7560319712251692,
          1.8283683259669392,
          1.2952801263299962,
          2.46499250024484
         ],
         "xaxis": "x",
         "yaxis": "y"
        },
        {
         "line": {
          "color": "rgba(128, 128, 128, 1.0)",
          "dash": "solid",
          "shape": "linear",
          "width": 1.3
         },
         "marker": {
          "size": 2,
          "symbol": "circle"
         },
         "mode": "markers",
         "name": "A",
         "text": "",
         "type": "scatter",
         "x": [
          -0.13720291276205954,
          0.7360290366001643,
          0.6182914547488014,
          -0.41717865842575486,
          0.7616049708336934,
          1.255700448517242,
          -0.7878477215044183,
          0.4094201423714498,
          -3.0777284071151,
          0.2962713084261198,
          -0.7566439163766893,
          0.6805595530508529,
          -0.8140383734076175,
          -0.3756519163109862,
          1.1209571938669993,
          0.7109715243740368,
          0.2706370322757297,
          0.5173522166570037,
          0.1412707917259537,
          1.7956131042028805,
          -0.37740080006068927,
          -0.0705594757231226,
          0.00017043336379697554,
          -1.0807897118199614,
          -0.8927637981588197,
          1.157805138567086,
          -0.3890743339711945,
          -0.2998728491363871,
          -0.7629484122608581,
          -1.5568150046882465,
          1.5926536293276692,
          1.065928900246484,
          1.3951763524319545,
          2.361874775141413,
          -0.6703775046596167,
          0.6874294250674926,
          -0.11962209780754239,
          -0.6757993702607386,
          0.10369601942428011,
          -1.3706785393771903,
          0.5150297006610829,
          -0.20348877806099472,
          1.278848828762823,
          -1.3672379451360985,
          0.5084740282707778,
          2.999494366246489,
          0.10681899651937042,
          0.9167978639920289,
          -0.9777499167088237,
          0.4298857429657398,
          -0.7956504240436582,
          -1.8406413912670503,
          -0.9271791648378976,
          -0.14817646279579028,
          -0.31747939699923206,
          -0.18223864047336216,
          0.3284940245408851,
          1.3411829957637205,
          -0.3643147505889812,
          0.17639462525327843,
          -1.2086092815298164,
          -1.0846769577310682,
          -1.605427128703998,
          0.24649724788045124,
          -0.11866380461086354,
          1.239307253391713,
          0.12871910997126498,
          -2.0949804045461393,
          0.2767507297426342,
          -0.752300159792606,
          0.004858035242644644,
          0.1906322672214624,
          0.3386326129851458,
          0.9664630145228903,
          -0.0014315777408607548,
          -0.9170153450824298,
          0.8204004032861612,
          0.9643199571799043,
          -0.777725262632196,
          0.7731495467328146,
          0.18062328973014358,
          0.9924833750682206,
          0.20767988730408643,
          -0.17496783608048996,
          0.0015769199486528167,
          -0.2760927778043612,
          -0.24972687617797515,
          -0.687187293033468,
          0.8739237743337697,
          -0.6687555318032616,
          -0.13323519699988973,
          1.142363840492469,
          -0.270683968952354,
          1.2213182143797743,
          -0.6530838403596835,
          -0.07887886921673892,
          -0.15949726608677098,
          -1.2083725357104302,
          0.005487941892006171,
          0.4713064898610162
         ],
         "xaxis": "x2",
         "y": [
          -0.1486870569660644,
          0.39248607716009937,
          -0.7051592443933776,
          0.27576110754488387,
          -0.7802285366256736,
          -0.32929780839891537,
          -1.087810196165536,
          1.2605600894157034,
          -0.6162220153584765,
          -0.11030956050421618,
          1.642528183340233,
          -1.2471083408197337,
          -0.5030824358409205,
          0.44198222958182076,
          0.46872327753545967,
          0.7832720942473845,
          -1.816832134632092,
          -0.7734372708387459,
          -0.9663161807866139,
          -2.3035477810580884,
          -0.6424602387239299,
          -0.31914331999725876,
          -0.41844043091859484,
          0.1781758613682762,
          0.157684394184153,
          0.41595274357957573,
          0.5891850592042421,
          0.454834731394502,
          -0.14870591833136512,
          0.7917259872985981,
          -1.6466753374193293,
          -0.5984417164356648,
          0.3653669533476257,
          0.6013941003199482,
          1.0281964811508901,
          -0.29834588163580716,
          -1.5812091606674015,
          -0.4949013337856304,
          -1.0499374247496878,
          -0.25492516141576343,
          -1.347720027956506,
          1.1167699738973915,
          1.087498437295148,
          -0.3627318007990501,
          -0.9841088308619188,
          -0.24774969270479127,
          -0.10622973456180605,
          0.7743684307462901,
          -0.02005363965663801,
          -0.28863295343821105,
          -0.24808140074432009,
          0.6771989860434181,
          1.5103210368836282,
          -0.4484038407099252,
          -0.1027729276442637,
          0.4150356400669393,
          -0.8696069965432033,
          0.11551999215410763,
          1.0162559751767088,
          -0.1739788003636956,
          -0.2799898988878147,
          1.9689679185639573,
          -1.3712364456885864,
          -0.062367008698916995,
          0.1622031476510854,
          -0.0955223967895753,
          -1.5029096551345607,
          0.8754195676784564,
          -0.5524799575282217,
          -0.0980995694221568,
          0.7693585830793594,
          0.2854937541855559,
          -0.6581872556779551,
          2.114936095689492,
          0.059169867679413055,
          0.2932317898134375,
          0.3618512027631301,
          -0.1705460913024023,
          -0.029204570730282167,
          -0.7415372272530977,
          -0.7651224698222944,
          1.1547221513795514,
          -0.33103781811196065,
          -0.4952355302309878,
          0.7267534144738079,
          -0.7882902125536603,
          0.312778641188715,
          -0.11825028351583512,
          -0.9180040351441507,
          0.587033645365291,
          0.3798610800599315,
          0.21441879761051574,
          1.1707497307467345,
          1.1275071326418369,
          -0.8479588333638166,
          -0.058157108364463896,
          -0.7560319712251692,
          1.8283683259669392,
          1.2952801263299962,
          2.46499250024484
         ],
         "yaxis": "y2"
        },
        {
         "line": {
          "color": "rgba(128, 128, 128, 1.0)",
          "dash": "solid",
          "shape": "linear",
          "width": 1.3
         },
         "marker": {
          "size": 2,
          "symbol": "circle"
         },
         "mode": "markers",
         "name": "A",
         "text": "",
         "type": "scatter",
         "x": [
          0.9772588645208288,
          0.031095691670485027,
          -0.4517709119065063,
          -0.11505177760843294,
          1.4013872068608693,
          0.12439243290780622,
          0.3143384594106518,
          -0.5961004707616886,
          -1.65968642352273,
          -0.8433833213279801,
          -0.8790929369988937,
          0.9097731167884134,
          -0.25449939223936224,
          -1.7474010052042062,
          -0.03195149495193755,
          0.338535606682914,
          0.5861914699834533,
          -0.7852693129036312,
          -1.0256124153016837,
          0.4960274764979757,
          1.6404394193794958,
          -0.5842610371983409,
          1.350264431529778,
          0.5408179423679065,
          -0.9082479053654744,
          -0.7069767492991279,
          0.13019795076909318,
          1.1282516887737086,
          1.747822457753705,
          1.1991010788063432,
          0.25207171650754456,
          -0.18816983036314108,
          -0.8539774592252419,
          0.00027423242096450177,
          -2.3615316526291985,
          1.1081702271247518,
          -0.1720795612082035,
          0.4685511660296994,
          -0.14548278138294873,
          0.06695480734404455,
          -0.04695989997971613,
          1.304340085601986,
          0.3004069831905211,
          -0.3285035098188163,
          -0.18408980579232542,
          -0.575668330094647,
          0.06211278056024565,
          -0.2980839207808471,
          -0.6900263190687328,
          0.9466928356118943,
          0.4369369161764057,
          0.5739310383836496,
          1.6449112745434582,
          -1.7630502680546434,
          0.42499331331685625,
          -0.2682487501446132,
          -0.6439931869255161,
          -1.2890874571532962,
          0.3372180775483443,
          1.1368618824392678,
          -0.09908569591730172,
          0.22941801268669706,
          2.274530159793604,
          -2.084826865936759,
          0.02246326885110578,
          -0.9976814010788779,
          -1.203611465436587,
          -1.4404546117895198,
          1.0945896626940594,
          -0.12331873437293468,
          -0.07486416417015195,
          -0.7159735904353373,
          -1.441541741269909,
          -1.6511113002928979,
          0.20752755106164675,
          0.6866692431899022,
          -0.5253434684781135,
          -0.34121696680681823,
          -0.7101377241544234,
          0.8673374851513335,
          0.6693814303903495,
          0.33747861279895386,
          0.43421948846386565,
          -0.5896906486777742,
          0.8577732734671204,
          0.8822318167813604,
          -0.8355998873733064,
          -0.2671808432114606,
          0.38149373806550346,
          0.39710818594576847,
          0.0016939175901426367,
          0.27169299128835644,
          -0.18503242288638252,
          0.2874110489074513,
          1.2917036599964835,
          0.012806392764316277,
          -0.6013187829788086,
          0.2887690472805458,
          0.5294632809754649,
          -0.4671865195622524
         ],
         "xaxis": "x3",
         "y": [
          -0.1486870569660644,
          0.39248607716009937,
          -0.7051592443933776,
          0.27576110754488387,
          -0.7802285366256736,
          -0.32929780839891537,
          -1.087810196165536,
          1.2605600894157034,
          -0.6162220153584765,
          -0.11030956050421618,
          1.642528183340233,
          -1.2471083408197337,
          -0.5030824358409205,
          0.44198222958182076,
          0.46872327753545967,
          0.7832720942473845,
          -1.816832134632092,
          -0.7734372708387459,
          -0.9663161807866139,
          -2.3035477810580884,
          -0.6424602387239299,
          -0.31914331999725876,
          -0.41844043091859484,
          0.1781758613682762,
          0.157684394184153,
          0.41595274357957573,
          0.5891850592042421,
          0.454834731394502,
          -0.14870591833136512,
          0.7917259872985981,
          -1.6466753374193293,
          -0.5984417164356648,
          0.3653669533476257,
          0.6013941003199482,
          1.0281964811508901,
          -0.29834588163580716,
          -1.5812091606674015,
          -0.4949013337856304,
          -1.0499374247496878,
          -0.25492516141576343,
          -1.347720027956506,
          1.1167699738973915,
          1.087498437295148,
          -0.3627318007990501,
          -0.9841088308619188,
          -0.24774969270479127,
          -0.10622973456180605,
          0.7743684307462901,
          -0.02005363965663801,
          -0.28863295343821105,
          -0.24808140074432009,
          0.6771989860434181,
          1.5103210368836282,
          -0.4484038407099252,
          -0.1027729276442637,
          0.4150356400669393,
          -0.8696069965432033,
          0.11551999215410763,
          1.0162559751767088,
          -0.1739788003636956,
          -0.2799898988878147,
          1.9689679185639573,
          -1.3712364456885864,
          -0.062367008698916995,
          0.1622031476510854,
          -0.0955223967895753,
          -1.5029096551345607,
          0.8754195676784564,
          -0.5524799575282217,
          -0.0980995694221568,
          0.7693585830793594,
          0.2854937541855559,
          -0.6581872556779551,
          2.114936095689492,
          0.059169867679413055,
          0.2932317898134375,
          0.3618512027631301,
          -0.1705460913024023,
          -0.029204570730282167,
          -0.7415372272530977,
          -0.7651224698222944,
          1.1547221513795514,
          -0.33103781811196065,
          -0.4952355302309878,
          0.7267534144738079,
          -0.7882902125536603,
          0.312778641188715,
          -0.11825028351583512,
          -0.9180040351441507,
          0.587033645365291,
          0.3798610800599315,
          0.21441879761051574,
          1.1707497307467345,
          1.1275071326418369,
          -0.8479588333638166,
          -0.058157108364463896,
          -0.7560319712251692,
          1.8283683259669392,
          1.2952801263299962,
          2.46499250024484
         ],
         "yaxis": "y3"
        },
        {
         "line": {
          "color": "rgba(128, 128, 128, 1.0)",
          "dash": "solid",
          "shape": "linear",
          "width": 1.3
         },
         "marker": {
          "size": 2,
          "symbol": "circle"
         },
         "mode": "markers",
         "name": "A",
         "text": "",
         "type": "scatter",
         "x": [
          0.09124207426154374,
          0.23050372092668295,
          0.014859888913373658,
          0.6239763264699059,
          0.16235480114648318,
          1.4845492406294487,
          -0.24759749095892106,
          -0.4612202072965182,
          0.6683144012220376,
          -0.46535510850761114,
          -0.33395440282299166,
          0.3573635291563245,
          -1.1442608614644356,
          0.17296148121397323,
          0.9259288697005811,
          -1.1354172237080085,
          -0.9824537715249738,
          0.7620280141971381,
          -0.5478607089718354,
          -0.02271906163973041,
          0.9382739201658581,
          0.06040255294631438,
          1.5768722286871253,
          1.1789065779684256,
          0.5957667468533718,
          0.6928160880203745,
          0.07803318534448397,
          -0.7511507900485863,
          -2.017575266863575,
          -0.7542311486743793,
          0.9843274467312364,
          0.9223614498976392,
          -0.0693254979767664,
          -0.625152690130413,
          -0.6965352404178793,
          0.16506324429332273,
          -1.3565483683732344,
          0.6732798515567434,
          -0.36557683850328776,
          1.2172166050384277,
          0.019235232902732866,
          0.17912685594107225,
          1.7899803581562799,
          1.0009507152107793,
          0.2192444165275358,
          -0.5131790606950488,
          1.8891102583364106,
          0.5321953810646466,
          -0.6644872263417928,
          -0.12309162364411347,
          -0.31339044568114677,
          -0.25054260467209893,
          -0.27939346708240065,
          -1.2162483585682222,
          0.8697394362378188,
          -1.6708438737163958,
          -2.3312698618270753,
          0.644992665599839,
          0.6095144094932191,
          0.49378481933131374,
          0.9317908390993053,
          0.32139932260319765,
          1.0040081325122843,
          0.6759993179706805,
          -0.13810627740614917,
          0.8594883991882487,
          0.2555764941620284,
          0.9307411415069429,
          -1.4115427388612543,
          -0.08438065706766976,
          0.3677178589278481,
          1.0088429569294157,
          0.9926769433668462,
          0.7830876388691718,
          -0.650139602099969,
          0.03227373601388025,
          0.27477362140694533,
          1.3928724370929564,
          1.209919303897628,
          -0.3224507855553749,
          0.49539365772792204,
          -0.7065013288865348,
          0.7964809892009287,
          1.5097441064074213,
          1.4462034803456403,
          1.0269528923873075,
          0.4500910963989715,
          0.7349224726807688,
          1.227614343659497,
          0.738796879112678,
          0.776915386590465,
          -1.2574127005090718,
          -0.38990474087731036,
          0.04920506131048392,
          -0.17230849326652384,
          -0.33656939690551585,
          1.0046983868385404,
          -0.2261403969988013,
          1.3273304506972414,
          -0.6846365084550697
         ],
         "xaxis": "x4",
         "y": [
          -0.1486870569660644,
          0.39248607716009937,
          -0.7051592443933776,
          0.27576110754488387,
          -0.7802285366256736,
          -0.32929780839891537,
          -1.087810196165536,
          1.2605600894157034,
          -0.6162220153584765,
          -0.11030956050421618,
          1.642528183340233,
          -1.2471083408197337,
          -0.5030824358409205,
          0.44198222958182076,
          0.46872327753545967,
          0.7832720942473845,
          -1.816832134632092,
          -0.7734372708387459,
          -0.9663161807866139,
          -2.3035477810580884,
          -0.6424602387239299,
          -0.31914331999725876,
          -0.41844043091859484,
          0.1781758613682762,
          0.157684394184153,
          0.41595274357957573,
          0.5891850592042421,
          0.454834731394502,
          -0.14870591833136512,
          0.7917259872985981,
          -1.6466753374193293,
          -0.5984417164356648,
          0.3653669533476257,
          0.6013941003199482,
          1.0281964811508901,
          -0.29834588163580716,
          -1.5812091606674015,
          -0.4949013337856304,
          -1.0499374247496878,
          -0.25492516141576343,
          -1.347720027956506,
          1.1167699738973915,
          1.087498437295148,
          -0.3627318007990501,
          -0.9841088308619188,
          -0.24774969270479127,
          -0.10622973456180605,
          0.7743684307462901,
          -0.02005363965663801,
          -0.28863295343821105,
          -0.24808140074432009,
          0.6771989860434181,
          1.5103210368836282,
          -0.4484038407099252,
          -0.1027729276442637,
          0.4150356400669393,
          -0.8696069965432033,
          0.11551999215410763,
          1.0162559751767088,
          -0.1739788003636956,
          -0.2799898988878147,
          1.9689679185639573,
          -1.3712364456885864,
          -0.062367008698916995,
          0.1622031476510854,
          -0.0955223967895753,
          -1.5029096551345607,
          0.8754195676784564,
          -0.5524799575282217,
          -0.0980995694221568,
          0.7693585830793594,
          0.2854937541855559,
          -0.6581872556779551,
          2.114936095689492,
          0.059169867679413055,
          0.2932317898134375,
          0.3618512027631301,
          -0.1705460913024023,
          -0.029204570730282167,
          -0.7415372272530977,
          -0.7651224698222944,
          1.1547221513795514,
          -0.33103781811196065,
          -0.4952355302309878,
          0.7267534144738079,
          -0.7882902125536603,
          0.312778641188715,
          -0.11825028351583512,
          -0.9180040351441507,
          0.587033645365291,
          0.3798610800599315,
          0.21441879761051574,
          1.1707497307467345,
          1.1275071326418369,
          -0.8479588333638166,
          -0.058157108364463896,
          -0.7560319712251692,
          1.8283683259669392,
          1.2952801263299962,
          2.46499250024484
         ],
         "yaxis": "y4"
        },
        {
         "line": {
          "color": "rgba(128, 128, 128, 1.0)",
          "dash": "solid",
          "shape": "linear",
          "width": 1.3
         },
         "marker": {
          "size": 2,
          "symbol": "circle"
         },
         "mode": "markers",
         "name": "A",
         "text": "",
         "type": "scatter",
         "x": [
          0.9772588645208288,
          0.031095691670485027,
          0.4517709119065063,
          0.11505177760843294,
          1.4013872068608693,
          0.12439243290780622,
          0.3143384594106518,
          0.5961004707616886,
          1.65968642352273,
          0.8433833213279801,
          0.8790929369988937,
          0.9097731167884134,
          0.25449939223936224,
          1.7474010052042062,
          0.03195149495193755,
          0.338535606682914,
          0.5861914699834533,
          0.7852693129036312,
          1.0256124153016837,
          0.4960274764979757,
          1.6404394193794958,
          0.5842610371983409,
          1.350264431529778,
          0.5408179423679065,
          0.9082479053654744,
          0.7069767492991279,
          0.13019795076909318,
          1.1282516887737086,
          1.747822457753705,
          1.1991010788063432,
          0.25207171650754456,
          0.18816983036314108,
          0.8539774592252419,
          0.00027423242096450177,
          2.3615316526291985,
          1.1081702271247518,
          0.1720795612082035,
          0.4685511660296994,
          0.14548278138294873,
          0.06695480734404455,
          0.04695989997971613,
          1.304340085601986,
          0.3004069831905211,
          0.3285035098188163,
          0.18408980579232542,
          0.575668330094647,
          0.06211278056024565,
          0.2980839207808471,
          0.6900263190687328,
          0.9466928356118943,
          0.4369369161764057,
          0.5739310383836496,
          1.6449112745434582,
          1.7630502680546434,
          0.42499331331685625,
          0.2682487501446132,
          0.6439931869255161,
          1.2890874571532962,
          0.3372180775483443,
          1.1368618824392678,
          0.09908569591730172,
          0.22941801268669706,
          2.274530159793604,
          2.084826865936759,
          0.02246326885110578,
          0.9976814010788779,
          1.203611465436587,
          1.4404546117895198,
          1.0945896626940594,
          0.12331873437293468,
          0.07486416417015195,
          0.7159735904353373,
          1.441541741269909,
          1.6511113002928979,
          0.20752755106164675,
          0.6866692431899022,
          0.5253434684781135,
          0.34121696680681823,
          0.7101377241544234,
          0.8673374851513335,
          0.6693814303903495,
          0.33747861279895386,
          0.43421948846386565,
          0.5896906486777742,
          0.8577732734671204,
          0.8822318167813604,
          0.8355998873733064,
          0.2671808432114606,
          0.38149373806550346,
          0.39710818594576847,
          0.0016939175901426367,
          0.27169299128835644,
          0.18503242288638252,
          0.2874110489074513,
          1.2917036599964835,
          0.012806392764316277,
          0.6013187829788086,
          0.2887690472805458,
          0.5294632809754649,
          0.4671865195622524
         ],
         "xaxis": "x5",
         "y": [
          -0.1486870569660644,
          0.39248607716009937,
          -0.7051592443933776,
          0.27576110754488387,
          -0.7802285366256736,
          -0.32929780839891537,
          -1.087810196165536,
          1.2605600894157034,
          -0.6162220153584765,
          -0.11030956050421618,
          1.642528183340233,
          -1.2471083408197337,
          -0.5030824358409205,
          0.44198222958182076,
          0.46872327753545967,
          0.7832720942473845,
          -1.816832134632092,
          -0.7734372708387459,
          -0.9663161807866139,
          -2.3035477810580884,
          -0.6424602387239299,
          -0.31914331999725876,
          -0.41844043091859484,
          0.1781758613682762,
          0.157684394184153,
          0.41595274357957573,
          0.5891850592042421,
          0.454834731394502,
          -0.14870591833136512,
          0.7917259872985981,
          -1.6466753374193293,
          -0.5984417164356648,
          0.3653669533476257,
          0.6013941003199482,
          1.0281964811508901,
          -0.29834588163580716,
          -1.5812091606674015,
          -0.4949013337856304,
          -1.0499374247496878,
          -0.25492516141576343,
          -1.347720027956506,
          1.1167699738973915,
          1.087498437295148,
          -0.3627318007990501,
          -0.9841088308619188,
          -0.24774969270479127,
          -0.10622973456180605,
          0.7743684307462901,
          -0.02005363965663801,
          -0.28863295343821105,
          -0.24808140074432009,
          0.6771989860434181,
          1.5103210368836282,
          -0.4484038407099252,
          -0.1027729276442637,
          0.4150356400669393,
          -0.8696069965432033,
          0.11551999215410763,
          1.0162559751767088,
          -0.1739788003636956,
          -0.2799898988878147,
          1.9689679185639573,
          -1.3712364456885864,
          -0.062367008698916995,
          0.1622031476510854,
          -0.0955223967895753,
          -1.5029096551345607,
          0.8754195676784564,
          -0.5524799575282217,
          -0.0980995694221568,
          0.7693585830793594,
          0.2854937541855559,
          -0.6581872556779551,
          2.114936095689492,
          0.059169867679413055,
          0.2932317898134375,
          0.3618512027631301,
          -0.1705460913024023,
          -0.029204570730282167,
          -0.7415372272530977,
          -0.7651224698222944,
          1.1547221513795514,
          -0.33103781811196065,
          -0.4952355302309878,
          0.7267534144738079,
          -0.7882902125536603,
          0.312778641188715,
          -0.11825028351583512,
          -0.9180040351441507,
          0.587033645365291,
          0.3798610800599315,
          0.21441879761051574,
          1.1707497307467345,
          1.1275071326418369,
          -0.8479588333638166,
          -0.058157108364463896,
          -0.7560319712251692,
          1.8283683259669392,
          1.2952801263299962,
          2.46499250024484
         ],
         "yaxis": "y5"
        },
        {
         "line": {
          "color": "rgba(128, 128, 128, 1.0)",
          "dash": "solid",
          "shape": "linear",
          "width": 1.3
         },
         "marker": {
          "size": 2,
          "symbol": "circle"
         },
         "mode": "markers",
         "name": "B",
         "text": "",
         "type": "scatter",
         "x": [
          -0.1486870569660644,
          0.39248607716009937,
          -0.7051592443933776,
          0.27576110754488387,
          -0.7802285366256736,
          -0.32929780839891537,
          -1.087810196165536,
          1.2605600894157034,
          -0.6162220153584765,
          -0.11030956050421618,
          1.642528183340233,
          -1.2471083408197337,
          -0.5030824358409205,
          0.44198222958182076,
          0.46872327753545967,
          0.7832720942473845,
          -1.816832134632092,
          -0.7734372708387459,
          -0.9663161807866139,
          -2.3035477810580884,
          -0.6424602387239299,
          -0.31914331999725876,
          -0.41844043091859484,
          0.1781758613682762,
          0.157684394184153,
          0.41595274357957573,
          0.5891850592042421,
          0.454834731394502,
          -0.14870591833136512,
          0.7917259872985981,
          -1.6466753374193293,
          -0.5984417164356648,
          0.3653669533476257,
          0.6013941003199482,
          1.0281964811508901,
          -0.29834588163580716,
          -1.5812091606674015,
          -0.4949013337856304,
          -1.0499374247496878,
          -0.25492516141576343,
          -1.347720027956506,
          1.1167699738973915,
          1.087498437295148,
          -0.3627318007990501,
          -0.9841088308619188,
          -0.24774969270479127,
          -0.10622973456180605,
          0.7743684307462901,
          -0.02005363965663801,
          -0.28863295343821105,
          -0.24808140074432009,
          0.6771989860434181,
          1.5103210368836282,
          -0.4484038407099252,
          -0.1027729276442637,
          0.4150356400669393,
          -0.8696069965432033,
          0.11551999215410763,
          1.0162559751767088,
          -0.1739788003636956,
          -0.2799898988878147,
          1.9689679185639573,
          -1.3712364456885864,
          -0.062367008698916995,
          0.1622031476510854,
          -0.0955223967895753,
          -1.5029096551345607,
          0.8754195676784564,
          -0.5524799575282217,
          -0.0980995694221568,
          0.7693585830793594,
          0.2854937541855559,
          -0.6581872556779551,
          2.114936095689492,
          0.059169867679413055,
          0.2932317898134375,
          0.3618512027631301,
          -0.1705460913024023,
          -0.029204570730282167,
          -0.7415372272530977,
          -0.7651224698222944,
          1.1547221513795514,
          -0.33103781811196065,
          -0.4952355302309878,
          0.7267534144738079,
          -0.7882902125536603,
          0.312778641188715,
          -0.11825028351583512,
          -0.9180040351441507,
          0.587033645365291,
          0.3798610800599315,
          0.21441879761051574,
          1.1707497307467345,
          1.1275071326418369,
          -0.8479588333638166,
          -0.058157108364463896,
          -0.7560319712251692,
          1.8283683259669392,
          1.2952801263299962,
          2.46499250024484
         ],
         "xaxis": "x6",
         "y": [
          -0.13720291276205954,
          0.7360290366001643,
          0.6182914547488014,
          -0.41717865842575486,
          0.7616049708336934,
          1.255700448517242,
          -0.7878477215044183,
          0.4094201423714498,
          -3.0777284071151,
          0.2962713084261198,
          -0.7566439163766893,
          0.6805595530508529,
          -0.8140383734076175,
          -0.3756519163109862,
          1.1209571938669993,
          0.7109715243740368,
          0.2706370322757297,
          0.5173522166570037,
          0.1412707917259537,
          1.7956131042028805,
          -0.37740080006068927,
          -0.0705594757231226,
          0.00017043336379697554,
          -1.0807897118199614,
          -0.8927637981588197,
          1.157805138567086,
          -0.3890743339711945,
          -0.2998728491363871,
          -0.7629484122608581,
          -1.5568150046882465,
          1.5926536293276692,
          1.065928900246484,
          1.3951763524319545,
          2.361874775141413,
          -0.6703775046596167,
          0.6874294250674926,
          -0.11962209780754239,
          -0.6757993702607386,
          0.10369601942428011,
          -1.3706785393771903,
          0.5150297006610829,
          -0.20348877806099472,
          1.278848828762823,
          -1.3672379451360985,
          0.5084740282707778,
          2.999494366246489,
          0.10681899651937042,
          0.9167978639920289,
          -0.9777499167088237,
          0.4298857429657398,
          -0.7956504240436582,
          -1.8406413912670503,
          -0.9271791648378976,
          -0.14817646279579028,
          -0.31747939699923206,
          -0.18223864047336216,
          0.3284940245408851,
          1.3411829957637205,
          -0.3643147505889812,
          0.17639462525327843,
          -1.2086092815298164,
          -1.0846769577310682,
          -1.605427128703998,
          0.24649724788045124,
          -0.11866380461086354,
          1.239307253391713,
          0.12871910997126498,
          -2.0949804045461393,
          0.2767507297426342,
          -0.752300159792606,
          0.004858035242644644,
          0.1906322672214624,
          0.3386326129851458,
          0.9664630145228903,
          -0.0014315777408607548,
          -0.9170153450824298,
          0.8204004032861612,
          0.9643199571799043,
          -0.777725262632196,
          0.7731495467328146,
          0.18062328973014358,
          0.9924833750682206,
          0.20767988730408643,
          -0.17496783608048996,
          0.0015769199486528167,
          -0.2760927778043612,
          -0.24972687617797515,
          -0.687187293033468,
          0.8739237743337697,
          -0.6687555318032616,
          -0.13323519699988973,
          1.142363840492469,
          -0.270683968952354,
          1.2213182143797743,
          -0.6530838403596835,
          -0.07887886921673892,
          -0.15949726608677098,
          -1.2083725357104302,
          0.005487941892006171,
          0.4713064898610162
         ],
         "yaxis": "y6"
        },
        {
         "histfunc": "count",
         "histnorm": "",
         "marker": {
          "color": "rgba(55, 128, 191, 1.0)",
          "line": {
           "color": "#4D5663",
           "width": 1.3
          }
         },
         "name": "B",
         "nbinsx": 10,
         "opacity": 0.8,
         "orientation": "v",
         "type": "histogram",
         "x": [
          -0.13720291276205954,
          0.7360290366001643,
          0.6182914547488014,
          -0.41717865842575486,
          0.7616049708336934,
          1.255700448517242,
          -0.7878477215044183,
          0.4094201423714498,
          -3.0777284071151,
          0.2962713084261198,
          -0.7566439163766893,
          0.6805595530508529,
          -0.8140383734076175,
          -0.3756519163109862,
          1.1209571938669993,
          0.7109715243740368,
          0.2706370322757297,
          0.5173522166570037,
          0.1412707917259537,
          1.7956131042028805,
          -0.37740080006068927,
          -0.0705594757231226,
          0.00017043336379697554,
          -1.0807897118199614,
          -0.8927637981588197,
          1.157805138567086,
          -0.3890743339711945,
          -0.2998728491363871,
          -0.7629484122608581,
          -1.5568150046882465,
          1.5926536293276692,
          1.065928900246484,
          1.3951763524319545,
          2.361874775141413,
          -0.6703775046596167,
          0.6874294250674926,
          -0.11962209780754239,
          -0.6757993702607386,
          0.10369601942428011,
          -1.3706785393771903,
          0.5150297006610829,
          -0.20348877806099472,
          1.278848828762823,
          -1.3672379451360985,
          0.5084740282707778,
          2.999494366246489,
          0.10681899651937042,
          0.9167978639920289,
          -0.9777499167088237,
          0.4298857429657398,
          -0.7956504240436582,
          -1.8406413912670503,
          -0.9271791648378976,
          -0.14817646279579028,
          -0.31747939699923206,
          -0.18223864047336216,
          0.3284940245408851,
          1.3411829957637205,
          -0.3643147505889812,
          0.17639462525327843,
          -1.2086092815298164,
          -1.0846769577310682,
          -1.605427128703998,
          0.24649724788045124,
          -0.11866380461086354,
          1.239307253391713,
          0.12871910997126498,
          -2.0949804045461393,
          0.2767507297426342,
          -0.752300159792606,
          0.004858035242644644,
          0.1906322672214624,
          0.3386326129851458,
          0.9664630145228903,
          -0.0014315777408607548,
          -0.9170153450824298,
          0.8204004032861612,
          0.9643199571799043,
          -0.777725262632196,
          0.7731495467328146,
          0.18062328973014358,
          0.9924833750682206,
          0.20767988730408643,
          -0.17496783608048996,
          0.0015769199486528167,
          -0.2760927778043612,
          -0.24972687617797515,
          -0.687187293033468,
          0.8739237743337697,
          -0.6687555318032616,
          -0.13323519699988973,
          1.142363840492469,
          -0.270683968952354,
          1.2213182143797743,
          -0.6530838403596835,
          -0.07887886921673892,
          -0.15949726608677098,
          -1.2083725357104302,
          0.005487941892006171,
          0.4713064898610162
         ],
         "xaxis": "x7",
         "yaxis": "y7"
        },
        {
         "line": {
          "color": "rgba(128, 128, 128, 1.0)",
          "dash": "solid",
          "shape": "linear",
          "width": 1.3
         },
         "marker": {
          "size": 2,
          "symbol": "circle"
         },
         "mode": "markers",
         "name": "B",
         "text": "",
         "type": "scatter",
         "x": [
          0.9772588645208288,
          0.031095691670485027,
          -0.4517709119065063,
          -0.11505177760843294,
          1.4013872068608693,
          0.12439243290780622,
          0.3143384594106518,
          -0.5961004707616886,
          -1.65968642352273,
          -0.8433833213279801,
          -0.8790929369988937,
          0.9097731167884134,
          -0.25449939223936224,
          -1.7474010052042062,
          -0.03195149495193755,
          0.338535606682914,
          0.5861914699834533,
          -0.7852693129036312,
          -1.0256124153016837,
          0.4960274764979757,
          1.6404394193794958,
          -0.5842610371983409,
          1.350264431529778,
          0.5408179423679065,
          -0.9082479053654744,
          -0.7069767492991279,
          0.13019795076909318,
          1.1282516887737086,
          1.747822457753705,
          1.1991010788063432,
          0.25207171650754456,
          -0.18816983036314108,
          -0.8539774592252419,
          0.00027423242096450177,
          -2.3615316526291985,
          1.1081702271247518,
          -0.1720795612082035,
          0.4685511660296994,
          -0.14548278138294873,
          0.06695480734404455,
          -0.04695989997971613,
          1.304340085601986,
          0.3004069831905211,
          -0.3285035098188163,
          -0.18408980579232542,
          -0.575668330094647,
          0.06211278056024565,
          -0.2980839207808471,
          -0.6900263190687328,
          0.9466928356118943,
          0.4369369161764057,
          0.5739310383836496,
          1.6449112745434582,
          -1.7630502680546434,
          0.42499331331685625,
          -0.2682487501446132,
          -0.6439931869255161,
          -1.2890874571532962,
          0.3372180775483443,
          1.1368618824392678,
          -0.09908569591730172,
          0.22941801268669706,
          2.274530159793604,
          -2.084826865936759,
          0.02246326885110578,
          -0.9976814010788779,
          -1.203611465436587,
          -1.4404546117895198,
          1.0945896626940594,
          -0.12331873437293468,
          -0.07486416417015195,
          -0.7159735904353373,
          -1.441541741269909,
          -1.6511113002928979,
          0.20752755106164675,
          0.6866692431899022,
          -0.5253434684781135,
          -0.34121696680681823,
          -0.7101377241544234,
          0.8673374851513335,
          0.6693814303903495,
          0.33747861279895386,
          0.43421948846386565,
          -0.5896906486777742,
          0.8577732734671204,
          0.8822318167813604,
          -0.8355998873733064,
          -0.2671808432114606,
          0.38149373806550346,
          0.39710818594576847,
          0.0016939175901426367,
          0.27169299128835644,
          -0.18503242288638252,
          0.2874110489074513,
          1.2917036599964835,
          0.012806392764316277,
          -0.6013187829788086,
          0.2887690472805458,
          0.5294632809754649,
          -0.4671865195622524
         ],
         "xaxis": "x8",
         "y": [
          -0.13720291276205954,
          0.7360290366001643,
          0.6182914547488014,
          -0.41717865842575486,
          0.7616049708336934,
          1.255700448517242,
          -0.7878477215044183,
          0.4094201423714498,
          -3.0777284071151,
          0.2962713084261198,
          -0.7566439163766893,
          0.6805595530508529,
          -0.8140383734076175,
          -0.3756519163109862,
          1.1209571938669993,
          0.7109715243740368,
          0.2706370322757297,
          0.5173522166570037,
          0.1412707917259537,
          1.7956131042028805,
          -0.37740080006068927,
          -0.0705594757231226,
          0.00017043336379697554,
          -1.0807897118199614,
          -0.8927637981588197,
          1.157805138567086,
          -0.3890743339711945,
          -0.2998728491363871,
          -0.7629484122608581,
          -1.5568150046882465,
          1.5926536293276692,
          1.065928900246484,
          1.3951763524319545,
          2.361874775141413,
          -0.6703775046596167,
          0.6874294250674926,
          -0.11962209780754239,
          -0.6757993702607386,
          0.10369601942428011,
          -1.3706785393771903,
          0.5150297006610829,
          -0.20348877806099472,
          1.278848828762823,
          -1.3672379451360985,
          0.5084740282707778,
          2.999494366246489,
          0.10681899651937042,
          0.9167978639920289,
          -0.9777499167088237,
          0.4298857429657398,
          -0.7956504240436582,
          -1.8406413912670503,
          -0.9271791648378976,
          -0.14817646279579028,
          -0.31747939699923206,
          -0.18223864047336216,
          0.3284940245408851,
          1.3411829957637205,
          -0.3643147505889812,
          0.17639462525327843,
          -1.2086092815298164,
          -1.0846769577310682,
          -1.605427128703998,
          0.24649724788045124,
          -0.11866380461086354,
          1.239307253391713,
          0.12871910997126498,
          -2.0949804045461393,
          0.2767507297426342,
          -0.752300159792606,
          0.004858035242644644,
          0.1906322672214624,
          0.3386326129851458,
          0.9664630145228903,
          -0.0014315777408607548,
          -0.9170153450824298,
          0.8204004032861612,
          0.9643199571799043,
          -0.777725262632196,
          0.7731495467328146,
          0.18062328973014358,
          0.9924833750682206,
          0.20767988730408643,
          -0.17496783608048996,
          0.0015769199486528167,
          -0.2760927778043612,
          -0.24972687617797515,
          -0.687187293033468,
          0.8739237743337697,
          -0.6687555318032616,
          -0.13323519699988973,
          1.142363840492469,
          -0.270683968952354,
          1.2213182143797743,
          -0.6530838403596835,
          -0.07887886921673892,
          -0.15949726608677098,
          -1.2083725357104302,
          0.005487941892006171,
          0.4713064898610162
         ],
         "yaxis": "y8"
        },
        {
         "line": {
          "color": "rgba(128, 128, 128, 1.0)",
          "dash": "solid",
          "shape": "linear",
          "width": 1.3
         },
         "marker": {
          "size": 2,
          "symbol": "circle"
         },
         "mode": "markers",
         "name": "B",
         "text": "",
         "type": "scatter",
         "x": [
          0.09124207426154374,
          0.23050372092668295,
          0.014859888913373658,
          0.6239763264699059,
          0.16235480114648318,
          1.4845492406294487,
          -0.24759749095892106,
          -0.4612202072965182,
          0.6683144012220376,
          -0.46535510850761114,
          -0.33395440282299166,
          0.3573635291563245,
          -1.1442608614644356,
          0.17296148121397323,
          0.9259288697005811,
          -1.1354172237080085,
          -0.9824537715249738,
          0.7620280141971381,
          -0.5478607089718354,
          -0.02271906163973041,
          0.9382739201658581,
          0.06040255294631438,
          1.5768722286871253,
          1.1789065779684256,
          0.5957667468533718,
          0.6928160880203745,
          0.07803318534448397,
          -0.7511507900485863,
          -2.017575266863575,
          -0.7542311486743793,
          0.9843274467312364,
          0.9223614498976392,
          -0.0693254979767664,
          -0.625152690130413,
          -0.6965352404178793,
          0.16506324429332273,
          -1.3565483683732344,
          0.6732798515567434,
          -0.36557683850328776,
          1.2172166050384277,
          0.019235232902732866,
          0.17912685594107225,
          1.7899803581562799,
          1.0009507152107793,
          0.2192444165275358,
          -0.5131790606950488,
          1.8891102583364106,
          0.5321953810646466,
          -0.6644872263417928,
          -0.12309162364411347,
          -0.31339044568114677,
          -0.25054260467209893,
          -0.27939346708240065,
          -1.2162483585682222,
          0.8697394362378188,
          -1.6708438737163958,
          -2.3312698618270753,
          0.644992665599839,
          0.6095144094932191,
          0.49378481933131374,
          0.9317908390993053,
          0.32139932260319765,
          1.0040081325122843,
          0.6759993179706805,
          -0.13810627740614917,
          0.8594883991882487,
          0.2555764941620284,
          0.9307411415069429,
          -1.4115427388612543,
          -0.08438065706766976,
          0.3677178589278481,
          1.0088429569294157,
          0.9926769433668462,
          0.7830876388691718,
          -0.650139602099969,
          0.03227373601388025,
          0.27477362140694533,
          1.3928724370929564,
          1.209919303897628,
          -0.3224507855553749,
          0.49539365772792204,
          -0.7065013288865348,
          0.7964809892009287,
          1.5097441064074213,
          1.4462034803456403,
          1.0269528923873075,
          0.4500910963989715,
          0.7349224726807688,
          1.227614343659497,
          0.738796879112678,
          0.776915386590465,
          -1.2574127005090718,
          -0.38990474087731036,
          0.04920506131048392,
          -0.17230849326652384,
          -0.33656939690551585,
          1.0046983868385404,
          -0.2261403969988013,
          1.3273304506972414,
          -0.6846365084550697
         ],
         "xaxis": "x9",
         "y": [
          -0.13720291276205954,
          0.7360290366001643,
          0.6182914547488014,
          -0.41717865842575486,
          0.7616049708336934,
          1.255700448517242,
          -0.7878477215044183,
          0.4094201423714498,
          -3.0777284071151,
          0.2962713084261198,
          -0.7566439163766893,
          0.6805595530508529,
          -0.8140383734076175,
          -0.3756519163109862,
          1.1209571938669993,
          0.7109715243740368,
          0.2706370322757297,
          0.5173522166570037,
          0.1412707917259537,
          1.7956131042028805,
          -0.37740080006068927,
          -0.0705594757231226,
          0.00017043336379697554,
          -1.0807897118199614,
          -0.8927637981588197,
          1.157805138567086,
          -0.3890743339711945,
          -0.2998728491363871,
          -0.7629484122608581,
          -1.5568150046882465,
          1.5926536293276692,
          1.065928900246484,
          1.3951763524319545,
          2.361874775141413,
          -0.6703775046596167,
          0.6874294250674926,
          -0.11962209780754239,
          -0.6757993702607386,
          0.10369601942428011,
          -1.3706785393771903,
          0.5150297006610829,
          -0.20348877806099472,
          1.278848828762823,
          -1.3672379451360985,
          0.5084740282707778,
          2.999494366246489,
          0.10681899651937042,
          0.9167978639920289,
          -0.9777499167088237,
          0.4298857429657398,
          -0.7956504240436582,
          -1.8406413912670503,
          -0.9271791648378976,
          -0.14817646279579028,
          -0.31747939699923206,
          -0.18223864047336216,
          0.3284940245408851,
          1.3411829957637205,
          -0.3643147505889812,
          0.17639462525327843,
          -1.2086092815298164,
          -1.0846769577310682,
          -1.605427128703998,
          0.24649724788045124,
          -0.11866380461086354,
          1.239307253391713,
          0.12871910997126498,
          -2.0949804045461393,
          0.2767507297426342,
          -0.752300159792606,
          0.004858035242644644,
          0.1906322672214624,
          0.3386326129851458,
          0.9664630145228903,
          -0.0014315777408607548,
          -0.9170153450824298,
          0.8204004032861612,
          0.9643199571799043,
          -0.777725262632196,
          0.7731495467328146,
          0.18062328973014358,
          0.9924833750682206,
          0.20767988730408643,
          -0.17496783608048996,
          0.0015769199486528167,
          -0.2760927778043612,
          -0.24972687617797515,
          -0.687187293033468,
          0.8739237743337697,
          -0.6687555318032616,
          -0.13323519699988973,
          1.142363840492469,
          -0.270683968952354,
          1.2213182143797743,
          -0.6530838403596835,
          -0.07887886921673892,
          -0.15949726608677098,
          -1.2083725357104302,
          0.005487941892006171,
          0.4713064898610162
         ],
         "yaxis": "y9"
        },
        {
         "line": {
          "color": "rgba(128, 128, 128, 1.0)",
          "dash": "solid",
          "shape": "linear",
          "width": 1.3
         },
         "marker": {
          "size": 2,
          "symbol": "circle"
         },
         "mode": "markers",
         "name": "B",
         "text": "",
         "type": "scatter",
         "x": [
          0.9772588645208288,
          0.031095691670485027,
          0.4517709119065063,
          0.11505177760843294,
          1.4013872068608693,
          0.12439243290780622,
          0.3143384594106518,
          0.5961004707616886,
          1.65968642352273,
          0.8433833213279801,
          0.8790929369988937,
          0.9097731167884134,
          0.25449939223936224,
          1.7474010052042062,
          0.03195149495193755,
          0.338535606682914,
          0.5861914699834533,
          0.7852693129036312,
          1.0256124153016837,
          0.4960274764979757,
          1.6404394193794958,
          0.5842610371983409,
          1.350264431529778,
          0.5408179423679065,
          0.9082479053654744,
          0.7069767492991279,
          0.13019795076909318,
          1.1282516887737086,
          1.747822457753705,
          1.1991010788063432,
          0.25207171650754456,
          0.18816983036314108,
          0.8539774592252419,
          0.00027423242096450177,
          2.3615316526291985,
          1.1081702271247518,
          0.1720795612082035,
          0.4685511660296994,
          0.14548278138294873,
          0.06695480734404455,
          0.04695989997971613,
          1.304340085601986,
          0.3004069831905211,
          0.3285035098188163,
          0.18408980579232542,
          0.575668330094647,
          0.06211278056024565,
          0.2980839207808471,
          0.6900263190687328,
          0.9466928356118943,
          0.4369369161764057,
          0.5739310383836496,
          1.6449112745434582,
          1.7630502680546434,
          0.42499331331685625,
          0.2682487501446132,
          0.6439931869255161,
          1.2890874571532962,
          0.3372180775483443,
          1.1368618824392678,
          0.09908569591730172,
          0.22941801268669706,
          2.274530159793604,
          2.084826865936759,
          0.02246326885110578,
          0.9976814010788779,
          1.203611465436587,
          1.4404546117895198,
          1.0945896626940594,
          0.12331873437293468,
          0.07486416417015195,
          0.7159735904353373,
          1.441541741269909,
          1.6511113002928979,
          0.20752755106164675,
          0.6866692431899022,
          0.5253434684781135,
          0.34121696680681823,
          0.7101377241544234,
          0.8673374851513335,
          0.6693814303903495,
          0.33747861279895386,
          0.43421948846386565,
          0.5896906486777742,
          0.8577732734671204,
          0.8822318167813604,
          0.8355998873733064,
          0.2671808432114606,
          0.38149373806550346,
          0.39710818594576847,
          0.0016939175901426367,
          0.27169299128835644,
          0.18503242288638252,
          0.2874110489074513,
          1.2917036599964835,
          0.012806392764316277,
          0.6013187829788086,
          0.2887690472805458,
          0.5294632809754649,
          0.4671865195622524
         ],
         "xaxis": "x10",
         "y": [
          -0.13720291276205954,
          0.7360290366001643,
          0.6182914547488014,
          -0.41717865842575486,
          0.7616049708336934,
          1.255700448517242,
          -0.7878477215044183,
          0.4094201423714498,
          -3.0777284071151,
          0.2962713084261198,
          -0.7566439163766893,
          0.6805595530508529,
          -0.8140383734076175,
          -0.3756519163109862,
          1.1209571938669993,
          0.7109715243740368,
          0.2706370322757297,
          0.5173522166570037,
          0.1412707917259537,
          1.7956131042028805,
          -0.37740080006068927,
          -0.0705594757231226,
          0.00017043336379697554,
          -1.0807897118199614,
          -0.8927637981588197,
          1.157805138567086,
          -0.3890743339711945,
          -0.2998728491363871,
          -0.7629484122608581,
          -1.5568150046882465,
          1.5926536293276692,
          1.065928900246484,
          1.3951763524319545,
          2.361874775141413,
          -0.6703775046596167,
          0.6874294250674926,
          -0.11962209780754239,
          -0.6757993702607386,
          0.10369601942428011,
          -1.3706785393771903,
          0.5150297006610829,
          -0.20348877806099472,
          1.278848828762823,
          -1.3672379451360985,
          0.5084740282707778,
          2.999494366246489,
          0.10681899651937042,
          0.9167978639920289,
          -0.9777499167088237,
          0.4298857429657398,
          -0.7956504240436582,
          -1.8406413912670503,
          -0.9271791648378976,
          -0.14817646279579028,
          -0.31747939699923206,
          -0.18223864047336216,
          0.3284940245408851,
          1.3411829957637205,
          -0.3643147505889812,
          0.17639462525327843,
          -1.2086092815298164,
          -1.0846769577310682,
          -1.605427128703998,
          0.24649724788045124,
          -0.11866380461086354,
          1.239307253391713,
          0.12871910997126498,
          -2.0949804045461393,
          0.2767507297426342,
          -0.752300159792606,
          0.004858035242644644,
          0.1906322672214624,
          0.3386326129851458,
          0.9664630145228903,
          -0.0014315777408607548,
          -0.9170153450824298,
          0.8204004032861612,
          0.9643199571799043,
          -0.777725262632196,
          0.7731495467328146,
          0.18062328973014358,
          0.9924833750682206,
          0.20767988730408643,
          -0.17496783608048996,
          0.0015769199486528167,
          -0.2760927778043612,
          -0.24972687617797515,
          -0.687187293033468,
          0.8739237743337697,
          -0.6687555318032616,
          -0.13323519699988973,
          1.142363840492469,
          -0.270683968952354,
          1.2213182143797743,
          -0.6530838403596835,
          -0.07887886921673892,
          -0.15949726608677098,
          -1.2083725357104302,
          0.005487941892006171,
          0.4713064898610162
         ],
         "yaxis": "y10"
        },
        {
         "line": {
          "color": "rgba(128, 128, 128, 1.0)",
          "dash": "solid",
          "shape": "linear",
          "width": 1.3
         },
         "marker": {
          "size": 2,
          "symbol": "circle"
         },
         "mode": "markers",
         "name": "C",
         "text": "",
         "type": "scatter",
         "x": [
          -0.1486870569660644,
          0.39248607716009937,
          -0.7051592443933776,
          0.27576110754488387,
          -0.7802285366256736,
          -0.32929780839891537,
          -1.087810196165536,
          1.2605600894157034,
          -0.6162220153584765,
          -0.11030956050421618,
          1.642528183340233,
          -1.2471083408197337,
          -0.5030824358409205,
          0.44198222958182076,
          0.46872327753545967,
          0.7832720942473845,
          -1.816832134632092,
          -0.7734372708387459,
          -0.9663161807866139,
          -2.3035477810580884,
          -0.6424602387239299,
          -0.31914331999725876,
          -0.41844043091859484,
          0.1781758613682762,
          0.157684394184153,
          0.41595274357957573,
          0.5891850592042421,
          0.454834731394502,
          -0.14870591833136512,
          0.7917259872985981,
          -1.6466753374193293,
          -0.5984417164356648,
          0.3653669533476257,
          0.6013941003199482,
          1.0281964811508901,
          -0.29834588163580716,
          -1.5812091606674015,
          -0.4949013337856304,
          -1.0499374247496878,
          -0.25492516141576343,
          -1.347720027956506,
          1.1167699738973915,
          1.087498437295148,
          -0.3627318007990501,
          -0.9841088308619188,
          -0.24774969270479127,
          -0.10622973456180605,
          0.7743684307462901,
          -0.02005363965663801,
          -0.28863295343821105,
          -0.24808140074432009,
          0.6771989860434181,
          1.5103210368836282,
          -0.4484038407099252,
          -0.1027729276442637,
          0.4150356400669393,
          -0.8696069965432033,
          0.11551999215410763,
          1.0162559751767088,
          -0.1739788003636956,
          -0.2799898988878147,
          1.9689679185639573,
          -1.3712364456885864,
          -0.062367008698916995,
          0.1622031476510854,
          -0.0955223967895753,
          -1.5029096551345607,
          0.8754195676784564,
          -0.5524799575282217,
          -0.0980995694221568,
          0.7693585830793594,
          0.2854937541855559,
          -0.6581872556779551,
          2.114936095689492,
          0.059169867679413055,
          0.2932317898134375,
          0.3618512027631301,
          -0.1705460913024023,
          -0.029204570730282167,
          -0.7415372272530977,
          -0.7651224698222944,
          1.1547221513795514,
          -0.33103781811196065,
          -0.4952355302309878,
          0.7267534144738079,
          -0.7882902125536603,
          0.312778641188715,
          -0.11825028351583512,
          -0.9180040351441507,
          0.587033645365291,
          0.3798610800599315,
          0.21441879761051574,
          1.1707497307467345,
          1.1275071326418369,
          -0.8479588333638166,
          -0.058157108364463896,
          -0.7560319712251692,
          1.8283683259669392,
          1.2952801263299962,
          2.46499250024484
         ],
         "xaxis": "x11",
         "y": [
          0.9772588645208288,
          0.031095691670485027,
          -0.4517709119065063,
          -0.11505177760843294,
          1.4013872068608693,
          0.12439243290780622,
          0.3143384594106518,
          -0.5961004707616886,
          -1.65968642352273,
          -0.8433833213279801,
          -0.8790929369988937,
          0.9097731167884134,
          -0.25449939223936224,
          -1.7474010052042062,
          -0.03195149495193755,
          0.338535606682914,
          0.5861914699834533,
          -0.7852693129036312,
          -1.0256124153016837,
          0.4960274764979757,
          1.6404394193794958,
          -0.5842610371983409,
          1.350264431529778,
          0.5408179423679065,
          -0.9082479053654744,
          -0.7069767492991279,
          0.13019795076909318,
          1.1282516887737086,
          1.747822457753705,
          1.1991010788063432,
          0.25207171650754456,
          -0.18816983036314108,
          -0.8539774592252419,
          0.00027423242096450177,
          -2.3615316526291985,
          1.1081702271247518,
          -0.1720795612082035,
          0.4685511660296994,
          -0.14548278138294873,
          0.06695480734404455,
          -0.04695989997971613,
          1.304340085601986,
          0.3004069831905211,
          -0.3285035098188163,
          -0.18408980579232542,
          -0.575668330094647,
          0.06211278056024565,
          -0.2980839207808471,
          -0.6900263190687328,
          0.9466928356118943,
          0.4369369161764057,
          0.5739310383836496,
          1.6449112745434582,
          -1.7630502680546434,
          0.42499331331685625,
          -0.2682487501446132,
          -0.6439931869255161,
          -1.2890874571532962,
          0.3372180775483443,
          1.1368618824392678,
          -0.09908569591730172,
          0.22941801268669706,
          2.274530159793604,
          -2.084826865936759,
          0.02246326885110578,
          -0.9976814010788779,
          -1.203611465436587,
          -1.4404546117895198,
          1.0945896626940594,
          -0.12331873437293468,
          -0.07486416417015195,
          -0.7159735904353373,
          -1.441541741269909,
          -1.6511113002928979,
          0.20752755106164675,
          0.6866692431899022,
          -0.5253434684781135,
          -0.34121696680681823,
          -0.7101377241544234,
          0.8673374851513335,
          0.6693814303903495,
          0.33747861279895386,
          0.43421948846386565,
          -0.5896906486777742,
          0.8577732734671204,
          0.8822318167813604,
          -0.8355998873733064,
          -0.2671808432114606,
          0.38149373806550346,
          0.39710818594576847,
          0.0016939175901426367,
          0.27169299128835644,
          -0.18503242288638252,
          0.2874110489074513,
          1.2917036599964835,
          0.012806392764316277,
          -0.6013187829788086,
          0.2887690472805458,
          0.5294632809754649,
          -0.4671865195622524
         ],
         "yaxis": "y11"
        },
        {
         "line": {
          "color": "rgba(128, 128, 128, 1.0)",
          "dash": "solid",
          "shape": "linear",
          "width": 1.3
         },
         "marker": {
          "size": 2,
          "symbol": "circle"
         },
         "mode": "markers",
         "name": "C",
         "text": "",
         "type": "scatter",
         "x": [
          -0.13720291276205954,
          0.7360290366001643,
          0.6182914547488014,
          -0.41717865842575486,
          0.7616049708336934,
          1.255700448517242,
          -0.7878477215044183,
          0.4094201423714498,
          -3.0777284071151,
          0.2962713084261198,
          -0.7566439163766893,
          0.6805595530508529,
          -0.8140383734076175,
          -0.3756519163109862,
          1.1209571938669993,
          0.7109715243740368,
          0.2706370322757297,
          0.5173522166570037,
          0.1412707917259537,
          1.7956131042028805,
          -0.37740080006068927,
          -0.0705594757231226,
          0.00017043336379697554,
          -1.0807897118199614,
          -0.8927637981588197,
          1.157805138567086,
          -0.3890743339711945,
          -0.2998728491363871,
          -0.7629484122608581,
          -1.5568150046882465,
          1.5926536293276692,
          1.065928900246484,
          1.3951763524319545,
          2.361874775141413,
          -0.6703775046596167,
          0.6874294250674926,
          -0.11962209780754239,
          -0.6757993702607386,
          0.10369601942428011,
          -1.3706785393771903,
          0.5150297006610829,
          -0.20348877806099472,
          1.278848828762823,
          -1.3672379451360985,
          0.5084740282707778,
          2.999494366246489,
          0.10681899651937042,
          0.9167978639920289,
          -0.9777499167088237,
          0.4298857429657398,
          -0.7956504240436582,
          -1.8406413912670503,
          -0.9271791648378976,
          -0.14817646279579028,
          -0.31747939699923206,
          -0.18223864047336216,
          0.3284940245408851,
          1.3411829957637205,
          -0.3643147505889812,
          0.17639462525327843,
          -1.2086092815298164,
          -1.0846769577310682,
          -1.605427128703998,
          0.24649724788045124,
          -0.11866380461086354,
          1.239307253391713,
          0.12871910997126498,
          -2.0949804045461393,
          0.2767507297426342,
          -0.752300159792606,
          0.004858035242644644,
          0.1906322672214624,
          0.3386326129851458,
          0.9664630145228903,
          -0.0014315777408607548,
          -0.9170153450824298,
          0.8204004032861612,
          0.9643199571799043,
          -0.777725262632196,
          0.7731495467328146,
          0.18062328973014358,
          0.9924833750682206,
          0.20767988730408643,
          -0.17496783608048996,
          0.0015769199486528167,
          -0.2760927778043612,
          -0.24972687617797515,
          -0.687187293033468,
          0.8739237743337697,
          -0.6687555318032616,
          -0.13323519699988973,
          1.142363840492469,
          -0.270683968952354,
          1.2213182143797743,
          -0.6530838403596835,
          -0.07887886921673892,
          -0.15949726608677098,
          -1.2083725357104302,
          0.005487941892006171,
          0.4713064898610162
         ],
         "xaxis": "x12",
         "y": [
          0.9772588645208288,
          0.031095691670485027,
          -0.4517709119065063,
          -0.11505177760843294,
          1.4013872068608693,
          0.12439243290780622,
          0.3143384594106518,
          -0.5961004707616886,
          -1.65968642352273,
          -0.8433833213279801,
          -0.8790929369988937,
          0.9097731167884134,
          -0.25449939223936224,
          -1.7474010052042062,
          -0.03195149495193755,
          0.338535606682914,
          0.5861914699834533,
          -0.7852693129036312,
          -1.0256124153016837,
          0.4960274764979757,
          1.6404394193794958,
          -0.5842610371983409,
          1.350264431529778,
          0.5408179423679065,
          -0.9082479053654744,
          -0.7069767492991279,
          0.13019795076909318,
          1.1282516887737086,
          1.747822457753705,
          1.1991010788063432,
          0.25207171650754456,
          -0.18816983036314108,
          -0.8539774592252419,
          0.00027423242096450177,
          -2.3615316526291985,
          1.1081702271247518,
          -0.1720795612082035,
          0.4685511660296994,
          -0.14548278138294873,
          0.06695480734404455,
          -0.04695989997971613,
          1.304340085601986,
          0.3004069831905211,
          -0.3285035098188163,
          -0.18408980579232542,
          -0.575668330094647,
          0.06211278056024565,
          -0.2980839207808471,
          -0.6900263190687328,
          0.9466928356118943,
          0.4369369161764057,
          0.5739310383836496,
          1.6449112745434582,
          -1.7630502680546434,
          0.42499331331685625,
          -0.2682487501446132,
          -0.6439931869255161,
          -1.2890874571532962,
          0.3372180775483443,
          1.1368618824392678,
          -0.09908569591730172,
          0.22941801268669706,
          2.274530159793604,
          -2.084826865936759,
          0.02246326885110578,
          -0.9976814010788779,
          -1.203611465436587,
          -1.4404546117895198,
          1.0945896626940594,
          -0.12331873437293468,
          -0.07486416417015195,
          -0.7159735904353373,
          -1.441541741269909,
          -1.6511113002928979,
          0.20752755106164675,
          0.6866692431899022,
          -0.5253434684781135,
          -0.34121696680681823,
          -0.7101377241544234,
          0.8673374851513335,
          0.6693814303903495,
          0.33747861279895386,
          0.43421948846386565,
          -0.5896906486777742,
          0.8577732734671204,
          0.8822318167813604,
          -0.8355998873733064,
          -0.2671808432114606,
          0.38149373806550346,
          0.39710818594576847,
          0.0016939175901426367,
          0.27169299128835644,
          -0.18503242288638252,
          0.2874110489074513,
          1.2917036599964835,
          0.012806392764316277,
          -0.6013187829788086,
          0.2887690472805458,
          0.5294632809754649,
          -0.4671865195622524
         ],
         "yaxis": "y12"
        },
        {
         "histfunc": "count",
         "histnorm": "",
         "marker": {
          "color": "rgba(50, 171, 96, 1.0)",
          "line": {
           "color": "#4D5663",
           "width": 1.3
          }
         },
         "name": "C",
         "nbinsx": 10,
         "opacity": 0.8,
         "orientation": "v",
         "type": "histogram",
         "x": [
          0.9772588645208288,
          0.031095691670485027,
          -0.4517709119065063,
          -0.11505177760843294,
          1.4013872068608693,
          0.12439243290780622,
          0.3143384594106518,
          -0.5961004707616886,
          -1.65968642352273,
          -0.8433833213279801,
          -0.8790929369988937,
          0.9097731167884134,
          -0.25449939223936224,
          -1.7474010052042062,
          -0.03195149495193755,
          0.338535606682914,
          0.5861914699834533,
          -0.7852693129036312,
          -1.0256124153016837,
          0.4960274764979757,
          1.6404394193794958,
          -0.5842610371983409,
          1.350264431529778,
          0.5408179423679065,
          -0.9082479053654744,
          -0.7069767492991279,
          0.13019795076909318,
          1.1282516887737086,
          1.747822457753705,
          1.1991010788063432,
          0.25207171650754456,
          -0.18816983036314108,
          -0.8539774592252419,
          0.00027423242096450177,
          -2.3615316526291985,
          1.1081702271247518,
          -0.1720795612082035,
          0.4685511660296994,
          -0.14548278138294873,
          0.06695480734404455,
          -0.04695989997971613,
          1.304340085601986,
          0.3004069831905211,
          -0.3285035098188163,
          -0.18408980579232542,
          -0.575668330094647,
          0.06211278056024565,
          -0.2980839207808471,
          -0.6900263190687328,
          0.9466928356118943,
          0.4369369161764057,
          0.5739310383836496,
          1.6449112745434582,
          -1.7630502680546434,
          0.42499331331685625,
          -0.2682487501446132,
          -0.6439931869255161,
          -1.2890874571532962,
          0.3372180775483443,
          1.1368618824392678,
          -0.09908569591730172,
          0.22941801268669706,
          2.274530159793604,
          -2.084826865936759,
          0.02246326885110578,
          -0.9976814010788779,
          -1.203611465436587,
          -1.4404546117895198,
          1.0945896626940594,
          -0.12331873437293468,
          -0.07486416417015195,
          -0.7159735904353373,
          -1.441541741269909,
          -1.6511113002928979,
          0.20752755106164675,
          0.6866692431899022,
          -0.5253434684781135,
          -0.34121696680681823,
          -0.7101377241544234,
          0.8673374851513335,
          0.6693814303903495,
          0.33747861279895386,
          0.43421948846386565,
          -0.5896906486777742,
          0.8577732734671204,
          0.8822318167813604,
          -0.8355998873733064,
          -0.2671808432114606,
          0.38149373806550346,
          0.39710818594576847,
          0.0016939175901426367,
          0.27169299128835644,
          -0.18503242288638252,
          0.2874110489074513,
          1.2917036599964835,
          0.012806392764316277,
          -0.6013187829788086,
          0.2887690472805458,
          0.5294632809754649,
          -0.4671865195622524
         ],
         "xaxis": "x13",
         "yaxis": "y13"
        },
        {
         "line": {
          "color": "rgba(128, 128, 128, 1.0)",
          "dash": "solid",
          "shape": "linear",
          "width": 1.3
         },
         "marker": {
          "size": 2,
          "symbol": "circle"
         },
         "mode": "markers",
         "name": "C",
         "text": "",
         "type": "scatter",
         "x": [
          0.09124207426154374,
          0.23050372092668295,
          0.014859888913373658,
          0.6239763264699059,
          0.16235480114648318,
          1.4845492406294487,
          -0.24759749095892106,
          -0.4612202072965182,
          0.6683144012220376,
          -0.46535510850761114,
          -0.33395440282299166,
          0.3573635291563245,
          -1.1442608614644356,
          0.17296148121397323,
          0.9259288697005811,
          -1.1354172237080085,
          -0.9824537715249738,
          0.7620280141971381,
          -0.5478607089718354,
          -0.02271906163973041,
          0.9382739201658581,
          0.06040255294631438,
          1.5768722286871253,
          1.1789065779684256,
          0.5957667468533718,
          0.6928160880203745,
          0.07803318534448397,
          -0.7511507900485863,
          -2.017575266863575,
          -0.7542311486743793,
          0.9843274467312364,
          0.9223614498976392,
          -0.0693254979767664,
          -0.625152690130413,
          -0.6965352404178793,
          0.16506324429332273,
          -1.3565483683732344,
          0.6732798515567434,
          -0.36557683850328776,
          1.2172166050384277,
          0.019235232902732866,
          0.17912685594107225,
          1.7899803581562799,
          1.0009507152107793,
          0.2192444165275358,
          -0.5131790606950488,
          1.8891102583364106,
          0.5321953810646466,
          -0.6644872263417928,
          -0.12309162364411347,
          -0.31339044568114677,
          -0.25054260467209893,
          -0.27939346708240065,
          -1.2162483585682222,
          0.8697394362378188,
          -1.6708438737163958,
          -2.3312698618270753,
          0.644992665599839,
          0.6095144094932191,
          0.49378481933131374,
          0.9317908390993053,
          0.32139932260319765,
          1.0040081325122843,
          0.6759993179706805,
          -0.13810627740614917,
          0.8594883991882487,
          0.2555764941620284,
          0.9307411415069429,
          -1.4115427388612543,
          -0.08438065706766976,
          0.3677178589278481,
          1.0088429569294157,
          0.9926769433668462,
          0.7830876388691718,
          -0.650139602099969,
          0.03227373601388025,
          0.27477362140694533,
          1.3928724370929564,
          1.209919303897628,
          -0.3224507855553749,
          0.49539365772792204,
          -0.7065013288865348,
          0.7964809892009287,
          1.5097441064074213,
          1.4462034803456403,
          1.0269528923873075,
          0.4500910963989715,
          0.7349224726807688,
          1.227614343659497,
          0.738796879112678,
          0.776915386590465,
          -1.2574127005090718,
          -0.38990474087731036,
          0.04920506131048392,
          -0.17230849326652384,
          -0.33656939690551585,
          1.0046983868385404,
          -0.2261403969988013,
          1.3273304506972414,
          -0.6846365084550697
         ],
         "xaxis": "x14",
         "y": [
          0.9772588645208288,
          0.031095691670485027,
          -0.4517709119065063,
          -0.11505177760843294,
          1.4013872068608693,
          0.12439243290780622,
          0.3143384594106518,
          -0.5961004707616886,
          -1.65968642352273,
          -0.8433833213279801,
          -0.8790929369988937,
          0.9097731167884134,
          -0.25449939223936224,
          -1.7474010052042062,
          -0.03195149495193755,
          0.338535606682914,
          0.5861914699834533,
          -0.7852693129036312,
          -1.0256124153016837,
          0.4960274764979757,
          1.6404394193794958,
          -0.5842610371983409,
          1.350264431529778,
          0.5408179423679065,
          -0.9082479053654744,
          -0.7069767492991279,
          0.13019795076909318,
          1.1282516887737086,
          1.747822457753705,
          1.1991010788063432,
          0.25207171650754456,
          -0.18816983036314108,
          -0.8539774592252419,
          0.00027423242096450177,
          -2.3615316526291985,
          1.1081702271247518,
          -0.1720795612082035,
          0.4685511660296994,
          -0.14548278138294873,
          0.06695480734404455,
          -0.04695989997971613,
          1.304340085601986,
          0.3004069831905211,
          -0.3285035098188163,
          -0.18408980579232542,
          -0.575668330094647,
          0.06211278056024565,
          -0.2980839207808471,
          -0.6900263190687328,
          0.9466928356118943,
          0.4369369161764057,
          0.5739310383836496,
          1.6449112745434582,
          -1.7630502680546434,
          0.42499331331685625,
          -0.2682487501446132,
          -0.6439931869255161,
          -1.2890874571532962,
          0.3372180775483443,
          1.1368618824392678,
          -0.09908569591730172,
          0.22941801268669706,
          2.274530159793604,
          -2.084826865936759,
          0.02246326885110578,
          -0.9976814010788779,
          -1.203611465436587,
          -1.4404546117895198,
          1.0945896626940594,
          -0.12331873437293468,
          -0.07486416417015195,
          -0.7159735904353373,
          -1.441541741269909,
          -1.6511113002928979,
          0.20752755106164675,
          0.6866692431899022,
          -0.5253434684781135,
          -0.34121696680681823,
          -0.7101377241544234,
          0.8673374851513335,
          0.6693814303903495,
          0.33747861279895386,
          0.43421948846386565,
          -0.5896906486777742,
          0.8577732734671204,
          0.8822318167813604,
          -0.8355998873733064,
          -0.2671808432114606,
          0.38149373806550346,
          0.39710818594576847,
          0.0016939175901426367,
          0.27169299128835644,
          -0.18503242288638252,
          0.2874110489074513,
          1.2917036599964835,
          0.012806392764316277,
          -0.6013187829788086,
          0.2887690472805458,
          0.5294632809754649,
          -0.4671865195622524
         ],
         "yaxis": "y14"
        },
        {
         "line": {
          "color": "rgba(128, 128, 128, 1.0)",
          "dash": "solid",
          "shape": "linear",
          "width": 1.3
         },
         "marker": {
          "size": 2,
          "symbol": "circle"
         },
         "mode": "markers",
         "name": "C",
         "text": "",
         "type": "scatter",
         "x": [
          0.9772588645208288,
          0.031095691670485027,
          0.4517709119065063,
          0.11505177760843294,
          1.4013872068608693,
          0.12439243290780622,
          0.3143384594106518,
          0.5961004707616886,
          1.65968642352273,
          0.8433833213279801,
          0.8790929369988937,
          0.9097731167884134,
          0.25449939223936224,
          1.7474010052042062,
          0.03195149495193755,
          0.338535606682914,
          0.5861914699834533,
          0.7852693129036312,
          1.0256124153016837,
          0.4960274764979757,
          1.6404394193794958,
          0.5842610371983409,
          1.350264431529778,
          0.5408179423679065,
          0.9082479053654744,
          0.7069767492991279,
          0.13019795076909318,
          1.1282516887737086,
          1.747822457753705,
          1.1991010788063432,
          0.25207171650754456,
          0.18816983036314108,
          0.8539774592252419,
          0.00027423242096450177,
          2.3615316526291985,
          1.1081702271247518,
          0.1720795612082035,
          0.4685511660296994,
          0.14548278138294873,
          0.06695480734404455,
          0.04695989997971613,
          1.304340085601986,
          0.3004069831905211,
          0.3285035098188163,
          0.18408980579232542,
          0.575668330094647,
          0.06211278056024565,
          0.2980839207808471,
          0.6900263190687328,
          0.9466928356118943,
          0.4369369161764057,
          0.5739310383836496,
          1.6449112745434582,
          1.7630502680546434,
          0.42499331331685625,
          0.2682487501446132,
          0.6439931869255161,
          1.2890874571532962,
          0.3372180775483443,
          1.1368618824392678,
          0.09908569591730172,
          0.22941801268669706,
          2.274530159793604,
          2.084826865936759,
          0.02246326885110578,
          0.9976814010788779,
          1.203611465436587,
          1.4404546117895198,
          1.0945896626940594,
          0.12331873437293468,
          0.07486416417015195,
          0.7159735904353373,
          1.441541741269909,
          1.6511113002928979,
          0.20752755106164675,
          0.6866692431899022,
          0.5253434684781135,
          0.34121696680681823,
          0.7101377241544234,
          0.8673374851513335,
          0.6693814303903495,
          0.33747861279895386,
          0.43421948846386565,
          0.5896906486777742,
          0.8577732734671204,
          0.8822318167813604,
          0.8355998873733064,
          0.2671808432114606,
          0.38149373806550346,
          0.39710818594576847,
          0.0016939175901426367,
          0.27169299128835644,
          0.18503242288638252,
          0.2874110489074513,
          1.2917036599964835,
          0.012806392764316277,
          0.6013187829788086,
          0.2887690472805458,
          0.5294632809754649,
          0.4671865195622524
         ],
         "xaxis": "x15",
         "y": [
          0.9772588645208288,
          0.031095691670485027,
          -0.4517709119065063,
          -0.11505177760843294,
          1.4013872068608693,
          0.12439243290780622,
          0.3143384594106518,
          -0.5961004707616886,
          -1.65968642352273,
          -0.8433833213279801,
          -0.8790929369988937,
          0.9097731167884134,
          -0.25449939223936224,
          -1.7474010052042062,
          -0.03195149495193755,
          0.338535606682914,
          0.5861914699834533,
          -0.7852693129036312,
          -1.0256124153016837,
          0.4960274764979757,
          1.6404394193794958,
          -0.5842610371983409,
          1.350264431529778,
          0.5408179423679065,
          -0.9082479053654744,
          -0.7069767492991279,
          0.13019795076909318,
          1.1282516887737086,
          1.747822457753705,
          1.1991010788063432,
          0.25207171650754456,
          -0.18816983036314108,
          -0.8539774592252419,
          0.00027423242096450177,
          -2.3615316526291985,
          1.1081702271247518,
          -0.1720795612082035,
          0.4685511660296994,
          -0.14548278138294873,
          0.06695480734404455,
          -0.04695989997971613,
          1.304340085601986,
          0.3004069831905211,
          -0.3285035098188163,
          -0.18408980579232542,
          -0.575668330094647,
          0.06211278056024565,
          -0.2980839207808471,
          -0.6900263190687328,
          0.9466928356118943,
          0.4369369161764057,
          0.5739310383836496,
          1.6449112745434582,
          -1.7630502680546434,
          0.42499331331685625,
          -0.2682487501446132,
          -0.6439931869255161,
          -1.2890874571532962,
          0.3372180775483443,
          1.1368618824392678,
          -0.09908569591730172,
          0.22941801268669706,
          2.274530159793604,
          -2.084826865936759,
          0.02246326885110578,
          -0.9976814010788779,
          -1.203611465436587,
          -1.4404546117895198,
          1.0945896626940594,
          -0.12331873437293468,
          -0.07486416417015195,
          -0.7159735904353373,
          -1.441541741269909,
          -1.6511113002928979,
          0.20752755106164675,
          0.6866692431899022,
          -0.5253434684781135,
          -0.34121696680681823,
          -0.7101377241544234,
          0.8673374851513335,
          0.6693814303903495,
          0.33747861279895386,
          0.43421948846386565,
          -0.5896906486777742,
          0.8577732734671204,
          0.8822318167813604,
          -0.8355998873733064,
          -0.2671808432114606,
          0.38149373806550346,
          0.39710818594576847,
          0.0016939175901426367,
          0.27169299128835644,
          -0.18503242288638252,
          0.2874110489074513,
          1.2917036599964835,
          0.012806392764316277,
          -0.6013187829788086,
          0.2887690472805458,
          0.5294632809754649,
          -0.4671865195622524
         ],
         "yaxis": "y15"
        },
        {
         "line": {
          "color": "rgba(128, 128, 128, 1.0)",
          "dash": "solid",
          "shape": "linear",
          "width": 1.3
         },
         "marker": {
          "size": 2,
          "symbol": "circle"
         },
         "mode": "markers",
         "name": "D",
         "text": "",
         "type": "scatter",
         "x": [
          -0.1486870569660644,
          0.39248607716009937,
          -0.7051592443933776,
          0.27576110754488387,
          -0.7802285366256736,
          -0.32929780839891537,
          -1.087810196165536,
          1.2605600894157034,
          -0.6162220153584765,
          -0.11030956050421618,
          1.642528183340233,
          -1.2471083408197337,
          -0.5030824358409205,
          0.44198222958182076,
          0.46872327753545967,
          0.7832720942473845,
          -1.816832134632092,
          -0.7734372708387459,
          -0.9663161807866139,
          -2.3035477810580884,
          -0.6424602387239299,
          -0.31914331999725876,
          -0.41844043091859484,
          0.1781758613682762,
          0.157684394184153,
          0.41595274357957573,
          0.5891850592042421,
          0.454834731394502,
          -0.14870591833136512,
          0.7917259872985981,
          -1.6466753374193293,
          -0.5984417164356648,
          0.3653669533476257,
          0.6013941003199482,
          1.0281964811508901,
          -0.29834588163580716,
          -1.5812091606674015,
          -0.4949013337856304,
          -1.0499374247496878,
          -0.25492516141576343,
          -1.347720027956506,
          1.1167699738973915,
          1.087498437295148,
          -0.3627318007990501,
          -0.9841088308619188,
          -0.24774969270479127,
          -0.10622973456180605,
          0.7743684307462901,
          -0.02005363965663801,
          -0.28863295343821105,
          -0.24808140074432009,
          0.6771989860434181,
          1.5103210368836282,
          -0.4484038407099252,
          -0.1027729276442637,
          0.4150356400669393,
          -0.8696069965432033,
          0.11551999215410763,
          1.0162559751767088,
          -0.1739788003636956,
          -0.2799898988878147,
          1.9689679185639573,
          -1.3712364456885864,
          -0.062367008698916995,
          0.1622031476510854,
          -0.0955223967895753,
          -1.5029096551345607,
          0.8754195676784564,
          -0.5524799575282217,
          -0.0980995694221568,
          0.7693585830793594,
          0.2854937541855559,
          -0.6581872556779551,
          2.114936095689492,
          0.059169867679413055,
          0.2932317898134375,
          0.3618512027631301,
          -0.1705460913024023,
          -0.029204570730282167,
          -0.7415372272530977,
          -0.7651224698222944,
          1.1547221513795514,
          -0.33103781811196065,
          -0.4952355302309878,
          0.7267534144738079,
          -0.7882902125536603,
          0.312778641188715,
          -0.11825028351583512,
          -0.9180040351441507,
          0.587033645365291,
          0.3798610800599315,
          0.21441879761051574,
          1.1707497307467345,
          1.1275071326418369,
          -0.8479588333638166,
          -0.058157108364463896,
          -0.7560319712251692,
          1.8283683259669392,
          1.2952801263299962,
          2.46499250024484
         ],
         "xaxis": "x16",
         "y": [
          0.09124207426154374,
          0.23050372092668295,
          0.014859888913373658,
          0.6239763264699059,
          0.16235480114648318,
          1.4845492406294487,
          -0.24759749095892106,
          -0.4612202072965182,
          0.6683144012220376,
          -0.46535510850761114,
          -0.33395440282299166,
          0.3573635291563245,
          -1.1442608614644356,
          0.17296148121397323,
          0.9259288697005811,
          -1.1354172237080085,
          -0.9824537715249738,
          0.7620280141971381,
          -0.5478607089718354,
          -0.02271906163973041,
          0.9382739201658581,
          0.06040255294631438,
          1.5768722286871253,
          1.1789065779684256,
          0.5957667468533718,
          0.6928160880203745,
          0.07803318534448397,
          -0.7511507900485863,
          -2.017575266863575,
          -0.7542311486743793,
          0.9843274467312364,
          0.9223614498976392,
          -0.0693254979767664,
          -0.625152690130413,
          -0.6965352404178793,
          0.16506324429332273,
          -1.3565483683732344,
          0.6732798515567434,
          -0.36557683850328776,
          1.2172166050384277,
          0.019235232902732866,
          0.17912685594107225,
          1.7899803581562799,
          1.0009507152107793,
          0.2192444165275358,
          -0.5131790606950488,
          1.8891102583364106,
          0.5321953810646466,
          -0.6644872263417928,
          -0.12309162364411347,
          -0.31339044568114677,
          -0.25054260467209893,
          -0.27939346708240065,
          -1.2162483585682222,
          0.8697394362378188,
          -1.6708438737163958,
          -2.3312698618270753,
          0.644992665599839,
          0.6095144094932191,
          0.49378481933131374,
          0.9317908390993053,
          0.32139932260319765,
          1.0040081325122843,
          0.6759993179706805,
          -0.13810627740614917,
          0.8594883991882487,
          0.2555764941620284,
          0.9307411415069429,
          -1.4115427388612543,
          -0.08438065706766976,
          0.3677178589278481,
          1.0088429569294157,
          0.9926769433668462,
          0.7830876388691718,
          -0.650139602099969,
          0.03227373601388025,
          0.27477362140694533,
          1.3928724370929564,
          1.209919303897628,
          -0.3224507855553749,
          0.49539365772792204,
          -0.7065013288865348,
          0.7964809892009287,
          1.5097441064074213,
          1.4462034803456403,
          1.0269528923873075,
          0.4500910963989715,
          0.7349224726807688,
          1.227614343659497,
          0.738796879112678,
          0.776915386590465,
          -1.2574127005090718,
          -0.38990474087731036,
          0.04920506131048392,
          -0.17230849326652384,
          -0.33656939690551585,
          1.0046983868385404,
          -0.2261403969988013,
          1.3273304506972414,
          -0.6846365084550697
         ],
         "yaxis": "y16"
        },
        {
         "line": {
          "color": "rgba(128, 128, 128, 1.0)",
          "dash": "solid",
          "shape": "linear",
          "width": 1.3
         },
         "marker": {
          "size": 2,
          "symbol": "circle"
         },
         "mode": "markers",
         "name": "D",
         "text": "",
         "type": "scatter",
         "x": [
          -0.13720291276205954,
          0.7360290366001643,
          0.6182914547488014,
          -0.41717865842575486,
          0.7616049708336934,
          1.255700448517242,
          -0.7878477215044183,
          0.4094201423714498,
          -3.0777284071151,
          0.2962713084261198,
          -0.7566439163766893,
          0.6805595530508529,
          -0.8140383734076175,
          -0.3756519163109862,
          1.1209571938669993,
          0.7109715243740368,
          0.2706370322757297,
          0.5173522166570037,
          0.1412707917259537,
          1.7956131042028805,
          -0.37740080006068927,
          -0.0705594757231226,
          0.00017043336379697554,
          -1.0807897118199614,
          -0.8927637981588197,
          1.157805138567086,
          -0.3890743339711945,
          -0.2998728491363871,
          -0.7629484122608581,
          -1.5568150046882465,
          1.5926536293276692,
          1.065928900246484,
          1.3951763524319545,
          2.361874775141413,
          -0.6703775046596167,
          0.6874294250674926,
          -0.11962209780754239,
          -0.6757993702607386,
          0.10369601942428011,
          -1.3706785393771903,
          0.5150297006610829,
          -0.20348877806099472,
          1.278848828762823,
          -1.3672379451360985,
          0.5084740282707778,
          2.999494366246489,
          0.10681899651937042,
          0.9167978639920289,
          -0.9777499167088237,
          0.4298857429657398,
          -0.7956504240436582,
          -1.8406413912670503,
          -0.9271791648378976,
          -0.14817646279579028,
          -0.31747939699923206,
          -0.18223864047336216,
          0.3284940245408851,
          1.3411829957637205,
          -0.3643147505889812,
          0.17639462525327843,
          -1.2086092815298164,
          -1.0846769577310682,
          -1.605427128703998,
          0.24649724788045124,
          -0.11866380461086354,
          1.239307253391713,
          0.12871910997126498,
          -2.0949804045461393,
          0.2767507297426342,
          -0.752300159792606,
          0.004858035242644644,
          0.1906322672214624,
          0.3386326129851458,
          0.9664630145228903,
          -0.0014315777408607548,
          -0.9170153450824298,
          0.8204004032861612,
          0.9643199571799043,
          -0.777725262632196,
          0.7731495467328146,
          0.18062328973014358,
          0.9924833750682206,
          0.20767988730408643,
          -0.17496783608048996,
          0.0015769199486528167,
          -0.2760927778043612,
          -0.24972687617797515,
          -0.687187293033468,
          0.8739237743337697,
          -0.6687555318032616,
          -0.13323519699988973,
          1.142363840492469,
          -0.270683968952354,
          1.2213182143797743,
          -0.6530838403596835,
          -0.07887886921673892,
          -0.15949726608677098,
          -1.2083725357104302,
          0.005487941892006171,
          0.4713064898610162
         ],
         "xaxis": "x17",
         "y": [
          0.09124207426154374,
          0.23050372092668295,
          0.014859888913373658,
          0.6239763264699059,
          0.16235480114648318,
          1.4845492406294487,
          -0.24759749095892106,
          -0.4612202072965182,
          0.6683144012220376,
          -0.46535510850761114,
          -0.33395440282299166,
          0.3573635291563245,
          -1.1442608614644356,
          0.17296148121397323,
          0.9259288697005811,
          -1.1354172237080085,
          -0.9824537715249738,
          0.7620280141971381,
          -0.5478607089718354,
          -0.02271906163973041,
          0.9382739201658581,
          0.06040255294631438,
          1.5768722286871253,
          1.1789065779684256,
          0.5957667468533718,
          0.6928160880203745,
          0.07803318534448397,
          -0.7511507900485863,
          -2.017575266863575,
          -0.7542311486743793,
          0.9843274467312364,
          0.9223614498976392,
          -0.0693254979767664,
          -0.625152690130413,
          -0.6965352404178793,
          0.16506324429332273,
          -1.3565483683732344,
          0.6732798515567434,
          -0.36557683850328776,
          1.2172166050384277,
          0.019235232902732866,
          0.17912685594107225,
          1.7899803581562799,
          1.0009507152107793,
          0.2192444165275358,
          -0.5131790606950488,
          1.8891102583364106,
          0.5321953810646466,
          -0.6644872263417928,
          -0.12309162364411347,
          -0.31339044568114677,
          -0.25054260467209893,
          -0.27939346708240065,
          -1.2162483585682222,
          0.8697394362378188,
          -1.6708438737163958,
          -2.3312698618270753,
          0.644992665599839,
          0.6095144094932191,
          0.49378481933131374,
          0.9317908390993053,
          0.32139932260319765,
          1.0040081325122843,
          0.6759993179706805,
          -0.13810627740614917,
          0.8594883991882487,
          0.2555764941620284,
          0.9307411415069429,
          -1.4115427388612543,
          -0.08438065706766976,
          0.3677178589278481,
          1.0088429569294157,
          0.9926769433668462,
          0.7830876388691718,
          -0.650139602099969,
          0.03227373601388025,
          0.27477362140694533,
          1.3928724370929564,
          1.209919303897628,
          -0.3224507855553749,
          0.49539365772792204,
          -0.7065013288865348,
          0.7964809892009287,
          1.5097441064074213,
          1.4462034803456403,
          1.0269528923873075,
          0.4500910963989715,
          0.7349224726807688,
          1.227614343659497,
          0.738796879112678,
          0.776915386590465,
          -1.2574127005090718,
          -0.38990474087731036,
          0.04920506131048392,
          -0.17230849326652384,
          -0.33656939690551585,
          1.0046983868385404,
          -0.2261403969988013,
          1.3273304506972414,
          -0.6846365084550697
         ],
         "yaxis": "y17"
        },
        {
         "line": {
          "color": "rgba(128, 128, 128, 1.0)",
          "dash": "solid",
          "shape": "linear",
          "width": 1.3
         },
         "marker": {
          "size": 2,
          "symbol": "circle"
         },
         "mode": "markers",
         "name": "D",
         "text": "",
         "type": "scatter",
         "x": [
          0.9772588645208288,
          0.031095691670485027,
          -0.4517709119065063,
          -0.11505177760843294,
          1.4013872068608693,
          0.12439243290780622,
          0.3143384594106518,
          -0.5961004707616886,
          -1.65968642352273,
          -0.8433833213279801,
          -0.8790929369988937,
          0.9097731167884134,
          -0.25449939223936224,
          -1.7474010052042062,
          -0.03195149495193755,
          0.338535606682914,
          0.5861914699834533,
          -0.7852693129036312,
          -1.0256124153016837,
          0.4960274764979757,
          1.6404394193794958,
          -0.5842610371983409,
          1.350264431529778,
          0.5408179423679065,
          -0.9082479053654744,
          -0.7069767492991279,
          0.13019795076909318,
          1.1282516887737086,
          1.747822457753705,
          1.1991010788063432,
          0.25207171650754456,
          -0.18816983036314108,
          -0.8539774592252419,
          0.00027423242096450177,
          -2.3615316526291985,
          1.1081702271247518,
          -0.1720795612082035,
          0.4685511660296994,
          -0.14548278138294873,
          0.06695480734404455,
          -0.04695989997971613,
          1.304340085601986,
          0.3004069831905211,
          -0.3285035098188163,
          -0.18408980579232542,
          -0.575668330094647,
          0.06211278056024565,
          -0.2980839207808471,
          -0.6900263190687328,
          0.9466928356118943,
          0.4369369161764057,
          0.5739310383836496,
          1.6449112745434582,
          -1.7630502680546434,
          0.42499331331685625,
          -0.2682487501446132,
          -0.6439931869255161,
          -1.2890874571532962,
          0.3372180775483443,
          1.1368618824392678,
          -0.09908569591730172,
          0.22941801268669706,
          2.274530159793604,
          -2.084826865936759,
          0.02246326885110578,
          -0.9976814010788779,
          -1.203611465436587,
          -1.4404546117895198,
          1.0945896626940594,
          -0.12331873437293468,
          -0.07486416417015195,
          -0.7159735904353373,
          -1.441541741269909,
          -1.6511113002928979,
          0.20752755106164675,
          0.6866692431899022,
          -0.5253434684781135,
          -0.34121696680681823,
          -0.7101377241544234,
          0.8673374851513335,
          0.6693814303903495,
          0.33747861279895386,
          0.43421948846386565,
          -0.5896906486777742,
          0.8577732734671204,
          0.8822318167813604,
          -0.8355998873733064,
          -0.2671808432114606,
          0.38149373806550346,
          0.39710818594576847,
          0.0016939175901426367,
          0.27169299128835644,
          -0.18503242288638252,
          0.2874110489074513,
          1.2917036599964835,
          0.012806392764316277,
          -0.6013187829788086,
          0.2887690472805458,
          0.5294632809754649,
          -0.4671865195622524
         ],
         "xaxis": "x18",
         "y": [
          0.09124207426154374,
          0.23050372092668295,
          0.014859888913373658,
          0.6239763264699059,
          0.16235480114648318,
          1.4845492406294487,
          -0.24759749095892106,
          -0.4612202072965182,
          0.6683144012220376,
          -0.46535510850761114,
          -0.33395440282299166,
          0.3573635291563245,
          -1.1442608614644356,
          0.17296148121397323,
          0.9259288697005811,
          -1.1354172237080085,
          -0.9824537715249738,
          0.7620280141971381,
          -0.5478607089718354,
          -0.02271906163973041,
          0.9382739201658581,
          0.06040255294631438,
          1.5768722286871253,
          1.1789065779684256,
          0.5957667468533718,
          0.6928160880203745,
          0.07803318534448397,
          -0.7511507900485863,
          -2.017575266863575,
          -0.7542311486743793,
          0.9843274467312364,
          0.9223614498976392,
          -0.0693254979767664,
          -0.625152690130413,
          -0.6965352404178793,
          0.16506324429332273,
          -1.3565483683732344,
          0.6732798515567434,
          -0.36557683850328776,
          1.2172166050384277,
          0.019235232902732866,
          0.17912685594107225,
          1.7899803581562799,
          1.0009507152107793,
          0.2192444165275358,
          -0.5131790606950488,
          1.8891102583364106,
          0.5321953810646466,
          -0.6644872263417928,
          -0.12309162364411347,
          -0.31339044568114677,
          -0.25054260467209893,
          -0.27939346708240065,
          -1.2162483585682222,
          0.8697394362378188,
          -1.6708438737163958,
          -2.3312698618270753,
          0.644992665599839,
          0.6095144094932191,
          0.49378481933131374,
          0.9317908390993053,
          0.32139932260319765,
          1.0040081325122843,
          0.6759993179706805,
          -0.13810627740614917,
          0.8594883991882487,
          0.2555764941620284,
          0.9307411415069429,
          -1.4115427388612543,
          -0.08438065706766976,
          0.3677178589278481,
          1.0088429569294157,
          0.9926769433668462,
          0.7830876388691718,
          -0.650139602099969,
          0.03227373601388025,
          0.27477362140694533,
          1.3928724370929564,
          1.209919303897628,
          -0.3224507855553749,
          0.49539365772792204,
          -0.7065013288865348,
          0.7964809892009287,
          1.5097441064074213,
          1.4462034803456403,
          1.0269528923873075,
          0.4500910963989715,
          0.7349224726807688,
          1.227614343659497,
          0.738796879112678,
          0.776915386590465,
          -1.2574127005090718,
          -0.38990474087731036,
          0.04920506131048392,
          -0.17230849326652384,
          -0.33656939690551585,
          1.0046983868385404,
          -0.2261403969988013,
          1.3273304506972414,
          -0.6846365084550697
         ],
         "yaxis": "y18"
        },
        {
         "histfunc": "count",
         "histnorm": "",
         "marker": {
          "color": "rgba(128, 0, 128, 1.0)",
          "line": {
           "color": "#4D5663",
           "width": 1.3
          }
         },
         "name": "D",
         "nbinsx": 10,
         "opacity": 0.8,
         "orientation": "v",
         "type": "histogram",
         "x": [
          0.09124207426154374,
          0.23050372092668295,
          0.014859888913373658,
          0.6239763264699059,
          0.16235480114648318,
          1.4845492406294487,
          -0.24759749095892106,
          -0.4612202072965182,
          0.6683144012220376,
          -0.46535510850761114,
          -0.33395440282299166,
          0.3573635291563245,
          -1.1442608614644356,
          0.17296148121397323,
          0.9259288697005811,
          -1.1354172237080085,
          -0.9824537715249738,
          0.7620280141971381,
          -0.5478607089718354,
          -0.02271906163973041,
          0.9382739201658581,
          0.06040255294631438,
          1.5768722286871253,
          1.1789065779684256,
          0.5957667468533718,
          0.6928160880203745,
          0.07803318534448397,
          -0.7511507900485863,
          -2.017575266863575,
          -0.7542311486743793,
          0.9843274467312364,
          0.9223614498976392,
          -0.0693254979767664,
          -0.625152690130413,
          -0.6965352404178793,
          0.16506324429332273,
          -1.3565483683732344,
          0.6732798515567434,
          -0.36557683850328776,
          1.2172166050384277,
          0.019235232902732866,
          0.17912685594107225,
          1.7899803581562799,
          1.0009507152107793,
          0.2192444165275358,
          -0.5131790606950488,
          1.8891102583364106,
          0.5321953810646466,
          -0.6644872263417928,
          -0.12309162364411347,
          -0.31339044568114677,
          -0.25054260467209893,
          -0.27939346708240065,
          -1.2162483585682222,
          0.8697394362378188,
          -1.6708438737163958,
          -2.3312698618270753,
          0.644992665599839,
          0.6095144094932191,
          0.49378481933131374,
          0.9317908390993053,
          0.32139932260319765,
          1.0040081325122843,
          0.6759993179706805,
          -0.13810627740614917,
          0.8594883991882487,
          0.2555764941620284,
          0.9307411415069429,
          -1.4115427388612543,
          -0.08438065706766976,
          0.3677178589278481,
          1.0088429569294157,
          0.9926769433668462,
          0.7830876388691718,
          -0.650139602099969,
          0.03227373601388025,
          0.27477362140694533,
          1.3928724370929564,
          1.209919303897628,
          -0.3224507855553749,
          0.49539365772792204,
          -0.7065013288865348,
          0.7964809892009287,
          1.5097441064074213,
          1.4462034803456403,
          1.0269528923873075,
          0.4500910963989715,
          0.7349224726807688,
          1.227614343659497,
          0.738796879112678,
          0.776915386590465,
          -1.2574127005090718,
          -0.38990474087731036,
          0.04920506131048392,
          -0.17230849326652384,
          -0.33656939690551585,
          1.0046983868385404,
          -0.2261403969988013,
          1.3273304506972414,
          -0.6846365084550697
         ],
         "xaxis": "x19",
         "yaxis": "y19"
        },
        {
         "line": {
          "color": "rgba(128, 128, 128, 1.0)",
          "dash": "solid",
          "shape": "linear",
          "width": 1.3
         },
         "marker": {
          "size": 2,
          "symbol": "circle"
         },
         "mode": "markers",
         "name": "D",
         "text": "",
         "type": "scatter",
         "x": [
          0.9772588645208288,
          0.031095691670485027,
          0.4517709119065063,
          0.11505177760843294,
          1.4013872068608693,
          0.12439243290780622,
          0.3143384594106518,
          0.5961004707616886,
          1.65968642352273,
          0.8433833213279801,
          0.8790929369988937,
          0.9097731167884134,
          0.25449939223936224,
          1.7474010052042062,
          0.03195149495193755,
          0.338535606682914,
          0.5861914699834533,
          0.7852693129036312,
          1.0256124153016837,
          0.4960274764979757,
          1.6404394193794958,
          0.5842610371983409,
          1.350264431529778,
          0.5408179423679065,
          0.9082479053654744,
          0.7069767492991279,
          0.13019795076909318,
          1.1282516887737086,
          1.747822457753705,
          1.1991010788063432,
          0.25207171650754456,
          0.18816983036314108,
          0.8539774592252419,
          0.00027423242096450177,
          2.3615316526291985,
          1.1081702271247518,
          0.1720795612082035,
          0.4685511660296994,
          0.14548278138294873,
          0.06695480734404455,
          0.04695989997971613,
          1.304340085601986,
          0.3004069831905211,
          0.3285035098188163,
          0.18408980579232542,
          0.575668330094647,
          0.06211278056024565,
          0.2980839207808471,
          0.6900263190687328,
          0.9466928356118943,
          0.4369369161764057,
          0.5739310383836496,
          1.6449112745434582,
          1.7630502680546434,
          0.42499331331685625,
          0.2682487501446132,
          0.6439931869255161,
          1.2890874571532962,
          0.3372180775483443,
          1.1368618824392678,
          0.09908569591730172,
          0.22941801268669706,
          2.274530159793604,
          2.084826865936759,
          0.02246326885110578,
          0.9976814010788779,
          1.203611465436587,
          1.4404546117895198,
          1.0945896626940594,
          0.12331873437293468,
          0.07486416417015195,
          0.7159735904353373,
          1.441541741269909,
          1.6511113002928979,
          0.20752755106164675,
          0.6866692431899022,
          0.5253434684781135,
          0.34121696680681823,
          0.7101377241544234,
          0.8673374851513335,
          0.6693814303903495,
          0.33747861279895386,
          0.43421948846386565,
          0.5896906486777742,
          0.8577732734671204,
          0.8822318167813604,
          0.8355998873733064,
          0.2671808432114606,
          0.38149373806550346,
          0.39710818594576847,
          0.0016939175901426367,
          0.27169299128835644,
          0.18503242288638252,
          0.2874110489074513,
          1.2917036599964835,
          0.012806392764316277,
          0.6013187829788086,
          0.2887690472805458,
          0.5294632809754649,
          0.4671865195622524
         ],
         "xaxis": "x20",
         "y": [
          0.09124207426154374,
          0.23050372092668295,
          0.014859888913373658,
          0.6239763264699059,
          0.16235480114648318,
          1.4845492406294487,
          -0.24759749095892106,
          -0.4612202072965182,
          0.6683144012220376,
          -0.46535510850761114,
          -0.33395440282299166,
          0.3573635291563245,
          -1.1442608614644356,
          0.17296148121397323,
          0.9259288697005811,
          -1.1354172237080085,
          -0.9824537715249738,
          0.7620280141971381,
          -0.5478607089718354,
          -0.02271906163973041,
          0.9382739201658581,
          0.06040255294631438,
          1.5768722286871253,
          1.1789065779684256,
          0.5957667468533718,
          0.6928160880203745,
          0.07803318534448397,
          -0.7511507900485863,
          -2.017575266863575,
          -0.7542311486743793,
          0.9843274467312364,
          0.9223614498976392,
          -0.0693254979767664,
          -0.625152690130413,
          -0.6965352404178793,
          0.16506324429332273,
          -1.3565483683732344,
          0.6732798515567434,
          -0.36557683850328776,
          1.2172166050384277,
          0.019235232902732866,
          0.17912685594107225,
          1.7899803581562799,
          1.0009507152107793,
          0.2192444165275358,
          -0.5131790606950488,
          1.8891102583364106,
          0.5321953810646466,
          -0.6644872263417928,
          -0.12309162364411347,
          -0.31339044568114677,
          -0.25054260467209893,
          -0.27939346708240065,
          -1.2162483585682222,
          0.8697394362378188,
          -1.6708438737163958,
          -2.3312698618270753,
          0.644992665599839,
          0.6095144094932191,
          0.49378481933131374,
          0.9317908390993053,
          0.32139932260319765,
          1.0040081325122843,
          0.6759993179706805,
          -0.13810627740614917,
          0.8594883991882487,
          0.2555764941620284,
          0.9307411415069429,
          -1.4115427388612543,
          -0.08438065706766976,
          0.3677178589278481,
          1.0088429569294157,
          0.9926769433668462,
          0.7830876388691718,
          -0.650139602099969,
          0.03227373601388025,
          0.27477362140694533,
          1.3928724370929564,
          1.209919303897628,
          -0.3224507855553749,
          0.49539365772792204,
          -0.7065013288865348,
          0.7964809892009287,
          1.5097441064074213,
          1.4462034803456403,
          1.0269528923873075,
          0.4500910963989715,
          0.7349224726807688,
          1.227614343659497,
          0.738796879112678,
          0.776915386590465,
          -1.2574127005090718,
          -0.38990474087731036,
          0.04920506131048392,
          -0.17230849326652384,
          -0.33656939690551585,
          1.0046983868385404,
          -0.2261403969988013,
          1.3273304506972414,
          -0.6846365084550697
         ],
         "yaxis": "y20"
        },
        {
         "line": {
          "color": "rgba(128, 128, 128, 1.0)",
          "dash": "solid",
          "shape": "linear",
          "width": 1.3
         },
         "marker": {
          "size": 2,
          "symbol": "circle"
         },
         "mode": "markers",
         "name": "E",
         "text": "",
         "type": "scatter",
         "x": [
          -0.1486870569660644,
          0.39248607716009937,
          -0.7051592443933776,
          0.27576110754488387,
          -0.7802285366256736,
          -0.32929780839891537,
          -1.087810196165536,
          1.2605600894157034,
          -0.6162220153584765,
          -0.11030956050421618,
          1.642528183340233,
          -1.2471083408197337,
          -0.5030824358409205,
          0.44198222958182076,
          0.46872327753545967,
          0.7832720942473845,
          -1.816832134632092,
          -0.7734372708387459,
          -0.9663161807866139,
          -2.3035477810580884,
          -0.6424602387239299,
          -0.31914331999725876,
          -0.41844043091859484,
          0.1781758613682762,
          0.157684394184153,
          0.41595274357957573,
          0.5891850592042421,
          0.454834731394502,
          -0.14870591833136512,
          0.7917259872985981,
          -1.6466753374193293,
          -0.5984417164356648,
          0.3653669533476257,
          0.6013941003199482,
          1.0281964811508901,
          -0.29834588163580716,
          -1.5812091606674015,
          -0.4949013337856304,
          -1.0499374247496878,
          -0.25492516141576343,
          -1.347720027956506,
          1.1167699738973915,
          1.087498437295148,
          -0.3627318007990501,
          -0.9841088308619188,
          -0.24774969270479127,
          -0.10622973456180605,
          0.7743684307462901,
          -0.02005363965663801,
          -0.28863295343821105,
          -0.24808140074432009,
          0.6771989860434181,
          1.5103210368836282,
          -0.4484038407099252,
          -0.1027729276442637,
          0.4150356400669393,
          -0.8696069965432033,
          0.11551999215410763,
          1.0162559751767088,
          -0.1739788003636956,
          -0.2799898988878147,
          1.9689679185639573,
          -1.3712364456885864,
          -0.062367008698916995,
          0.1622031476510854,
          -0.0955223967895753,
          -1.5029096551345607,
          0.8754195676784564,
          -0.5524799575282217,
          -0.0980995694221568,
          0.7693585830793594,
          0.2854937541855559,
          -0.6581872556779551,
          2.114936095689492,
          0.059169867679413055,
          0.2932317898134375,
          0.3618512027631301,
          -0.1705460913024023,
          -0.029204570730282167,
          -0.7415372272530977,
          -0.7651224698222944,
          1.1547221513795514,
          -0.33103781811196065,
          -0.4952355302309878,
          0.7267534144738079,
          -0.7882902125536603,
          0.312778641188715,
          -0.11825028351583512,
          -0.9180040351441507,
          0.587033645365291,
          0.3798610800599315,
          0.21441879761051574,
          1.1707497307467345,
          1.1275071326418369,
          -0.8479588333638166,
          -0.058157108364463896,
          -0.7560319712251692,
          1.8283683259669392,
          1.2952801263299962,
          2.46499250024484
         ],
         "xaxis": "x21",
         "y": [
          0.9772588645208288,
          0.031095691670485027,
          0.4517709119065063,
          0.11505177760843294,
          1.4013872068608693,
          0.12439243290780622,
          0.3143384594106518,
          0.5961004707616886,
          1.65968642352273,
          0.8433833213279801,
          0.8790929369988937,
          0.9097731167884134,
          0.25449939223936224,
          1.7474010052042062,
          0.03195149495193755,
          0.338535606682914,
          0.5861914699834533,
          0.7852693129036312,
          1.0256124153016837,
          0.4960274764979757,
          1.6404394193794958,
          0.5842610371983409,
          1.350264431529778,
          0.5408179423679065,
          0.9082479053654744,
          0.7069767492991279,
          0.13019795076909318,
          1.1282516887737086,
          1.747822457753705,
          1.1991010788063432,
          0.25207171650754456,
          0.18816983036314108,
          0.8539774592252419,
          0.00027423242096450177,
          2.3615316526291985,
          1.1081702271247518,
          0.1720795612082035,
          0.4685511660296994,
          0.14548278138294873,
          0.06695480734404455,
          0.04695989997971613,
          1.304340085601986,
          0.3004069831905211,
          0.3285035098188163,
          0.18408980579232542,
          0.575668330094647,
          0.06211278056024565,
          0.2980839207808471,
          0.6900263190687328,
          0.9466928356118943,
          0.4369369161764057,
          0.5739310383836496,
          1.6449112745434582,
          1.7630502680546434,
          0.42499331331685625,
          0.2682487501446132,
          0.6439931869255161,
          1.2890874571532962,
          0.3372180775483443,
          1.1368618824392678,
          0.09908569591730172,
          0.22941801268669706,
          2.274530159793604,
          2.084826865936759,
          0.02246326885110578,
          0.9976814010788779,
          1.203611465436587,
          1.4404546117895198,
          1.0945896626940594,
          0.12331873437293468,
          0.07486416417015195,
          0.7159735904353373,
          1.441541741269909,
          1.6511113002928979,
          0.20752755106164675,
          0.6866692431899022,
          0.5253434684781135,
          0.34121696680681823,
          0.7101377241544234,
          0.8673374851513335,
          0.6693814303903495,
          0.33747861279895386,
          0.43421948846386565,
          0.5896906486777742,
          0.8577732734671204,
          0.8822318167813604,
          0.8355998873733064,
          0.2671808432114606,
          0.38149373806550346,
          0.39710818594576847,
          0.0016939175901426367,
          0.27169299128835644,
          0.18503242288638252,
          0.2874110489074513,
          1.2917036599964835,
          0.012806392764316277,
          0.6013187829788086,
          0.2887690472805458,
          0.5294632809754649,
          0.4671865195622524
         ],
         "yaxis": "y21"
        },
        {
         "line": {
          "color": "rgba(128, 128, 128, 1.0)",
          "dash": "solid",
          "shape": "linear",
          "width": 1.3
         },
         "marker": {
          "size": 2,
          "symbol": "circle"
         },
         "mode": "markers",
         "name": "E",
         "text": "",
         "type": "scatter",
         "x": [
          -0.13720291276205954,
          0.7360290366001643,
          0.6182914547488014,
          -0.41717865842575486,
          0.7616049708336934,
          1.255700448517242,
          -0.7878477215044183,
          0.4094201423714498,
          -3.0777284071151,
          0.2962713084261198,
          -0.7566439163766893,
          0.6805595530508529,
          -0.8140383734076175,
          -0.3756519163109862,
          1.1209571938669993,
          0.7109715243740368,
          0.2706370322757297,
          0.5173522166570037,
          0.1412707917259537,
          1.7956131042028805,
          -0.37740080006068927,
          -0.0705594757231226,
          0.00017043336379697554,
          -1.0807897118199614,
          -0.8927637981588197,
          1.157805138567086,
          -0.3890743339711945,
          -0.2998728491363871,
          -0.7629484122608581,
          -1.5568150046882465,
          1.5926536293276692,
          1.065928900246484,
          1.3951763524319545,
          2.361874775141413,
          -0.6703775046596167,
          0.6874294250674926,
          -0.11962209780754239,
          -0.6757993702607386,
          0.10369601942428011,
          -1.3706785393771903,
          0.5150297006610829,
          -0.20348877806099472,
          1.278848828762823,
          -1.3672379451360985,
          0.5084740282707778,
          2.999494366246489,
          0.10681899651937042,
          0.9167978639920289,
          -0.9777499167088237,
          0.4298857429657398,
          -0.7956504240436582,
          -1.8406413912670503,
          -0.9271791648378976,
          -0.14817646279579028,
          -0.31747939699923206,
          -0.18223864047336216,
          0.3284940245408851,
          1.3411829957637205,
          -0.3643147505889812,
          0.17639462525327843,
          -1.2086092815298164,
          -1.0846769577310682,
          -1.605427128703998,
          0.24649724788045124,
          -0.11866380461086354,
          1.239307253391713,
          0.12871910997126498,
          -2.0949804045461393,
          0.2767507297426342,
          -0.752300159792606,
          0.004858035242644644,
          0.1906322672214624,
          0.3386326129851458,
          0.9664630145228903,
          -0.0014315777408607548,
          -0.9170153450824298,
          0.8204004032861612,
          0.9643199571799043,
          -0.777725262632196,
          0.7731495467328146,
          0.18062328973014358,
          0.9924833750682206,
          0.20767988730408643,
          -0.17496783608048996,
          0.0015769199486528167,
          -0.2760927778043612,
          -0.24972687617797515,
          -0.687187293033468,
          0.8739237743337697,
          -0.6687555318032616,
          -0.13323519699988973,
          1.142363840492469,
          -0.270683968952354,
          1.2213182143797743,
          -0.6530838403596835,
          -0.07887886921673892,
          -0.15949726608677098,
          -1.2083725357104302,
          0.005487941892006171,
          0.4713064898610162
         ],
         "xaxis": "x22",
         "y": [
          0.9772588645208288,
          0.031095691670485027,
          0.4517709119065063,
          0.11505177760843294,
          1.4013872068608693,
          0.12439243290780622,
          0.3143384594106518,
          0.5961004707616886,
          1.65968642352273,
          0.8433833213279801,
          0.8790929369988937,
          0.9097731167884134,
          0.25449939223936224,
          1.7474010052042062,
          0.03195149495193755,
          0.338535606682914,
          0.5861914699834533,
          0.7852693129036312,
          1.0256124153016837,
          0.4960274764979757,
          1.6404394193794958,
          0.5842610371983409,
          1.350264431529778,
          0.5408179423679065,
          0.9082479053654744,
          0.7069767492991279,
          0.13019795076909318,
          1.1282516887737086,
          1.747822457753705,
          1.1991010788063432,
          0.25207171650754456,
          0.18816983036314108,
          0.8539774592252419,
          0.00027423242096450177,
          2.3615316526291985,
          1.1081702271247518,
          0.1720795612082035,
          0.4685511660296994,
          0.14548278138294873,
          0.06695480734404455,
          0.04695989997971613,
          1.304340085601986,
          0.3004069831905211,
          0.3285035098188163,
          0.18408980579232542,
          0.575668330094647,
          0.06211278056024565,
          0.2980839207808471,
          0.6900263190687328,
          0.9466928356118943,
          0.4369369161764057,
          0.5739310383836496,
          1.6449112745434582,
          1.7630502680546434,
          0.42499331331685625,
          0.2682487501446132,
          0.6439931869255161,
          1.2890874571532962,
          0.3372180775483443,
          1.1368618824392678,
          0.09908569591730172,
          0.22941801268669706,
          2.274530159793604,
          2.084826865936759,
          0.02246326885110578,
          0.9976814010788779,
          1.203611465436587,
          1.4404546117895198,
          1.0945896626940594,
          0.12331873437293468,
          0.07486416417015195,
          0.7159735904353373,
          1.441541741269909,
          1.6511113002928979,
          0.20752755106164675,
          0.6866692431899022,
          0.5253434684781135,
          0.34121696680681823,
          0.7101377241544234,
          0.8673374851513335,
          0.6693814303903495,
          0.33747861279895386,
          0.43421948846386565,
          0.5896906486777742,
          0.8577732734671204,
          0.8822318167813604,
          0.8355998873733064,
          0.2671808432114606,
          0.38149373806550346,
          0.39710818594576847,
          0.0016939175901426367,
          0.27169299128835644,
          0.18503242288638252,
          0.2874110489074513,
          1.2917036599964835,
          0.012806392764316277,
          0.6013187829788086,
          0.2887690472805458,
          0.5294632809754649,
          0.4671865195622524
         ],
         "yaxis": "y22"
        },
        {
         "line": {
          "color": "rgba(128, 128, 128, 1.0)",
          "dash": "solid",
          "shape": "linear",
          "width": 1.3
         },
         "marker": {
          "size": 2,
          "symbol": "circle"
         },
         "mode": "markers",
         "name": "E",
         "text": "",
         "type": "scatter",
         "x": [
          0.9772588645208288,
          0.031095691670485027,
          -0.4517709119065063,
          -0.11505177760843294,
          1.4013872068608693,
          0.12439243290780622,
          0.3143384594106518,
          -0.5961004707616886,
          -1.65968642352273,
          -0.8433833213279801,
          -0.8790929369988937,
          0.9097731167884134,
          -0.25449939223936224,
          -1.7474010052042062,
          -0.03195149495193755,
          0.338535606682914,
          0.5861914699834533,
          -0.7852693129036312,
          -1.0256124153016837,
          0.4960274764979757,
          1.6404394193794958,
          -0.5842610371983409,
          1.350264431529778,
          0.5408179423679065,
          -0.9082479053654744,
          -0.7069767492991279,
          0.13019795076909318,
          1.1282516887737086,
          1.747822457753705,
          1.1991010788063432,
          0.25207171650754456,
          -0.18816983036314108,
          -0.8539774592252419,
          0.00027423242096450177,
          -2.3615316526291985,
          1.1081702271247518,
          -0.1720795612082035,
          0.4685511660296994,
          -0.14548278138294873,
          0.06695480734404455,
          -0.04695989997971613,
          1.304340085601986,
          0.3004069831905211,
          -0.3285035098188163,
          -0.18408980579232542,
          -0.575668330094647,
          0.06211278056024565,
          -0.2980839207808471,
          -0.6900263190687328,
          0.9466928356118943,
          0.4369369161764057,
          0.5739310383836496,
          1.6449112745434582,
          -1.7630502680546434,
          0.42499331331685625,
          -0.2682487501446132,
          -0.6439931869255161,
          -1.2890874571532962,
          0.3372180775483443,
          1.1368618824392678,
          -0.09908569591730172,
          0.22941801268669706,
          2.274530159793604,
          -2.084826865936759,
          0.02246326885110578,
          -0.9976814010788779,
          -1.203611465436587,
          -1.4404546117895198,
          1.0945896626940594,
          -0.12331873437293468,
          -0.07486416417015195,
          -0.7159735904353373,
          -1.441541741269909,
          -1.6511113002928979,
          0.20752755106164675,
          0.6866692431899022,
          -0.5253434684781135,
          -0.34121696680681823,
          -0.7101377241544234,
          0.8673374851513335,
          0.6693814303903495,
          0.33747861279895386,
          0.43421948846386565,
          -0.5896906486777742,
          0.8577732734671204,
          0.8822318167813604,
          -0.8355998873733064,
          -0.2671808432114606,
          0.38149373806550346,
          0.39710818594576847,
          0.0016939175901426367,
          0.27169299128835644,
          -0.18503242288638252,
          0.2874110489074513,
          1.2917036599964835,
          0.012806392764316277,
          -0.6013187829788086,
          0.2887690472805458,
          0.5294632809754649,
          -0.4671865195622524
         ],
         "xaxis": "x23",
         "y": [
          0.9772588645208288,
          0.031095691670485027,
          0.4517709119065063,
          0.11505177760843294,
          1.4013872068608693,
          0.12439243290780622,
          0.3143384594106518,
          0.5961004707616886,
          1.65968642352273,
          0.8433833213279801,
          0.8790929369988937,
          0.9097731167884134,
          0.25449939223936224,
          1.7474010052042062,
          0.03195149495193755,
          0.338535606682914,
          0.5861914699834533,
          0.7852693129036312,
          1.0256124153016837,
          0.4960274764979757,
          1.6404394193794958,
          0.5842610371983409,
          1.350264431529778,
          0.5408179423679065,
          0.9082479053654744,
          0.7069767492991279,
          0.13019795076909318,
          1.1282516887737086,
          1.747822457753705,
          1.1991010788063432,
          0.25207171650754456,
          0.18816983036314108,
          0.8539774592252419,
          0.00027423242096450177,
          2.3615316526291985,
          1.1081702271247518,
          0.1720795612082035,
          0.4685511660296994,
          0.14548278138294873,
          0.06695480734404455,
          0.04695989997971613,
          1.304340085601986,
          0.3004069831905211,
          0.3285035098188163,
          0.18408980579232542,
          0.575668330094647,
          0.06211278056024565,
          0.2980839207808471,
          0.6900263190687328,
          0.9466928356118943,
          0.4369369161764057,
          0.5739310383836496,
          1.6449112745434582,
          1.7630502680546434,
          0.42499331331685625,
          0.2682487501446132,
          0.6439931869255161,
          1.2890874571532962,
          0.3372180775483443,
          1.1368618824392678,
          0.09908569591730172,
          0.22941801268669706,
          2.274530159793604,
          2.084826865936759,
          0.02246326885110578,
          0.9976814010788779,
          1.203611465436587,
          1.4404546117895198,
          1.0945896626940594,
          0.12331873437293468,
          0.07486416417015195,
          0.7159735904353373,
          1.441541741269909,
          1.6511113002928979,
          0.20752755106164675,
          0.6866692431899022,
          0.5253434684781135,
          0.34121696680681823,
          0.7101377241544234,
          0.8673374851513335,
          0.6693814303903495,
          0.33747861279895386,
          0.43421948846386565,
          0.5896906486777742,
          0.8577732734671204,
          0.8822318167813604,
          0.8355998873733064,
          0.2671808432114606,
          0.38149373806550346,
          0.39710818594576847,
          0.0016939175901426367,
          0.27169299128835644,
          0.18503242288638252,
          0.2874110489074513,
          1.2917036599964835,
          0.012806392764316277,
          0.6013187829788086,
          0.2887690472805458,
          0.5294632809754649,
          0.4671865195622524
         ],
         "yaxis": "y23"
        },
        {
         "line": {
          "color": "rgba(128, 128, 128, 1.0)",
          "dash": "solid",
          "shape": "linear",
          "width": 1.3
         },
         "marker": {
          "size": 2,
          "symbol": "circle"
         },
         "mode": "markers",
         "name": "E",
         "text": "",
         "type": "scatter",
         "x": [
          0.09124207426154374,
          0.23050372092668295,
          0.014859888913373658,
          0.6239763264699059,
          0.16235480114648318,
          1.4845492406294487,
          -0.24759749095892106,
          -0.4612202072965182,
          0.6683144012220376,
          -0.46535510850761114,
          -0.33395440282299166,
          0.3573635291563245,
          -1.1442608614644356,
          0.17296148121397323,
          0.9259288697005811,
          -1.1354172237080085,
          -0.9824537715249738,
          0.7620280141971381,
          -0.5478607089718354,
          -0.02271906163973041,
          0.9382739201658581,
          0.06040255294631438,
          1.5768722286871253,
          1.1789065779684256,
          0.5957667468533718,
          0.6928160880203745,
          0.07803318534448397,
          -0.7511507900485863,
          -2.017575266863575,
          -0.7542311486743793,
          0.9843274467312364,
          0.9223614498976392,
          -0.0693254979767664,
          -0.625152690130413,
          -0.6965352404178793,
          0.16506324429332273,
          -1.3565483683732344,
          0.6732798515567434,
          -0.36557683850328776,
          1.2172166050384277,
          0.019235232902732866,
          0.17912685594107225,
          1.7899803581562799,
          1.0009507152107793,
          0.2192444165275358,
          -0.5131790606950488,
          1.8891102583364106,
          0.5321953810646466,
          -0.6644872263417928,
          -0.12309162364411347,
          -0.31339044568114677,
          -0.25054260467209893,
          -0.27939346708240065,
          -1.2162483585682222,
          0.8697394362378188,
          -1.6708438737163958,
          -2.3312698618270753,
          0.644992665599839,
          0.6095144094932191,
          0.49378481933131374,
          0.9317908390993053,
          0.32139932260319765,
          1.0040081325122843,
          0.6759993179706805,
          -0.13810627740614917,
          0.8594883991882487,
          0.2555764941620284,
          0.9307411415069429,
          -1.4115427388612543,
          -0.08438065706766976,
          0.3677178589278481,
          1.0088429569294157,
          0.9926769433668462,
          0.7830876388691718,
          -0.650139602099969,
          0.03227373601388025,
          0.27477362140694533,
          1.3928724370929564,
          1.209919303897628,
          -0.3224507855553749,
          0.49539365772792204,
          -0.7065013288865348,
          0.7964809892009287,
          1.5097441064074213,
          1.4462034803456403,
          1.0269528923873075,
          0.4500910963989715,
          0.7349224726807688,
          1.227614343659497,
          0.738796879112678,
          0.776915386590465,
          -1.2574127005090718,
          -0.38990474087731036,
          0.04920506131048392,
          -0.17230849326652384,
          -0.33656939690551585,
          1.0046983868385404,
          -0.2261403969988013,
          1.3273304506972414,
          -0.6846365084550697
         ],
         "xaxis": "x24",
         "y": [
          0.9772588645208288,
          0.031095691670485027,
          0.4517709119065063,
          0.11505177760843294,
          1.4013872068608693,
          0.12439243290780622,
          0.3143384594106518,
          0.5961004707616886,
          1.65968642352273,
          0.8433833213279801,
          0.8790929369988937,
          0.9097731167884134,
          0.25449939223936224,
          1.7474010052042062,
          0.03195149495193755,
          0.338535606682914,
          0.5861914699834533,
          0.7852693129036312,
          1.0256124153016837,
          0.4960274764979757,
          1.6404394193794958,
          0.5842610371983409,
          1.350264431529778,
          0.5408179423679065,
          0.9082479053654744,
          0.7069767492991279,
          0.13019795076909318,
          1.1282516887737086,
          1.747822457753705,
          1.1991010788063432,
          0.25207171650754456,
          0.18816983036314108,
          0.8539774592252419,
          0.00027423242096450177,
          2.3615316526291985,
          1.1081702271247518,
          0.1720795612082035,
          0.4685511660296994,
          0.14548278138294873,
          0.06695480734404455,
          0.04695989997971613,
          1.304340085601986,
          0.3004069831905211,
          0.3285035098188163,
          0.18408980579232542,
          0.575668330094647,
          0.06211278056024565,
          0.2980839207808471,
          0.6900263190687328,
          0.9466928356118943,
          0.4369369161764057,
          0.5739310383836496,
          1.6449112745434582,
          1.7630502680546434,
          0.42499331331685625,
          0.2682487501446132,
          0.6439931869255161,
          1.2890874571532962,
          0.3372180775483443,
          1.1368618824392678,
          0.09908569591730172,
          0.22941801268669706,
          2.274530159793604,
          2.084826865936759,
          0.02246326885110578,
          0.9976814010788779,
          1.203611465436587,
          1.4404546117895198,
          1.0945896626940594,
          0.12331873437293468,
          0.07486416417015195,
          0.7159735904353373,
          1.441541741269909,
          1.6511113002928979,
          0.20752755106164675,
          0.6866692431899022,
          0.5253434684781135,
          0.34121696680681823,
          0.7101377241544234,
          0.8673374851513335,
          0.6693814303903495,
          0.33747861279895386,
          0.43421948846386565,
          0.5896906486777742,
          0.8577732734671204,
          0.8822318167813604,
          0.8355998873733064,
          0.2671808432114606,
          0.38149373806550346,
          0.39710818594576847,
          0.0016939175901426367,
          0.27169299128835644,
          0.18503242288638252,
          0.2874110489074513,
          1.2917036599964835,
          0.012806392764316277,
          0.6013187829788086,
          0.2887690472805458,
          0.5294632809754649,
          0.4671865195622524
         ],
         "yaxis": "y24"
        },
        {
         "histfunc": "count",
         "histnorm": "",
         "marker": {
          "color": "rgba(219, 64, 82, 1.0)",
          "line": {
           "color": "#4D5663",
           "width": 1.3
          }
         },
         "name": "E",
         "nbinsx": 10,
         "opacity": 0.8,
         "orientation": "v",
         "type": "histogram",
         "x": [
          0.9772588645208288,
          0.031095691670485027,
          0.4517709119065063,
          0.11505177760843294,
          1.4013872068608693,
          0.12439243290780622,
          0.3143384594106518,
          0.5961004707616886,
          1.65968642352273,
          0.8433833213279801,
          0.8790929369988937,
          0.9097731167884134,
          0.25449939223936224,
          1.7474010052042062,
          0.03195149495193755,
          0.338535606682914,
          0.5861914699834533,
          0.7852693129036312,
          1.0256124153016837,
          0.4960274764979757,
          1.6404394193794958,
          0.5842610371983409,
          1.350264431529778,
          0.5408179423679065,
          0.9082479053654744,
          0.7069767492991279,
          0.13019795076909318,
          1.1282516887737086,
          1.747822457753705,
          1.1991010788063432,
          0.25207171650754456,
          0.18816983036314108,
          0.8539774592252419,
          0.00027423242096450177,
          2.3615316526291985,
          1.1081702271247518,
          0.1720795612082035,
          0.4685511660296994,
          0.14548278138294873,
          0.06695480734404455,
          0.04695989997971613,
          1.304340085601986,
          0.3004069831905211,
          0.3285035098188163,
          0.18408980579232542,
          0.575668330094647,
          0.06211278056024565,
          0.2980839207808471,
          0.6900263190687328,
          0.9466928356118943,
          0.4369369161764057,
          0.5739310383836496,
          1.6449112745434582,
          1.7630502680546434,
          0.42499331331685625,
          0.2682487501446132,
          0.6439931869255161,
          1.2890874571532962,
          0.3372180775483443,
          1.1368618824392678,
          0.09908569591730172,
          0.22941801268669706,
          2.274530159793604,
          2.084826865936759,
          0.02246326885110578,
          0.9976814010788779,
          1.203611465436587,
          1.4404546117895198,
          1.0945896626940594,
          0.12331873437293468,
          0.07486416417015195,
          0.7159735904353373,
          1.441541741269909,
          1.6511113002928979,
          0.20752755106164675,
          0.6866692431899022,
          0.5253434684781135,
          0.34121696680681823,
          0.7101377241544234,
          0.8673374851513335,
          0.6693814303903495,
          0.33747861279895386,
          0.43421948846386565,
          0.5896906486777742,
          0.8577732734671204,
          0.8822318167813604,
          0.8355998873733064,
          0.2671808432114606,
          0.38149373806550346,
          0.39710818594576847,
          0.0016939175901426367,
          0.27169299128835644,
          0.18503242288638252,
          0.2874110489074513,
          1.2917036599964835,
          0.012806392764316277,
          0.6013187829788086,
          0.2887690472805458,
          0.5294632809754649,
          0.4671865195622524
         ],
         "xaxis": "x25",
         "yaxis": "y25"
        }
       ],
       "layout": {
        "bargap": 0.02,
        "legend": {
         "bgcolor": "#F5F6F9",
         "font": {
          "color": "#4D5663"
         }
        },
        "paper_bgcolor": "#F5F6F9",
        "plot_bgcolor": "#F5F6F9",
        "showlegend": false,
        "template": {
         "data": {
          "bar": [
           {
            "error_x": {
             "color": "#2a3f5f"
            },
            "error_y": {
             "color": "#2a3f5f"
            },
            "marker": {
             "line": {
              "color": "#E5ECF6",
              "width": 0.5
             }
            },
            "type": "bar"
           }
          ],
          "barpolar": [
           {
            "marker": {
             "line": {
              "color": "#E5ECF6",
              "width": 0.5
             }
            },
            "type": "barpolar"
           }
          ],
          "carpet": [
           {
            "aaxis": {
             "endlinecolor": "#2a3f5f",
             "gridcolor": "white",
             "linecolor": "white",
             "minorgridcolor": "white",
             "startlinecolor": "#2a3f5f"
            },
            "baxis": {
             "endlinecolor": "#2a3f5f",
             "gridcolor": "white",
             "linecolor": "white",
             "minorgridcolor": "white",
             "startlinecolor": "#2a3f5f"
            },
            "type": "carpet"
           }
          ],
          "choropleth": [
           {
            "colorbar": {
             "outlinewidth": 0,
             "ticks": ""
            },
            "type": "choropleth"
           }
          ],
          "contour": [
           {
            "colorbar": {
             "outlinewidth": 0,
             "ticks": ""
            },
            "colorscale": [
             [
              0,
              "#0d0887"
             ],
             [
              0.1111111111111111,
              "#46039f"
             ],
             [
              0.2222222222222222,
              "#7201a8"
             ],
             [
              0.3333333333333333,
              "#9c179e"
             ],
             [
              0.4444444444444444,
              "#bd3786"
             ],
             [
              0.5555555555555556,
              "#d8576b"
             ],
             [
              0.6666666666666666,
              "#ed7953"
             ],
             [
              0.7777777777777778,
              "#fb9f3a"
             ],
             [
              0.8888888888888888,
              "#fdca26"
             ],
             [
              1,
              "#f0f921"
             ]
            ],
            "type": "contour"
           }
          ],
          "contourcarpet": [
           {
            "colorbar": {
             "outlinewidth": 0,
             "ticks": ""
            },
            "type": "contourcarpet"
           }
          ],
          "heatmap": [
           {
            "colorbar": {
             "outlinewidth": 0,
             "ticks": ""
            },
            "colorscale": [
             [
              0,
              "#0d0887"
             ],
             [
              0.1111111111111111,
              "#46039f"
             ],
             [
              0.2222222222222222,
              "#7201a8"
             ],
             [
              0.3333333333333333,
              "#9c179e"
             ],
             [
              0.4444444444444444,
              "#bd3786"
             ],
             [
              0.5555555555555556,
              "#d8576b"
             ],
             [
              0.6666666666666666,
              "#ed7953"
             ],
             [
              0.7777777777777778,
              "#fb9f3a"
             ],
             [
              0.8888888888888888,
              "#fdca26"
             ],
             [
              1,
              "#f0f921"
             ]
            ],
            "type": "heatmap"
           }
          ],
          "heatmapgl": [
           {
            "colorbar": {
             "outlinewidth": 0,
             "ticks": ""
            },
            "colorscale": [
             [
              0,
              "#0d0887"
             ],
             [
              0.1111111111111111,
              "#46039f"
             ],
             [
              0.2222222222222222,
              "#7201a8"
             ],
             [
              0.3333333333333333,
              "#9c179e"
             ],
             [
              0.4444444444444444,
              "#bd3786"
             ],
             [
              0.5555555555555556,
              "#d8576b"
             ],
             [
              0.6666666666666666,
              "#ed7953"
             ],
             [
              0.7777777777777778,
              "#fb9f3a"
             ],
             [
              0.8888888888888888,
              "#fdca26"
             ],
             [
              1,
              "#f0f921"
             ]
            ],
            "type": "heatmapgl"
           }
          ],
          "histogram": [
           {
            "marker": {
             "colorbar": {
              "outlinewidth": 0,
              "ticks": ""
             }
            },
            "type": "histogram"
           }
          ],
          "histogram2d": [
           {
            "colorbar": {
             "outlinewidth": 0,
             "ticks": ""
            },
            "colorscale": [
             [
              0,
              "#0d0887"
             ],
             [
              0.1111111111111111,
              "#46039f"
             ],
             [
              0.2222222222222222,
              "#7201a8"
             ],
             [
              0.3333333333333333,
              "#9c179e"
             ],
             [
              0.4444444444444444,
              "#bd3786"
             ],
             [
              0.5555555555555556,
              "#d8576b"
             ],
             [
              0.6666666666666666,
              "#ed7953"
             ],
             [
              0.7777777777777778,
              "#fb9f3a"
             ],
             [
              0.8888888888888888,
              "#fdca26"
             ],
             [
              1,
              "#f0f921"
             ]
            ],
            "type": "histogram2d"
           }
          ],
          "histogram2dcontour": [
           {
            "colorbar": {
             "outlinewidth": 0,
             "ticks": ""
            },
            "colorscale": [
             [
              0,
              "#0d0887"
             ],
             [
              0.1111111111111111,
              "#46039f"
             ],
             [
              0.2222222222222222,
              "#7201a8"
             ],
             [
              0.3333333333333333,
              "#9c179e"
             ],
             [
              0.4444444444444444,
              "#bd3786"
             ],
             [
              0.5555555555555556,
              "#d8576b"
             ],
             [
              0.6666666666666666,
              "#ed7953"
             ],
             [
              0.7777777777777778,
              "#fb9f3a"
             ],
             [
              0.8888888888888888,
              "#fdca26"
             ],
             [
              1,
              "#f0f921"
             ]
            ],
            "type": "histogram2dcontour"
           }
          ],
          "mesh3d": [
           {
            "colorbar": {
             "outlinewidth": 0,
             "ticks": ""
            },
            "type": "mesh3d"
           }
          ],
          "parcoords": [
           {
            "line": {
             "colorbar": {
              "outlinewidth": 0,
              "ticks": ""
             }
            },
            "type": "parcoords"
           }
          ],
          "pie": [
           {
            "automargin": true,
            "type": "pie"
           }
          ],
          "scatter": [
           {
            "marker": {
             "colorbar": {
              "outlinewidth": 0,
              "ticks": ""
             }
            },
            "type": "scatter"
           }
          ],
          "scatter3d": [
           {
            "line": {
             "colorbar": {
              "outlinewidth": 0,
              "ticks": ""
             }
            },
            "marker": {
             "colorbar": {
              "outlinewidth": 0,
              "ticks": ""
             }
            },
            "type": "scatter3d"
           }
          ],
          "scattercarpet": [
           {
            "marker": {
             "colorbar": {
              "outlinewidth": 0,
              "ticks": ""
             }
            },
            "type": "scattercarpet"
           }
          ],
          "scattergeo": [
           {
            "marker": {
             "colorbar": {
              "outlinewidth": 0,
              "ticks": ""
             }
            },
            "type": "scattergeo"
           }
          ],
          "scattergl": [
           {
            "marker": {
             "colorbar": {
              "outlinewidth": 0,
              "ticks": ""
             }
            },
            "type": "scattergl"
           }
          ],
          "scattermapbox": [
           {
            "marker": {
             "colorbar": {
              "outlinewidth": 0,
              "ticks": ""
             }
            },
            "type": "scattermapbox"
           }
          ],
          "scatterpolar": [
           {
            "marker": {
             "colorbar": {
              "outlinewidth": 0,
              "ticks": ""
             }
            },
            "type": "scatterpolar"
           }
          ],
          "scatterpolargl": [
           {
            "marker": {
             "colorbar": {
              "outlinewidth": 0,
              "ticks": ""
             }
            },
            "type": "scatterpolargl"
           }
          ],
          "scatterternary": [
           {
            "marker": {
             "colorbar": {
              "outlinewidth": 0,
              "ticks": ""
             }
            },
            "type": "scatterternary"
           }
          ],
          "surface": [
           {
            "colorbar": {
             "outlinewidth": 0,
             "ticks": ""
            },
            "colorscale": [
             [
              0,
              "#0d0887"
             ],
             [
              0.1111111111111111,
              "#46039f"
             ],
             [
              0.2222222222222222,
              "#7201a8"
             ],
             [
              0.3333333333333333,
              "#9c179e"
             ],
             [
              0.4444444444444444,
              "#bd3786"
             ],
             [
              0.5555555555555556,
              "#d8576b"
             ],
             [
              0.6666666666666666,
              "#ed7953"
             ],
             [
              0.7777777777777778,
              "#fb9f3a"
             ],
             [
              0.8888888888888888,
              "#fdca26"
             ],
             [
              1,
              "#f0f921"
             ]
            ],
            "type": "surface"
           }
          ],
          "table": [
           {
            "cells": {
             "fill": {
              "color": "#EBF0F8"
             },
             "line": {
              "color": "white"
             }
            },
            "header": {
             "fill": {
              "color": "#C8D4E3"
             },
             "line": {
              "color": "white"
             }
            },
            "type": "table"
           }
          ]
         },
         "layout": {
          "annotationdefaults": {
           "arrowcolor": "#2a3f5f",
           "arrowhead": 0,
           "arrowwidth": 1
          },
          "coloraxis": {
           "colorbar": {
            "outlinewidth": 0,
            "ticks": ""
           }
          },
          "colorscale": {
           "diverging": [
            [
             0,
             "#8e0152"
            ],
            [
             0.1,
             "#c51b7d"
            ],
            [
             0.2,
             "#de77ae"
            ],
            [
             0.3,
             "#f1b6da"
            ],
            [
             0.4,
             "#fde0ef"
            ],
            [
             0.5,
             "#f7f7f7"
            ],
            [
             0.6,
             "#e6f5d0"
            ],
            [
             0.7,
             "#b8e186"
            ],
            [
             0.8,
             "#7fbc41"
            ],
            [
             0.9,
             "#4d9221"
            ],
            [
             1,
             "#276419"
            ]
           ],
           "sequential": [
            [
             0,
             "#0d0887"
            ],
            [
             0.1111111111111111,
             "#46039f"
            ],
            [
             0.2222222222222222,
             "#7201a8"
            ],
            [
             0.3333333333333333,
             "#9c179e"
            ],
            [
             0.4444444444444444,
             "#bd3786"
            ],
            [
             0.5555555555555556,
             "#d8576b"
            ],
            [
             0.6666666666666666,
             "#ed7953"
            ],
            [
             0.7777777777777778,
             "#fb9f3a"
            ],
            [
             0.8888888888888888,
             "#fdca26"
            ],
            [
             1,
             "#f0f921"
            ]
           ],
           "sequentialminus": [
            [
             0,
             "#0d0887"
            ],
            [
             0.1111111111111111,
             "#46039f"
            ],
            [
             0.2222222222222222,
             "#7201a8"
            ],
            [
             0.3333333333333333,
             "#9c179e"
            ],
            [
             0.4444444444444444,
             "#bd3786"
            ],
            [
             0.5555555555555556,
             "#d8576b"
            ],
            [
             0.6666666666666666,
             "#ed7953"
            ],
            [
             0.7777777777777778,
             "#fb9f3a"
            ],
            [
             0.8888888888888888,
             "#fdca26"
            ],
            [
             1,
             "#f0f921"
            ]
           ]
          },
          "colorway": [
           "#636efa",
           "#EF553B",
           "#00cc96",
           "#ab63fa",
           "#FFA15A",
           "#19d3f3",
           "#FF6692",
           "#B6E880",
           "#FF97FF",
           "#FECB52"
          ],
          "font": {
           "color": "#2a3f5f"
          },
          "geo": {
           "bgcolor": "white",
           "lakecolor": "white",
           "landcolor": "#E5ECF6",
           "showlakes": true,
           "showland": true,
           "subunitcolor": "white"
          },
          "hoverlabel": {
           "align": "left"
          },
          "hovermode": "closest",
          "mapbox": {
           "style": "light"
          },
          "paper_bgcolor": "white",
          "plot_bgcolor": "#E5ECF6",
          "polar": {
           "angularaxis": {
            "gridcolor": "white",
            "linecolor": "white",
            "ticks": ""
           },
           "bgcolor": "#E5ECF6",
           "radialaxis": {
            "gridcolor": "white",
            "linecolor": "white",
            "ticks": ""
           }
          },
          "scene": {
           "xaxis": {
            "backgroundcolor": "#E5ECF6",
            "gridcolor": "white",
            "gridwidth": 2,
            "linecolor": "white",
            "showbackground": true,
            "ticks": "",
            "zerolinecolor": "white"
           },
           "yaxis": {
            "backgroundcolor": "#E5ECF6",
            "gridcolor": "white",
            "gridwidth": 2,
            "linecolor": "white",
            "showbackground": true,
            "ticks": "",
            "zerolinecolor": "white"
           },
           "zaxis": {
            "backgroundcolor": "#E5ECF6",
            "gridcolor": "white",
            "gridwidth": 2,
            "linecolor": "white",
            "showbackground": true,
            "ticks": "",
            "zerolinecolor": "white"
           }
          },
          "shapedefaults": {
           "line": {
            "color": "#2a3f5f"
           }
          },
          "ternary": {
           "aaxis": {
            "gridcolor": "white",
            "linecolor": "white",
            "ticks": ""
           },
           "baxis": {
            "gridcolor": "white",
            "linecolor": "white",
            "ticks": ""
           },
           "bgcolor": "#E5ECF6",
           "caxis": {
            "gridcolor": "white",
            "linecolor": "white",
            "ticks": ""
           }
          },
          "title": {
           "x": 0.05
          },
          "xaxis": {
           "automargin": true,
           "gridcolor": "white",
           "linecolor": "white",
           "ticks": "",
           "title": {
            "standoff": 15
           },
           "zerolinecolor": "white",
           "zerolinewidth": 2
          },
          "yaxis": {
           "automargin": true,
           "gridcolor": "white",
           "linecolor": "white",
           "ticks": "",
           "title": {
            "standoff": 15
           },
           "zerolinecolor": "white",
           "zerolinewidth": 2
          }
         }
        },
        "title": {
         "font": {
          "color": "#4D5663"
         }
        },
        "xaxis": {
         "anchor": "y",
         "domain": [
          0,
          0.16
         ],
         "gridcolor": "#E1E5ED",
         "showgrid": false,
         "tickfont": {
          "color": "#4D5663"
         },
         "title": {
          "font": {
           "color": "#4D5663"
          },
          "text": ""
         },
         "zerolinecolor": "#E1E5ED"
        },
        "xaxis10": {
         "anchor": "y10",
         "domain": [
          0.8400000000000001,
          1
         ],
         "gridcolor": "#E1E5ED",
         "showgrid": false,
         "tickfont": {
          "color": "#4D5663"
         },
         "title": {
          "font": {
           "color": "#4D5663"
          },
          "text": ""
         },
         "zerolinecolor": "#E1E5ED"
        },
        "xaxis11": {
         "anchor": "y11",
         "domain": [
          0,
          0.16
         ],
         "gridcolor": "#E1E5ED",
         "showgrid": false,
         "tickfont": {
          "color": "#4D5663"
         },
         "title": {
          "font": {
           "color": "#4D5663"
          },
          "text": ""
         },
         "zerolinecolor": "#E1E5ED"
        },
        "xaxis12": {
         "anchor": "y12",
         "domain": [
          0.21000000000000002,
          0.37
         ],
         "gridcolor": "#E1E5ED",
         "showgrid": false,
         "tickfont": {
          "color": "#4D5663"
         },
         "title": {
          "font": {
           "color": "#4D5663"
          },
          "text": ""
         },
         "zerolinecolor": "#E1E5ED"
        },
        "xaxis13": {
         "anchor": "y13",
         "domain": [
          0.42000000000000004,
          0.5800000000000001
         ],
         "gridcolor": "#E1E5ED",
         "showgrid": false,
         "tickfont": {
          "color": "#4D5663"
         },
         "title": {
          "font": {
           "color": "#4D5663"
          },
          "text": ""
         },
         "zerolinecolor": "#E1E5ED"
        },
        "xaxis14": {
         "anchor": "y14",
         "domain": [
          0.63,
          0.79
         ],
         "gridcolor": "#E1E5ED",
         "showgrid": false,
         "tickfont": {
          "color": "#4D5663"
         },
         "title": {
          "font": {
           "color": "#4D5663"
          },
          "text": ""
         },
         "zerolinecolor": "#E1E5ED"
        },
        "xaxis15": {
         "anchor": "y15",
         "domain": [
          0.8400000000000001,
          1
         ],
         "gridcolor": "#E1E5ED",
         "showgrid": false,
         "tickfont": {
          "color": "#4D5663"
         },
         "title": {
          "font": {
           "color": "#4D5663"
          },
          "text": ""
         },
         "zerolinecolor": "#E1E5ED"
        },
        "xaxis16": {
         "anchor": "y16",
         "domain": [
          0,
          0.16
         ],
         "gridcolor": "#E1E5ED",
         "showgrid": false,
         "tickfont": {
          "color": "#4D5663"
         },
         "title": {
          "font": {
           "color": "#4D5663"
          },
          "text": ""
         },
         "zerolinecolor": "#E1E5ED"
        },
        "xaxis17": {
         "anchor": "y17",
         "domain": [
          0.21000000000000002,
          0.37
         ],
         "gridcolor": "#E1E5ED",
         "showgrid": false,
         "tickfont": {
          "color": "#4D5663"
         },
         "title": {
          "font": {
           "color": "#4D5663"
          },
          "text": ""
         },
         "zerolinecolor": "#E1E5ED"
        },
        "xaxis18": {
         "anchor": "y18",
         "domain": [
          0.42000000000000004,
          0.5800000000000001
         ],
         "gridcolor": "#E1E5ED",
         "showgrid": false,
         "tickfont": {
          "color": "#4D5663"
         },
         "title": {
          "font": {
           "color": "#4D5663"
          },
          "text": ""
         },
         "zerolinecolor": "#E1E5ED"
        },
        "xaxis19": {
         "anchor": "y19",
         "domain": [
          0.63,
          0.79
         ],
         "gridcolor": "#E1E5ED",
         "showgrid": false,
         "tickfont": {
          "color": "#4D5663"
         },
         "title": {
          "font": {
           "color": "#4D5663"
          },
          "text": ""
         },
         "zerolinecolor": "#E1E5ED"
        },
        "xaxis2": {
         "anchor": "y2",
         "domain": [
          0.21000000000000002,
          0.37
         ],
         "gridcolor": "#E1E5ED",
         "showgrid": false,
         "tickfont": {
          "color": "#4D5663"
         },
         "title": {
          "font": {
           "color": "#4D5663"
          },
          "text": ""
         },
         "zerolinecolor": "#E1E5ED"
        },
        "xaxis20": {
         "anchor": "y20",
         "domain": [
          0.8400000000000001,
          1
         ],
         "gridcolor": "#E1E5ED",
         "showgrid": false,
         "tickfont": {
          "color": "#4D5663"
         },
         "title": {
          "font": {
           "color": "#4D5663"
          },
          "text": ""
         },
         "zerolinecolor": "#E1E5ED"
        },
        "xaxis21": {
         "anchor": "y21",
         "domain": [
          0,
          0.16
         ],
         "gridcolor": "#E1E5ED",
         "showgrid": false,
         "tickfont": {
          "color": "#4D5663"
         },
         "title": {
          "font": {
           "color": "#4D5663"
          },
          "text": ""
         },
         "zerolinecolor": "#E1E5ED"
        },
        "xaxis22": {
         "anchor": "y22",
         "domain": [
          0.21000000000000002,
          0.37
         ],
         "gridcolor": "#E1E5ED",
         "showgrid": false,
         "tickfont": {
          "color": "#4D5663"
         },
         "title": {
          "font": {
           "color": "#4D5663"
          },
          "text": ""
         },
         "zerolinecolor": "#E1E5ED"
        },
        "xaxis23": {
         "anchor": "y23",
         "domain": [
          0.42000000000000004,
          0.5800000000000001
         ],
         "gridcolor": "#E1E5ED",
         "showgrid": false,
         "tickfont": {
          "color": "#4D5663"
         },
         "title": {
          "font": {
           "color": "#4D5663"
          },
          "text": ""
         },
         "zerolinecolor": "#E1E5ED"
        },
        "xaxis24": {
         "anchor": "y24",
         "domain": [
          0.63,
          0.79
         ],
         "gridcolor": "#E1E5ED",
         "showgrid": false,
         "tickfont": {
          "color": "#4D5663"
         },
         "title": {
          "font": {
           "color": "#4D5663"
          },
          "text": ""
         },
         "zerolinecolor": "#E1E5ED"
        },
        "xaxis25": {
         "anchor": "y25",
         "domain": [
          0.8400000000000001,
          1
         ],
         "gridcolor": "#E1E5ED",
         "showgrid": false,
         "tickfont": {
          "color": "#4D5663"
         },
         "title": {
          "font": {
           "color": "#4D5663"
          },
          "text": ""
         },
         "zerolinecolor": "#E1E5ED"
        },
        "xaxis3": {
         "anchor": "y3",
         "domain": [
          0.42000000000000004,
          0.5800000000000001
         ],
         "gridcolor": "#E1E5ED",
         "showgrid": false,
         "tickfont": {
          "color": "#4D5663"
         },
         "title": {
          "font": {
           "color": "#4D5663"
          },
          "text": ""
         },
         "zerolinecolor": "#E1E5ED"
        },
        "xaxis4": {
         "anchor": "y4",
         "domain": [
          0.63,
          0.79
         ],
         "gridcolor": "#E1E5ED",
         "showgrid": false,
         "tickfont": {
          "color": "#4D5663"
         },
         "title": {
          "font": {
           "color": "#4D5663"
          },
          "text": ""
         },
         "zerolinecolor": "#E1E5ED"
        },
        "xaxis5": {
         "anchor": "y5",
         "domain": [
          0.8400000000000001,
          1
         ],
         "gridcolor": "#E1E5ED",
         "showgrid": false,
         "tickfont": {
          "color": "#4D5663"
         },
         "title": {
          "font": {
           "color": "#4D5663"
          },
          "text": ""
         },
         "zerolinecolor": "#E1E5ED"
        },
        "xaxis6": {
         "anchor": "y6",
         "domain": [
          0,
          0.16
         ],
         "gridcolor": "#E1E5ED",
         "showgrid": false,
         "tickfont": {
          "color": "#4D5663"
         },
         "title": {
          "font": {
           "color": "#4D5663"
          },
          "text": ""
         },
         "zerolinecolor": "#E1E5ED"
        },
        "xaxis7": {
         "anchor": "y7",
         "domain": [
          0.21000000000000002,
          0.37
         ],
         "gridcolor": "#E1E5ED",
         "showgrid": false,
         "tickfont": {
          "color": "#4D5663"
         },
         "title": {
          "font": {
           "color": "#4D5663"
          },
          "text": ""
         },
         "zerolinecolor": "#E1E5ED"
        },
        "xaxis8": {
         "anchor": "y8",
         "domain": [
          0.42000000000000004,
          0.5800000000000001
         ],
         "gridcolor": "#E1E5ED",
         "showgrid": false,
         "tickfont": {
          "color": "#4D5663"
         },
         "title": {
          "font": {
           "color": "#4D5663"
          },
          "text": ""
         },
         "zerolinecolor": "#E1E5ED"
        },
        "xaxis9": {
         "anchor": "y9",
         "domain": [
          0.63,
          0.79
         ],
         "gridcolor": "#E1E5ED",
         "showgrid": false,
         "tickfont": {
          "color": "#4D5663"
         },
         "title": {
          "font": {
           "color": "#4D5663"
          },
          "text": ""
         },
         "zerolinecolor": "#E1E5ED"
        },
        "yaxis": {
         "anchor": "x",
         "domain": [
          0.856,
          1
         ],
         "gridcolor": "#E1E5ED",
         "showgrid": false,
         "tickfont": {
          "color": "#4D5663"
         },
         "title": {
          "font": {
           "color": "#4D5663"
          },
          "text": ""
         },
         "zerolinecolor": "#E1E5ED"
        },
        "yaxis10": {
         "anchor": "x10",
         "domain": [
          0.6419999999999999,
          0.7859999999999999
         ],
         "gridcolor": "#E1E5ED",
         "showgrid": false,
         "tickfont": {
          "color": "#4D5663"
         },
         "title": {
          "font": {
           "color": "#4D5663"
          },
          "text": ""
         },
         "zerolinecolor": "#E1E5ED"
        },
        "yaxis11": {
         "anchor": "x11",
         "domain": [
          0.428,
          0.572
         ],
         "gridcolor": "#E1E5ED",
         "showgrid": false,
         "tickfont": {
          "color": "#4D5663"
         },
         "title": {
          "font": {
           "color": "#4D5663"
          },
          "text": ""
         },
         "zerolinecolor": "#E1E5ED"
        },
        "yaxis12": {
         "anchor": "x12",
         "domain": [
          0.428,
          0.572
         ],
         "gridcolor": "#E1E5ED",
         "showgrid": false,
         "tickfont": {
          "color": "#4D5663"
         },
         "title": {
          "font": {
           "color": "#4D5663"
          },
          "text": ""
         },
         "zerolinecolor": "#E1E5ED"
        },
        "yaxis13": {
         "anchor": "x13",
         "domain": [
          0.428,
          0.572
         ],
         "gridcolor": "#E1E5ED",
         "showgrid": false,
         "tickfont": {
          "color": "#4D5663"
         },
         "title": {
          "font": {
           "color": "#4D5663"
          },
          "text": ""
         },
         "zerolinecolor": "#E1E5ED"
        },
        "yaxis14": {
         "anchor": "x14",
         "domain": [
          0.428,
          0.572
         ],
         "gridcolor": "#E1E5ED",
         "showgrid": false,
         "tickfont": {
          "color": "#4D5663"
         },
         "title": {
          "font": {
           "color": "#4D5663"
          },
          "text": ""
         },
         "zerolinecolor": "#E1E5ED"
        },
        "yaxis15": {
         "anchor": "x15",
         "domain": [
          0.428,
          0.572
         ],
         "gridcolor": "#E1E5ED",
         "showgrid": false,
         "tickfont": {
          "color": "#4D5663"
         },
         "title": {
          "font": {
           "color": "#4D5663"
          },
          "text": ""
         },
         "zerolinecolor": "#E1E5ED"
        },
        "yaxis16": {
         "anchor": "x16",
         "domain": [
          0.214,
          0.358
         ],
         "gridcolor": "#E1E5ED",
         "showgrid": false,
         "tickfont": {
          "color": "#4D5663"
         },
         "title": {
          "font": {
           "color": "#4D5663"
          },
          "text": ""
         },
         "zerolinecolor": "#E1E5ED"
        },
        "yaxis17": {
         "anchor": "x17",
         "domain": [
          0.214,
          0.358
         ],
         "gridcolor": "#E1E5ED",
         "showgrid": false,
         "tickfont": {
          "color": "#4D5663"
         },
         "title": {
          "font": {
           "color": "#4D5663"
          },
          "text": ""
         },
         "zerolinecolor": "#E1E5ED"
        },
        "yaxis18": {
         "anchor": "x18",
         "domain": [
          0.214,
          0.358
         ],
         "gridcolor": "#E1E5ED",
         "showgrid": false,
         "tickfont": {
          "color": "#4D5663"
         },
         "title": {
          "font": {
           "color": "#4D5663"
          },
          "text": ""
         },
         "zerolinecolor": "#E1E5ED"
        },
        "yaxis19": {
         "anchor": "x19",
         "domain": [
          0.214,
          0.358
         ],
         "gridcolor": "#E1E5ED",
         "showgrid": false,
         "tickfont": {
          "color": "#4D5663"
         },
         "title": {
          "font": {
           "color": "#4D5663"
          },
          "text": ""
         },
         "zerolinecolor": "#E1E5ED"
        },
        "yaxis2": {
         "anchor": "x2",
         "domain": [
          0.856,
          1
         ],
         "gridcolor": "#E1E5ED",
         "showgrid": false,
         "tickfont": {
          "color": "#4D5663"
         },
         "title": {
          "font": {
           "color": "#4D5663"
          },
          "text": ""
         },
         "zerolinecolor": "#E1E5ED"
        },
        "yaxis20": {
         "anchor": "x20",
         "domain": [
          0.214,
          0.358
         ],
         "gridcolor": "#E1E5ED",
         "showgrid": false,
         "tickfont": {
          "color": "#4D5663"
         },
         "title": {
          "font": {
           "color": "#4D5663"
          },
          "text": ""
         },
         "zerolinecolor": "#E1E5ED"
        },
        "yaxis21": {
         "anchor": "x21",
         "domain": [
          0,
          0.144
         ],
         "gridcolor": "#E1E5ED",
         "showgrid": false,
         "tickfont": {
          "color": "#4D5663"
         },
         "title": {
          "font": {
           "color": "#4D5663"
          },
          "text": ""
         },
         "zerolinecolor": "#E1E5ED"
        },
        "yaxis22": {
         "anchor": "x22",
         "domain": [
          0,
          0.144
         ],
         "gridcolor": "#E1E5ED",
         "showgrid": false,
         "tickfont": {
          "color": "#4D5663"
         },
         "title": {
          "font": {
           "color": "#4D5663"
          },
          "text": ""
         },
         "zerolinecolor": "#E1E5ED"
        },
        "yaxis23": {
         "anchor": "x23",
         "domain": [
          0,
          0.144
         ],
         "gridcolor": "#E1E5ED",
         "showgrid": false,
         "tickfont": {
          "color": "#4D5663"
         },
         "title": {
          "font": {
           "color": "#4D5663"
          },
          "text": ""
         },
         "zerolinecolor": "#E1E5ED"
        },
        "yaxis24": {
         "anchor": "x24",
         "domain": [
          0,
          0.144
         ],
         "gridcolor": "#E1E5ED",
         "showgrid": false,
         "tickfont": {
          "color": "#4D5663"
         },
         "title": {
          "font": {
           "color": "#4D5663"
          },
          "text": ""
         },
         "zerolinecolor": "#E1E5ED"
        },
        "yaxis25": {
         "anchor": "x25",
         "domain": [
          0,
          0.144
         ],
         "gridcolor": "#E1E5ED",
         "showgrid": false,
         "tickfont": {
          "color": "#4D5663"
         },
         "title": {
          "font": {
           "color": "#4D5663"
          },
          "text": ""
         },
         "zerolinecolor": "#E1E5ED"
        },
        "yaxis3": {
         "anchor": "x3",
         "domain": [
          0.856,
          1
         ],
         "gridcolor": "#E1E5ED",
         "showgrid": false,
         "tickfont": {
          "color": "#4D5663"
         },
         "title": {
          "font": {
           "color": "#4D5663"
          },
          "text": ""
         },
         "zerolinecolor": "#E1E5ED"
        },
        "yaxis4": {
         "anchor": "x4",
         "domain": [
          0.856,
          1
         ],
         "gridcolor": "#E1E5ED",
         "showgrid": false,
         "tickfont": {
          "color": "#4D5663"
         },
         "title": {
          "font": {
           "color": "#4D5663"
          },
          "text": ""
         },
         "zerolinecolor": "#E1E5ED"
        },
        "yaxis5": {
         "anchor": "x5",
         "domain": [
          0.856,
          1
         ],
         "gridcolor": "#E1E5ED",
         "showgrid": false,
         "tickfont": {
          "color": "#4D5663"
         },
         "title": {
          "font": {
           "color": "#4D5663"
          },
          "text": ""
         },
         "zerolinecolor": "#E1E5ED"
        },
        "yaxis6": {
         "anchor": "x6",
         "domain": [
          0.6419999999999999,
          0.7859999999999999
         ],
         "gridcolor": "#E1E5ED",
         "showgrid": false,
         "tickfont": {
          "color": "#4D5663"
         },
         "title": {
          "font": {
           "color": "#4D5663"
          },
          "text": ""
         },
         "zerolinecolor": "#E1E5ED"
        },
        "yaxis7": {
         "anchor": "x7",
         "domain": [
          0.6419999999999999,
          0.7859999999999999
         ],
         "gridcolor": "#E1E5ED",
         "showgrid": false,
         "tickfont": {
          "color": "#4D5663"
         },
         "title": {
          "font": {
           "color": "#4D5663"
          },
          "text": ""
         },
         "zerolinecolor": "#E1E5ED"
        },
        "yaxis8": {
         "anchor": "x8",
         "domain": [
          0.6419999999999999,
          0.7859999999999999
         ],
         "gridcolor": "#E1E5ED",
         "showgrid": false,
         "tickfont": {
          "color": "#4D5663"
         },
         "title": {
          "font": {
           "color": "#4D5663"
          },
          "text": ""
         },
         "zerolinecolor": "#E1E5ED"
        },
        "yaxis9": {
         "anchor": "x9",
         "domain": [
          0.6419999999999999,
          0.7859999999999999
         ],
         "gridcolor": "#E1E5ED",
         "showgrid": false,
         "tickfont": {
          "color": "#4D5663"
         },
         "title": {
          "font": {
           "color": "#4D5663"
          },
          "text": ""
         },
         "zerolinecolor": "#E1E5ED"
        }
       }
      },
      "text/html": [
       "<div>\n",
       "        \n",
       "        \n",
       "            <div id=\"0ae3e91c-4a6b-4b24-b512-3068ded93121\" class=\"plotly-graph-div\" style=\"height:525px; width:100%;\"></div>\n",
       "            <script type=\"text/javascript\">\n",
       "                require([\"plotly\"], function(Plotly) {\n",
       "                    window.PLOTLYENV=window.PLOTLYENV || {};\n",
       "                    window.PLOTLYENV.BASE_URL='https://plot.ly';\n",
       "                    \n",
       "                if (document.getElementById(\"0ae3e91c-4a6b-4b24-b512-3068ded93121\")) {\n",
       "                    Plotly.newPlot(\n",
       "                        '0ae3e91c-4a6b-4b24-b512-3068ded93121',\n",
       "                        [{\"histfunc\": \"count\", \"histnorm\": \"\", \"marker\": {\"color\": \"rgba(255, 153, 51, 1.0)\", \"line\": {\"color\": \"#4D5663\", \"width\": 1.3}}, \"name\": \"A\", \"nbinsx\": 10, \"opacity\": 0.8, \"orientation\": \"v\", \"type\": \"histogram\", \"x\": [-0.1486870569660644, 0.39248607716009937, -0.7051592443933776, 0.27576110754488387, -0.7802285366256736, -0.32929780839891537, -1.087810196165536, 1.2605600894157034, -0.6162220153584765, -0.11030956050421618, 1.642528183340233, -1.2471083408197337, -0.5030824358409205, 0.44198222958182076, 0.46872327753545967, 0.7832720942473845, -1.816832134632092, -0.7734372708387459, -0.9663161807866139, -2.3035477810580884, -0.6424602387239299, -0.31914331999725876, -0.41844043091859484, 0.1781758613682762, 0.157684394184153, 0.41595274357957573, 0.5891850592042421, 0.454834731394502, -0.14870591833136512, 0.7917259872985981, -1.6466753374193293, -0.5984417164356648, 0.3653669533476257, 0.6013941003199482, 1.0281964811508901, -0.29834588163580716, -1.5812091606674015, -0.4949013337856304, -1.0499374247496878, -0.25492516141576343, -1.347720027956506, 1.1167699738973915, 1.087498437295148, -0.3627318007990501, -0.9841088308619188, -0.24774969270479127, -0.10622973456180605, 0.7743684307462901, -0.02005363965663801, -0.28863295343821105, -0.24808140074432009, 0.6771989860434181, 1.5103210368836282, -0.4484038407099252, -0.1027729276442637, 0.4150356400669393, -0.8696069965432033, 0.11551999215410763, 1.0162559751767088, -0.1739788003636956, -0.2799898988878147, 1.9689679185639573, -1.3712364456885864, -0.062367008698916995, 0.1622031476510854, -0.0955223967895753, -1.5029096551345607, 0.8754195676784564, -0.5524799575282217, -0.0980995694221568, 0.7693585830793594, 0.2854937541855559, -0.6581872556779551, 2.114936095689492, 0.059169867679413055, 0.2932317898134375, 0.3618512027631301, -0.1705460913024023, -0.029204570730282167, -0.7415372272530977, -0.7651224698222944, 1.1547221513795514, -0.33103781811196065, -0.4952355302309878, 0.7267534144738079, -0.7882902125536603, 0.312778641188715, -0.11825028351583512, -0.9180040351441507, 0.587033645365291, 0.3798610800599315, 0.21441879761051574, 1.1707497307467345, 1.1275071326418369, -0.8479588333638166, -0.058157108364463896, -0.7560319712251692, 1.8283683259669392, 1.2952801263299962, 2.46499250024484], \"xaxis\": \"x\", \"yaxis\": \"y\"}, {\"line\": {\"color\": \"rgba(128, 128, 128, 1.0)\", \"dash\": \"solid\", \"shape\": \"linear\", \"width\": 1.3}, \"marker\": {\"size\": 2, \"symbol\": \"circle\"}, \"mode\": \"markers\", \"name\": \"A\", \"text\": \"\", \"type\": \"scatter\", \"x\": [-0.13720291276205954, 0.7360290366001643, 0.6182914547488014, -0.41717865842575486, 0.7616049708336934, 1.255700448517242, -0.7878477215044183, 0.4094201423714498, -3.0777284071151, 0.2962713084261198, -0.7566439163766893, 0.6805595530508529, -0.8140383734076175, -0.3756519163109862, 1.1209571938669993, 0.7109715243740368, 0.2706370322757297, 0.5173522166570037, 0.1412707917259537, 1.7956131042028805, -0.37740080006068927, -0.0705594757231226, 0.00017043336379697554, -1.0807897118199614, -0.8927637981588197, 1.157805138567086, -0.3890743339711945, -0.2998728491363871, -0.7629484122608581, -1.5568150046882465, 1.5926536293276692, 1.065928900246484, 1.3951763524319545, 2.361874775141413, -0.6703775046596167, 0.6874294250674926, -0.11962209780754239, -0.6757993702607386, 0.10369601942428011, -1.3706785393771903, 0.5150297006610829, -0.20348877806099472, 1.278848828762823, -1.3672379451360985, 0.5084740282707778, 2.999494366246489, 0.10681899651937042, 0.9167978639920289, -0.9777499167088237, 0.4298857429657398, -0.7956504240436582, -1.8406413912670503, -0.9271791648378976, -0.14817646279579028, -0.31747939699923206, -0.18223864047336216, 0.3284940245408851, 1.3411829957637205, -0.3643147505889812, 0.17639462525327843, -1.2086092815298164, -1.0846769577310682, -1.605427128703998, 0.24649724788045124, -0.11866380461086354, 1.239307253391713, 0.12871910997126498, -2.0949804045461393, 0.2767507297426342, -0.752300159792606, 0.004858035242644644, 0.1906322672214624, 0.3386326129851458, 0.9664630145228903, -0.0014315777408607548, -0.9170153450824298, 0.8204004032861612, 0.9643199571799043, -0.777725262632196, 0.7731495467328146, 0.18062328973014358, 0.9924833750682206, 0.20767988730408643, -0.17496783608048996, 0.0015769199486528167, -0.2760927778043612, -0.24972687617797515, -0.687187293033468, 0.8739237743337697, -0.6687555318032616, -0.13323519699988973, 1.142363840492469, -0.270683968952354, 1.2213182143797743, -0.6530838403596835, -0.07887886921673892, -0.15949726608677098, -1.2083725357104302, 0.005487941892006171, 0.4713064898610162], \"xaxis\": \"x2\", \"y\": [-0.1486870569660644, 0.39248607716009937, -0.7051592443933776, 0.27576110754488387, -0.7802285366256736, -0.32929780839891537, -1.087810196165536, 1.2605600894157034, -0.6162220153584765, -0.11030956050421618, 1.642528183340233, -1.2471083408197337, -0.5030824358409205, 0.44198222958182076, 0.46872327753545967, 0.7832720942473845, -1.816832134632092, -0.7734372708387459, -0.9663161807866139, -2.3035477810580884, -0.6424602387239299, -0.31914331999725876, -0.41844043091859484, 0.1781758613682762, 0.157684394184153, 0.41595274357957573, 0.5891850592042421, 0.454834731394502, -0.14870591833136512, 0.7917259872985981, -1.6466753374193293, -0.5984417164356648, 0.3653669533476257, 0.6013941003199482, 1.0281964811508901, -0.29834588163580716, -1.5812091606674015, -0.4949013337856304, -1.0499374247496878, -0.25492516141576343, -1.347720027956506, 1.1167699738973915, 1.087498437295148, -0.3627318007990501, -0.9841088308619188, -0.24774969270479127, -0.10622973456180605, 0.7743684307462901, -0.02005363965663801, -0.28863295343821105, -0.24808140074432009, 0.6771989860434181, 1.5103210368836282, -0.4484038407099252, -0.1027729276442637, 0.4150356400669393, -0.8696069965432033, 0.11551999215410763, 1.0162559751767088, -0.1739788003636956, -0.2799898988878147, 1.9689679185639573, -1.3712364456885864, -0.062367008698916995, 0.1622031476510854, -0.0955223967895753, -1.5029096551345607, 0.8754195676784564, -0.5524799575282217, -0.0980995694221568, 0.7693585830793594, 0.2854937541855559, -0.6581872556779551, 2.114936095689492, 0.059169867679413055, 0.2932317898134375, 0.3618512027631301, -0.1705460913024023, -0.029204570730282167, -0.7415372272530977, -0.7651224698222944, 1.1547221513795514, -0.33103781811196065, -0.4952355302309878, 0.7267534144738079, -0.7882902125536603, 0.312778641188715, -0.11825028351583512, -0.9180040351441507, 0.587033645365291, 0.3798610800599315, 0.21441879761051574, 1.1707497307467345, 1.1275071326418369, -0.8479588333638166, -0.058157108364463896, -0.7560319712251692, 1.8283683259669392, 1.2952801263299962, 2.46499250024484], \"yaxis\": \"y2\"}, {\"line\": {\"color\": \"rgba(128, 128, 128, 1.0)\", \"dash\": \"solid\", \"shape\": \"linear\", \"width\": 1.3}, \"marker\": {\"size\": 2, \"symbol\": \"circle\"}, \"mode\": \"markers\", \"name\": \"A\", \"text\": \"\", \"type\": \"scatter\", \"x\": [0.9772588645208288, 0.031095691670485027, -0.4517709119065063, -0.11505177760843294, 1.4013872068608693, 0.12439243290780622, 0.3143384594106518, -0.5961004707616886, -1.65968642352273, -0.8433833213279801, -0.8790929369988937, 0.9097731167884134, -0.25449939223936224, -1.7474010052042062, -0.03195149495193755, 0.338535606682914, 0.5861914699834533, -0.7852693129036312, -1.0256124153016837, 0.4960274764979757, 1.6404394193794958, -0.5842610371983409, 1.350264431529778, 0.5408179423679065, -0.9082479053654744, -0.7069767492991279, 0.13019795076909318, 1.1282516887737086, 1.747822457753705, 1.1991010788063432, 0.25207171650754456, -0.18816983036314108, -0.8539774592252419, 0.00027423242096450177, -2.3615316526291985, 1.1081702271247518, -0.1720795612082035, 0.4685511660296994, -0.14548278138294873, 0.06695480734404455, -0.04695989997971613, 1.304340085601986, 0.3004069831905211, -0.3285035098188163, -0.18408980579232542, -0.575668330094647, 0.06211278056024565, -0.2980839207808471, -0.6900263190687328, 0.9466928356118943, 0.4369369161764057, 0.5739310383836496, 1.6449112745434582, -1.7630502680546434, 0.42499331331685625, -0.2682487501446132, -0.6439931869255161, -1.2890874571532962, 0.3372180775483443, 1.1368618824392678, -0.09908569591730172, 0.22941801268669706, 2.274530159793604, -2.084826865936759, 0.02246326885110578, -0.9976814010788779, -1.203611465436587, -1.4404546117895198, 1.0945896626940594, -0.12331873437293468, -0.07486416417015195, -0.7159735904353373, -1.441541741269909, -1.6511113002928979, 0.20752755106164675, 0.6866692431899022, -0.5253434684781135, -0.34121696680681823, -0.7101377241544234, 0.8673374851513335, 0.6693814303903495, 0.33747861279895386, 0.43421948846386565, -0.5896906486777742, 0.8577732734671204, 0.8822318167813604, -0.8355998873733064, -0.2671808432114606, 0.38149373806550346, 0.39710818594576847, 0.0016939175901426367, 0.27169299128835644, -0.18503242288638252, 0.2874110489074513, 1.2917036599964835, 0.012806392764316277, -0.6013187829788086, 0.2887690472805458, 0.5294632809754649, -0.4671865195622524], \"xaxis\": \"x3\", \"y\": [-0.1486870569660644, 0.39248607716009937, -0.7051592443933776, 0.27576110754488387, -0.7802285366256736, -0.32929780839891537, -1.087810196165536, 1.2605600894157034, -0.6162220153584765, -0.11030956050421618, 1.642528183340233, -1.2471083408197337, -0.5030824358409205, 0.44198222958182076, 0.46872327753545967, 0.7832720942473845, -1.816832134632092, -0.7734372708387459, -0.9663161807866139, -2.3035477810580884, -0.6424602387239299, -0.31914331999725876, -0.41844043091859484, 0.1781758613682762, 0.157684394184153, 0.41595274357957573, 0.5891850592042421, 0.454834731394502, -0.14870591833136512, 0.7917259872985981, -1.6466753374193293, -0.5984417164356648, 0.3653669533476257, 0.6013941003199482, 1.0281964811508901, -0.29834588163580716, -1.5812091606674015, -0.4949013337856304, -1.0499374247496878, -0.25492516141576343, -1.347720027956506, 1.1167699738973915, 1.087498437295148, -0.3627318007990501, -0.9841088308619188, -0.24774969270479127, -0.10622973456180605, 0.7743684307462901, -0.02005363965663801, -0.28863295343821105, -0.24808140074432009, 0.6771989860434181, 1.5103210368836282, -0.4484038407099252, -0.1027729276442637, 0.4150356400669393, -0.8696069965432033, 0.11551999215410763, 1.0162559751767088, -0.1739788003636956, -0.2799898988878147, 1.9689679185639573, -1.3712364456885864, -0.062367008698916995, 0.1622031476510854, -0.0955223967895753, -1.5029096551345607, 0.8754195676784564, -0.5524799575282217, -0.0980995694221568, 0.7693585830793594, 0.2854937541855559, -0.6581872556779551, 2.114936095689492, 0.059169867679413055, 0.2932317898134375, 0.3618512027631301, -0.1705460913024023, -0.029204570730282167, -0.7415372272530977, -0.7651224698222944, 1.1547221513795514, -0.33103781811196065, -0.4952355302309878, 0.7267534144738079, -0.7882902125536603, 0.312778641188715, -0.11825028351583512, -0.9180040351441507, 0.587033645365291, 0.3798610800599315, 0.21441879761051574, 1.1707497307467345, 1.1275071326418369, -0.8479588333638166, -0.058157108364463896, -0.7560319712251692, 1.8283683259669392, 1.2952801263299962, 2.46499250024484], \"yaxis\": \"y3\"}, {\"line\": {\"color\": \"rgba(128, 128, 128, 1.0)\", \"dash\": \"solid\", \"shape\": \"linear\", \"width\": 1.3}, \"marker\": {\"size\": 2, \"symbol\": \"circle\"}, \"mode\": \"markers\", \"name\": \"A\", \"text\": \"\", \"type\": \"scatter\", \"x\": [0.09124207426154374, 0.23050372092668295, 0.014859888913373658, 0.6239763264699059, 0.16235480114648318, 1.4845492406294487, -0.24759749095892106, -0.4612202072965182, 0.6683144012220376, -0.46535510850761114, -0.33395440282299166, 0.3573635291563245, -1.1442608614644356, 0.17296148121397323, 0.9259288697005811, -1.1354172237080085, -0.9824537715249738, 0.7620280141971381, -0.5478607089718354, -0.02271906163973041, 0.9382739201658581, 0.06040255294631438, 1.5768722286871253, 1.1789065779684256, 0.5957667468533718, 0.6928160880203745, 0.07803318534448397, -0.7511507900485863, -2.017575266863575, -0.7542311486743793, 0.9843274467312364, 0.9223614498976392, -0.0693254979767664, -0.625152690130413, -0.6965352404178793, 0.16506324429332273, -1.3565483683732344, 0.6732798515567434, -0.36557683850328776, 1.2172166050384277, 0.019235232902732866, 0.17912685594107225, 1.7899803581562799, 1.0009507152107793, 0.2192444165275358, -0.5131790606950488, 1.8891102583364106, 0.5321953810646466, -0.6644872263417928, -0.12309162364411347, -0.31339044568114677, -0.25054260467209893, -0.27939346708240065, -1.2162483585682222, 0.8697394362378188, -1.6708438737163958, -2.3312698618270753, 0.644992665599839, 0.6095144094932191, 0.49378481933131374, 0.9317908390993053, 0.32139932260319765, 1.0040081325122843, 0.6759993179706805, -0.13810627740614917, 0.8594883991882487, 0.2555764941620284, 0.9307411415069429, -1.4115427388612543, -0.08438065706766976, 0.3677178589278481, 1.0088429569294157, 0.9926769433668462, 0.7830876388691718, -0.650139602099969, 0.03227373601388025, 0.27477362140694533, 1.3928724370929564, 1.209919303897628, -0.3224507855553749, 0.49539365772792204, -0.7065013288865348, 0.7964809892009287, 1.5097441064074213, 1.4462034803456403, 1.0269528923873075, 0.4500910963989715, 0.7349224726807688, 1.227614343659497, 0.738796879112678, 0.776915386590465, -1.2574127005090718, -0.38990474087731036, 0.04920506131048392, -0.17230849326652384, -0.33656939690551585, 1.0046983868385404, -0.2261403969988013, 1.3273304506972414, -0.6846365084550697], \"xaxis\": \"x4\", \"y\": [-0.1486870569660644, 0.39248607716009937, -0.7051592443933776, 0.27576110754488387, -0.7802285366256736, -0.32929780839891537, -1.087810196165536, 1.2605600894157034, -0.6162220153584765, -0.11030956050421618, 1.642528183340233, -1.2471083408197337, -0.5030824358409205, 0.44198222958182076, 0.46872327753545967, 0.7832720942473845, -1.816832134632092, -0.7734372708387459, -0.9663161807866139, -2.3035477810580884, -0.6424602387239299, -0.31914331999725876, -0.41844043091859484, 0.1781758613682762, 0.157684394184153, 0.41595274357957573, 0.5891850592042421, 0.454834731394502, -0.14870591833136512, 0.7917259872985981, -1.6466753374193293, -0.5984417164356648, 0.3653669533476257, 0.6013941003199482, 1.0281964811508901, -0.29834588163580716, -1.5812091606674015, -0.4949013337856304, -1.0499374247496878, -0.25492516141576343, -1.347720027956506, 1.1167699738973915, 1.087498437295148, -0.3627318007990501, -0.9841088308619188, -0.24774969270479127, -0.10622973456180605, 0.7743684307462901, -0.02005363965663801, -0.28863295343821105, -0.24808140074432009, 0.6771989860434181, 1.5103210368836282, -0.4484038407099252, -0.1027729276442637, 0.4150356400669393, -0.8696069965432033, 0.11551999215410763, 1.0162559751767088, -0.1739788003636956, -0.2799898988878147, 1.9689679185639573, -1.3712364456885864, -0.062367008698916995, 0.1622031476510854, -0.0955223967895753, -1.5029096551345607, 0.8754195676784564, -0.5524799575282217, -0.0980995694221568, 0.7693585830793594, 0.2854937541855559, -0.6581872556779551, 2.114936095689492, 0.059169867679413055, 0.2932317898134375, 0.3618512027631301, -0.1705460913024023, -0.029204570730282167, -0.7415372272530977, -0.7651224698222944, 1.1547221513795514, -0.33103781811196065, -0.4952355302309878, 0.7267534144738079, -0.7882902125536603, 0.312778641188715, -0.11825028351583512, -0.9180040351441507, 0.587033645365291, 0.3798610800599315, 0.21441879761051574, 1.1707497307467345, 1.1275071326418369, -0.8479588333638166, -0.058157108364463896, -0.7560319712251692, 1.8283683259669392, 1.2952801263299962, 2.46499250024484], \"yaxis\": \"y4\"}, {\"line\": {\"color\": \"rgba(128, 128, 128, 1.0)\", \"dash\": \"solid\", \"shape\": \"linear\", \"width\": 1.3}, \"marker\": {\"size\": 2, \"symbol\": \"circle\"}, \"mode\": \"markers\", \"name\": \"A\", \"text\": \"\", \"type\": \"scatter\", \"x\": [0.9772588645208288, 0.031095691670485027, 0.4517709119065063, 0.11505177760843294, 1.4013872068608693, 0.12439243290780622, 0.3143384594106518, 0.5961004707616886, 1.65968642352273, 0.8433833213279801, 0.8790929369988937, 0.9097731167884134, 0.25449939223936224, 1.7474010052042062, 0.03195149495193755, 0.338535606682914, 0.5861914699834533, 0.7852693129036312, 1.0256124153016837, 0.4960274764979757, 1.6404394193794958, 0.5842610371983409, 1.350264431529778, 0.5408179423679065, 0.9082479053654744, 0.7069767492991279, 0.13019795076909318, 1.1282516887737086, 1.747822457753705, 1.1991010788063432, 0.25207171650754456, 0.18816983036314108, 0.8539774592252419, 0.00027423242096450177, 2.3615316526291985, 1.1081702271247518, 0.1720795612082035, 0.4685511660296994, 0.14548278138294873, 0.06695480734404455, 0.04695989997971613, 1.304340085601986, 0.3004069831905211, 0.3285035098188163, 0.18408980579232542, 0.575668330094647, 0.06211278056024565, 0.2980839207808471, 0.6900263190687328, 0.9466928356118943, 0.4369369161764057, 0.5739310383836496, 1.6449112745434582, 1.7630502680546434, 0.42499331331685625, 0.2682487501446132, 0.6439931869255161, 1.2890874571532962, 0.3372180775483443, 1.1368618824392678, 0.09908569591730172, 0.22941801268669706, 2.274530159793604, 2.084826865936759, 0.02246326885110578, 0.9976814010788779, 1.203611465436587, 1.4404546117895198, 1.0945896626940594, 0.12331873437293468, 0.07486416417015195, 0.7159735904353373, 1.441541741269909, 1.6511113002928979, 0.20752755106164675, 0.6866692431899022, 0.5253434684781135, 0.34121696680681823, 0.7101377241544234, 0.8673374851513335, 0.6693814303903495, 0.33747861279895386, 0.43421948846386565, 0.5896906486777742, 0.8577732734671204, 0.8822318167813604, 0.8355998873733064, 0.2671808432114606, 0.38149373806550346, 0.39710818594576847, 0.0016939175901426367, 0.27169299128835644, 0.18503242288638252, 0.2874110489074513, 1.2917036599964835, 0.012806392764316277, 0.6013187829788086, 0.2887690472805458, 0.5294632809754649, 0.4671865195622524], \"xaxis\": \"x5\", \"y\": [-0.1486870569660644, 0.39248607716009937, -0.7051592443933776, 0.27576110754488387, -0.7802285366256736, -0.32929780839891537, -1.087810196165536, 1.2605600894157034, -0.6162220153584765, -0.11030956050421618, 1.642528183340233, -1.2471083408197337, -0.5030824358409205, 0.44198222958182076, 0.46872327753545967, 0.7832720942473845, -1.816832134632092, -0.7734372708387459, -0.9663161807866139, -2.3035477810580884, -0.6424602387239299, -0.31914331999725876, -0.41844043091859484, 0.1781758613682762, 0.157684394184153, 0.41595274357957573, 0.5891850592042421, 0.454834731394502, -0.14870591833136512, 0.7917259872985981, -1.6466753374193293, -0.5984417164356648, 0.3653669533476257, 0.6013941003199482, 1.0281964811508901, -0.29834588163580716, -1.5812091606674015, -0.4949013337856304, -1.0499374247496878, -0.25492516141576343, -1.347720027956506, 1.1167699738973915, 1.087498437295148, -0.3627318007990501, -0.9841088308619188, -0.24774969270479127, -0.10622973456180605, 0.7743684307462901, -0.02005363965663801, -0.28863295343821105, -0.24808140074432009, 0.6771989860434181, 1.5103210368836282, -0.4484038407099252, -0.1027729276442637, 0.4150356400669393, -0.8696069965432033, 0.11551999215410763, 1.0162559751767088, -0.1739788003636956, -0.2799898988878147, 1.9689679185639573, -1.3712364456885864, -0.062367008698916995, 0.1622031476510854, -0.0955223967895753, -1.5029096551345607, 0.8754195676784564, -0.5524799575282217, -0.0980995694221568, 0.7693585830793594, 0.2854937541855559, -0.6581872556779551, 2.114936095689492, 0.059169867679413055, 0.2932317898134375, 0.3618512027631301, -0.1705460913024023, -0.029204570730282167, -0.7415372272530977, -0.7651224698222944, 1.1547221513795514, -0.33103781811196065, -0.4952355302309878, 0.7267534144738079, -0.7882902125536603, 0.312778641188715, -0.11825028351583512, -0.9180040351441507, 0.587033645365291, 0.3798610800599315, 0.21441879761051574, 1.1707497307467345, 1.1275071326418369, -0.8479588333638166, -0.058157108364463896, -0.7560319712251692, 1.8283683259669392, 1.2952801263299962, 2.46499250024484], \"yaxis\": \"y5\"}, {\"line\": {\"color\": \"rgba(128, 128, 128, 1.0)\", \"dash\": \"solid\", \"shape\": \"linear\", \"width\": 1.3}, \"marker\": {\"size\": 2, \"symbol\": \"circle\"}, \"mode\": \"markers\", \"name\": \"B\", \"text\": \"\", \"type\": \"scatter\", \"x\": [-0.1486870569660644, 0.39248607716009937, -0.7051592443933776, 0.27576110754488387, -0.7802285366256736, -0.32929780839891537, -1.087810196165536, 1.2605600894157034, -0.6162220153584765, -0.11030956050421618, 1.642528183340233, -1.2471083408197337, -0.5030824358409205, 0.44198222958182076, 0.46872327753545967, 0.7832720942473845, -1.816832134632092, -0.7734372708387459, -0.9663161807866139, -2.3035477810580884, -0.6424602387239299, -0.31914331999725876, -0.41844043091859484, 0.1781758613682762, 0.157684394184153, 0.41595274357957573, 0.5891850592042421, 0.454834731394502, -0.14870591833136512, 0.7917259872985981, -1.6466753374193293, -0.5984417164356648, 0.3653669533476257, 0.6013941003199482, 1.0281964811508901, -0.29834588163580716, -1.5812091606674015, -0.4949013337856304, -1.0499374247496878, -0.25492516141576343, -1.347720027956506, 1.1167699738973915, 1.087498437295148, -0.3627318007990501, -0.9841088308619188, -0.24774969270479127, -0.10622973456180605, 0.7743684307462901, -0.02005363965663801, -0.28863295343821105, -0.24808140074432009, 0.6771989860434181, 1.5103210368836282, -0.4484038407099252, -0.1027729276442637, 0.4150356400669393, -0.8696069965432033, 0.11551999215410763, 1.0162559751767088, -0.1739788003636956, -0.2799898988878147, 1.9689679185639573, -1.3712364456885864, -0.062367008698916995, 0.1622031476510854, -0.0955223967895753, -1.5029096551345607, 0.8754195676784564, -0.5524799575282217, -0.0980995694221568, 0.7693585830793594, 0.2854937541855559, -0.6581872556779551, 2.114936095689492, 0.059169867679413055, 0.2932317898134375, 0.3618512027631301, -0.1705460913024023, -0.029204570730282167, -0.7415372272530977, -0.7651224698222944, 1.1547221513795514, -0.33103781811196065, -0.4952355302309878, 0.7267534144738079, -0.7882902125536603, 0.312778641188715, -0.11825028351583512, -0.9180040351441507, 0.587033645365291, 0.3798610800599315, 0.21441879761051574, 1.1707497307467345, 1.1275071326418369, -0.8479588333638166, -0.058157108364463896, -0.7560319712251692, 1.8283683259669392, 1.2952801263299962, 2.46499250024484], \"xaxis\": \"x6\", \"y\": [-0.13720291276205954, 0.7360290366001643, 0.6182914547488014, -0.41717865842575486, 0.7616049708336934, 1.255700448517242, -0.7878477215044183, 0.4094201423714498, -3.0777284071151, 0.2962713084261198, -0.7566439163766893, 0.6805595530508529, -0.8140383734076175, -0.3756519163109862, 1.1209571938669993, 0.7109715243740368, 0.2706370322757297, 0.5173522166570037, 0.1412707917259537, 1.7956131042028805, -0.37740080006068927, -0.0705594757231226, 0.00017043336379697554, -1.0807897118199614, -0.8927637981588197, 1.157805138567086, -0.3890743339711945, -0.2998728491363871, -0.7629484122608581, -1.5568150046882465, 1.5926536293276692, 1.065928900246484, 1.3951763524319545, 2.361874775141413, -0.6703775046596167, 0.6874294250674926, -0.11962209780754239, -0.6757993702607386, 0.10369601942428011, -1.3706785393771903, 0.5150297006610829, -0.20348877806099472, 1.278848828762823, -1.3672379451360985, 0.5084740282707778, 2.999494366246489, 0.10681899651937042, 0.9167978639920289, -0.9777499167088237, 0.4298857429657398, -0.7956504240436582, -1.8406413912670503, -0.9271791648378976, -0.14817646279579028, -0.31747939699923206, -0.18223864047336216, 0.3284940245408851, 1.3411829957637205, -0.3643147505889812, 0.17639462525327843, -1.2086092815298164, -1.0846769577310682, -1.605427128703998, 0.24649724788045124, -0.11866380461086354, 1.239307253391713, 0.12871910997126498, -2.0949804045461393, 0.2767507297426342, -0.752300159792606, 0.004858035242644644, 0.1906322672214624, 0.3386326129851458, 0.9664630145228903, -0.0014315777408607548, -0.9170153450824298, 0.8204004032861612, 0.9643199571799043, -0.777725262632196, 0.7731495467328146, 0.18062328973014358, 0.9924833750682206, 0.20767988730408643, -0.17496783608048996, 0.0015769199486528167, -0.2760927778043612, -0.24972687617797515, -0.687187293033468, 0.8739237743337697, -0.6687555318032616, -0.13323519699988973, 1.142363840492469, -0.270683968952354, 1.2213182143797743, -0.6530838403596835, -0.07887886921673892, -0.15949726608677098, -1.2083725357104302, 0.005487941892006171, 0.4713064898610162], \"yaxis\": \"y6\"}, {\"histfunc\": \"count\", \"histnorm\": \"\", \"marker\": {\"color\": \"rgba(55, 128, 191, 1.0)\", \"line\": {\"color\": \"#4D5663\", \"width\": 1.3}}, \"name\": \"B\", \"nbinsx\": 10, \"opacity\": 0.8, \"orientation\": \"v\", \"type\": \"histogram\", \"x\": [-0.13720291276205954, 0.7360290366001643, 0.6182914547488014, -0.41717865842575486, 0.7616049708336934, 1.255700448517242, -0.7878477215044183, 0.4094201423714498, -3.0777284071151, 0.2962713084261198, -0.7566439163766893, 0.6805595530508529, -0.8140383734076175, -0.3756519163109862, 1.1209571938669993, 0.7109715243740368, 0.2706370322757297, 0.5173522166570037, 0.1412707917259537, 1.7956131042028805, -0.37740080006068927, -0.0705594757231226, 0.00017043336379697554, -1.0807897118199614, -0.8927637981588197, 1.157805138567086, -0.3890743339711945, -0.2998728491363871, -0.7629484122608581, -1.5568150046882465, 1.5926536293276692, 1.065928900246484, 1.3951763524319545, 2.361874775141413, -0.6703775046596167, 0.6874294250674926, -0.11962209780754239, -0.6757993702607386, 0.10369601942428011, -1.3706785393771903, 0.5150297006610829, -0.20348877806099472, 1.278848828762823, -1.3672379451360985, 0.5084740282707778, 2.999494366246489, 0.10681899651937042, 0.9167978639920289, -0.9777499167088237, 0.4298857429657398, -0.7956504240436582, -1.8406413912670503, -0.9271791648378976, -0.14817646279579028, -0.31747939699923206, -0.18223864047336216, 0.3284940245408851, 1.3411829957637205, -0.3643147505889812, 0.17639462525327843, -1.2086092815298164, -1.0846769577310682, -1.605427128703998, 0.24649724788045124, -0.11866380461086354, 1.239307253391713, 0.12871910997126498, -2.0949804045461393, 0.2767507297426342, -0.752300159792606, 0.004858035242644644, 0.1906322672214624, 0.3386326129851458, 0.9664630145228903, -0.0014315777408607548, -0.9170153450824298, 0.8204004032861612, 0.9643199571799043, -0.777725262632196, 0.7731495467328146, 0.18062328973014358, 0.9924833750682206, 0.20767988730408643, -0.17496783608048996, 0.0015769199486528167, -0.2760927778043612, -0.24972687617797515, -0.687187293033468, 0.8739237743337697, -0.6687555318032616, -0.13323519699988973, 1.142363840492469, -0.270683968952354, 1.2213182143797743, -0.6530838403596835, -0.07887886921673892, -0.15949726608677098, -1.2083725357104302, 0.005487941892006171, 0.4713064898610162], \"xaxis\": \"x7\", \"yaxis\": \"y7\"}, {\"line\": {\"color\": \"rgba(128, 128, 128, 1.0)\", \"dash\": \"solid\", \"shape\": \"linear\", \"width\": 1.3}, \"marker\": {\"size\": 2, \"symbol\": \"circle\"}, \"mode\": \"markers\", \"name\": \"B\", \"text\": \"\", \"type\": \"scatter\", \"x\": [0.9772588645208288, 0.031095691670485027, -0.4517709119065063, -0.11505177760843294, 1.4013872068608693, 0.12439243290780622, 0.3143384594106518, -0.5961004707616886, -1.65968642352273, -0.8433833213279801, -0.8790929369988937, 0.9097731167884134, -0.25449939223936224, -1.7474010052042062, -0.03195149495193755, 0.338535606682914, 0.5861914699834533, -0.7852693129036312, -1.0256124153016837, 0.4960274764979757, 1.6404394193794958, -0.5842610371983409, 1.350264431529778, 0.5408179423679065, -0.9082479053654744, -0.7069767492991279, 0.13019795076909318, 1.1282516887737086, 1.747822457753705, 1.1991010788063432, 0.25207171650754456, -0.18816983036314108, -0.8539774592252419, 0.00027423242096450177, -2.3615316526291985, 1.1081702271247518, -0.1720795612082035, 0.4685511660296994, -0.14548278138294873, 0.06695480734404455, -0.04695989997971613, 1.304340085601986, 0.3004069831905211, -0.3285035098188163, -0.18408980579232542, -0.575668330094647, 0.06211278056024565, -0.2980839207808471, -0.6900263190687328, 0.9466928356118943, 0.4369369161764057, 0.5739310383836496, 1.6449112745434582, -1.7630502680546434, 0.42499331331685625, -0.2682487501446132, -0.6439931869255161, -1.2890874571532962, 0.3372180775483443, 1.1368618824392678, -0.09908569591730172, 0.22941801268669706, 2.274530159793604, -2.084826865936759, 0.02246326885110578, -0.9976814010788779, -1.203611465436587, -1.4404546117895198, 1.0945896626940594, -0.12331873437293468, -0.07486416417015195, -0.7159735904353373, -1.441541741269909, -1.6511113002928979, 0.20752755106164675, 0.6866692431899022, -0.5253434684781135, -0.34121696680681823, -0.7101377241544234, 0.8673374851513335, 0.6693814303903495, 0.33747861279895386, 0.43421948846386565, -0.5896906486777742, 0.8577732734671204, 0.8822318167813604, -0.8355998873733064, -0.2671808432114606, 0.38149373806550346, 0.39710818594576847, 0.0016939175901426367, 0.27169299128835644, -0.18503242288638252, 0.2874110489074513, 1.2917036599964835, 0.012806392764316277, -0.6013187829788086, 0.2887690472805458, 0.5294632809754649, -0.4671865195622524], \"xaxis\": \"x8\", \"y\": [-0.13720291276205954, 0.7360290366001643, 0.6182914547488014, -0.41717865842575486, 0.7616049708336934, 1.255700448517242, -0.7878477215044183, 0.4094201423714498, -3.0777284071151, 0.2962713084261198, -0.7566439163766893, 0.6805595530508529, -0.8140383734076175, -0.3756519163109862, 1.1209571938669993, 0.7109715243740368, 0.2706370322757297, 0.5173522166570037, 0.1412707917259537, 1.7956131042028805, -0.37740080006068927, -0.0705594757231226, 0.00017043336379697554, -1.0807897118199614, -0.8927637981588197, 1.157805138567086, -0.3890743339711945, -0.2998728491363871, -0.7629484122608581, -1.5568150046882465, 1.5926536293276692, 1.065928900246484, 1.3951763524319545, 2.361874775141413, -0.6703775046596167, 0.6874294250674926, -0.11962209780754239, -0.6757993702607386, 0.10369601942428011, -1.3706785393771903, 0.5150297006610829, -0.20348877806099472, 1.278848828762823, -1.3672379451360985, 0.5084740282707778, 2.999494366246489, 0.10681899651937042, 0.9167978639920289, -0.9777499167088237, 0.4298857429657398, -0.7956504240436582, -1.8406413912670503, -0.9271791648378976, -0.14817646279579028, -0.31747939699923206, -0.18223864047336216, 0.3284940245408851, 1.3411829957637205, -0.3643147505889812, 0.17639462525327843, -1.2086092815298164, -1.0846769577310682, -1.605427128703998, 0.24649724788045124, -0.11866380461086354, 1.239307253391713, 0.12871910997126498, -2.0949804045461393, 0.2767507297426342, -0.752300159792606, 0.004858035242644644, 0.1906322672214624, 0.3386326129851458, 0.9664630145228903, -0.0014315777408607548, -0.9170153450824298, 0.8204004032861612, 0.9643199571799043, -0.777725262632196, 0.7731495467328146, 0.18062328973014358, 0.9924833750682206, 0.20767988730408643, -0.17496783608048996, 0.0015769199486528167, -0.2760927778043612, -0.24972687617797515, -0.687187293033468, 0.8739237743337697, -0.6687555318032616, -0.13323519699988973, 1.142363840492469, -0.270683968952354, 1.2213182143797743, -0.6530838403596835, -0.07887886921673892, -0.15949726608677098, -1.2083725357104302, 0.005487941892006171, 0.4713064898610162], \"yaxis\": \"y8\"}, {\"line\": {\"color\": \"rgba(128, 128, 128, 1.0)\", \"dash\": \"solid\", \"shape\": \"linear\", \"width\": 1.3}, \"marker\": {\"size\": 2, \"symbol\": \"circle\"}, \"mode\": \"markers\", \"name\": \"B\", \"text\": \"\", \"type\": \"scatter\", \"x\": [0.09124207426154374, 0.23050372092668295, 0.014859888913373658, 0.6239763264699059, 0.16235480114648318, 1.4845492406294487, -0.24759749095892106, -0.4612202072965182, 0.6683144012220376, -0.46535510850761114, -0.33395440282299166, 0.3573635291563245, -1.1442608614644356, 0.17296148121397323, 0.9259288697005811, -1.1354172237080085, -0.9824537715249738, 0.7620280141971381, -0.5478607089718354, -0.02271906163973041, 0.9382739201658581, 0.06040255294631438, 1.5768722286871253, 1.1789065779684256, 0.5957667468533718, 0.6928160880203745, 0.07803318534448397, -0.7511507900485863, -2.017575266863575, -0.7542311486743793, 0.9843274467312364, 0.9223614498976392, -0.0693254979767664, -0.625152690130413, -0.6965352404178793, 0.16506324429332273, -1.3565483683732344, 0.6732798515567434, -0.36557683850328776, 1.2172166050384277, 0.019235232902732866, 0.17912685594107225, 1.7899803581562799, 1.0009507152107793, 0.2192444165275358, -0.5131790606950488, 1.8891102583364106, 0.5321953810646466, -0.6644872263417928, -0.12309162364411347, -0.31339044568114677, -0.25054260467209893, -0.27939346708240065, -1.2162483585682222, 0.8697394362378188, -1.6708438737163958, -2.3312698618270753, 0.644992665599839, 0.6095144094932191, 0.49378481933131374, 0.9317908390993053, 0.32139932260319765, 1.0040081325122843, 0.6759993179706805, -0.13810627740614917, 0.8594883991882487, 0.2555764941620284, 0.9307411415069429, -1.4115427388612543, -0.08438065706766976, 0.3677178589278481, 1.0088429569294157, 0.9926769433668462, 0.7830876388691718, -0.650139602099969, 0.03227373601388025, 0.27477362140694533, 1.3928724370929564, 1.209919303897628, -0.3224507855553749, 0.49539365772792204, -0.7065013288865348, 0.7964809892009287, 1.5097441064074213, 1.4462034803456403, 1.0269528923873075, 0.4500910963989715, 0.7349224726807688, 1.227614343659497, 0.738796879112678, 0.776915386590465, -1.2574127005090718, -0.38990474087731036, 0.04920506131048392, -0.17230849326652384, -0.33656939690551585, 1.0046983868385404, -0.2261403969988013, 1.3273304506972414, -0.6846365084550697], \"xaxis\": \"x9\", \"y\": [-0.13720291276205954, 0.7360290366001643, 0.6182914547488014, -0.41717865842575486, 0.7616049708336934, 1.255700448517242, -0.7878477215044183, 0.4094201423714498, -3.0777284071151, 0.2962713084261198, -0.7566439163766893, 0.6805595530508529, -0.8140383734076175, -0.3756519163109862, 1.1209571938669993, 0.7109715243740368, 0.2706370322757297, 0.5173522166570037, 0.1412707917259537, 1.7956131042028805, -0.37740080006068927, -0.0705594757231226, 0.00017043336379697554, -1.0807897118199614, -0.8927637981588197, 1.157805138567086, -0.3890743339711945, -0.2998728491363871, -0.7629484122608581, -1.5568150046882465, 1.5926536293276692, 1.065928900246484, 1.3951763524319545, 2.361874775141413, -0.6703775046596167, 0.6874294250674926, -0.11962209780754239, -0.6757993702607386, 0.10369601942428011, -1.3706785393771903, 0.5150297006610829, -0.20348877806099472, 1.278848828762823, -1.3672379451360985, 0.5084740282707778, 2.999494366246489, 0.10681899651937042, 0.9167978639920289, -0.9777499167088237, 0.4298857429657398, -0.7956504240436582, -1.8406413912670503, -0.9271791648378976, -0.14817646279579028, -0.31747939699923206, -0.18223864047336216, 0.3284940245408851, 1.3411829957637205, -0.3643147505889812, 0.17639462525327843, -1.2086092815298164, -1.0846769577310682, -1.605427128703998, 0.24649724788045124, -0.11866380461086354, 1.239307253391713, 0.12871910997126498, -2.0949804045461393, 0.2767507297426342, -0.752300159792606, 0.004858035242644644, 0.1906322672214624, 0.3386326129851458, 0.9664630145228903, -0.0014315777408607548, -0.9170153450824298, 0.8204004032861612, 0.9643199571799043, -0.777725262632196, 0.7731495467328146, 0.18062328973014358, 0.9924833750682206, 0.20767988730408643, -0.17496783608048996, 0.0015769199486528167, -0.2760927778043612, -0.24972687617797515, -0.687187293033468, 0.8739237743337697, -0.6687555318032616, -0.13323519699988973, 1.142363840492469, -0.270683968952354, 1.2213182143797743, -0.6530838403596835, -0.07887886921673892, -0.15949726608677098, -1.2083725357104302, 0.005487941892006171, 0.4713064898610162], \"yaxis\": \"y9\"}, {\"line\": {\"color\": \"rgba(128, 128, 128, 1.0)\", \"dash\": \"solid\", \"shape\": \"linear\", \"width\": 1.3}, \"marker\": {\"size\": 2, \"symbol\": \"circle\"}, \"mode\": \"markers\", \"name\": \"B\", \"text\": \"\", \"type\": \"scatter\", \"x\": [0.9772588645208288, 0.031095691670485027, 0.4517709119065063, 0.11505177760843294, 1.4013872068608693, 0.12439243290780622, 0.3143384594106518, 0.5961004707616886, 1.65968642352273, 0.8433833213279801, 0.8790929369988937, 0.9097731167884134, 0.25449939223936224, 1.7474010052042062, 0.03195149495193755, 0.338535606682914, 0.5861914699834533, 0.7852693129036312, 1.0256124153016837, 0.4960274764979757, 1.6404394193794958, 0.5842610371983409, 1.350264431529778, 0.5408179423679065, 0.9082479053654744, 0.7069767492991279, 0.13019795076909318, 1.1282516887737086, 1.747822457753705, 1.1991010788063432, 0.25207171650754456, 0.18816983036314108, 0.8539774592252419, 0.00027423242096450177, 2.3615316526291985, 1.1081702271247518, 0.1720795612082035, 0.4685511660296994, 0.14548278138294873, 0.06695480734404455, 0.04695989997971613, 1.304340085601986, 0.3004069831905211, 0.3285035098188163, 0.18408980579232542, 0.575668330094647, 0.06211278056024565, 0.2980839207808471, 0.6900263190687328, 0.9466928356118943, 0.4369369161764057, 0.5739310383836496, 1.6449112745434582, 1.7630502680546434, 0.42499331331685625, 0.2682487501446132, 0.6439931869255161, 1.2890874571532962, 0.3372180775483443, 1.1368618824392678, 0.09908569591730172, 0.22941801268669706, 2.274530159793604, 2.084826865936759, 0.02246326885110578, 0.9976814010788779, 1.203611465436587, 1.4404546117895198, 1.0945896626940594, 0.12331873437293468, 0.07486416417015195, 0.7159735904353373, 1.441541741269909, 1.6511113002928979, 0.20752755106164675, 0.6866692431899022, 0.5253434684781135, 0.34121696680681823, 0.7101377241544234, 0.8673374851513335, 0.6693814303903495, 0.33747861279895386, 0.43421948846386565, 0.5896906486777742, 0.8577732734671204, 0.8822318167813604, 0.8355998873733064, 0.2671808432114606, 0.38149373806550346, 0.39710818594576847, 0.0016939175901426367, 0.27169299128835644, 0.18503242288638252, 0.2874110489074513, 1.2917036599964835, 0.012806392764316277, 0.6013187829788086, 0.2887690472805458, 0.5294632809754649, 0.4671865195622524], \"xaxis\": \"x10\", \"y\": [-0.13720291276205954, 0.7360290366001643, 0.6182914547488014, -0.41717865842575486, 0.7616049708336934, 1.255700448517242, -0.7878477215044183, 0.4094201423714498, -3.0777284071151, 0.2962713084261198, -0.7566439163766893, 0.6805595530508529, -0.8140383734076175, -0.3756519163109862, 1.1209571938669993, 0.7109715243740368, 0.2706370322757297, 0.5173522166570037, 0.1412707917259537, 1.7956131042028805, -0.37740080006068927, -0.0705594757231226, 0.00017043336379697554, -1.0807897118199614, -0.8927637981588197, 1.157805138567086, -0.3890743339711945, -0.2998728491363871, -0.7629484122608581, -1.5568150046882465, 1.5926536293276692, 1.065928900246484, 1.3951763524319545, 2.361874775141413, -0.6703775046596167, 0.6874294250674926, -0.11962209780754239, -0.6757993702607386, 0.10369601942428011, -1.3706785393771903, 0.5150297006610829, -0.20348877806099472, 1.278848828762823, -1.3672379451360985, 0.5084740282707778, 2.999494366246489, 0.10681899651937042, 0.9167978639920289, -0.9777499167088237, 0.4298857429657398, -0.7956504240436582, -1.8406413912670503, -0.9271791648378976, -0.14817646279579028, -0.31747939699923206, -0.18223864047336216, 0.3284940245408851, 1.3411829957637205, -0.3643147505889812, 0.17639462525327843, -1.2086092815298164, -1.0846769577310682, -1.605427128703998, 0.24649724788045124, -0.11866380461086354, 1.239307253391713, 0.12871910997126498, -2.0949804045461393, 0.2767507297426342, -0.752300159792606, 0.004858035242644644, 0.1906322672214624, 0.3386326129851458, 0.9664630145228903, -0.0014315777408607548, -0.9170153450824298, 0.8204004032861612, 0.9643199571799043, -0.777725262632196, 0.7731495467328146, 0.18062328973014358, 0.9924833750682206, 0.20767988730408643, -0.17496783608048996, 0.0015769199486528167, -0.2760927778043612, -0.24972687617797515, -0.687187293033468, 0.8739237743337697, -0.6687555318032616, -0.13323519699988973, 1.142363840492469, -0.270683968952354, 1.2213182143797743, -0.6530838403596835, -0.07887886921673892, -0.15949726608677098, -1.2083725357104302, 0.005487941892006171, 0.4713064898610162], \"yaxis\": \"y10\"}, {\"line\": {\"color\": \"rgba(128, 128, 128, 1.0)\", \"dash\": \"solid\", \"shape\": \"linear\", \"width\": 1.3}, \"marker\": {\"size\": 2, \"symbol\": \"circle\"}, \"mode\": \"markers\", \"name\": \"C\", \"text\": \"\", \"type\": \"scatter\", \"x\": [-0.1486870569660644, 0.39248607716009937, -0.7051592443933776, 0.27576110754488387, -0.7802285366256736, -0.32929780839891537, -1.087810196165536, 1.2605600894157034, -0.6162220153584765, -0.11030956050421618, 1.642528183340233, -1.2471083408197337, -0.5030824358409205, 0.44198222958182076, 0.46872327753545967, 0.7832720942473845, -1.816832134632092, -0.7734372708387459, -0.9663161807866139, -2.3035477810580884, -0.6424602387239299, -0.31914331999725876, -0.41844043091859484, 0.1781758613682762, 0.157684394184153, 0.41595274357957573, 0.5891850592042421, 0.454834731394502, -0.14870591833136512, 0.7917259872985981, -1.6466753374193293, -0.5984417164356648, 0.3653669533476257, 0.6013941003199482, 1.0281964811508901, -0.29834588163580716, -1.5812091606674015, -0.4949013337856304, -1.0499374247496878, -0.25492516141576343, -1.347720027956506, 1.1167699738973915, 1.087498437295148, -0.3627318007990501, -0.9841088308619188, -0.24774969270479127, -0.10622973456180605, 0.7743684307462901, -0.02005363965663801, -0.28863295343821105, -0.24808140074432009, 0.6771989860434181, 1.5103210368836282, -0.4484038407099252, -0.1027729276442637, 0.4150356400669393, -0.8696069965432033, 0.11551999215410763, 1.0162559751767088, -0.1739788003636956, -0.2799898988878147, 1.9689679185639573, -1.3712364456885864, -0.062367008698916995, 0.1622031476510854, -0.0955223967895753, -1.5029096551345607, 0.8754195676784564, -0.5524799575282217, -0.0980995694221568, 0.7693585830793594, 0.2854937541855559, -0.6581872556779551, 2.114936095689492, 0.059169867679413055, 0.2932317898134375, 0.3618512027631301, -0.1705460913024023, -0.029204570730282167, -0.7415372272530977, -0.7651224698222944, 1.1547221513795514, -0.33103781811196065, -0.4952355302309878, 0.7267534144738079, -0.7882902125536603, 0.312778641188715, -0.11825028351583512, -0.9180040351441507, 0.587033645365291, 0.3798610800599315, 0.21441879761051574, 1.1707497307467345, 1.1275071326418369, -0.8479588333638166, -0.058157108364463896, -0.7560319712251692, 1.8283683259669392, 1.2952801263299962, 2.46499250024484], \"xaxis\": \"x11\", \"y\": [0.9772588645208288, 0.031095691670485027, -0.4517709119065063, -0.11505177760843294, 1.4013872068608693, 0.12439243290780622, 0.3143384594106518, -0.5961004707616886, -1.65968642352273, -0.8433833213279801, -0.8790929369988937, 0.9097731167884134, -0.25449939223936224, -1.7474010052042062, -0.03195149495193755, 0.338535606682914, 0.5861914699834533, -0.7852693129036312, -1.0256124153016837, 0.4960274764979757, 1.6404394193794958, -0.5842610371983409, 1.350264431529778, 0.5408179423679065, -0.9082479053654744, -0.7069767492991279, 0.13019795076909318, 1.1282516887737086, 1.747822457753705, 1.1991010788063432, 0.25207171650754456, -0.18816983036314108, -0.8539774592252419, 0.00027423242096450177, -2.3615316526291985, 1.1081702271247518, -0.1720795612082035, 0.4685511660296994, -0.14548278138294873, 0.06695480734404455, -0.04695989997971613, 1.304340085601986, 0.3004069831905211, -0.3285035098188163, -0.18408980579232542, -0.575668330094647, 0.06211278056024565, -0.2980839207808471, -0.6900263190687328, 0.9466928356118943, 0.4369369161764057, 0.5739310383836496, 1.6449112745434582, -1.7630502680546434, 0.42499331331685625, -0.2682487501446132, -0.6439931869255161, -1.2890874571532962, 0.3372180775483443, 1.1368618824392678, -0.09908569591730172, 0.22941801268669706, 2.274530159793604, -2.084826865936759, 0.02246326885110578, -0.9976814010788779, -1.203611465436587, -1.4404546117895198, 1.0945896626940594, -0.12331873437293468, -0.07486416417015195, -0.7159735904353373, -1.441541741269909, -1.6511113002928979, 0.20752755106164675, 0.6866692431899022, -0.5253434684781135, -0.34121696680681823, -0.7101377241544234, 0.8673374851513335, 0.6693814303903495, 0.33747861279895386, 0.43421948846386565, -0.5896906486777742, 0.8577732734671204, 0.8822318167813604, -0.8355998873733064, -0.2671808432114606, 0.38149373806550346, 0.39710818594576847, 0.0016939175901426367, 0.27169299128835644, -0.18503242288638252, 0.2874110489074513, 1.2917036599964835, 0.012806392764316277, -0.6013187829788086, 0.2887690472805458, 0.5294632809754649, -0.4671865195622524], \"yaxis\": \"y11\"}, {\"line\": {\"color\": \"rgba(128, 128, 128, 1.0)\", \"dash\": \"solid\", \"shape\": \"linear\", \"width\": 1.3}, \"marker\": {\"size\": 2, \"symbol\": \"circle\"}, \"mode\": \"markers\", \"name\": \"C\", \"text\": \"\", \"type\": \"scatter\", \"x\": [-0.13720291276205954, 0.7360290366001643, 0.6182914547488014, -0.41717865842575486, 0.7616049708336934, 1.255700448517242, -0.7878477215044183, 0.4094201423714498, -3.0777284071151, 0.2962713084261198, -0.7566439163766893, 0.6805595530508529, -0.8140383734076175, -0.3756519163109862, 1.1209571938669993, 0.7109715243740368, 0.2706370322757297, 0.5173522166570037, 0.1412707917259537, 1.7956131042028805, -0.37740080006068927, -0.0705594757231226, 0.00017043336379697554, -1.0807897118199614, -0.8927637981588197, 1.157805138567086, -0.3890743339711945, -0.2998728491363871, -0.7629484122608581, -1.5568150046882465, 1.5926536293276692, 1.065928900246484, 1.3951763524319545, 2.361874775141413, -0.6703775046596167, 0.6874294250674926, -0.11962209780754239, -0.6757993702607386, 0.10369601942428011, -1.3706785393771903, 0.5150297006610829, -0.20348877806099472, 1.278848828762823, -1.3672379451360985, 0.5084740282707778, 2.999494366246489, 0.10681899651937042, 0.9167978639920289, -0.9777499167088237, 0.4298857429657398, -0.7956504240436582, -1.8406413912670503, -0.9271791648378976, -0.14817646279579028, -0.31747939699923206, -0.18223864047336216, 0.3284940245408851, 1.3411829957637205, -0.3643147505889812, 0.17639462525327843, -1.2086092815298164, -1.0846769577310682, -1.605427128703998, 0.24649724788045124, -0.11866380461086354, 1.239307253391713, 0.12871910997126498, -2.0949804045461393, 0.2767507297426342, -0.752300159792606, 0.004858035242644644, 0.1906322672214624, 0.3386326129851458, 0.9664630145228903, -0.0014315777408607548, -0.9170153450824298, 0.8204004032861612, 0.9643199571799043, -0.777725262632196, 0.7731495467328146, 0.18062328973014358, 0.9924833750682206, 0.20767988730408643, -0.17496783608048996, 0.0015769199486528167, -0.2760927778043612, -0.24972687617797515, -0.687187293033468, 0.8739237743337697, -0.6687555318032616, -0.13323519699988973, 1.142363840492469, -0.270683968952354, 1.2213182143797743, -0.6530838403596835, -0.07887886921673892, -0.15949726608677098, -1.2083725357104302, 0.005487941892006171, 0.4713064898610162], \"xaxis\": \"x12\", \"y\": [0.9772588645208288, 0.031095691670485027, -0.4517709119065063, -0.11505177760843294, 1.4013872068608693, 0.12439243290780622, 0.3143384594106518, -0.5961004707616886, -1.65968642352273, -0.8433833213279801, -0.8790929369988937, 0.9097731167884134, -0.25449939223936224, -1.7474010052042062, -0.03195149495193755, 0.338535606682914, 0.5861914699834533, -0.7852693129036312, -1.0256124153016837, 0.4960274764979757, 1.6404394193794958, -0.5842610371983409, 1.350264431529778, 0.5408179423679065, -0.9082479053654744, -0.7069767492991279, 0.13019795076909318, 1.1282516887737086, 1.747822457753705, 1.1991010788063432, 0.25207171650754456, -0.18816983036314108, -0.8539774592252419, 0.00027423242096450177, -2.3615316526291985, 1.1081702271247518, -0.1720795612082035, 0.4685511660296994, -0.14548278138294873, 0.06695480734404455, -0.04695989997971613, 1.304340085601986, 0.3004069831905211, -0.3285035098188163, -0.18408980579232542, -0.575668330094647, 0.06211278056024565, -0.2980839207808471, -0.6900263190687328, 0.9466928356118943, 0.4369369161764057, 0.5739310383836496, 1.6449112745434582, -1.7630502680546434, 0.42499331331685625, -0.2682487501446132, -0.6439931869255161, -1.2890874571532962, 0.3372180775483443, 1.1368618824392678, -0.09908569591730172, 0.22941801268669706, 2.274530159793604, -2.084826865936759, 0.02246326885110578, -0.9976814010788779, -1.203611465436587, -1.4404546117895198, 1.0945896626940594, -0.12331873437293468, -0.07486416417015195, -0.7159735904353373, -1.441541741269909, -1.6511113002928979, 0.20752755106164675, 0.6866692431899022, -0.5253434684781135, -0.34121696680681823, -0.7101377241544234, 0.8673374851513335, 0.6693814303903495, 0.33747861279895386, 0.43421948846386565, -0.5896906486777742, 0.8577732734671204, 0.8822318167813604, -0.8355998873733064, -0.2671808432114606, 0.38149373806550346, 0.39710818594576847, 0.0016939175901426367, 0.27169299128835644, -0.18503242288638252, 0.2874110489074513, 1.2917036599964835, 0.012806392764316277, -0.6013187829788086, 0.2887690472805458, 0.5294632809754649, -0.4671865195622524], \"yaxis\": \"y12\"}, {\"histfunc\": \"count\", \"histnorm\": \"\", \"marker\": {\"color\": \"rgba(50, 171, 96, 1.0)\", \"line\": {\"color\": \"#4D5663\", \"width\": 1.3}}, \"name\": \"C\", \"nbinsx\": 10, \"opacity\": 0.8, \"orientation\": \"v\", \"type\": \"histogram\", \"x\": [0.9772588645208288, 0.031095691670485027, -0.4517709119065063, -0.11505177760843294, 1.4013872068608693, 0.12439243290780622, 0.3143384594106518, -0.5961004707616886, -1.65968642352273, -0.8433833213279801, -0.8790929369988937, 0.9097731167884134, -0.25449939223936224, -1.7474010052042062, -0.03195149495193755, 0.338535606682914, 0.5861914699834533, -0.7852693129036312, -1.0256124153016837, 0.4960274764979757, 1.6404394193794958, -0.5842610371983409, 1.350264431529778, 0.5408179423679065, -0.9082479053654744, -0.7069767492991279, 0.13019795076909318, 1.1282516887737086, 1.747822457753705, 1.1991010788063432, 0.25207171650754456, -0.18816983036314108, -0.8539774592252419, 0.00027423242096450177, -2.3615316526291985, 1.1081702271247518, -0.1720795612082035, 0.4685511660296994, -0.14548278138294873, 0.06695480734404455, -0.04695989997971613, 1.304340085601986, 0.3004069831905211, -0.3285035098188163, -0.18408980579232542, -0.575668330094647, 0.06211278056024565, -0.2980839207808471, -0.6900263190687328, 0.9466928356118943, 0.4369369161764057, 0.5739310383836496, 1.6449112745434582, -1.7630502680546434, 0.42499331331685625, -0.2682487501446132, -0.6439931869255161, -1.2890874571532962, 0.3372180775483443, 1.1368618824392678, -0.09908569591730172, 0.22941801268669706, 2.274530159793604, -2.084826865936759, 0.02246326885110578, -0.9976814010788779, -1.203611465436587, -1.4404546117895198, 1.0945896626940594, -0.12331873437293468, -0.07486416417015195, -0.7159735904353373, -1.441541741269909, -1.6511113002928979, 0.20752755106164675, 0.6866692431899022, -0.5253434684781135, -0.34121696680681823, -0.7101377241544234, 0.8673374851513335, 0.6693814303903495, 0.33747861279895386, 0.43421948846386565, -0.5896906486777742, 0.8577732734671204, 0.8822318167813604, -0.8355998873733064, -0.2671808432114606, 0.38149373806550346, 0.39710818594576847, 0.0016939175901426367, 0.27169299128835644, -0.18503242288638252, 0.2874110489074513, 1.2917036599964835, 0.012806392764316277, -0.6013187829788086, 0.2887690472805458, 0.5294632809754649, -0.4671865195622524], \"xaxis\": \"x13\", \"yaxis\": \"y13\"}, {\"line\": {\"color\": \"rgba(128, 128, 128, 1.0)\", \"dash\": \"solid\", \"shape\": \"linear\", \"width\": 1.3}, \"marker\": {\"size\": 2, \"symbol\": \"circle\"}, \"mode\": \"markers\", \"name\": \"C\", \"text\": \"\", \"type\": \"scatter\", \"x\": [0.09124207426154374, 0.23050372092668295, 0.014859888913373658, 0.6239763264699059, 0.16235480114648318, 1.4845492406294487, -0.24759749095892106, -0.4612202072965182, 0.6683144012220376, -0.46535510850761114, -0.33395440282299166, 0.3573635291563245, -1.1442608614644356, 0.17296148121397323, 0.9259288697005811, -1.1354172237080085, -0.9824537715249738, 0.7620280141971381, -0.5478607089718354, -0.02271906163973041, 0.9382739201658581, 0.06040255294631438, 1.5768722286871253, 1.1789065779684256, 0.5957667468533718, 0.6928160880203745, 0.07803318534448397, -0.7511507900485863, -2.017575266863575, -0.7542311486743793, 0.9843274467312364, 0.9223614498976392, -0.0693254979767664, -0.625152690130413, -0.6965352404178793, 0.16506324429332273, -1.3565483683732344, 0.6732798515567434, -0.36557683850328776, 1.2172166050384277, 0.019235232902732866, 0.17912685594107225, 1.7899803581562799, 1.0009507152107793, 0.2192444165275358, -0.5131790606950488, 1.8891102583364106, 0.5321953810646466, -0.6644872263417928, -0.12309162364411347, -0.31339044568114677, -0.25054260467209893, -0.27939346708240065, -1.2162483585682222, 0.8697394362378188, -1.6708438737163958, -2.3312698618270753, 0.644992665599839, 0.6095144094932191, 0.49378481933131374, 0.9317908390993053, 0.32139932260319765, 1.0040081325122843, 0.6759993179706805, -0.13810627740614917, 0.8594883991882487, 0.2555764941620284, 0.9307411415069429, -1.4115427388612543, -0.08438065706766976, 0.3677178589278481, 1.0088429569294157, 0.9926769433668462, 0.7830876388691718, -0.650139602099969, 0.03227373601388025, 0.27477362140694533, 1.3928724370929564, 1.209919303897628, -0.3224507855553749, 0.49539365772792204, -0.7065013288865348, 0.7964809892009287, 1.5097441064074213, 1.4462034803456403, 1.0269528923873075, 0.4500910963989715, 0.7349224726807688, 1.227614343659497, 0.738796879112678, 0.776915386590465, -1.2574127005090718, -0.38990474087731036, 0.04920506131048392, -0.17230849326652384, -0.33656939690551585, 1.0046983868385404, -0.2261403969988013, 1.3273304506972414, -0.6846365084550697], \"xaxis\": \"x14\", \"y\": [0.9772588645208288, 0.031095691670485027, -0.4517709119065063, -0.11505177760843294, 1.4013872068608693, 0.12439243290780622, 0.3143384594106518, -0.5961004707616886, -1.65968642352273, -0.8433833213279801, -0.8790929369988937, 0.9097731167884134, -0.25449939223936224, -1.7474010052042062, -0.03195149495193755, 0.338535606682914, 0.5861914699834533, -0.7852693129036312, -1.0256124153016837, 0.4960274764979757, 1.6404394193794958, -0.5842610371983409, 1.350264431529778, 0.5408179423679065, -0.9082479053654744, -0.7069767492991279, 0.13019795076909318, 1.1282516887737086, 1.747822457753705, 1.1991010788063432, 0.25207171650754456, -0.18816983036314108, -0.8539774592252419, 0.00027423242096450177, -2.3615316526291985, 1.1081702271247518, -0.1720795612082035, 0.4685511660296994, -0.14548278138294873, 0.06695480734404455, -0.04695989997971613, 1.304340085601986, 0.3004069831905211, -0.3285035098188163, -0.18408980579232542, -0.575668330094647, 0.06211278056024565, -0.2980839207808471, -0.6900263190687328, 0.9466928356118943, 0.4369369161764057, 0.5739310383836496, 1.6449112745434582, -1.7630502680546434, 0.42499331331685625, -0.2682487501446132, -0.6439931869255161, -1.2890874571532962, 0.3372180775483443, 1.1368618824392678, -0.09908569591730172, 0.22941801268669706, 2.274530159793604, -2.084826865936759, 0.02246326885110578, -0.9976814010788779, -1.203611465436587, -1.4404546117895198, 1.0945896626940594, -0.12331873437293468, -0.07486416417015195, -0.7159735904353373, -1.441541741269909, -1.6511113002928979, 0.20752755106164675, 0.6866692431899022, -0.5253434684781135, -0.34121696680681823, -0.7101377241544234, 0.8673374851513335, 0.6693814303903495, 0.33747861279895386, 0.43421948846386565, -0.5896906486777742, 0.8577732734671204, 0.8822318167813604, -0.8355998873733064, -0.2671808432114606, 0.38149373806550346, 0.39710818594576847, 0.0016939175901426367, 0.27169299128835644, -0.18503242288638252, 0.2874110489074513, 1.2917036599964835, 0.012806392764316277, -0.6013187829788086, 0.2887690472805458, 0.5294632809754649, -0.4671865195622524], \"yaxis\": \"y14\"}, {\"line\": {\"color\": \"rgba(128, 128, 128, 1.0)\", \"dash\": \"solid\", \"shape\": \"linear\", \"width\": 1.3}, \"marker\": {\"size\": 2, \"symbol\": \"circle\"}, \"mode\": \"markers\", \"name\": \"C\", \"text\": \"\", \"type\": \"scatter\", \"x\": [0.9772588645208288, 0.031095691670485027, 0.4517709119065063, 0.11505177760843294, 1.4013872068608693, 0.12439243290780622, 0.3143384594106518, 0.5961004707616886, 1.65968642352273, 0.8433833213279801, 0.8790929369988937, 0.9097731167884134, 0.25449939223936224, 1.7474010052042062, 0.03195149495193755, 0.338535606682914, 0.5861914699834533, 0.7852693129036312, 1.0256124153016837, 0.4960274764979757, 1.6404394193794958, 0.5842610371983409, 1.350264431529778, 0.5408179423679065, 0.9082479053654744, 0.7069767492991279, 0.13019795076909318, 1.1282516887737086, 1.747822457753705, 1.1991010788063432, 0.25207171650754456, 0.18816983036314108, 0.8539774592252419, 0.00027423242096450177, 2.3615316526291985, 1.1081702271247518, 0.1720795612082035, 0.4685511660296994, 0.14548278138294873, 0.06695480734404455, 0.04695989997971613, 1.304340085601986, 0.3004069831905211, 0.3285035098188163, 0.18408980579232542, 0.575668330094647, 0.06211278056024565, 0.2980839207808471, 0.6900263190687328, 0.9466928356118943, 0.4369369161764057, 0.5739310383836496, 1.6449112745434582, 1.7630502680546434, 0.42499331331685625, 0.2682487501446132, 0.6439931869255161, 1.2890874571532962, 0.3372180775483443, 1.1368618824392678, 0.09908569591730172, 0.22941801268669706, 2.274530159793604, 2.084826865936759, 0.02246326885110578, 0.9976814010788779, 1.203611465436587, 1.4404546117895198, 1.0945896626940594, 0.12331873437293468, 0.07486416417015195, 0.7159735904353373, 1.441541741269909, 1.6511113002928979, 0.20752755106164675, 0.6866692431899022, 0.5253434684781135, 0.34121696680681823, 0.7101377241544234, 0.8673374851513335, 0.6693814303903495, 0.33747861279895386, 0.43421948846386565, 0.5896906486777742, 0.8577732734671204, 0.8822318167813604, 0.8355998873733064, 0.2671808432114606, 0.38149373806550346, 0.39710818594576847, 0.0016939175901426367, 0.27169299128835644, 0.18503242288638252, 0.2874110489074513, 1.2917036599964835, 0.012806392764316277, 0.6013187829788086, 0.2887690472805458, 0.5294632809754649, 0.4671865195622524], \"xaxis\": \"x15\", \"y\": [0.9772588645208288, 0.031095691670485027, -0.4517709119065063, -0.11505177760843294, 1.4013872068608693, 0.12439243290780622, 0.3143384594106518, -0.5961004707616886, -1.65968642352273, -0.8433833213279801, -0.8790929369988937, 0.9097731167884134, -0.25449939223936224, -1.7474010052042062, -0.03195149495193755, 0.338535606682914, 0.5861914699834533, -0.7852693129036312, -1.0256124153016837, 0.4960274764979757, 1.6404394193794958, -0.5842610371983409, 1.350264431529778, 0.5408179423679065, -0.9082479053654744, -0.7069767492991279, 0.13019795076909318, 1.1282516887737086, 1.747822457753705, 1.1991010788063432, 0.25207171650754456, -0.18816983036314108, -0.8539774592252419, 0.00027423242096450177, -2.3615316526291985, 1.1081702271247518, -0.1720795612082035, 0.4685511660296994, -0.14548278138294873, 0.06695480734404455, -0.04695989997971613, 1.304340085601986, 0.3004069831905211, -0.3285035098188163, -0.18408980579232542, -0.575668330094647, 0.06211278056024565, -0.2980839207808471, -0.6900263190687328, 0.9466928356118943, 0.4369369161764057, 0.5739310383836496, 1.6449112745434582, -1.7630502680546434, 0.42499331331685625, -0.2682487501446132, -0.6439931869255161, -1.2890874571532962, 0.3372180775483443, 1.1368618824392678, -0.09908569591730172, 0.22941801268669706, 2.274530159793604, -2.084826865936759, 0.02246326885110578, -0.9976814010788779, -1.203611465436587, -1.4404546117895198, 1.0945896626940594, -0.12331873437293468, -0.07486416417015195, -0.7159735904353373, -1.441541741269909, -1.6511113002928979, 0.20752755106164675, 0.6866692431899022, -0.5253434684781135, -0.34121696680681823, -0.7101377241544234, 0.8673374851513335, 0.6693814303903495, 0.33747861279895386, 0.43421948846386565, -0.5896906486777742, 0.8577732734671204, 0.8822318167813604, -0.8355998873733064, -0.2671808432114606, 0.38149373806550346, 0.39710818594576847, 0.0016939175901426367, 0.27169299128835644, -0.18503242288638252, 0.2874110489074513, 1.2917036599964835, 0.012806392764316277, -0.6013187829788086, 0.2887690472805458, 0.5294632809754649, -0.4671865195622524], \"yaxis\": \"y15\"}, {\"line\": {\"color\": \"rgba(128, 128, 128, 1.0)\", \"dash\": \"solid\", \"shape\": \"linear\", \"width\": 1.3}, \"marker\": {\"size\": 2, \"symbol\": \"circle\"}, \"mode\": \"markers\", \"name\": \"D\", \"text\": \"\", \"type\": \"scatter\", \"x\": [-0.1486870569660644, 0.39248607716009937, -0.7051592443933776, 0.27576110754488387, -0.7802285366256736, -0.32929780839891537, -1.087810196165536, 1.2605600894157034, -0.6162220153584765, -0.11030956050421618, 1.642528183340233, -1.2471083408197337, -0.5030824358409205, 0.44198222958182076, 0.46872327753545967, 0.7832720942473845, -1.816832134632092, -0.7734372708387459, -0.9663161807866139, -2.3035477810580884, -0.6424602387239299, -0.31914331999725876, -0.41844043091859484, 0.1781758613682762, 0.157684394184153, 0.41595274357957573, 0.5891850592042421, 0.454834731394502, -0.14870591833136512, 0.7917259872985981, -1.6466753374193293, -0.5984417164356648, 0.3653669533476257, 0.6013941003199482, 1.0281964811508901, -0.29834588163580716, -1.5812091606674015, -0.4949013337856304, -1.0499374247496878, -0.25492516141576343, -1.347720027956506, 1.1167699738973915, 1.087498437295148, -0.3627318007990501, -0.9841088308619188, -0.24774969270479127, -0.10622973456180605, 0.7743684307462901, -0.02005363965663801, -0.28863295343821105, -0.24808140074432009, 0.6771989860434181, 1.5103210368836282, -0.4484038407099252, -0.1027729276442637, 0.4150356400669393, -0.8696069965432033, 0.11551999215410763, 1.0162559751767088, -0.1739788003636956, -0.2799898988878147, 1.9689679185639573, -1.3712364456885864, -0.062367008698916995, 0.1622031476510854, -0.0955223967895753, -1.5029096551345607, 0.8754195676784564, -0.5524799575282217, -0.0980995694221568, 0.7693585830793594, 0.2854937541855559, -0.6581872556779551, 2.114936095689492, 0.059169867679413055, 0.2932317898134375, 0.3618512027631301, -0.1705460913024023, -0.029204570730282167, -0.7415372272530977, -0.7651224698222944, 1.1547221513795514, -0.33103781811196065, -0.4952355302309878, 0.7267534144738079, -0.7882902125536603, 0.312778641188715, -0.11825028351583512, -0.9180040351441507, 0.587033645365291, 0.3798610800599315, 0.21441879761051574, 1.1707497307467345, 1.1275071326418369, -0.8479588333638166, -0.058157108364463896, -0.7560319712251692, 1.8283683259669392, 1.2952801263299962, 2.46499250024484], \"xaxis\": \"x16\", \"y\": [0.09124207426154374, 0.23050372092668295, 0.014859888913373658, 0.6239763264699059, 0.16235480114648318, 1.4845492406294487, -0.24759749095892106, -0.4612202072965182, 0.6683144012220376, -0.46535510850761114, -0.33395440282299166, 0.3573635291563245, -1.1442608614644356, 0.17296148121397323, 0.9259288697005811, -1.1354172237080085, -0.9824537715249738, 0.7620280141971381, -0.5478607089718354, -0.02271906163973041, 0.9382739201658581, 0.06040255294631438, 1.5768722286871253, 1.1789065779684256, 0.5957667468533718, 0.6928160880203745, 0.07803318534448397, -0.7511507900485863, -2.017575266863575, -0.7542311486743793, 0.9843274467312364, 0.9223614498976392, -0.0693254979767664, -0.625152690130413, -0.6965352404178793, 0.16506324429332273, -1.3565483683732344, 0.6732798515567434, -0.36557683850328776, 1.2172166050384277, 0.019235232902732866, 0.17912685594107225, 1.7899803581562799, 1.0009507152107793, 0.2192444165275358, -0.5131790606950488, 1.8891102583364106, 0.5321953810646466, -0.6644872263417928, -0.12309162364411347, -0.31339044568114677, -0.25054260467209893, -0.27939346708240065, -1.2162483585682222, 0.8697394362378188, -1.6708438737163958, -2.3312698618270753, 0.644992665599839, 0.6095144094932191, 0.49378481933131374, 0.9317908390993053, 0.32139932260319765, 1.0040081325122843, 0.6759993179706805, -0.13810627740614917, 0.8594883991882487, 0.2555764941620284, 0.9307411415069429, -1.4115427388612543, -0.08438065706766976, 0.3677178589278481, 1.0088429569294157, 0.9926769433668462, 0.7830876388691718, -0.650139602099969, 0.03227373601388025, 0.27477362140694533, 1.3928724370929564, 1.209919303897628, -0.3224507855553749, 0.49539365772792204, -0.7065013288865348, 0.7964809892009287, 1.5097441064074213, 1.4462034803456403, 1.0269528923873075, 0.4500910963989715, 0.7349224726807688, 1.227614343659497, 0.738796879112678, 0.776915386590465, -1.2574127005090718, -0.38990474087731036, 0.04920506131048392, -0.17230849326652384, -0.33656939690551585, 1.0046983868385404, -0.2261403969988013, 1.3273304506972414, -0.6846365084550697], \"yaxis\": \"y16\"}, {\"line\": {\"color\": \"rgba(128, 128, 128, 1.0)\", \"dash\": \"solid\", \"shape\": \"linear\", \"width\": 1.3}, \"marker\": {\"size\": 2, \"symbol\": \"circle\"}, \"mode\": \"markers\", \"name\": \"D\", \"text\": \"\", \"type\": \"scatter\", \"x\": [-0.13720291276205954, 0.7360290366001643, 0.6182914547488014, -0.41717865842575486, 0.7616049708336934, 1.255700448517242, -0.7878477215044183, 0.4094201423714498, -3.0777284071151, 0.2962713084261198, -0.7566439163766893, 0.6805595530508529, -0.8140383734076175, -0.3756519163109862, 1.1209571938669993, 0.7109715243740368, 0.2706370322757297, 0.5173522166570037, 0.1412707917259537, 1.7956131042028805, -0.37740080006068927, -0.0705594757231226, 0.00017043336379697554, -1.0807897118199614, -0.8927637981588197, 1.157805138567086, -0.3890743339711945, -0.2998728491363871, -0.7629484122608581, -1.5568150046882465, 1.5926536293276692, 1.065928900246484, 1.3951763524319545, 2.361874775141413, -0.6703775046596167, 0.6874294250674926, -0.11962209780754239, -0.6757993702607386, 0.10369601942428011, -1.3706785393771903, 0.5150297006610829, -0.20348877806099472, 1.278848828762823, -1.3672379451360985, 0.5084740282707778, 2.999494366246489, 0.10681899651937042, 0.9167978639920289, -0.9777499167088237, 0.4298857429657398, -0.7956504240436582, -1.8406413912670503, -0.9271791648378976, -0.14817646279579028, -0.31747939699923206, -0.18223864047336216, 0.3284940245408851, 1.3411829957637205, -0.3643147505889812, 0.17639462525327843, -1.2086092815298164, -1.0846769577310682, -1.605427128703998, 0.24649724788045124, -0.11866380461086354, 1.239307253391713, 0.12871910997126498, -2.0949804045461393, 0.2767507297426342, -0.752300159792606, 0.004858035242644644, 0.1906322672214624, 0.3386326129851458, 0.9664630145228903, -0.0014315777408607548, -0.9170153450824298, 0.8204004032861612, 0.9643199571799043, -0.777725262632196, 0.7731495467328146, 0.18062328973014358, 0.9924833750682206, 0.20767988730408643, -0.17496783608048996, 0.0015769199486528167, -0.2760927778043612, -0.24972687617797515, -0.687187293033468, 0.8739237743337697, -0.6687555318032616, -0.13323519699988973, 1.142363840492469, -0.270683968952354, 1.2213182143797743, -0.6530838403596835, -0.07887886921673892, -0.15949726608677098, -1.2083725357104302, 0.005487941892006171, 0.4713064898610162], \"xaxis\": \"x17\", \"y\": [0.09124207426154374, 0.23050372092668295, 0.014859888913373658, 0.6239763264699059, 0.16235480114648318, 1.4845492406294487, -0.24759749095892106, -0.4612202072965182, 0.6683144012220376, -0.46535510850761114, -0.33395440282299166, 0.3573635291563245, -1.1442608614644356, 0.17296148121397323, 0.9259288697005811, -1.1354172237080085, -0.9824537715249738, 0.7620280141971381, -0.5478607089718354, -0.02271906163973041, 0.9382739201658581, 0.06040255294631438, 1.5768722286871253, 1.1789065779684256, 0.5957667468533718, 0.6928160880203745, 0.07803318534448397, -0.7511507900485863, -2.017575266863575, -0.7542311486743793, 0.9843274467312364, 0.9223614498976392, -0.0693254979767664, -0.625152690130413, -0.6965352404178793, 0.16506324429332273, -1.3565483683732344, 0.6732798515567434, -0.36557683850328776, 1.2172166050384277, 0.019235232902732866, 0.17912685594107225, 1.7899803581562799, 1.0009507152107793, 0.2192444165275358, -0.5131790606950488, 1.8891102583364106, 0.5321953810646466, -0.6644872263417928, -0.12309162364411347, -0.31339044568114677, -0.25054260467209893, -0.27939346708240065, -1.2162483585682222, 0.8697394362378188, -1.6708438737163958, -2.3312698618270753, 0.644992665599839, 0.6095144094932191, 0.49378481933131374, 0.9317908390993053, 0.32139932260319765, 1.0040081325122843, 0.6759993179706805, -0.13810627740614917, 0.8594883991882487, 0.2555764941620284, 0.9307411415069429, -1.4115427388612543, -0.08438065706766976, 0.3677178589278481, 1.0088429569294157, 0.9926769433668462, 0.7830876388691718, -0.650139602099969, 0.03227373601388025, 0.27477362140694533, 1.3928724370929564, 1.209919303897628, -0.3224507855553749, 0.49539365772792204, -0.7065013288865348, 0.7964809892009287, 1.5097441064074213, 1.4462034803456403, 1.0269528923873075, 0.4500910963989715, 0.7349224726807688, 1.227614343659497, 0.738796879112678, 0.776915386590465, -1.2574127005090718, -0.38990474087731036, 0.04920506131048392, -0.17230849326652384, -0.33656939690551585, 1.0046983868385404, -0.2261403969988013, 1.3273304506972414, -0.6846365084550697], \"yaxis\": \"y17\"}, {\"line\": {\"color\": \"rgba(128, 128, 128, 1.0)\", \"dash\": \"solid\", \"shape\": \"linear\", \"width\": 1.3}, \"marker\": {\"size\": 2, \"symbol\": \"circle\"}, \"mode\": \"markers\", \"name\": \"D\", \"text\": \"\", \"type\": \"scatter\", \"x\": [0.9772588645208288, 0.031095691670485027, -0.4517709119065063, -0.11505177760843294, 1.4013872068608693, 0.12439243290780622, 0.3143384594106518, -0.5961004707616886, -1.65968642352273, -0.8433833213279801, -0.8790929369988937, 0.9097731167884134, -0.25449939223936224, -1.7474010052042062, -0.03195149495193755, 0.338535606682914, 0.5861914699834533, -0.7852693129036312, -1.0256124153016837, 0.4960274764979757, 1.6404394193794958, -0.5842610371983409, 1.350264431529778, 0.5408179423679065, -0.9082479053654744, -0.7069767492991279, 0.13019795076909318, 1.1282516887737086, 1.747822457753705, 1.1991010788063432, 0.25207171650754456, -0.18816983036314108, -0.8539774592252419, 0.00027423242096450177, -2.3615316526291985, 1.1081702271247518, -0.1720795612082035, 0.4685511660296994, -0.14548278138294873, 0.06695480734404455, -0.04695989997971613, 1.304340085601986, 0.3004069831905211, -0.3285035098188163, -0.18408980579232542, -0.575668330094647, 0.06211278056024565, -0.2980839207808471, -0.6900263190687328, 0.9466928356118943, 0.4369369161764057, 0.5739310383836496, 1.6449112745434582, -1.7630502680546434, 0.42499331331685625, -0.2682487501446132, -0.6439931869255161, -1.2890874571532962, 0.3372180775483443, 1.1368618824392678, -0.09908569591730172, 0.22941801268669706, 2.274530159793604, -2.084826865936759, 0.02246326885110578, -0.9976814010788779, -1.203611465436587, -1.4404546117895198, 1.0945896626940594, -0.12331873437293468, -0.07486416417015195, -0.7159735904353373, -1.441541741269909, -1.6511113002928979, 0.20752755106164675, 0.6866692431899022, -0.5253434684781135, -0.34121696680681823, -0.7101377241544234, 0.8673374851513335, 0.6693814303903495, 0.33747861279895386, 0.43421948846386565, -0.5896906486777742, 0.8577732734671204, 0.8822318167813604, -0.8355998873733064, -0.2671808432114606, 0.38149373806550346, 0.39710818594576847, 0.0016939175901426367, 0.27169299128835644, -0.18503242288638252, 0.2874110489074513, 1.2917036599964835, 0.012806392764316277, -0.6013187829788086, 0.2887690472805458, 0.5294632809754649, -0.4671865195622524], \"xaxis\": \"x18\", \"y\": [0.09124207426154374, 0.23050372092668295, 0.014859888913373658, 0.6239763264699059, 0.16235480114648318, 1.4845492406294487, -0.24759749095892106, -0.4612202072965182, 0.6683144012220376, -0.46535510850761114, -0.33395440282299166, 0.3573635291563245, -1.1442608614644356, 0.17296148121397323, 0.9259288697005811, -1.1354172237080085, -0.9824537715249738, 0.7620280141971381, -0.5478607089718354, -0.02271906163973041, 0.9382739201658581, 0.06040255294631438, 1.5768722286871253, 1.1789065779684256, 0.5957667468533718, 0.6928160880203745, 0.07803318534448397, -0.7511507900485863, -2.017575266863575, -0.7542311486743793, 0.9843274467312364, 0.9223614498976392, -0.0693254979767664, -0.625152690130413, -0.6965352404178793, 0.16506324429332273, -1.3565483683732344, 0.6732798515567434, -0.36557683850328776, 1.2172166050384277, 0.019235232902732866, 0.17912685594107225, 1.7899803581562799, 1.0009507152107793, 0.2192444165275358, -0.5131790606950488, 1.8891102583364106, 0.5321953810646466, -0.6644872263417928, -0.12309162364411347, -0.31339044568114677, -0.25054260467209893, -0.27939346708240065, -1.2162483585682222, 0.8697394362378188, -1.6708438737163958, -2.3312698618270753, 0.644992665599839, 0.6095144094932191, 0.49378481933131374, 0.9317908390993053, 0.32139932260319765, 1.0040081325122843, 0.6759993179706805, -0.13810627740614917, 0.8594883991882487, 0.2555764941620284, 0.9307411415069429, -1.4115427388612543, -0.08438065706766976, 0.3677178589278481, 1.0088429569294157, 0.9926769433668462, 0.7830876388691718, -0.650139602099969, 0.03227373601388025, 0.27477362140694533, 1.3928724370929564, 1.209919303897628, -0.3224507855553749, 0.49539365772792204, -0.7065013288865348, 0.7964809892009287, 1.5097441064074213, 1.4462034803456403, 1.0269528923873075, 0.4500910963989715, 0.7349224726807688, 1.227614343659497, 0.738796879112678, 0.776915386590465, -1.2574127005090718, -0.38990474087731036, 0.04920506131048392, -0.17230849326652384, -0.33656939690551585, 1.0046983868385404, -0.2261403969988013, 1.3273304506972414, -0.6846365084550697], \"yaxis\": \"y18\"}, {\"histfunc\": \"count\", \"histnorm\": \"\", \"marker\": {\"color\": \"rgba(128, 0, 128, 1.0)\", \"line\": {\"color\": \"#4D5663\", \"width\": 1.3}}, \"name\": \"D\", \"nbinsx\": 10, \"opacity\": 0.8, \"orientation\": \"v\", \"type\": \"histogram\", \"x\": [0.09124207426154374, 0.23050372092668295, 0.014859888913373658, 0.6239763264699059, 0.16235480114648318, 1.4845492406294487, -0.24759749095892106, -0.4612202072965182, 0.6683144012220376, -0.46535510850761114, -0.33395440282299166, 0.3573635291563245, -1.1442608614644356, 0.17296148121397323, 0.9259288697005811, -1.1354172237080085, -0.9824537715249738, 0.7620280141971381, -0.5478607089718354, -0.02271906163973041, 0.9382739201658581, 0.06040255294631438, 1.5768722286871253, 1.1789065779684256, 0.5957667468533718, 0.6928160880203745, 0.07803318534448397, -0.7511507900485863, -2.017575266863575, -0.7542311486743793, 0.9843274467312364, 0.9223614498976392, -0.0693254979767664, -0.625152690130413, -0.6965352404178793, 0.16506324429332273, -1.3565483683732344, 0.6732798515567434, -0.36557683850328776, 1.2172166050384277, 0.019235232902732866, 0.17912685594107225, 1.7899803581562799, 1.0009507152107793, 0.2192444165275358, -0.5131790606950488, 1.8891102583364106, 0.5321953810646466, -0.6644872263417928, -0.12309162364411347, -0.31339044568114677, -0.25054260467209893, -0.27939346708240065, -1.2162483585682222, 0.8697394362378188, -1.6708438737163958, -2.3312698618270753, 0.644992665599839, 0.6095144094932191, 0.49378481933131374, 0.9317908390993053, 0.32139932260319765, 1.0040081325122843, 0.6759993179706805, -0.13810627740614917, 0.8594883991882487, 0.2555764941620284, 0.9307411415069429, -1.4115427388612543, -0.08438065706766976, 0.3677178589278481, 1.0088429569294157, 0.9926769433668462, 0.7830876388691718, -0.650139602099969, 0.03227373601388025, 0.27477362140694533, 1.3928724370929564, 1.209919303897628, -0.3224507855553749, 0.49539365772792204, -0.7065013288865348, 0.7964809892009287, 1.5097441064074213, 1.4462034803456403, 1.0269528923873075, 0.4500910963989715, 0.7349224726807688, 1.227614343659497, 0.738796879112678, 0.776915386590465, -1.2574127005090718, -0.38990474087731036, 0.04920506131048392, -0.17230849326652384, -0.33656939690551585, 1.0046983868385404, -0.2261403969988013, 1.3273304506972414, -0.6846365084550697], \"xaxis\": \"x19\", \"yaxis\": \"y19\"}, {\"line\": {\"color\": \"rgba(128, 128, 128, 1.0)\", \"dash\": \"solid\", \"shape\": \"linear\", \"width\": 1.3}, \"marker\": {\"size\": 2, \"symbol\": \"circle\"}, \"mode\": \"markers\", \"name\": \"D\", \"text\": \"\", \"type\": \"scatter\", \"x\": [0.9772588645208288, 0.031095691670485027, 0.4517709119065063, 0.11505177760843294, 1.4013872068608693, 0.12439243290780622, 0.3143384594106518, 0.5961004707616886, 1.65968642352273, 0.8433833213279801, 0.8790929369988937, 0.9097731167884134, 0.25449939223936224, 1.7474010052042062, 0.03195149495193755, 0.338535606682914, 0.5861914699834533, 0.7852693129036312, 1.0256124153016837, 0.4960274764979757, 1.6404394193794958, 0.5842610371983409, 1.350264431529778, 0.5408179423679065, 0.9082479053654744, 0.7069767492991279, 0.13019795076909318, 1.1282516887737086, 1.747822457753705, 1.1991010788063432, 0.25207171650754456, 0.18816983036314108, 0.8539774592252419, 0.00027423242096450177, 2.3615316526291985, 1.1081702271247518, 0.1720795612082035, 0.4685511660296994, 0.14548278138294873, 0.06695480734404455, 0.04695989997971613, 1.304340085601986, 0.3004069831905211, 0.3285035098188163, 0.18408980579232542, 0.575668330094647, 0.06211278056024565, 0.2980839207808471, 0.6900263190687328, 0.9466928356118943, 0.4369369161764057, 0.5739310383836496, 1.6449112745434582, 1.7630502680546434, 0.42499331331685625, 0.2682487501446132, 0.6439931869255161, 1.2890874571532962, 0.3372180775483443, 1.1368618824392678, 0.09908569591730172, 0.22941801268669706, 2.274530159793604, 2.084826865936759, 0.02246326885110578, 0.9976814010788779, 1.203611465436587, 1.4404546117895198, 1.0945896626940594, 0.12331873437293468, 0.07486416417015195, 0.7159735904353373, 1.441541741269909, 1.6511113002928979, 0.20752755106164675, 0.6866692431899022, 0.5253434684781135, 0.34121696680681823, 0.7101377241544234, 0.8673374851513335, 0.6693814303903495, 0.33747861279895386, 0.43421948846386565, 0.5896906486777742, 0.8577732734671204, 0.8822318167813604, 0.8355998873733064, 0.2671808432114606, 0.38149373806550346, 0.39710818594576847, 0.0016939175901426367, 0.27169299128835644, 0.18503242288638252, 0.2874110489074513, 1.2917036599964835, 0.012806392764316277, 0.6013187829788086, 0.2887690472805458, 0.5294632809754649, 0.4671865195622524], \"xaxis\": \"x20\", \"y\": [0.09124207426154374, 0.23050372092668295, 0.014859888913373658, 0.6239763264699059, 0.16235480114648318, 1.4845492406294487, -0.24759749095892106, -0.4612202072965182, 0.6683144012220376, -0.46535510850761114, -0.33395440282299166, 0.3573635291563245, -1.1442608614644356, 0.17296148121397323, 0.9259288697005811, -1.1354172237080085, -0.9824537715249738, 0.7620280141971381, -0.5478607089718354, -0.02271906163973041, 0.9382739201658581, 0.06040255294631438, 1.5768722286871253, 1.1789065779684256, 0.5957667468533718, 0.6928160880203745, 0.07803318534448397, -0.7511507900485863, -2.017575266863575, -0.7542311486743793, 0.9843274467312364, 0.9223614498976392, -0.0693254979767664, -0.625152690130413, -0.6965352404178793, 0.16506324429332273, -1.3565483683732344, 0.6732798515567434, -0.36557683850328776, 1.2172166050384277, 0.019235232902732866, 0.17912685594107225, 1.7899803581562799, 1.0009507152107793, 0.2192444165275358, -0.5131790606950488, 1.8891102583364106, 0.5321953810646466, -0.6644872263417928, -0.12309162364411347, -0.31339044568114677, -0.25054260467209893, -0.27939346708240065, -1.2162483585682222, 0.8697394362378188, -1.6708438737163958, -2.3312698618270753, 0.644992665599839, 0.6095144094932191, 0.49378481933131374, 0.9317908390993053, 0.32139932260319765, 1.0040081325122843, 0.6759993179706805, -0.13810627740614917, 0.8594883991882487, 0.2555764941620284, 0.9307411415069429, -1.4115427388612543, -0.08438065706766976, 0.3677178589278481, 1.0088429569294157, 0.9926769433668462, 0.7830876388691718, -0.650139602099969, 0.03227373601388025, 0.27477362140694533, 1.3928724370929564, 1.209919303897628, -0.3224507855553749, 0.49539365772792204, -0.7065013288865348, 0.7964809892009287, 1.5097441064074213, 1.4462034803456403, 1.0269528923873075, 0.4500910963989715, 0.7349224726807688, 1.227614343659497, 0.738796879112678, 0.776915386590465, -1.2574127005090718, -0.38990474087731036, 0.04920506131048392, -0.17230849326652384, -0.33656939690551585, 1.0046983868385404, -0.2261403969988013, 1.3273304506972414, -0.6846365084550697], \"yaxis\": \"y20\"}, {\"line\": {\"color\": \"rgba(128, 128, 128, 1.0)\", \"dash\": \"solid\", \"shape\": \"linear\", \"width\": 1.3}, \"marker\": {\"size\": 2, \"symbol\": \"circle\"}, \"mode\": \"markers\", \"name\": \"E\", \"text\": \"\", \"type\": \"scatter\", \"x\": [-0.1486870569660644, 0.39248607716009937, -0.7051592443933776, 0.27576110754488387, -0.7802285366256736, -0.32929780839891537, -1.087810196165536, 1.2605600894157034, -0.6162220153584765, -0.11030956050421618, 1.642528183340233, -1.2471083408197337, -0.5030824358409205, 0.44198222958182076, 0.46872327753545967, 0.7832720942473845, -1.816832134632092, -0.7734372708387459, -0.9663161807866139, -2.3035477810580884, -0.6424602387239299, -0.31914331999725876, -0.41844043091859484, 0.1781758613682762, 0.157684394184153, 0.41595274357957573, 0.5891850592042421, 0.454834731394502, -0.14870591833136512, 0.7917259872985981, -1.6466753374193293, -0.5984417164356648, 0.3653669533476257, 0.6013941003199482, 1.0281964811508901, -0.29834588163580716, -1.5812091606674015, -0.4949013337856304, -1.0499374247496878, -0.25492516141576343, -1.347720027956506, 1.1167699738973915, 1.087498437295148, -0.3627318007990501, -0.9841088308619188, -0.24774969270479127, -0.10622973456180605, 0.7743684307462901, -0.02005363965663801, -0.28863295343821105, -0.24808140074432009, 0.6771989860434181, 1.5103210368836282, -0.4484038407099252, -0.1027729276442637, 0.4150356400669393, -0.8696069965432033, 0.11551999215410763, 1.0162559751767088, -0.1739788003636956, -0.2799898988878147, 1.9689679185639573, -1.3712364456885864, -0.062367008698916995, 0.1622031476510854, -0.0955223967895753, -1.5029096551345607, 0.8754195676784564, -0.5524799575282217, -0.0980995694221568, 0.7693585830793594, 0.2854937541855559, -0.6581872556779551, 2.114936095689492, 0.059169867679413055, 0.2932317898134375, 0.3618512027631301, -0.1705460913024023, -0.029204570730282167, -0.7415372272530977, -0.7651224698222944, 1.1547221513795514, -0.33103781811196065, -0.4952355302309878, 0.7267534144738079, -0.7882902125536603, 0.312778641188715, -0.11825028351583512, -0.9180040351441507, 0.587033645365291, 0.3798610800599315, 0.21441879761051574, 1.1707497307467345, 1.1275071326418369, -0.8479588333638166, -0.058157108364463896, -0.7560319712251692, 1.8283683259669392, 1.2952801263299962, 2.46499250024484], \"xaxis\": \"x21\", \"y\": [0.9772588645208288, 0.031095691670485027, 0.4517709119065063, 0.11505177760843294, 1.4013872068608693, 0.12439243290780622, 0.3143384594106518, 0.5961004707616886, 1.65968642352273, 0.8433833213279801, 0.8790929369988937, 0.9097731167884134, 0.25449939223936224, 1.7474010052042062, 0.03195149495193755, 0.338535606682914, 0.5861914699834533, 0.7852693129036312, 1.0256124153016837, 0.4960274764979757, 1.6404394193794958, 0.5842610371983409, 1.350264431529778, 0.5408179423679065, 0.9082479053654744, 0.7069767492991279, 0.13019795076909318, 1.1282516887737086, 1.747822457753705, 1.1991010788063432, 0.25207171650754456, 0.18816983036314108, 0.8539774592252419, 0.00027423242096450177, 2.3615316526291985, 1.1081702271247518, 0.1720795612082035, 0.4685511660296994, 0.14548278138294873, 0.06695480734404455, 0.04695989997971613, 1.304340085601986, 0.3004069831905211, 0.3285035098188163, 0.18408980579232542, 0.575668330094647, 0.06211278056024565, 0.2980839207808471, 0.6900263190687328, 0.9466928356118943, 0.4369369161764057, 0.5739310383836496, 1.6449112745434582, 1.7630502680546434, 0.42499331331685625, 0.2682487501446132, 0.6439931869255161, 1.2890874571532962, 0.3372180775483443, 1.1368618824392678, 0.09908569591730172, 0.22941801268669706, 2.274530159793604, 2.084826865936759, 0.02246326885110578, 0.9976814010788779, 1.203611465436587, 1.4404546117895198, 1.0945896626940594, 0.12331873437293468, 0.07486416417015195, 0.7159735904353373, 1.441541741269909, 1.6511113002928979, 0.20752755106164675, 0.6866692431899022, 0.5253434684781135, 0.34121696680681823, 0.7101377241544234, 0.8673374851513335, 0.6693814303903495, 0.33747861279895386, 0.43421948846386565, 0.5896906486777742, 0.8577732734671204, 0.8822318167813604, 0.8355998873733064, 0.2671808432114606, 0.38149373806550346, 0.39710818594576847, 0.0016939175901426367, 0.27169299128835644, 0.18503242288638252, 0.2874110489074513, 1.2917036599964835, 0.012806392764316277, 0.6013187829788086, 0.2887690472805458, 0.5294632809754649, 0.4671865195622524], \"yaxis\": \"y21\"}, {\"line\": {\"color\": \"rgba(128, 128, 128, 1.0)\", \"dash\": \"solid\", \"shape\": \"linear\", \"width\": 1.3}, \"marker\": {\"size\": 2, \"symbol\": \"circle\"}, \"mode\": \"markers\", \"name\": \"E\", \"text\": \"\", \"type\": \"scatter\", \"x\": [-0.13720291276205954, 0.7360290366001643, 0.6182914547488014, -0.41717865842575486, 0.7616049708336934, 1.255700448517242, -0.7878477215044183, 0.4094201423714498, -3.0777284071151, 0.2962713084261198, -0.7566439163766893, 0.6805595530508529, -0.8140383734076175, -0.3756519163109862, 1.1209571938669993, 0.7109715243740368, 0.2706370322757297, 0.5173522166570037, 0.1412707917259537, 1.7956131042028805, -0.37740080006068927, -0.0705594757231226, 0.00017043336379697554, -1.0807897118199614, -0.8927637981588197, 1.157805138567086, -0.3890743339711945, -0.2998728491363871, -0.7629484122608581, -1.5568150046882465, 1.5926536293276692, 1.065928900246484, 1.3951763524319545, 2.361874775141413, -0.6703775046596167, 0.6874294250674926, -0.11962209780754239, -0.6757993702607386, 0.10369601942428011, -1.3706785393771903, 0.5150297006610829, -0.20348877806099472, 1.278848828762823, -1.3672379451360985, 0.5084740282707778, 2.999494366246489, 0.10681899651937042, 0.9167978639920289, -0.9777499167088237, 0.4298857429657398, -0.7956504240436582, -1.8406413912670503, -0.9271791648378976, -0.14817646279579028, -0.31747939699923206, -0.18223864047336216, 0.3284940245408851, 1.3411829957637205, -0.3643147505889812, 0.17639462525327843, -1.2086092815298164, -1.0846769577310682, -1.605427128703998, 0.24649724788045124, -0.11866380461086354, 1.239307253391713, 0.12871910997126498, -2.0949804045461393, 0.2767507297426342, -0.752300159792606, 0.004858035242644644, 0.1906322672214624, 0.3386326129851458, 0.9664630145228903, -0.0014315777408607548, -0.9170153450824298, 0.8204004032861612, 0.9643199571799043, -0.777725262632196, 0.7731495467328146, 0.18062328973014358, 0.9924833750682206, 0.20767988730408643, -0.17496783608048996, 0.0015769199486528167, -0.2760927778043612, -0.24972687617797515, -0.687187293033468, 0.8739237743337697, -0.6687555318032616, -0.13323519699988973, 1.142363840492469, -0.270683968952354, 1.2213182143797743, -0.6530838403596835, -0.07887886921673892, -0.15949726608677098, -1.2083725357104302, 0.005487941892006171, 0.4713064898610162], \"xaxis\": \"x22\", \"y\": [0.9772588645208288, 0.031095691670485027, 0.4517709119065063, 0.11505177760843294, 1.4013872068608693, 0.12439243290780622, 0.3143384594106518, 0.5961004707616886, 1.65968642352273, 0.8433833213279801, 0.8790929369988937, 0.9097731167884134, 0.25449939223936224, 1.7474010052042062, 0.03195149495193755, 0.338535606682914, 0.5861914699834533, 0.7852693129036312, 1.0256124153016837, 0.4960274764979757, 1.6404394193794958, 0.5842610371983409, 1.350264431529778, 0.5408179423679065, 0.9082479053654744, 0.7069767492991279, 0.13019795076909318, 1.1282516887737086, 1.747822457753705, 1.1991010788063432, 0.25207171650754456, 0.18816983036314108, 0.8539774592252419, 0.00027423242096450177, 2.3615316526291985, 1.1081702271247518, 0.1720795612082035, 0.4685511660296994, 0.14548278138294873, 0.06695480734404455, 0.04695989997971613, 1.304340085601986, 0.3004069831905211, 0.3285035098188163, 0.18408980579232542, 0.575668330094647, 0.06211278056024565, 0.2980839207808471, 0.6900263190687328, 0.9466928356118943, 0.4369369161764057, 0.5739310383836496, 1.6449112745434582, 1.7630502680546434, 0.42499331331685625, 0.2682487501446132, 0.6439931869255161, 1.2890874571532962, 0.3372180775483443, 1.1368618824392678, 0.09908569591730172, 0.22941801268669706, 2.274530159793604, 2.084826865936759, 0.02246326885110578, 0.9976814010788779, 1.203611465436587, 1.4404546117895198, 1.0945896626940594, 0.12331873437293468, 0.07486416417015195, 0.7159735904353373, 1.441541741269909, 1.6511113002928979, 0.20752755106164675, 0.6866692431899022, 0.5253434684781135, 0.34121696680681823, 0.7101377241544234, 0.8673374851513335, 0.6693814303903495, 0.33747861279895386, 0.43421948846386565, 0.5896906486777742, 0.8577732734671204, 0.8822318167813604, 0.8355998873733064, 0.2671808432114606, 0.38149373806550346, 0.39710818594576847, 0.0016939175901426367, 0.27169299128835644, 0.18503242288638252, 0.2874110489074513, 1.2917036599964835, 0.012806392764316277, 0.6013187829788086, 0.2887690472805458, 0.5294632809754649, 0.4671865195622524], \"yaxis\": \"y22\"}, {\"line\": {\"color\": \"rgba(128, 128, 128, 1.0)\", \"dash\": \"solid\", \"shape\": \"linear\", \"width\": 1.3}, \"marker\": {\"size\": 2, \"symbol\": \"circle\"}, \"mode\": \"markers\", \"name\": \"E\", \"text\": \"\", \"type\": \"scatter\", \"x\": [0.9772588645208288, 0.031095691670485027, -0.4517709119065063, -0.11505177760843294, 1.4013872068608693, 0.12439243290780622, 0.3143384594106518, -0.5961004707616886, -1.65968642352273, -0.8433833213279801, -0.8790929369988937, 0.9097731167884134, -0.25449939223936224, -1.7474010052042062, -0.03195149495193755, 0.338535606682914, 0.5861914699834533, -0.7852693129036312, -1.0256124153016837, 0.4960274764979757, 1.6404394193794958, -0.5842610371983409, 1.350264431529778, 0.5408179423679065, -0.9082479053654744, -0.7069767492991279, 0.13019795076909318, 1.1282516887737086, 1.747822457753705, 1.1991010788063432, 0.25207171650754456, -0.18816983036314108, -0.8539774592252419, 0.00027423242096450177, -2.3615316526291985, 1.1081702271247518, -0.1720795612082035, 0.4685511660296994, -0.14548278138294873, 0.06695480734404455, -0.04695989997971613, 1.304340085601986, 0.3004069831905211, -0.3285035098188163, -0.18408980579232542, -0.575668330094647, 0.06211278056024565, -0.2980839207808471, -0.6900263190687328, 0.9466928356118943, 0.4369369161764057, 0.5739310383836496, 1.6449112745434582, -1.7630502680546434, 0.42499331331685625, -0.2682487501446132, -0.6439931869255161, -1.2890874571532962, 0.3372180775483443, 1.1368618824392678, -0.09908569591730172, 0.22941801268669706, 2.274530159793604, -2.084826865936759, 0.02246326885110578, -0.9976814010788779, -1.203611465436587, -1.4404546117895198, 1.0945896626940594, -0.12331873437293468, -0.07486416417015195, -0.7159735904353373, -1.441541741269909, -1.6511113002928979, 0.20752755106164675, 0.6866692431899022, -0.5253434684781135, -0.34121696680681823, -0.7101377241544234, 0.8673374851513335, 0.6693814303903495, 0.33747861279895386, 0.43421948846386565, -0.5896906486777742, 0.8577732734671204, 0.8822318167813604, -0.8355998873733064, -0.2671808432114606, 0.38149373806550346, 0.39710818594576847, 0.0016939175901426367, 0.27169299128835644, -0.18503242288638252, 0.2874110489074513, 1.2917036599964835, 0.012806392764316277, -0.6013187829788086, 0.2887690472805458, 0.5294632809754649, -0.4671865195622524], \"xaxis\": \"x23\", \"y\": [0.9772588645208288, 0.031095691670485027, 0.4517709119065063, 0.11505177760843294, 1.4013872068608693, 0.12439243290780622, 0.3143384594106518, 0.5961004707616886, 1.65968642352273, 0.8433833213279801, 0.8790929369988937, 0.9097731167884134, 0.25449939223936224, 1.7474010052042062, 0.03195149495193755, 0.338535606682914, 0.5861914699834533, 0.7852693129036312, 1.0256124153016837, 0.4960274764979757, 1.6404394193794958, 0.5842610371983409, 1.350264431529778, 0.5408179423679065, 0.9082479053654744, 0.7069767492991279, 0.13019795076909318, 1.1282516887737086, 1.747822457753705, 1.1991010788063432, 0.25207171650754456, 0.18816983036314108, 0.8539774592252419, 0.00027423242096450177, 2.3615316526291985, 1.1081702271247518, 0.1720795612082035, 0.4685511660296994, 0.14548278138294873, 0.06695480734404455, 0.04695989997971613, 1.304340085601986, 0.3004069831905211, 0.3285035098188163, 0.18408980579232542, 0.575668330094647, 0.06211278056024565, 0.2980839207808471, 0.6900263190687328, 0.9466928356118943, 0.4369369161764057, 0.5739310383836496, 1.6449112745434582, 1.7630502680546434, 0.42499331331685625, 0.2682487501446132, 0.6439931869255161, 1.2890874571532962, 0.3372180775483443, 1.1368618824392678, 0.09908569591730172, 0.22941801268669706, 2.274530159793604, 2.084826865936759, 0.02246326885110578, 0.9976814010788779, 1.203611465436587, 1.4404546117895198, 1.0945896626940594, 0.12331873437293468, 0.07486416417015195, 0.7159735904353373, 1.441541741269909, 1.6511113002928979, 0.20752755106164675, 0.6866692431899022, 0.5253434684781135, 0.34121696680681823, 0.7101377241544234, 0.8673374851513335, 0.6693814303903495, 0.33747861279895386, 0.43421948846386565, 0.5896906486777742, 0.8577732734671204, 0.8822318167813604, 0.8355998873733064, 0.2671808432114606, 0.38149373806550346, 0.39710818594576847, 0.0016939175901426367, 0.27169299128835644, 0.18503242288638252, 0.2874110489074513, 1.2917036599964835, 0.012806392764316277, 0.6013187829788086, 0.2887690472805458, 0.5294632809754649, 0.4671865195622524], \"yaxis\": \"y23\"}, {\"line\": {\"color\": \"rgba(128, 128, 128, 1.0)\", \"dash\": \"solid\", \"shape\": \"linear\", \"width\": 1.3}, \"marker\": {\"size\": 2, \"symbol\": \"circle\"}, \"mode\": \"markers\", \"name\": \"E\", \"text\": \"\", \"type\": \"scatter\", \"x\": [0.09124207426154374, 0.23050372092668295, 0.014859888913373658, 0.6239763264699059, 0.16235480114648318, 1.4845492406294487, -0.24759749095892106, -0.4612202072965182, 0.6683144012220376, -0.46535510850761114, -0.33395440282299166, 0.3573635291563245, -1.1442608614644356, 0.17296148121397323, 0.9259288697005811, -1.1354172237080085, -0.9824537715249738, 0.7620280141971381, -0.5478607089718354, -0.02271906163973041, 0.9382739201658581, 0.06040255294631438, 1.5768722286871253, 1.1789065779684256, 0.5957667468533718, 0.6928160880203745, 0.07803318534448397, -0.7511507900485863, -2.017575266863575, -0.7542311486743793, 0.9843274467312364, 0.9223614498976392, -0.0693254979767664, -0.625152690130413, -0.6965352404178793, 0.16506324429332273, -1.3565483683732344, 0.6732798515567434, -0.36557683850328776, 1.2172166050384277, 0.019235232902732866, 0.17912685594107225, 1.7899803581562799, 1.0009507152107793, 0.2192444165275358, -0.5131790606950488, 1.8891102583364106, 0.5321953810646466, -0.6644872263417928, -0.12309162364411347, -0.31339044568114677, -0.25054260467209893, -0.27939346708240065, -1.2162483585682222, 0.8697394362378188, -1.6708438737163958, -2.3312698618270753, 0.644992665599839, 0.6095144094932191, 0.49378481933131374, 0.9317908390993053, 0.32139932260319765, 1.0040081325122843, 0.6759993179706805, -0.13810627740614917, 0.8594883991882487, 0.2555764941620284, 0.9307411415069429, -1.4115427388612543, -0.08438065706766976, 0.3677178589278481, 1.0088429569294157, 0.9926769433668462, 0.7830876388691718, -0.650139602099969, 0.03227373601388025, 0.27477362140694533, 1.3928724370929564, 1.209919303897628, -0.3224507855553749, 0.49539365772792204, -0.7065013288865348, 0.7964809892009287, 1.5097441064074213, 1.4462034803456403, 1.0269528923873075, 0.4500910963989715, 0.7349224726807688, 1.227614343659497, 0.738796879112678, 0.776915386590465, -1.2574127005090718, -0.38990474087731036, 0.04920506131048392, -0.17230849326652384, -0.33656939690551585, 1.0046983868385404, -0.2261403969988013, 1.3273304506972414, -0.6846365084550697], \"xaxis\": \"x24\", \"y\": [0.9772588645208288, 0.031095691670485027, 0.4517709119065063, 0.11505177760843294, 1.4013872068608693, 0.12439243290780622, 0.3143384594106518, 0.5961004707616886, 1.65968642352273, 0.8433833213279801, 0.8790929369988937, 0.9097731167884134, 0.25449939223936224, 1.7474010052042062, 0.03195149495193755, 0.338535606682914, 0.5861914699834533, 0.7852693129036312, 1.0256124153016837, 0.4960274764979757, 1.6404394193794958, 0.5842610371983409, 1.350264431529778, 0.5408179423679065, 0.9082479053654744, 0.7069767492991279, 0.13019795076909318, 1.1282516887737086, 1.747822457753705, 1.1991010788063432, 0.25207171650754456, 0.18816983036314108, 0.8539774592252419, 0.00027423242096450177, 2.3615316526291985, 1.1081702271247518, 0.1720795612082035, 0.4685511660296994, 0.14548278138294873, 0.06695480734404455, 0.04695989997971613, 1.304340085601986, 0.3004069831905211, 0.3285035098188163, 0.18408980579232542, 0.575668330094647, 0.06211278056024565, 0.2980839207808471, 0.6900263190687328, 0.9466928356118943, 0.4369369161764057, 0.5739310383836496, 1.6449112745434582, 1.7630502680546434, 0.42499331331685625, 0.2682487501446132, 0.6439931869255161, 1.2890874571532962, 0.3372180775483443, 1.1368618824392678, 0.09908569591730172, 0.22941801268669706, 2.274530159793604, 2.084826865936759, 0.02246326885110578, 0.9976814010788779, 1.203611465436587, 1.4404546117895198, 1.0945896626940594, 0.12331873437293468, 0.07486416417015195, 0.7159735904353373, 1.441541741269909, 1.6511113002928979, 0.20752755106164675, 0.6866692431899022, 0.5253434684781135, 0.34121696680681823, 0.7101377241544234, 0.8673374851513335, 0.6693814303903495, 0.33747861279895386, 0.43421948846386565, 0.5896906486777742, 0.8577732734671204, 0.8822318167813604, 0.8355998873733064, 0.2671808432114606, 0.38149373806550346, 0.39710818594576847, 0.0016939175901426367, 0.27169299128835644, 0.18503242288638252, 0.2874110489074513, 1.2917036599964835, 0.012806392764316277, 0.6013187829788086, 0.2887690472805458, 0.5294632809754649, 0.4671865195622524], \"yaxis\": \"y24\"}, {\"histfunc\": \"count\", \"histnorm\": \"\", \"marker\": {\"color\": \"rgba(219, 64, 82, 1.0)\", \"line\": {\"color\": \"#4D5663\", \"width\": 1.3}}, \"name\": \"E\", \"nbinsx\": 10, \"opacity\": 0.8, \"orientation\": \"v\", \"type\": \"histogram\", \"x\": [0.9772588645208288, 0.031095691670485027, 0.4517709119065063, 0.11505177760843294, 1.4013872068608693, 0.12439243290780622, 0.3143384594106518, 0.5961004707616886, 1.65968642352273, 0.8433833213279801, 0.8790929369988937, 0.9097731167884134, 0.25449939223936224, 1.7474010052042062, 0.03195149495193755, 0.338535606682914, 0.5861914699834533, 0.7852693129036312, 1.0256124153016837, 0.4960274764979757, 1.6404394193794958, 0.5842610371983409, 1.350264431529778, 0.5408179423679065, 0.9082479053654744, 0.7069767492991279, 0.13019795076909318, 1.1282516887737086, 1.747822457753705, 1.1991010788063432, 0.25207171650754456, 0.18816983036314108, 0.8539774592252419, 0.00027423242096450177, 2.3615316526291985, 1.1081702271247518, 0.1720795612082035, 0.4685511660296994, 0.14548278138294873, 0.06695480734404455, 0.04695989997971613, 1.304340085601986, 0.3004069831905211, 0.3285035098188163, 0.18408980579232542, 0.575668330094647, 0.06211278056024565, 0.2980839207808471, 0.6900263190687328, 0.9466928356118943, 0.4369369161764057, 0.5739310383836496, 1.6449112745434582, 1.7630502680546434, 0.42499331331685625, 0.2682487501446132, 0.6439931869255161, 1.2890874571532962, 0.3372180775483443, 1.1368618824392678, 0.09908569591730172, 0.22941801268669706, 2.274530159793604, 2.084826865936759, 0.02246326885110578, 0.9976814010788779, 1.203611465436587, 1.4404546117895198, 1.0945896626940594, 0.12331873437293468, 0.07486416417015195, 0.7159735904353373, 1.441541741269909, 1.6511113002928979, 0.20752755106164675, 0.6866692431899022, 0.5253434684781135, 0.34121696680681823, 0.7101377241544234, 0.8673374851513335, 0.6693814303903495, 0.33747861279895386, 0.43421948846386565, 0.5896906486777742, 0.8577732734671204, 0.8822318167813604, 0.8355998873733064, 0.2671808432114606, 0.38149373806550346, 0.39710818594576847, 0.0016939175901426367, 0.27169299128835644, 0.18503242288638252, 0.2874110489074513, 1.2917036599964835, 0.012806392764316277, 0.6013187829788086, 0.2887690472805458, 0.5294632809754649, 0.4671865195622524], \"xaxis\": \"x25\", \"yaxis\": \"y25\"}],\n",
       "                        {\"bargap\": 0.02, \"legend\": {\"bgcolor\": \"#F5F6F9\", \"font\": {\"color\": \"#4D5663\"}}, \"paper_bgcolor\": \"#F5F6F9\", \"plot_bgcolor\": \"#F5F6F9\", \"showlegend\": false, \"template\": {\"data\": {\"bar\": [{\"error_x\": {\"color\": \"#2a3f5f\"}, \"error_y\": {\"color\": \"#2a3f5f\"}, \"marker\": {\"line\": {\"color\": \"#E5ECF6\", \"width\": 0.5}}, \"type\": \"bar\"}], \"barpolar\": [{\"marker\": {\"line\": {\"color\": \"#E5ECF6\", \"width\": 0.5}}, \"type\": \"barpolar\"}], \"carpet\": [{\"aaxis\": {\"endlinecolor\": \"#2a3f5f\", \"gridcolor\": \"white\", \"linecolor\": \"white\", \"minorgridcolor\": \"white\", \"startlinecolor\": \"#2a3f5f\"}, \"baxis\": {\"endlinecolor\": \"#2a3f5f\", \"gridcolor\": \"white\", \"linecolor\": \"white\", \"minorgridcolor\": \"white\", \"startlinecolor\": \"#2a3f5f\"}, \"type\": \"carpet\"}], \"choropleth\": [{\"colorbar\": {\"outlinewidth\": 0, \"ticks\": \"\"}, \"type\": \"choropleth\"}], \"contour\": [{\"colorbar\": {\"outlinewidth\": 0, \"ticks\": \"\"}, \"colorscale\": [[0.0, \"#0d0887\"], [0.1111111111111111, \"#46039f\"], [0.2222222222222222, \"#7201a8\"], [0.3333333333333333, \"#9c179e\"], [0.4444444444444444, \"#bd3786\"], [0.5555555555555556, \"#d8576b\"], [0.6666666666666666, \"#ed7953\"], [0.7777777777777778, \"#fb9f3a\"], [0.8888888888888888, \"#fdca26\"], [1.0, \"#f0f921\"]], \"type\": \"contour\"}], \"contourcarpet\": [{\"colorbar\": {\"outlinewidth\": 0, \"ticks\": \"\"}, \"type\": \"contourcarpet\"}], \"heatmap\": [{\"colorbar\": {\"outlinewidth\": 0, \"ticks\": \"\"}, \"colorscale\": [[0.0, \"#0d0887\"], [0.1111111111111111, \"#46039f\"], [0.2222222222222222, \"#7201a8\"], [0.3333333333333333, \"#9c179e\"], [0.4444444444444444, \"#bd3786\"], [0.5555555555555556, \"#d8576b\"], [0.6666666666666666, \"#ed7953\"], [0.7777777777777778, \"#fb9f3a\"], [0.8888888888888888, \"#fdca26\"], [1.0, \"#f0f921\"]], \"type\": \"heatmap\"}], \"heatmapgl\": [{\"colorbar\": {\"outlinewidth\": 0, \"ticks\": \"\"}, \"colorscale\": [[0.0, \"#0d0887\"], [0.1111111111111111, \"#46039f\"], [0.2222222222222222, \"#7201a8\"], [0.3333333333333333, \"#9c179e\"], [0.4444444444444444, \"#bd3786\"], [0.5555555555555556, \"#d8576b\"], [0.6666666666666666, \"#ed7953\"], [0.7777777777777778, \"#fb9f3a\"], [0.8888888888888888, \"#fdca26\"], [1.0, \"#f0f921\"]], \"type\": \"heatmapgl\"}], \"histogram\": [{\"marker\": {\"colorbar\": {\"outlinewidth\": 0, \"ticks\": \"\"}}, \"type\": \"histogram\"}], \"histogram2d\": [{\"colorbar\": {\"outlinewidth\": 0, \"ticks\": \"\"}, \"colorscale\": [[0.0, \"#0d0887\"], [0.1111111111111111, \"#46039f\"], [0.2222222222222222, \"#7201a8\"], [0.3333333333333333, \"#9c179e\"], [0.4444444444444444, \"#bd3786\"], [0.5555555555555556, \"#d8576b\"], [0.6666666666666666, \"#ed7953\"], [0.7777777777777778, \"#fb9f3a\"], [0.8888888888888888, \"#fdca26\"], [1.0, \"#f0f921\"]], \"type\": \"histogram2d\"}], \"histogram2dcontour\": [{\"colorbar\": {\"outlinewidth\": 0, \"ticks\": \"\"}, \"colorscale\": [[0.0, \"#0d0887\"], [0.1111111111111111, \"#46039f\"], [0.2222222222222222, \"#7201a8\"], [0.3333333333333333, \"#9c179e\"], [0.4444444444444444, \"#bd3786\"], [0.5555555555555556, \"#d8576b\"], [0.6666666666666666, \"#ed7953\"], [0.7777777777777778, \"#fb9f3a\"], [0.8888888888888888, \"#fdca26\"], [1.0, \"#f0f921\"]], \"type\": \"histogram2dcontour\"}], \"mesh3d\": [{\"colorbar\": {\"outlinewidth\": 0, \"ticks\": \"\"}, \"type\": \"mesh3d\"}], \"parcoords\": [{\"line\": {\"colorbar\": {\"outlinewidth\": 0, \"ticks\": \"\"}}, \"type\": \"parcoords\"}], \"pie\": [{\"automargin\": true, \"type\": \"pie\"}], \"scatter\": [{\"marker\": {\"colorbar\": {\"outlinewidth\": 0, \"ticks\": \"\"}}, \"type\": \"scatter\"}], \"scatter3d\": [{\"line\": {\"colorbar\": {\"outlinewidth\": 0, \"ticks\": \"\"}}, \"marker\": {\"colorbar\": {\"outlinewidth\": 0, \"ticks\": \"\"}}, \"type\": \"scatter3d\"}], \"scattercarpet\": [{\"marker\": {\"colorbar\": {\"outlinewidth\": 0, \"ticks\": \"\"}}, \"type\": \"scattercarpet\"}], \"scattergeo\": [{\"marker\": {\"colorbar\": {\"outlinewidth\": 0, \"ticks\": \"\"}}, \"type\": \"scattergeo\"}], \"scattergl\": [{\"marker\": {\"colorbar\": {\"outlinewidth\": 0, \"ticks\": \"\"}}, \"type\": \"scattergl\"}], \"scattermapbox\": [{\"marker\": {\"colorbar\": {\"outlinewidth\": 0, \"ticks\": \"\"}}, \"type\": \"scattermapbox\"}], \"scatterpolar\": [{\"marker\": {\"colorbar\": {\"outlinewidth\": 0, \"ticks\": \"\"}}, \"type\": \"scatterpolar\"}], \"scatterpolargl\": [{\"marker\": {\"colorbar\": {\"outlinewidth\": 0, \"ticks\": \"\"}}, \"type\": \"scatterpolargl\"}], \"scatterternary\": [{\"marker\": {\"colorbar\": {\"outlinewidth\": 0, \"ticks\": \"\"}}, \"type\": \"scatterternary\"}], \"surface\": [{\"colorbar\": {\"outlinewidth\": 0, \"ticks\": \"\"}, \"colorscale\": [[0.0, \"#0d0887\"], [0.1111111111111111, \"#46039f\"], [0.2222222222222222, \"#7201a8\"], [0.3333333333333333, \"#9c179e\"], [0.4444444444444444, \"#bd3786\"], [0.5555555555555556, \"#d8576b\"], [0.6666666666666666, \"#ed7953\"], [0.7777777777777778, \"#fb9f3a\"], [0.8888888888888888, \"#fdca26\"], [1.0, \"#f0f921\"]], \"type\": \"surface\"}], \"table\": [{\"cells\": {\"fill\": {\"color\": \"#EBF0F8\"}, \"line\": {\"color\": \"white\"}}, \"header\": {\"fill\": {\"color\": \"#C8D4E3\"}, \"line\": {\"color\": \"white\"}}, \"type\": \"table\"}]}, \"layout\": {\"annotationdefaults\": {\"arrowcolor\": \"#2a3f5f\", \"arrowhead\": 0, \"arrowwidth\": 1}, \"coloraxis\": {\"colorbar\": {\"outlinewidth\": 0, \"ticks\": \"\"}}, \"colorscale\": {\"diverging\": [[0, \"#8e0152\"], [0.1, \"#c51b7d\"], [0.2, \"#de77ae\"], [0.3, \"#f1b6da\"], [0.4, \"#fde0ef\"], [0.5, \"#f7f7f7\"], [0.6, \"#e6f5d0\"], [0.7, \"#b8e186\"], [0.8, \"#7fbc41\"], [0.9, \"#4d9221\"], [1, \"#276419\"]], \"sequential\": [[0.0, \"#0d0887\"], [0.1111111111111111, \"#46039f\"], [0.2222222222222222, \"#7201a8\"], [0.3333333333333333, \"#9c179e\"], [0.4444444444444444, \"#bd3786\"], [0.5555555555555556, \"#d8576b\"], [0.6666666666666666, \"#ed7953\"], [0.7777777777777778, \"#fb9f3a\"], [0.8888888888888888, \"#fdca26\"], [1.0, \"#f0f921\"]], \"sequentialminus\": [[0.0, \"#0d0887\"], [0.1111111111111111, \"#46039f\"], [0.2222222222222222, \"#7201a8\"], [0.3333333333333333, \"#9c179e\"], [0.4444444444444444, \"#bd3786\"], [0.5555555555555556, \"#d8576b\"], [0.6666666666666666, \"#ed7953\"], [0.7777777777777778, \"#fb9f3a\"], [0.8888888888888888, \"#fdca26\"], [1.0, \"#f0f921\"]]}, \"colorway\": [\"#636efa\", \"#EF553B\", \"#00cc96\", \"#ab63fa\", \"#FFA15A\", \"#19d3f3\", \"#FF6692\", \"#B6E880\", \"#FF97FF\", \"#FECB52\"], \"font\": {\"color\": \"#2a3f5f\"}, \"geo\": {\"bgcolor\": \"white\", \"lakecolor\": \"white\", \"landcolor\": \"#E5ECF6\", \"showlakes\": true, \"showland\": true, \"subunitcolor\": \"white\"}, \"hoverlabel\": {\"align\": \"left\"}, \"hovermode\": \"closest\", \"mapbox\": {\"style\": \"light\"}, \"paper_bgcolor\": \"white\", \"plot_bgcolor\": \"#E5ECF6\", \"polar\": {\"angularaxis\": {\"gridcolor\": \"white\", \"linecolor\": \"white\", \"ticks\": \"\"}, \"bgcolor\": \"#E5ECF6\", \"radialaxis\": {\"gridcolor\": \"white\", \"linecolor\": \"white\", \"ticks\": \"\"}}, \"scene\": {\"xaxis\": {\"backgroundcolor\": \"#E5ECF6\", \"gridcolor\": \"white\", \"gridwidth\": 2, \"linecolor\": \"white\", \"showbackground\": true, \"ticks\": \"\", \"zerolinecolor\": \"white\"}, \"yaxis\": {\"backgroundcolor\": \"#E5ECF6\", \"gridcolor\": \"white\", \"gridwidth\": 2, \"linecolor\": \"white\", \"showbackground\": true, \"ticks\": \"\", \"zerolinecolor\": \"white\"}, \"zaxis\": {\"backgroundcolor\": \"#E5ECF6\", \"gridcolor\": \"white\", \"gridwidth\": 2, \"linecolor\": \"white\", \"showbackground\": true, \"ticks\": \"\", \"zerolinecolor\": \"white\"}}, \"shapedefaults\": {\"line\": {\"color\": \"#2a3f5f\"}}, \"ternary\": {\"aaxis\": {\"gridcolor\": \"white\", \"linecolor\": \"white\", \"ticks\": \"\"}, \"baxis\": {\"gridcolor\": \"white\", \"linecolor\": \"white\", \"ticks\": \"\"}, \"bgcolor\": \"#E5ECF6\", \"caxis\": {\"gridcolor\": \"white\", \"linecolor\": \"white\", \"ticks\": \"\"}}, \"title\": {\"x\": 0.05}, \"xaxis\": {\"automargin\": true, \"gridcolor\": \"white\", \"linecolor\": \"white\", \"ticks\": \"\", \"title\": {\"standoff\": 15}, \"zerolinecolor\": \"white\", \"zerolinewidth\": 2}, \"yaxis\": {\"automargin\": true, \"gridcolor\": \"white\", \"linecolor\": \"white\", \"ticks\": \"\", \"title\": {\"standoff\": 15}, \"zerolinecolor\": \"white\", \"zerolinewidth\": 2}}}, \"title\": {\"font\": {\"color\": \"#4D5663\"}}, \"xaxis\": {\"anchor\": \"y\", \"domain\": [0.0, 0.16], \"gridcolor\": \"#E1E5ED\", \"showgrid\": false, \"tickfont\": {\"color\": \"#4D5663\"}, \"title\": {\"font\": {\"color\": \"#4D5663\"}, \"text\": \"\"}, \"zerolinecolor\": \"#E1E5ED\"}, \"xaxis10\": {\"anchor\": \"y10\", \"domain\": [0.8400000000000001, 1.0], \"gridcolor\": \"#E1E5ED\", \"showgrid\": false, \"tickfont\": {\"color\": \"#4D5663\"}, \"title\": {\"font\": {\"color\": \"#4D5663\"}, \"text\": \"\"}, \"zerolinecolor\": \"#E1E5ED\"}, \"xaxis11\": {\"anchor\": \"y11\", \"domain\": [0.0, 0.16], \"gridcolor\": \"#E1E5ED\", \"showgrid\": false, \"tickfont\": {\"color\": \"#4D5663\"}, \"title\": {\"font\": {\"color\": \"#4D5663\"}, \"text\": \"\"}, \"zerolinecolor\": \"#E1E5ED\"}, \"xaxis12\": {\"anchor\": \"y12\", \"domain\": [0.21000000000000002, 0.37], \"gridcolor\": \"#E1E5ED\", \"showgrid\": false, \"tickfont\": {\"color\": \"#4D5663\"}, \"title\": {\"font\": {\"color\": \"#4D5663\"}, \"text\": \"\"}, \"zerolinecolor\": \"#E1E5ED\"}, \"xaxis13\": {\"anchor\": \"y13\", \"domain\": [0.42000000000000004, 0.5800000000000001], \"gridcolor\": \"#E1E5ED\", \"showgrid\": false, \"tickfont\": {\"color\": \"#4D5663\"}, \"title\": {\"font\": {\"color\": \"#4D5663\"}, \"text\": \"\"}, \"zerolinecolor\": \"#E1E5ED\"}, \"xaxis14\": {\"anchor\": \"y14\", \"domain\": [0.63, 0.79], \"gridcolor\": \"#E1E5ED\", \"showgrid\": false, \"tickfont\": {\"color\": \"#4D5663\"}, \"title\": {\"font\": {\"color\": \"#4D5663\"}, \"text\": \"\"}, \"zerolinecolor\": \"#E1E5ED\"}, \"xaxis15\": {\"anchor\": \"y15\", \"domain\": [0.8400000000000001, 1.0], \"gridcolor\": \"#E1E5ED\", \"showgrid\": false, \"tickfont\": {\"color\": \"#4D5663\"}, \"title\": {\"font\": {\"color\": \"#4D5663\"}, \"text\": \"\"}, \"zerolinecolor\": \"#E1E5ED\"}, \"xaxis16\": {\"anchor\": \"y16\", \"domain\": [0.0, 0.16], \"gridcolor\": \"#E1E5ED\", \"showgrid\": false, \"tickfont\": {\"color\": \"#4D5663\"}, \"title\": {\"font\": {\"color\": \"#4D5663\"}, \"text\": \"\"}, \"zerolinecolor\": \"#E1E5ED\"}, \"xaxis17\": {\"anchor\": \"y17\", \"domain\": [0.21000000000000002, 0.37], \"gridcolor\": \"#E1E5ED\", \"showgrid\": false, \"tickfont\": {\"color\": \"#4D5663\"}, \"title\": {\"font\": {\"color\": \"#4D5663\"}, \"text\": \"\"}, \"zerolinecolor\": \"#E1E5ED\"}, \"xaxis18\": {\"anchor\": \"y18\", \"domain\": [0.42000000000000004, 0.5800000000000001], \"gridcolor\": \"#E1E5ED\", \"showgrid\": false, \"tickfont\": {\"color\": \"#4D5663\"}, \"title\": {\"font\": {\"color\": \"#4D5663\"}, \"text\": \"\"}, \"zerolinecolor\": \"#E1E5ED\"}, \"xaxis19\": {\"anchor\": \"y19\", \"domain\": [0.63, 0.79], \"gridcolor\": \"#E1E5ED\", \"showgrid\": false, \"tickfont\": {\"color\": \"#4D5663\"}, \"title\": {\"font\": {\"color\": \"#4D5663\"}, \"text\": \"\"}, \"zerolinecolor\": \"#E1E5ED\"}, \"xaxis2\": {\"anchor\": \"y2\", \"domain\": [0.21000000000000002, 0.37], \"gridcolor\": \"#E1E5ED\", \"showgrid\": false, \"tickfont\": {\"color\": \"#4D5663\"}, \"title\": {\"font\": {\"color\": \"#4D5663\"}, \"text\": \"\"}, \"zerolinecolor\": \"#E1E5ED\"}, \"xaxis20\": {\"anchor\": \"y20\", \"domain\": [0.8400000000000001, 1.0], \"gridcolor\": \"#E1E5ED\", \"showgrid\": false, \"tickfont\": {\"color\": \"#4D5663\"}, \"title\": {\"font\": {\"color\": \"#4D5663\"}, \"text\": \"\"}, \"zerolinecolor\": \"#E1E5ED\"}, \"xaxis21\": {\"anchor\": \"y21\", \"domain\": [0.0, 0.16], \"gridcolor\": \"#E1E5ED\", \"showgrid\": false, \"tickfont\": {\"color\": \"#4D5663\"}, \"title\": {\"font\": {\"color\": \"#4D5663\"}, \"text\": \"\"}, \"zerolinecolor\": \"#E1E5ED\"}, \"xaxis22\": {\"anchor\": \"y22\", \"domain\": [0.21000000000000002, 0.37], \"gridcolor\": \"#E1E5ED\", \"showgrid\": false, \"tickfont\": {\"color\": \"#4D5663\"}, \"title\": {\"font\": {\"color\": \"#4D5663\"}, \"text\": \"\"}, \"zerolinecolor\": \"#E1E5ED\"}, \"xaxis23\": {\"anchor\": \"y23\", \"domain\": [0.42000000000000004, 0.5800000000000001], \"gridcolor\": \"#E1E5ED\", \"showgrid\": false, \"tickfont\": {\"color\": \"#4D5663\"}, \"title\": {\"font\": {\"color\": \"#4D5663\"}, \"text\": \"\"}, \"zerolinecolor\": \"#E1E5ED\"}, \"xaxis24\": {\"anchor\": \"y24\", \"domain\": [0.63, 0.79], \"gridcolor\": \"#E1E5ED\", \"showgrid\": false, \"tickfont\": {\"color\": \"#4D5663\"}, \"title\": {\"font\": {\"color\": \"#4D5663\"}, \"text\": \"\"}, \"zerolinecolor\": \"#E1E5ED\"}, \"xaxis25\": {\"anchor\": \"y25\", \"domain\": [0.8400000000000001, 1.0], \"gridcolor\": \"#E1E5ED\", \"showgrid\": false, \"tickfont\": {\"color\": \"#4D5663\"}, \"title\": {\"font\": {\"color\": \"#4D5663\"}, \"text\": \"\"}, \"zerolinecolor\": \"#E1E5ED\"}, \"xaxis3\": {\"anchor\": \"y3\", \"domain\": [0.42000000000000004, 0.5800000000000001], \"gridcolor\": \"#E1E5ED\", \"showgrid\": false, \"tickfont\": {\"color\": \"#4D5663\"}, \"title\": {\"font\": {\"color\": \"#4D5663\"}, \"text\": \"\"}, \"zerolinecolor\": \"#E1E5ED\"}, \"xaxis4\": {\"anchor\": \"y4\", \"domain\": [0.63, 0.79], \"gridcolor\": \"#E1E5ED\", \"showgrid\": false, \"tickfont\": {\"color\": \"#4D5663\"}, \"title\": {\"font\": {\"color\": \"#4D5663\"}, \"text\": \"\"}, \"zerolinecolor\": \"#E1E5ED\"}, \"xaxis5\": {\"anchor\": \"y5\", \"domain\": [0.8400000000000001, 1.0], \"gridcolor\": \"#E1E5ED\", \"showgrid\": false, \"tickfont\": {\"color\": \"#4D5663\"}, \"title\": {\"font\": {\"color\": \"#4D5663\"}, \"text\": \"\"}, \"zerolinecolor\": \"#E1E5ED\"}, \"xaxis6\": {\"anchor\": \"y6\", \"domain\": [0.0, 0.16], \"gridcolor\": \"#E1E5ED\", \"showgrid\": false, \"tickfont\": {\"color\": \"#4D5663\"}, \"title\": {\"font\": {\"color\": \"#4D5663\"}, \"text\": \"\"}, \"zerolinecolor\": \"#E1E5ED\"}, \"xaxis7\": {\"anchor\": \"y7\", \"domain\": [0.21000000000000002, 0.37], \"gridcolor\": \"#E1E5ED\", \"showgrid\": false, \"tickfont\": {\"color\": \"#4D5663\"}, \"title\": {\"font\": {\"color\": \"#4D5663\"}, \"text\": \"\"}, \"zerolinecolor\": \"#E1E5ED\"}, \"xaxis8\": {\"anchor\": \"y8\", \"domain\": [0.42000000000000004, 0.5800000000000001], \"gridcolor\": \"#E1E5ED\", \"showgrid\": false, \"tickfont\": {\"color\": \"#4D5663\"}, \"title\": {\"font\": {\"color\": \"#4D5663\"}, \"text\": \"\"}, \"zerolinecolor\": \"#E1E5ED\"}, \"xaxis9\": {\"anchor\": \"y9\", \"domain\": [0.63, 0.79], \"gridcolor\": \"#E1E5ED\", \"showgrid\": false, \"tickfont\": {\"color\": \"#4D5663\"}, \"title\": {\"font\": {\"color\": \"#4D5663\"}, \"text\": \"\"}, \"zerolinecolor\": \"#E1E5ED\"}, \"yaxis\": {\"anchor\": \"x\", \"domain\": [0.856, 1.0], \"gridcolor\": \"#E1E5ED\", \"showgrid\": false, \"tickfont\": {\"color\": \"#4D5663\"}, \"title\": {\"font\": {\"color\": \"#4D5663\"}, \"text\": \"\"}, \"zerolinecolor\": \"#E1E5ED\"}, \"yaxis10\": {\"anchor\": \"x10\", \"domain\": [0.6419999999999999, 0.7859999999999999], \"gridcolor\": \"#E1E5ED\", \"showgrid\": false, \"tickfont\": {\"color\": \"#4D5663\"}, \"title\": {\"font\": {\"color\": \"#4D5663\"}, \"text\": \"\"}, \"zerolinecolor\": \"#E1E5ED\"}, \"yaxis11\": {\"anchor\": \"x11\", \"domain\": [0.428, 0.572], \"gridcolor\": \"#E1E5ED\", \"showgrid\": false, \"tickfont\": {\"color\": \"#4D5663\"}, \"title\": {\"font\": {\"color\": \"#4D5663\"}, \"text\": \"\"}, \"zerolinecolor\": \"#E1E5ED\"}, \"yaxis12\": {\"anchor\": \"x12\", \"domain\": [0.428, 0.572], \"gridcolor\": \"#E1E5ED\", \"showgrid\": false, \"tickfont\": {\"color\": \"#4D5663\"}, \"title\": {\"font\": {\"color\": \"#4D5663\"}, \"text\": \"\"}, \"zerolinecolor\": \"#E1E5ED\"}, \"yaxis13\": {\"anchor\": \"x13\", \"domain\": [0.428, 0.572], \"gridcolor\": \"#E1E5ED\", \"showgrid\": false, \"tickfont\": {\"color\": \"#4D5663\"}, \"title\": {\"font\": {\"color\": \"#4D5663\"}, \"text\": \"\"}, \"zerolinecolor\": \"#E1E5ED\"}, \"yaxis14\": {\"anchor\": \"x14\", \"domain\": [0.428, 0.572], \"gridcolor\": \"#E1E5ED\", \"showgrid\": false, \"tickfont\": {\"color\": \"#4D5663\"}, \"title\": {\"font\": {\"color\": \"#4D5663\"}, \"text\": \"\"}, \"zerolinecolor\": \"#E1E5ED\"}, \"yaxis15\": {\"anchor\": \"x15\", \"domain\": [0.428, 0.572], \"gridcolor\": \"#E1E5ED\", \"showgrid\": false, \"tickfont\": {\"color\": \"#4D5663\"}, \"title\": {\"font\": {\"color\": \"#4D5663\"}, \"text\": \"\"}, \"zerolinecolor\": \"#E1E5ED\"}, \"yaxis16\": {\"anchor\": \"x16\", \"domain\": [0.214, 0.358], \"gridcolor\": \"#E1E5ED\", \"showgrid\": false, \"tickfont\": {\"color\": \"#4D5663\"}, \"title\": {\"font\": {\"color\": \"#4D5663\"}, \"text\": \"\"}, \"zerolinecolor\": \"#E1E5ED\"}, \"yaxis17\": {\"anchor\": \"x17\", \"domain\": [0.214, 0.358], \"gridcolor\": \"#E1E5ED\", \"showgrid\": false, \"tickfont\": {\"color\": \"#4D5663\"}, \"title\": {\"font\": {\"color\": \"#4D5663\"}, \"text\": \"\"}, \"zerolinecolor\": \"#E1E5ED\"}, \"yaxis18\": {\"anchor\": \"x18\", \"domain\": [0.214, 0.358], \"gridcolor\": \"#E1E5ED\", \"showgrid\": false, \"tickfont\": {\"color\": \"#4D5663\"}, \"title\": {\"font\": {\"color\": \"#4D5663\"}, \"text\": \"\"}, \"zerolinecolor\": \"#E1E5ED\"}, \"yaxis19\": {\"anchor\": \"x19\", \"domain\": [0.214, 0.358], \"gridcolor\": \"#E1E5ED\", \"showgrid\": false, \"tickfont\": {\"color\": \"#4D5663\"}, \"title\": {\"font\": {\"color\": \"#4D5663\"}, \"text\": \"\"}, \"zerolinecolor\": \"#E1E5ED\"}, \"yaxis2\": {\"anchor\": \"x2\", \"domain\": [0.856, 1.0], \"gridcolor\": \"#E1E5ED\", \"showgrid\": false, \"tickfont\": {\"color\": \"#4D5663\"}, \"title\": {\"font\": {\"color\": \"#4D5663\"}, \"text\": \"\"}, \"zerolinecolor\": \"#E1E5ED\"}, \"yaxis20\": {\"anchor\": \"x20\", \"domain\": [0.214, 0.358], \"gridcolor\": \"#E1E5ED\", \"showgrid\": false, \"tickfont\": {\"color\": \"#4D5663\"}, \"title\": {\"font\": {\"color\": \"#4D5663\"}, \"text\": \"\"}, \"zerolinecolor\": \"#E1E5ED\"}, \"yaxis21\": {\"anchor\": \"x21\", \"domain\": [0.0, 0.144], \"gridcolor\": \"#E1E5ED\", \"showgrid\": false, \"tickfont\": {\"color\": \"#4D5663\"}, \"title\": {\"font\": {\"color\": \"#4D5663\"}, \"text\": \"\"}, \"zerolinecolor\": \"#E1E5ED\"}, \"yaxis22\": {\"anchor\": \"x22\", \"domain\": [0.0, 0.144], \"gridcolor\": \"#E1E5ED\", \"showgrid\": false, \"tickfont\": {\"color\": \"#4D5663\"}, \"title\": {\"font\": {\"color\": \"#4D5663\"}, \"text\": \"\"}, \"zerolinecolor\": \"#E1E5ED\"}, \"yaxis23\": {\"anchor\": \"x23\", \"domain\": [0.0, 0.144], \"gridcolor\": \"#E1E5ED\", \"showgrid\": false, \"tickfont\": {\"color\": \"#4D5663\"}, \"title\": {\"font\": {\"color\": \"#4D5663\"}, \"text\": \"\"}, \"zerolinecolor\": \"#E1E5ED\"}, \"yaxis24\": {\"anchor\": \"x24\", \"domain\": [0.0, 0.144], \"gridcolor\": \"#E1E5ED\", \"showgrid\": false, \"tickfont\": {\"color\": \"#4D5663\"}, \"title\": {\"font\": {\"color\": \"#4D5663\"}, \"text\": \"\"}, \"zerolinecolor\": \"#E1E5ED\"}, \"yaxis25\": {\"anchor\": \"x25\", \"domain\": [0.0, 0.144], \"gridcolor\": \"#E1E5ED\", \"showgrid\": false, \"tickfont\": {\"color\": \"#4D5663\"}, \"title\": {\"font\": {\"color\": \"#4D5663\"}, \"text\": \"\"}, \"zerolinecolor\": \"#E1E5ED\"}, \"yaxis3\": {\"anchor\": \"x3\", \"domain\": [0.856, 1.0], \"gridcolor\": \"#E1E5ED\", \"showgrid\": false, \"tickfont\": {\"color\": \"#4D5663\"}, \"title\": {\"font\": {\"color\": \"#4D5663\"}, \"text\": \"\"}, \"zerolinecolor\": \"#E1E5ED\"}, \"yaxis4\": {\"anchor\": \"x4\", \"domain\": [0.856, 1.0], \"gridcolor\": \"#E1E5ED\", \"showgrid\": false, \"tickfont\": {\"color\": \"#4D5663\"}, \"title\": {\"font\": {\"color\": \"#4D5663\"}, \"text\": \"\"}, \"zerolinecolor\": \"#E1E5ED\"}, \"yaxis5\": {\"anchor\": \"x5\", \"domain\": [0.856, 1.0], \"gridcolor\": \"#E1E5ED\", \"showgrid\": false, \"tickfont\": {\"color\": \"#4D5663\"}, \"title\": {\"font\": {\"color\": \"#4D5663\"}, \"text\": \"\"}, \"zerolinecolor\": \"#E1E5ED\"}, \"yaxis6\": {\"anchor\": \"x6\", \"domain\": [0.6419999999999999, 0.7859999999999999], \"gridcolor\": \"#E1E5ED\", \"showgrid\": false, \"tickfont\": {\"color\": \"#4D5663\"}, \"title\": {\"font\": {\"color\": \"#4D5663\"}, \"text\": \"\"}, \"zerolinecolor\": \"#E1E5ED\"}, \"yaxis7\": {\"anchor\": \"x7\", \"domain\": [0.6419999999999999, 0.7859999999999999], \"gridcolor\": \"#E1E5ED\", \"showgrid\": false, \"tickfont\": {\"color\": \"#4D5663\"}, \"title\": {\"font\": {\"color\": \"#4D5663\"}, \"text\": \"\"}, \"zerolinecolor\": \"#E1E5ED\"}, \"yaxis8\": {\"anchor\": \"x8\", \"domain\": [0.6419999999999999, 0.7859999999999999], \"gridcolor\": \"#E1E5ED\", \"showgrid\": false, \"tickfont\": {\"color\": \"#4D5663\"}, \"title\": {\"font\": {\"color\": \"#4D5663\"}, \"text\": \"\"}, \"zerolinecolor\": \"#E1E5ED\"}, \"yaxis9\": {\"anchor\": \"x9\", \"domain\": [0.6419999999999999, 0.7859999999999999], \"gridcolor\": \"#E1E5ED\", \"showgrid\": false, \"tickfont\": {\"color\": \"#4D5663\"}, \"title\": {\"font\": {\"color\": \"#4D5663\"}, \"text\": \"\"}, \"zerolinecolor\": \"#E1E5ED\"}},\n",
       "                        {\"showLink\": true, \"linkText\": \"Export to plot.ly\", \"plotlyServerURL\": \"https://plot.ly\", \"responsive\": true}\n",
       "                    ).then(function(){\n",
       "                            \n",
       "var gd = document.getElementById('0ae3e91c-4a6b-4b24-b512-3068ded93121');\n",
       "var x = new MutationObserver(function (mutations, observer) {{\n",
       "        var display = window.getComputedStyle(gd).display;\n",
       "        if (!display || display === 'none') {{\n",
       "            console.log([gd, 'removed!']);\n",
       "            Plotly.purge(gd);\n",
       "            observer.disconnect();\n",
       "        }}\n",
       "}});\n",
       "\n",
       "// Listen for the removal of the full notebook cells\n",
       "var notebookContainer = gd.closest('#notebook-container');\n",
       "if (notebookContainer) {{\n",
       "    x.observe(notebookContainer, {childList: true});\n",
       "}}\n",
       "\n",
       "// Listen for the clearing of the current output cell\n",
       "var outputEl = gd.closest('.output');\n",
       "if (outputEl) {{\n",
       "    x.observe(outputEl, {childList: true});\n",
       "}}\n",
       "\n",
       "                        })\n",
       "                };\n",
       "                });\n",
       "            </script>\n",
       "        </div>"
      ]
     },
     "metadata": {},
     "output_type": "display_data"
    }
   ],
   "source": [
    "df.scatter_matrix()"
   ]
  },
  {
   "cell_type": "markdown",
   "id": "resistant-simulation",
   "metadata": {},
   "source": [
    "### More information:\n",
    "https://github.com/santosjorge/cufflinks"
   ]
  },
  {
   "cell_type": "code",
   "execution_count": null,
   "id": "finite-fence",
   "metadata": {},
   "outputs": [],
   "source": []
  }
 ],
 "metadata": {
  "kernelspec": {
   "display_name": "Python 3",
   "language": "python",
   "name": "python3"
  },
  "language_info": {
   "codemirror_mode": {
    "name": "ipython",
    "version": 3
   },
   "file_extension": ".py",
   "mimetype": "text/x-python",
   "name": "python",
   "nbconvert_exporter": "python",
   "pygments_lexer": "ipython3",
   "version": "3.7.1"
  }
 },
 "nbformat": 4,
 "nbformat_minor": 5
}
